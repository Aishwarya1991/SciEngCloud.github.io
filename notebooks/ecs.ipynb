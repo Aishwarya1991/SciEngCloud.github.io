{
 "cells": [
  {
   "cell_type": "markdown",
   "metadata": {},
   "source": [
    "# This is how to create service tasks in Amazon ECS\n",
    "\n",
    "This is the notebook we use to create running services on the AWS Ec2 Container Service.  In the following we assume you have created a ECS Cluster.  The steps for how to do that are simple and described in the book.   To make this run you need your  AMI identity arn string (see hte third box below).  \n",
    "\n",
    "We assume that this notebook is running on a machine with your credentials in your .aws directory and that your ECS cluster is call tutorial-cluster."
   ]
  },
  {
   "cell_type": "code",
   "execution_count": 2,
   "metadata": {
    "collapsed": true
   },
   "outputs": [],
   "source": [
    "import boto3"
   ]
  },
  {
   "cell_type": "code",
   "execution_count": 3,
   "metadata": {
    "collapsed": false
   },
   "outputs": [],
   "source": [
    "client = boto3.client('ecs')"
   ]
  },
  {
   "cell_type": "markdown",
   "metadata": {},
   "source": [
    "# we created a cluster called cloudbook in the ecs portal\n",
    "if we didn't, then go to the portal and do so.  instructions are in the book.\n",
    "\n",
    "let's see if we can find it"
   ]
  },
  {
   "cell_type": "code",
   "execution_count": 4,
   "metadata": {
    "collapsed": false
   },
   "outputs": [
    {
     "data": {
      "text/plain": [
       "[u'arn:aws:ecs:us-west-2:066301190734:cluster/tutorial-cluster',\n",
       " u'arn:aws:ecs:us-west-2:066301190734:cluster/default']"
      ]
     },
     "execution_count": 4,
     "metadata": {},
     "output_type": "execute_result"
    }
   ],
   "source": [
    "client.list_clusters()['clusterArns']"
   ]
  },
  {
   "cell_type": "markdown",
   "metadata": {},
   "source": [
    "Next let's see how many VMs (called containers in ecs) we have.  there shoud be two."
   ]
  },
  {
   "cell_type": "code",
   "execution_count": 5,
   "metadata": {
    "collapsed": true
   },
   "outputs": [],
   "source": [
    "instance_list = client.list_container_instances(cluster='tutorial-cluster')['containerInstanceArns']"
   ]
  },
  {
   "cell_type": "code",
   "execution_count": 6,
   "metadata": {
    "collapsed": false
   },
   "outputs": [
    {
     "data": {
      "text/plain": [
       "[u'arn:aws:ecs:us-west-2:066301190734:container-instance/2e7c68ae-8e92-40e5-95b9-257cf60b6d3d',\n",
       " u'arn:aws:ecs:us-west-2:066301190734:container-instance/b90898d3-e2bc-4923-9160-02867ada69f4',\n",
       " u'arn:aws:ecs:us-west-2:066301190734:container-instance/f1cfbf50-33a3-4e38-b127-4ebe1dfad6ea']"
      ]
     },
     "execution_count": 6,
     "metadata": {},
     "output_type": "execute_result"
    }
   ],
   "source": [
    "instance_list"
   ]
  },
  {
   "cell_type": "markdown",
   "metadata": {},
   "source": [
    "we can even get their IP addresses"
   ]
  },
  {
   "cell_type": "code",
   "execution_count": 8,
   "metadata": {
    "collapsed": false
   },
   "outputs": [],
   "source": [
    "ec2instances = [ client.describe_container_instances(\n",
    "        cluster='tutorial-cluster',\n",
    "        containerInstances=[instance]\n",
    "    )[u'containerInstances'][0][u'ec2InstanceId'] for instance in instance_list]\n"
   ]
  },
  {
   "cell_type": "code",
   "execution_count": 9,
   "metadata": {
    "collapsed": false
   },
   "outputs": [
    {
     "name": "stdout",
     "output_type": "stream",
     "text": [
      "('i-0dea1c5f95972ae9e', 'm4.large', 'ami-022b9262', '54.244.192.186')\n",
      "('i-0ebf47034775338e9', 'm4.large', 'ami-022b9262', '54.244.194.0')\n",
      "('i-041c9126db2e95af8', 'm4.large', 'ami-022b9262', '54.191.230.115')\n"
     ]
    }
   ],
   "source": [
    "ec2 = boto3.resource('ec2')\n",
    "instances = ec2.instances.filter( Filters=[{'Name': 'instance-id', 'Values': ec2instances}])\n",
    "for instance in instances:\n",
    "   print(instance.id, instance.instance_type, instance.image_id, instance.public_ip_address)"
   ]
  },
  {
   "cell_type": "markdown",
   "metadata": {},
   "source": [
    "# now we will create the first task definitions\n",
    "we will have four services.\n",
    "<ul>\n",
    "<li> The predictor service.   This services reads prediction jobs from the amazon sqs queue service, invokes the predictor to classify it, then it sends the classification, title, the service hostname, the correct answer and a sequence number to the table service. \n",
    "there will be two versions:\n",
    "<li> predictorAWS which will send requests to port 8050\n",
    "<li> predictorAzure which goes to port 8055\n",
    "\n",
    "<li> the table service.   this is a simple web service that waits for a message from a predictor service and then pushes the result to the aws dynamoDB in table \"BookTable\".  This one will be called tableserviceAWS\n",
    "<li> the table service for azure is tableServiceAzure and it listens on 8085 and send records to escience2 in table BookTable\n",
    "</ul>\n",
    "We start with the task definition of the for the table service. we specify that task definition family name, default network and our  AIM role that authorizes the service to use the queue and the dynamoDB.  This is very important to have this role.  Go to the AIM portal and creat it.  Again, this is described in the book We are going to deploy this as a docker container which we have saved to the Docker hub. (see the build files for this in directory table-service).  We also need to specify a port binding.\n",
    "\n",
    "This first version is the one that uses the Azure table service.   we are going to make it listen on port 8055.   "
   ]
  },
  {
   "cell_type": "code",
   "execution_count": 12,
   "metadata": {
    "collapsed": false
   },
   "outputs": [],
   "source": [
    "response = client.register_task_definition(\n",
    "    family='tableserviceAzure',\n",
    "    networkMode='bridge',\n",
    "    taskRoleArn= 'arn:aws:iam::066301190734:role/mymicroservices',\n",
    "            \n",
    "    containerDefinitions=[\n",
    "        {\n",
    "            'name': 'tableserviceAzure',\n",
    "            'image': 'dbgannon/table-service-bottle-azure',\n",
    "            'cpu': 20,\n",
    "            'memory': 400,\n",
    "            'memoryReservation': 123,\n",
    "            'portMappings': [\n",
    "                {\n",
    "                    'containerPort': 8055,\n",
    "                    'hostPort': 8055,\n",
    "                    'protocol': 'tcp'\n",
    "                },\n",
    "            ],\n",
    "            'essential': True,\n",
    "        },\n",
    "    ],\n",
    " )\n"
   ]
  },
  {
   "cell_type": "code",
   "execution_count": 13,
   "metadata": {
    "collapsed": false
   },
   "outputs": [
    {
     "data": {
      "text/plain": [
       "[u'arn:aws:ecs:us-west-2:066301190734:task-definition/tableserviceAzure:1']"
      ]
     },
     "execution_count": 13,
     "metadata": {},
     "output_type": "execute_result"
    }
   ],
   "source": [
    "client.list_task_definitions(familyPrefix='tableserviceAzure')['taskDefinitionArns']"
   ]
  },
  {
   "cell_type": "markdown",
   "metadata": {},
   "source": [
    "# now we create the tableservice service\n",
    "note that when we create a task definition it gives it a sequnce number.   \n",
    "that is because we often revises the task definition during debugging.   We specify that we want at least 50% of our requested instances running at all time.  we specify that we want 3 instances of this service running.   because we have three nodes in our cluster, this will put one on each node because the port binding will take port 8055 for one container only.   "
   ]
  },
  {
   "cell_type": "code",
   "execution_count": 14,
   "metadata": {
    "collapsed": true
   },
   "outputs": [],
   "source": [
    "response = client.create_service( cluster='tutorial-cluster', \n",
    "                                 serviceName='tableserviceAzure', \n",
    "                                 taskDefinition='tableserviceAzure:1', \n",
    "                                 desiredCount=3, deploymentConfiguration={\n",
    "                                    'maximumPercent': 100,\n",
    "                                    'minimumHealthyPercent': 50 }\n",
    ")"
   ]
  },
  {
   "cell_type": "markdown",
   "metadata": {},
   "source": [
    "## next we create the task definition for the tableservice for the AWS DynamoDB.\n",
    "In this case we use a different container (because the code for DynamoDB is different than Azure tables).   Here we map to port 8050."
   ]
  },
  {
   "cell_type": "code",
   "execution_count": null,
   "metadata": {
    "collapsed": true
   },
   "outputs": [],
   "source": [
    "response = client.register_task_definition(\n",
    "    family='tableserviceAWS',\n",
    "    networkMode='bridge',\n",
    "    taskRoleArn= 'arn:aws:iam::066301190734:role/mymicroservices',\n",
    "            \n",
    "    containerDefinitions=[\n",
    "        {\n",
    "            'name': 'tableserviceAWS',\n",
    "            'image': 'dbgannon/table-service-bottle',\n",
    "            'cpu': 20,\n",
    "            'memory': 400,\n",
    "            'memoryReservation': 123,\n",
    "            'portMappings': [\n",
    "                {\n",
    "                    'containerPort': 8050,\n",
    "                    'hostPort': 8050,\n",
    "                    'protocol': 'tcp'\n",
    "                },\n",
    "            ],\n",
    "            'essential': True,\n",
    "        },\n",
    "    ],\n",
    " )\n"
   ]
  },
  {
   "cell_type": "markdown",
   "metadata": {},
   "source": [
    "## Now create the instances of tableserviceAWS"
   ]
  },
  {
   "cell_type": "code",
   "execution_count": null,
   "metadata": {
    "collapsed": true
   },
   "outputs": [],
   "source": [
    "response = client.create_service( cluster='tutorial-cluster', \n",
    "                                 serviceName='tableserviceAWS', \n",
    "                                 taskDefinition='tableserviceAWS:1', \n",
    "                                 desiredCount=3, deploymentConfiguration={\n",
    "                                    'maximumPercent': 100,\n",
    "                                    'minimumHealthyPercent': 50 }\n",
    ")"
   ]
  },
  {
   "cell_type": "markdown",
   "metadata": {},
   "source": [
    "# now the task definition for the predictor.\n",
    "In this case we use the container predictor-new which takes one argument: this is the port that it expects to find the table service.  This is the azure version."
   ]
  },
  {
   "cell_type": "code",
   "execution_count": 15,
   "metadata": {
    "collapsed": true
   },
   "outputs": [],
   "source": [
    "response = client.register_task_definition(\n",
    "    family='predictorAzure',\n",
    "    networkMode='bridge',\n",
    "    taskRoleArn= 'arn:aws:iam::066301190734:role/mymicroservices',\n",
    "            \n",
    "    containerDefinitions=[\n",
    "        {\n",
    "            'name': 'predictorAzure',\n",
    "            'image': 'dbgannon/predictor-new',\n",
    "            'cpu': 20,\n",
    "            'memoryReservation': 400,\n",
    "            'essential': True,\n",
    "            'command': ['8055']\n",
    "        },\n",
    "    ],\n",
    " )"
   ]
  },
  {
   "cell_type": "code",
   "execution_count": 17,
   "metadata": {
    "collapsed": false
   },
   "outputs": [
    {
     "data": {
      "text/plain": [
       "[u'arn:aws:ecs:us-west-2:066301190734:task-definition/predictorAzure:1']"
      ]
     },
     "execution_count": 17,
     "metadata": {},
     "output_type": "execute_result"
    }
   ],
   "source": [
    "client.list_task_definitions(familyPrefix='predictorAzure')['taskDefinitionArns']"
   ]
  },
  {
   "cell_type": "markdown",
   "metadata": {},
   "source": [
    "# create the predictor service\n",
    "As you can see from the above i am on the 4th iteration of the predictor (earlier versions had a few bugs).  Note that we are creating 8 copies of this service."
   ]
  },
  {
   "cell_type": "code",
   "execution_count": 27,
   "metadata": {
    "collapsed": false
   },
   "outputs": [],
   "source": [
    "response = client.create_service( cluster='tutorial-cluster', \n",
    "                                 serviceName='predictorAzure', \n",
    "                                 taskDefinition='predictorAzure:1', \n",
    "                                 desiredCount=1, deploymentConfiguration={\n",
    "                                    'maximumPercent': 100,\n",
    "                                    'minimumHealthyPercent': 50 }\n",
    ")"
   ]
  },
  {
   "cell_type": "markdown",
   "metadata": {},
   "source": [
    "now check to see how many services i have and how many tasks.  There should be 10 tasks"
   ]
  },
  {
   "cell_type": "code",
   "execution_count": 21,
   "metadata": {
    "collapsed": false
   },
   "outputs": [
    {
     "data": {
      "text/plain": [
       "[u'arn:aws:ecs:us-west-2:066301190734:service/predictorAzure',\n",
       " u'arn:aws:ecs:us-west-2:066301190734:service/tableserviceAzure']"
      ]
     },
     "execution_count": 21,
     "metadata": {},
     "output_type": "execute_result"
    }
   ],
   "source": [
    "client.list_services( cluster='tutorial-cluster')['serviceArns']"
   ]
  },
  {
   "cell_type": "code",
   "execution_count": 22,
   "metadata": {
    "collapsed": false
   },
   "outputs": [
    {
     "data": {
      "text/plain": [
       "[u'arn:aws:ecs:us-west-2:066301190734:task/0130b4e4-402f-4c6f-81b8-91e703732463',\n",
       " u'arn:aws:ecs:us-west-2:066301190734:task/359882ae-b50d-4aeb-9107-c84a6152feff',\n",
       " u'arn:aws:ecs:us-west-2:066301190734:task/3d14d9c1-8b39-44ab-be1c-632211b7c704',\n",
       " u'arn:aws:ecs:us-west-2:066301190734:task/42d293ca-ee4a-4126-9221-06875d3fd7a9',\n",
       " u'arn:aws:ecs:us-west-2:066301190734:task/8ec0ca36-b3b4-453a-a567-84ed7e6aa054',\n",
       " u'arn:aws:ecs:us-west-2:066301190734:task/be7ca21b-2876-4fba-a156-c36123d59744']"
      ]
     },
     "execution_count": 22,
     "metadata": {},
     "output_type": "execute_result"
    }
   ],
   "source": [
    "client.list_tasks(cluster='tutorial-cluster')['taskArns']"
   ]
  },
  {
   "cell_type": "markdown",
   "metadata": {},
   "source": [
    "now we will create the aws table service and predictor for the AWS version.  same container.   just a different parameter for the port"
   ]
  },
  {
   "cell_type": "code",
   "execution_count": 25,
   "metadata": {
    "collapsed": true
   },
   "outputs": [],
   "source": [
    "response = client.register_task_definition(\n",
    "    family='predictorAWS',\n",
    "    networkMode='bridge',\n",
    "    taskRoleArn= 'arn:aws:iam::066301190734:role/mymicroservices',\n",
    "            \n",
    "    containerDefinitions=[\n",
    "        {\n",
    "            'name': 'predictorAWS',\n",
    "            'image': 'dbgannon/predictor-new',\n",
    "            'cpu': 20,\n",
    "            'memoryReservation': 400,\n",
    "            'essential': True,\n",
    "            'command': ['8050']\n",
    "        },\n",
    "    ],\n",
    " )"
   ]
  },
  {
   "cell_type": "code",
   "execution_count": 26,
   "metadata": {
    "collapsed": true
   },
   "outputs": [],
   "source": [
    "response = client.create_service( cluster='tutorial-cluster', \n",
    "                                 serviceName='predictorAWS', \n",
    "                                 taskDefinition='predictorAWS:1', \n",
    "                                 desiredCount=3, deploymentConfiguration={\n",
    "                                    'maximumPercent': 100,\n",
    "                                    'minimumHealthyPercent': 50 }\n",
    ")"
   ]
  },
  {
   "cell_type": "code",
   "execution_count": null,
   "metadata": {
    "collapsed": true
   },
   "outputs": [],
   "source": []
  }
 ],
 "metadata": {
  "anaconda-cloud": {},
  "kernelspec": {
   "display_name": "Python [Root]",
   "language": "python",
   "name": "Python [Root]"
  }
 },
 "nbformat": 4,
 "nbformat_minor": 0
}
