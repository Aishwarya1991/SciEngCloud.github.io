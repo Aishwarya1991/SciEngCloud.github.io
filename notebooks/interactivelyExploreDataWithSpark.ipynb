{
 "cells": [
  {
   "cell_type": "markdown",
   "metadata": {
    "deletable": true,
    "editable": true
   },
   "source": [
    "# Exercise 4: Interactively Explore Data in Spark\n",
    "\n",
    "This Notebook will provide you with an overview of techniques that you can use to interactively explore data in an Azure HDInsight Spark cluster."
   ]
  },
  {
   "cell_type": "markdown",
   "metadata": {
    "deletable": true,
    "editable": true
   },
   "source": [
    "#### Step 1 - Accessing the Data\n",
    "\n",
    "You have already seen that Azure HDInsight maps HDFS volumes over the top of Azure Blob storage when it uses a container within the Azure Storage account configured during the cluster provisioning step as the default volume for the cluster.  It is also possible to work with data in other Blob Storage accounts as well.  This is one way that the data you will be working with can remain across multiple provisionings and deletions of your Spark cluster.\n",
    "\n",
    "For this lab, you will be working with Food Inspection data collected by the City of Chicago from January 1, 2010 to the time of this writing.  A description of the data can be found [here](https://data.cityofchicago.org/Health-Human-Services/Food-Inspections/4ijn-s7e5).  The dataset contains approximately 125,000 rows in 15 columns. \n",
    "\n",
    "This data is going to be accessed from a an Azure Storage account maintained specifically for this lab.  To access data in a separate account, you use a URL that indicates the wasb(s) protocol and has the following structure:\n",
    "> wasbs://**container**@**account-name**.blob.core.windows.net/**file-path**\n",
    "\n",
    "To access content in a container, either the storage account access key needs to be configured in your cluster settings, or the container needs to be set to allow public access.  Note that allowing public access allows read-only access to the data file.\n",
    "\n",
    "Run the code in the following cell. The code instructs the current execution context to load the `Food_InspectionsNoHeader.csv` file from the `sparklab` container in the `a4rsparkresources` storage account.  It then defines a function to be used to parse the comma-separated entries in each line in the file and creates a Resilient Distributed Dataset (RDD) instance that can be used to access the date in the file.  You will learn more about RDDs in the next exercise.\n",
    "\n",
    "*(Note - this very first cell run might take a little extra time, as environment resources are being provisioned.)*"
   ]
  },
  {
   "cell_type": "code",
   "execution_count": null,
   "metadata": {
    "collapsed": true,
    "deletable": true,
    "editable": true
   },
   "outputs": [],
   "source": []
  },
  {
   "cell_type": "code",
   "execution_count": 1,
   "metadata": {
    "collapsed": false,
    "deletable": true,
    "editable": true
   },
   "outputs": [],
   "source": [
    "# Obtain a reference to the text file\n",
    "filename = 'wasbs://sparklab@a4rsparkresources.blob.core.windows.net/FoodInspectionsNoHeader.csv'\n",
    "inspectionsFile = sc.textFile(filename)\n",
    "\n",
    "# Process each line of the CSV file by mapping them through a parse function.\n",
    "def csvParse(s):\n",
    "    import csv\n",
    "    from StringIO import StringIO\n",
    "    sio = StringIO(s)\n",
    "    value = csv.reader(sio).next()\n",
    "    sio.close()\n",
    "    return value\n",
    "inspectionDataset = inspectionsFile.map(csvParse)"
   ]
  },
  {
   "cell_type": "markdown",
   "metadata": {
    "deletable": true,
    "editable": true
   },
   "source": [
    "#### Step 2 - Examine the raw data\n",
    "The previous step mentioned that your data would be imported as a Resilient Distributed Dataset (RDD).  An RDD represents an immutable and distributed collection of elements that can be operated on by a Spark cluster in  parallel.  The RDD is a fundamental abstraction that a Spark cluster uses to do its work and which allows Spark clusters to obtain the scale and speeds they are known for.\n",
    "\n",
    "Run the code in the following two cells.  The instruction in the first cell displays the content of the first row of data.  The second cell counts the total number of records in the cell."
   ]
  },
  {
   "cell_type": "code",
   "execution_count": 2,
   "metadata": {
    "collapsed": false,
    "deletable": true,
    "editable": true
   },
   "outputs": [
    {
     "data": {
      "text/plain": [
       "['1931400',\n",
       " '7-ELEVEN # 37622A',\n",
       " '7 ELEVEN',\n",
       " '2442936',\n",
       " 'Grocery Store',\n",
       " 'Risk 3 (Low)',\n",
       " '4 W JACKSON BLVD ',\n",
       " '',\n",
       " 'IL',\n",
       " '',\n",
       " '05/23/2016',\n",
       " 'License Re-Inspection',\n",
       " 'Pass',\n",
       " '41.87828615621557',\n",
       " '-87.62780446623054']"
      ]
     },
     "execution_count": 2,
     "metadata": {},
     "output_type": "execute_result"
    }
   ],
   "source": [
    "# Examine the first record in the dataset\n",
    "inspectionDataset.first() #take(1)"
   ]
  },
  {
   "cell_type": "code",
   "execution_count": 3,
   "metadata": {
    "collapsed": false,
    "deletable": true,
    "editable": true
   },
   "outputs": [
    {
     "data": {
      "text/plain": [
       "125279"
      ]
     },
     "execution_count": 3,
     "metadata": {},
     "output_type": "execute_result"
    }
   ],
   "source": [
    "# Display the total number of records in the entire dataset\n",
    "inspectionDataset.count()"
   ]
  },
  {
   "cell_type": "markdown",
   "metadata": {
    "deletable": true,
    "editable": true
   },
   "source": [
    "#### Step 3 - Load the data into a DataFrame\n",
    "\n",
    "Although the Resilient Distributed Database can be used directly to examine data, the APIs provided for working with RDDs are generally fairly coarse and there is no notion of *\"schema\"* for the data being presented.  There are two techniques that can be used to access this data at a higher level.  The first is via DataFrames.\n",
    "\n",
    "DataFrames provide structured access to your data that allow you to treat the data much as a database table would - there are named columns over the top of the vast number of  rows of data.  There are actually several APIs available for working with DataFrames ([Pandas](http://pandas.pydata.org/) and [Spark DataFrames](https://spark.apache.org/docs/1.5.1/sql-programming-guide.html#dataframes) among them), but the general workflow is similar in most cases.\n",
    "\n",
    "To work with a DataFrame, you either provide schema information that describes the data in the RDD, or in some cases, you can import metadata directly, depending on the type of file(s) that supply the data.  You then create the DataFrame from the schema and the data.\n",
    "\n",
    "Run the code in the following two cells. The instructions in the first cell specify a schema for the Food Inspection data, based on a review of the data from the data provider and an analysis of the content in the RDD.  Then the DataFrame is created from this schema and the data loaded in the previous step.\n",
    "\n",
    "In the second cell, you will actually start to examine the data at your disposal.  In this case, you will use the DataFrame commands to list all of the distinct values available in the *results* column."
   ]
  },
  {
   "cell_type": "code",
   "execution_count": 4,
   "metadata": {
    "collapsed": false,
    "deletable": true,
    "editable": true
   },
   "outputs": [],
   "source": [
    "from pyspark.sql.types import *\n",
    "\n",
    "# Configure the schema that describes the data being imported \n",
    "schema=StructType([\n",
    "        StructField('Inspection ID', StringType(), False),\n",
    "        StructField('DBA Name', StringType(), False),\n",
    "        StructField('AKA Name', StringType(), True),\n",
    "        StructField('License#', StringType(), False),\n",
    "        StructField('FacilityType', StringType(), True),\n",
    "        StructField('Risk', StringType(), True),\n",
    "        StructField('Address', StringType(), True),\n",
    "        StructField('City', StringType(), True),\n",
    "        StructField('State', StringType(), True),\n",
    "        StructField('Zip', StringType(), True),\n",
    "        StructField('InspectionDate', StringType(), False),\n",
    "        StructField('InspectionType', StringType(), False),\n",
    "        StructField('Results', StringType(), False),\n",
    "        StructField('Latitude', StringType(), True),\n",
    "        StructField('Longitude', StringType(), True)])\n",
    "\n",
    "# Create a dataframe that brings the data and the schema together\n",
    "inspectionDataframe = sqlContext.createDataFrame(inspectionDataset, schema)\n",
    "\n",
    "#  You could uncomment the line below to emit the schema for your DataFrame, which should match the one you defined.\n",
    "# inspectionDataframe.printSchema()"
   ]
  },
  {
   "cell_type": "code",
   "execution_count": 5,
   "metadata": {
    "collapsed": false,
    "deletable": true,
    "editable": true
   },
   "outputs": [
    {
     "name": "stdout",
     "output_type": "stream",
     "text": [
      "+--------------------+\n",
      "|             results|\n",
      "+--------------------+\n",
      "|           Not Ready|\n",
      "|                Fail|\n",
      "|            No Entry|\n",
      "|Business Not Located|\n",
      "|  Pass w/ Conditions|\n",
      "|     Out of Business|\n",
      "|                Pass|\n",
      "+--------------------+\n",
      "\n"
     ]
    }
   ],
   "source": [
    "inspectionDataframe.select('results').distinct().show()"
   ]
  },
  {
   "cell_type": "markdown",
   "metadata": {
    "deletable": true,
    "editable": true
   },
   "source": [
    "#### Step 4 - Using SQL to Examine Your Data\n",
    "\n",
    "One of the interesting things you can do with DataFrames is to register them as temporary Apache Hive tables which are available to your current SQLContext.  \n",
    "In addition, results from SQL commands are automatically displayed in Jupyter notebooks in interactive frames.  Not only can you see data as a table, but you can also display it visually in chart form.\n",
    "\n",
    "Run the code in the following several cells. The first cell will register the *inspections* temporary table which can then be used to access your data.  The next instruction uses a programmatic approach to access this SQL table and obtain the count of each of the result values.\n",
    "\n",
    "The gist of these queries is to explore the counts of different Inspection Type values overall and in the case of a failed food inspection, as well as to do the same for Facility Type.  This kind of analysis would be perhaps done to gain insight into factors that might contribute to a *\"Fail\"*  outcome.\n",
    "\n",
    "These queries also all include the `%%time` Magic Instruction.  This will display the execution time of these queries after the results.  Recall that these queries are executing against an unindexed set of approximately 125,000 records, and the times that are displayed should be relatively short, which highlights the capabilities of your Spark cluster for Big Data analysis."
   ]
  },
  {
   "cell_type": "code",
   "execution_count": 6,
   "metadata": {
    "collapsed": true,
    "deletable": true,
    "editable": true
   },
   "outputs": [],
   "source": [
    "# Register the dataframe as a temporary table\n",
    "inspectionDataframe.registerTempTable('inspections')"
   ]
  },
  {
   "cell_type": "code",
   "execution_count": 7,
   "metadata": {
    "collapsed": false,
    "deletable": true,
    "editable": true
   },
   "outputs": [
    {
     "name": "stdout",
     "output_type": "stream",
     "text": [
      "+--------------------+------+\n",
      "|             results|totals|\n",
      "+--------------------+------+\n",
      "|                Pass| 74258|\n",
      "|                Fail| 24368|\n",
      "|     Out of Business| 11934|\n",
      "|  Pass w/ Conditions| 11468|\n",
      "|            No Entry|  2810|\n",
      "|           Not Ready|   387|\n",
      "|Business Not Located|    54|\n",
      "+--------------------+------+\n",
      "\n"
     ]
    }
   ],
   "source": [
    "sqlContext.sql(\"SELECT results, COUNT(*) as totals FROM inspections GROUP BY results ORDER BY totals DESC\").show()"
   ]
  },
  {
   "cell_type": "code",
   "execution_count": 29,
   "metadata": {
    "collapsed": false,
    "deletable": true,
    "editable": true
   },
   "outputs": [],
   "source": [
    "import pandas\n"
   ]
  },
  {
   "cell_type": "code",
   "execution_count": 27,
   "metadata": {
    "collapsed": false,
    "deletable": true,
    "editable": true
   },
   "outputs": [
    {
     "name": "stdout",
     "output_type": "stream",
     "text": [
      "+--------------------+------+\n",
      "|      InspectionType|counts|\n",
      "+--------------------+------+\n",
      "|             Canvass| 65689|\n",
      "|             License| 16493|\n",
      "|Canvass Re-Inspec...| 11552|\n",
      "|           Complaint| 11546|\n",
      "|License Re-Inspec...|  6323|\n",
      "|Short Form Complaint|  5003|\n",
      "|Complaint Re-Insp...|  4716|\n",
      "|        Consultation|   635|\n",
      "|Suspected Food Po...|   627|\n",
      "|  License-Task Force|   605|\n",
      "|         Tag Removal|   601|\n",
      "|     Out of Business|   284|\n",
      "|Task Force Liquor...|   254|\n",
      "|      Complaint-Fire|   161|\n",
      "|   Recent Inspection|   144|\n",
      "|Suspected Food Po...|   144|\n",
      "|Short Form Fire-C...|   113|\n",
      "|            No Entry|    60|\n",
      "|Special Events (F...|    57|\n",
      "|Complaint-Fire Re...|    44|\n",
      "+--------------------+------+\n",
      "only showing top 20 rows\n",
      "\n",
      "CPU times: user 52 ms, sys: 20 ms, total: 72 ms\n",
      "Wall time: 5.27 s\n"
     ]
    }
   ],
   "source": [
    "%%time\n",
    "overallByType = sqlContext.sql(\"SELECT InspectionType, COUNT(*) AS counts FROM inspections GROUP BY\\\n",
    "    InspectionType ORDER BY counts DESC, InspectionType\")\n",
    "overallByType.show()\n",
    "overallByType = overallByType.toPandas()"
   ]
  },
  {
   "cell_type": "code",
   "execution_count": 30,
   "metadata": {
    "collapsed": false,
    "deletable": true,
    "editable": true
   },
   "outputs": [
    {
     "name": "stdout",
     "output_type": "stream",
     "text": [
      "+--------------------+------+\n",
      "|      InspectionType|counts|\n",
      "+--------------------+------+\n",
      "|             Canvass| 10403|\n",
      "|             License|  6522|\n",
      "|           Complaint|  3749|\n",
      "|License Re-Inspec...|   856|\n",
      "|Short Form Complaint|   651|\n",
      "|Canvass Re-Inspec...|   650|\n",
      "|Complaint Re-Insp...|   392|\n",
      "|  License-Task Force|   367|\n",
      "|Suspected Food Po...|   146|\n",
      "|Task Force Liquor...|   133|\n",
      "|     Out of Business|   112|\n",
      "|        Consultation|   106|\n",
      "|      Complaint-Fire|    59|\n",
      "|Short Form Fire-C...|    32|\n",
      "|            No Entry|    29|\n",
      "|         Tag Removal|    26|\n",
      "| Package Liquor 1474|    16|\n",
      "|Pre-License Consu...|    12|\n",
      "|   Recent Inspection|    11|\n",
      "|Special Events (F...|    10|\n",
      "+--------------------+------+\n",
      "only showing top 20 rows\n",
      "\n",
      "CPU times: user 28 ms, sys: 48 ms, total: 76 ms\n",
      "Wall time: 5.17 s\n"
     ]
    }
   ],
   "source": [
    "%%time\n",
    "topFailuresByType = sqlContext.sql(\"SELECT InspectionType, COUNT(*) AS counts FROM inspections WHERE results = 'Fail' \\\n",
    "    GROUP BY InspectionType ORDER BY counts DESC, InspectionType\")\n",
    "topFailuresByType.show()\n",
    "topFailuresByType = topFailuresByType.toPandas()"
   ]
  },
  {
   "cell_type": "code",
   "execution_count": 31,
   "metadata": {
    "collapsed": false,
    "deletable": true,
    "editable": true
   },
   "outputs": [
    {
     "name": "stdout",
     "output_type": "stream",
     "text": [
      "+--------------------+------+\n",
      "|        FacilityType|counts|\n",
      "+--------------------+------+\n",
      "|          Restaurant| 81134|\n",
      "|       Grocery Store| 17318|\n",
      "|              School|  7928|\n",
      "|                    |  4418|\n",
      "|Daycare (2 - 6 Ye...|  2170|\n",
      "|              Bakery|  1767|\n",
      "|Daycare Above and...|  1291|\n",
      "|Children's Servic...|   888|\n",
      "|  Daycare Combo 1586|   843|\n",
      "|Mobile Food Dispe...|   693|\n",
      "|            Catering|   689|\n",
      "|      Long Term Care|   675|\n",
      "|              Liquor|   613|\n",
      "|           Wholesale|   503|\n",
      "|        Golden Diner|   349|\n",
      "|            Hospital|   303|\n",
      "|Mobile Food Preparer|   212|\n",
      "|Daycare (Under 2 ...|   176|\n",
      "|              TAVERN|   172|\n",
      "|Shared Kitchen Us...|   170|\n",
      "+--------------------+------+\n",
      "only showing top 20 rows\n",
      "\n",
      "CPU times: user 56 ms, sys: 24 ms, total: 80 ms\n",
      "Wall time: 5.08 s\n"
     ]
    }
   ],
   "source": [
    "%%time\n",
    "overallByFacility = sqlContext.sql(\"SELECT FacilityType, COUNT(*) AS counts FROM inspections GROUP BY \\\n",
    "               FacilityType ORDER BY counts DESC, FacilityType\")\n",
    "overallByFacility.show()\n",
    "overallByFacility = overallByFacility.toPandas()"
   ]
  },
  {
   "cell_type": "code",
   "execution_count": 33,
   "metadata": {
    "collapsed": false,
    "deletable": true,
    "editable": true
   },
   "outputs": [
    {
     "name": "stdout",
     "output_type": "stream",
     "text": [
      "+--------------------+------+\n",
      "|        FacilityType|counts|\n",
      "+--------------------+------+\n",
      "|          Restaurant| 15199|\n",
      "|       Grocery Store|  4229|\n",
      "|              School|  1380|\n",
      "|Daycare (2 - 6 Ye...|   440|\n",
      "|              Bakery|   370|\n",
      "|                    |   365|\n",
      "|Daycare Above and...|   236|\n",
      "|              Liquor|   232|\n",
      "|Mobile Food Dispe...|   214|\n",
      "|  Daycare Combo 1586|   198|\n",
      "|           Wholesale|   175|\n",
      "|Children's Servic...|   172|\n",
      "|            Catering|   129|\n",
      "|      Long Term Care|   125|\n",
      "|Mobile Food Preparer|    72|\n",
      "|              TAVERN|    63|\n",
      "|        Golden Diner|    57|\n",
      "|            Hospital|    43|\n",
      "|Daycare (Under 2 ...|    35|\n",
      "|         GAS STATION|    30|\n",
      "+--------------------+------+\n",
      "only showing top 20 rows\n",
      "\n",
      "CPU times: user 52 ms, sys: 28 ms, total: 80 ms\n",
      "Wall time: 4.92 s\n"
     ]
    }
   ],
   "source": [
    "%%time\n",
    "\n",
    "topFailuresByFacility = sqlContext.sql(\"SELECT FacilityType, COUNT(*) AS counts FROM inspections WHERE results = 'Fail' GROUP BY \\\n",
    "FacilityType ORDER BY counts DESC, FacilityType\")\n",
    "topFailuresByFacility.show()\n",
    "topFailuresByFacility = topFailuresByFacility.toPandas()"
   ]
  },
  {
   "cell_type": "code",
   "execution_count": null,
   "metadata": {
    "collapsed": false,
    "deletable": true,
    "editable": true
   },
   "outputs": [],
   "source": []
  },
  {
   "cell_type": "markdown",
   "metadata": {
    "deletable": true,
    "editable": true
   },
   "source": [
    "#### Step 5 - Use Graphical Visualization\n",
    "\n",
    "It is one thing to look over the tabular data results, and another thing to see the data displayed graphically.  Using rich graphics can help substantially in both understanding and presenting the data being examined.  In this step, you will use the *matplotlib* library that is available to your Spark cluster to visualize the relationship between the data queries that you just ran.\n",
    "\n",
    "Run the code in the following two cells. In each cell, you are graphing the *overall* and *failure* query results for Inspection Type and Facility Type.  You will be using *matplotlib* to display pie charts for the 3 most frequent items occurring in each category.  The idea here is to try to understand the influence these items have on the occurrence of Food Inspection failures."
   ]
  },
  {
   "cell_type": "code",
   "execution_count": 35,
   "metadata": {
    "collapsed": false,
    "deletable": true,
    "editable": true
   },
   "outputs": [
    {
     "name": "stdout",
     "output_type": "stream",
     "text": [
      "['InspectionType', 'counts']\n"
     ]
    },
    {
     "data": {
      "text/plain": [
       "(-1.0112285791667126,\n",
       " 1.0000000009748535,\n",
       " -1.0102168313037443,\n",
       " 1.0121209002382106)"
      ]
     },
     "execution_count": 35,
     "metadata": {},
     "output_type": "execute_result"
    },
    {
     "data": {
      "image/png": "[encoded data removed]",
      "text/plain": [
       "<matplotlib.figure.Figure at 0x7f71379498d0>"
      ]
     },
     "metadata": {},
     "output_type": "display_data"
    }
   ],
   "source": [
    "#%%local\n",
    "%matplotlib inline\n",
    "import matplotlib.pyplot as plt;\n",
    "\n",
    "# Plot the Overall Inspection Type values\n",
    "plt.subplot(1,3,1)\n",
    "plt.title(\"Overall\")\n",
    "topOverall = overallByType.head(4)\n",
    "labels = topOverall['InspectionType']\n",
    "sizes = topOverall['counts']\n",
    "print list(topOverall.columns.values)\n",
    "plt.pie(sizes, labels=labels, autopct='%1.1f%%')\n",
    "plt.axis('equal')\n",
    "\n",
    "# Plot the Inspection Type Failure values\n",
    "plt.subplot(1,3,3)\n",
    "plt.title(\"Failures\")\n",
    "topFailures = topFailuresByType.head(4)\n",
    "labels = topFailures['InspectionType']\n",
    "sizes = topFailures['counts']\n",
    "plt.pie(sizes, labels=labels, autopct='%1.1f%%')\n",
    "plt.axis('equal')"
   ]
  },
  {
   "cell_type": "code",
   "execution_count": 37,
   "metadata": {
    "collapsed": false,
    "deletable": true,
    "editable": true
   },
   "outputs": [
    {
     "data": {
      "text/plain": [
       "(-1.0166713850923932,\n",
       " 1.0000000020304887,\n",
       " -1.0217739847044489,\n",
       " 1.0149961819768027)"
      ]
     },
     "execution_count": 37,
     "metadata": {},
     "output_type": "execute_result"
    },
    {
     "data": {
      "image/png": "[encoded data removed]",
      "text/plain": [
       "<matplotlib.figure.Figure at 0x7f71378985d0>"
      ]
     },
     "metadata": {},
     "output_type": "display_data"
    }
   ],
   "source": [
    "%matplotlib inline\n",
    "import matplotlib.pyplot as plt;\n",
    "\n",
    "# Plot the Overall Facility Type values\n",
    "plt.subplot(1,3,1)\n",
    "plt.title(\"Overall\")\n",
    "topOverall = overallByFacility.head(4)\n",
    "labels = topOverall['FacilityType']\n",
    "sizes = topOverall['counts']\n",
    "plt.pie(sizes, labels=labels, autopct='%1.1f%%')\n",
    "plt.axis('equal')\n",
    "\n",
    "# Plot the Facility Type Failure values\n",
    "plt.subplot(1,3,3)\n",
    "plt.title(\"Failures\")\n",
    "topFailures = topFailuresByFacility.head(4)\n",
    "labels = topFailures['FacilityType']\n",
    "sizes = topFailures['counts']\n",
    "plt.pie(sizes, labels=labels, autopct='%1.1f%%')\n",
    "plt.axis('equal')"
   ]
  },
  {
   "cell_type": "markdown",
   "metadata": {
    "deletable": true,
    "editable": true
   },
   "source": [
    "Looking at the results above (assuming you've run the cells), you may notice that License Inspection Types seem to generate a disproportionate amount of failures (31,5% of failures vs 17.6% of inspections), and Grocery Stores seem to have a marginally high amount of inspection failures (20.3% failures vs 16.3% of the overall inspections).  \n",
    "\n",
    "These types of insight might lead to actionable information.  It may indicate that the inspection criteria is not being adequately communicated ahead of time to companies that are seeking new licenses and it may be necessary to provide  additional information to these types of businesses.  Additionally, there may be an indication that problems are starting to emerge at grocery stores an an outreach effort to stress the importance of proper hygiene to the store managers may benefit the public overall.\n",
    "\n",
    "This is obviously just scratching the surface of the ways this data might be analyzed.  It may be interesting to examine these same trends over time rather than en-masse.  Furthermore, the true relationship between the factors may not be obvious at the moment.  In the next Exercise, you will see how to allow the software to help you identify  these relationships via Machine Learning."
   ]
  }
 ],
 "metadata": {
  "kernelspec": {
   "display_name": "Python 2 Spark - local",
   "language": "python",
   "name": "spark-python"
  },
  "language_info": {
   "codemirror_mode": {
    "name": "ipython",
    "version": 2
   },
   "file_extension": ".py",
   "mimetype": "text/x-python",
   "name": "python",
   "nbconvert_exporter": "python",
   "pygments_lexer": "ipython2",
   "version": "2.7.11"
  }
 },
 "nbformat": 4,
 "nbformat_minor": 0
}
