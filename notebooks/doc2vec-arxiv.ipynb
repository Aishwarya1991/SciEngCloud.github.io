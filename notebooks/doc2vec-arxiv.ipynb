{
 "cells": [
  {
   "cell_type": "markdown",
   "metadata": {
    "deletable": true,
    "editable": true
   },
   "source": [
    "# Doc2Vec on the ArXiv abstract classification test\n",
    "This notebook is derived from the Gensim Doc2Vec Tutorial doc2vec-lee.ipynb available in github in \n",
    "RaRe-Technologies/gensim/docs/notebooks/doc2vec-lee.ipynb.\n",
    "\n",
    "Doc2Vec is gensim's document embedding function.  Here we see how well it can help classify science documents from the Cornell ArXiv.  We have 7K science abstracts, titles and category labels. \n",
    "\n",
    "First install gensim.  Uncomment the next line if the import fails."
   ]
  },
  {
   "cell_type": "code",
   "execution_count": null,
   "metadata": {
    "collapsed": false
   },
   "outputs": [],
   "source": [
    "#!pip install gensim"
   ]
  },
  {
   "cell_type": "code",
   "execution_count": 5,
   "metadata": {
    "collapsed": false,
    "deletable": true,
    "editable": true
   },
   "outputs": [],
   "source": [
    "import gensim\n",
    "import os\n",
    "import collections\n",
    "import smart_open\n",
    "import random\n",
    "import matplotlib.pyplot as plt\n",
    "%matplotlib inline\n",
    "import json"
   ]
  },
  {
   "cell_type": "markdown",
   "metadata": {
    "deletable": true,
    "editable": true
   },
   "source": [
    "## What is it?\n",
    "\n",
    "Doc2Vec is an NLP tool for representing documents as a vector and is a generalizing of the Word2Vec method. This tutorial will serve as an introduction to Doc2Vec and present ways to train and assess a Doc2Vec model."
   ]
  },
  {
   "cell_type": "markdown",
   "metadata": {
    "deletable": true,
    "editable": true
   },
   "source": [
    "## Resources\n",
    "\n",
    "* [Word2Vec Paper](https://papers.nips.cc/paper/5021-distributed-representations-of-words-and-phrases-and-their-compositionality.pdf)\n",
    "* [Doc2Vec Paper](https://cs.stanford.edu/~quocle/paragraph_vector.pdf)"
   ]
  },
  {
   "cell_type": "markdown",
   "metadata": {
    "deletable": true,
    "editable": true
   },
   "source": [
    "## Getting Started"
   ]
  },
  {
   "cell_type": "markdown",
   "metadata": {},
   "source": [
    "We will need the several files.\n",
    "\n",
    "1. The document files.  https://SciEngCloud.github.io/arxiv_data/sciml_data_arvix.p\n",
    "2. the category configuration files. There are two used here:\n",
    "\n",
    "    https://SciEngCloud.github.io/arxiv_data/config/config_all4.json\n",
    "    \n",
    "    https://SciEngCloud.github.io/arxiv_data/config/config_phy.json"
   ]
  },
  {
   "cell_type": "code",
   "execution_count": 6,
   "metadata": {
    "collapsed": false,
    "deletable": true,
    "editable": true
   },
   "outputs": [
    {
     "name": "stdout",
     "output_type": "stream",
     "text": [
      "--2017-09-21 15:24:24--  https://sciengcloud.github.io/arxiv_data/config/config_phy.json\n",
      "Resolving sciengcloud.github.io (sciengcloud.github.io)... 151.101.33.147, 2a04:4e42:8::403\n",
      "Connecting to sciengcloud.github.io (sciengcloud.github.io)|151.101.33.147|:443... connected.\n",
      "HTTP request sent, awaiting response... 200 OK\n",
      "Length: 1783 (1.7K) [application/json]\n",
      "Saving to: ‘config_phy.json.5’\n",
      "\n",
      "config_phy.json.5   100%[=====================>]   1.74K  --.-KB/s   in 0s     \n",
      "\n",
      "2017-09-21 15:24:24 (56.9 MB/s) - ‘config_phy.json.5’ saved [1783/1783]\n",
      "\n"
     ]
    }
   ],
   "source": [
    "!wget https://SciEngCloud.github.io/arxiv_data/config/config_phy.json"
   ]
  },
  {
   "cell_type": "markdown",
   "metadata": {
    "deletable": true,
    "editable": true
   },
   "source": [
    "## Define a Function to Read and Preprocess Text"
   ]
  },
  {
   "cell_type": "markdown",
   "metadata": {
    "deletable": true,
    "editable": true
   },
   "source": [
    "Below, we define a function to open the train/test file (with latin encoding), read the file line-by-line, pre-process each line using a simple gensim pre-processing tool (i.e., tokenize text into individual words, remove punctuation, set to lowercase, etc), and return a list of words. Note that, for a given file (aka corpus), each continuous line constitutes a single document and the length of each line (i.e., document) can vary. Also, to train the model, we'll need to associate a tag/number with each document of the training corpus. In our case, the tag is simply the zero-based line number.\n",
    "\n",
    "The data used in this example is stored in a pickle file that contains the abstract, title and the ArXiv category tag (called sitename).  There are many categories and we shall group them into supercategories. \n",
    "\n",
    "In the first case we will use the supercategories of Physics, math, compsci, bio and finance.   we have a configuration file called config_all4.json and a function read_config that will load the list of categories and subtopics (the arxiv tags).   "
   ]
  },
  {
   "cell_type": "code",
   "execution_count": 7,
   "metadata": {
    "collapsed": true,
    "deletable": true,
    "editable": true
   },
   "outputs": [],
   "source": [
    "import pickle"
   ]
  },
  {
   "cell_type": "code",
   "execution_count": 8,
   "metadata": {
    "collapsed": false,
    "deletable": true,
    "editable": true
   },
   "outputs": [],
   "source": [
    "def load_docs(path, name):\n",
    "    filename = path+name+\".p\"\n",
    "    fileobj = open(filename, \"rb\")\n",
    "    z = fileobj.read()\n",
    "    lst = pickle.loads(str(z))\n",
    "    titles = []\n",
    "    sitenames = []\n",
    "    abstracts = []\n",
    "    for i in range(0, len(lst)):\n",
    "        titles.extend([lst[i][0]])\n",
    "        sitenames.extend([lst[i][1]])\n",
    "        abstracts.extend([lst[i][2]])\n",
    "        \n",
    "    print(\"done loading \"+filename)\n",
    "    return abstracts, sitenames, titles"
   ]
  },
  {
   "cell_type": "code",
   "execution_count": 9,
   "metadata": {
    "collapsed": true
   },
   "outputs": [],
   "source": [
    "def read_config(subj, basepath):\n",
    "    docpath =basepath +\"config_\"+subj+\".json\"\n",
    "    with open(docpath, 'rb') as f:\n",
    "        doc = f.read() \n",
    "    z =json.loads(doc)\n",
    "    subject = z['subject']\n",
    "    loadset = z['loadset']\n",
    "    subtopics = []\n",
    "    for w in z['supertopics']:\n",
    "        subtopics.extend([(w[0], w[1])])\n",
    "    return subject, loadset, subtopics\n"
   ]
  },
  {
   "cell_type": "markdown",
   "metadata": {},
   "source": [
    "We will laoad the categories and then use a function make_topic_dict which will create a dictionary that allows us to map a arxiv tag to the subtopic name"
   ]
  },
  {
   "cell_type": "code",
   "execution_count": 10,
   "metadata": {
    "collapsed": false
   },
   "outputs": [],
   "source": [
    "subject, loadset, subtopics = read_config(\"all4\", \"./notebooks/\")"
   ]
  },
  {
   "cell_type": "code",
   "execution_count": 11,
   "metadata": {
    "collapsed": true
   },
   "outputs": [],
   "source": [
    "def make_topic_dict(subtopics):\n",
    "    dic  = {}\n",
    "    for x in subtopics:\n",
    "        maintop = x[0]\n",
    "        subs = x[1]\n",
    "        for s in subs:\n",
    "            dic[s] = maintop\n",
    "    return dic"
   ]
  },
  {
   "cell_type": "code",
   "execution_count": 12,
   "metadata": {
    "collapsed": true
   },
   "outputs": [],
   "source": [
    "topicdict = make_topic_dict(subtopics)"
   ]
  },
  {
   "cell_type": "code",
   "execution_count": 13,
   "metadata": {
    "collapsed": false,
    "deletable": true,
    "editable": true
   },
   "outputs": [
    {
     "name": "stdout",
     "output_type": "stream",
     "text": [
      "done loading ./sciml_data_arxiv.p\n"
     ]
    }
   ],
   "source": [
    "bstracts, sites, titles = load_docs(\"./\", \"sciml_data_arxiv\")"
   ]
  },
  {
   "cell_type": "code",
   "execution_count": 14,
   "metadata": {
    "collapsed": false,
    "deletable": true,
    "editable": true
   },
   "outputs": [
    {
     "name": "stdout",
     "output_type": "stream",
     "text": [
      "7109\n"
     ]
    }
   ],
   "source": [
    "print len(bstracts)"
   ]
  },
  {
   "cell_type": "code",
   "execution_count": 15,
   "metadata": {
    "collapsed": false
   },
   "outputs": [
    {
     "data": {
      "text/plain": [
       "[u'Physics', u'math', u'bio', u'compsci', u'finance']"
      ]
     },
     "execution_count": 15,
     "metadata": {},
     "output_type": "execute_result"
    }
   ],
   "source": [
    "topics = [x[0] for x in subtopics]\n",
    "topics"
   ]
  },
  {
   "cell_type": "code",
   "execution_count": 16,
   "metadata": {
    "collapsed": true,
    "deletable": true,
    "editable": true
   },
   "outputs": [],
   "source": [
    "import random"
   ]
  },
  {
   "cell_type": "code",
   "execution_count": 17,
   "metadata": {
    "collapsed": false,
    "deletable": true,
    "editable": true
   },
   "outputs": [],
   "source": [
    "my_list = range(7108)\n",
    "train_set = random.sample(my_list, 5000)"
   ]
  },
  {
   "cell_type": "code",
   "execution_count": 18,
   "metadata": {
    "collapsed": true,
    "deletable": true,
    "editable": true
   },
   "outputs": [],
   "source": [
    "test_set = set(my_list)-set(train_set)"
   ]
  },
  {
   "cell_type": "code",
   "execution_count": 19,
   "metadata": {
    "collapsed": false,
    "deletable": true,
    "editable": true
   },
   "outputs": [
    {
     "data": {
      "text/plain": [
       "2108"
      ]
     },
     "execution_count": 19,
     "metadata": {},
     "output_type": "execute_result"
    }
   ],
   "source": [
    "test_set = list(test_set)\n",
    "len(test_set)"
   ]
  },
  {
   "cell_type": "code",
   "execution_count": 20,
   "metadata": {
    "collapsed": false,
    "deletable": true,
    "editable": true
   },
   "outputs": [],
   "source": [
    "test_abstracts = []\n",
    "test_titles = []\n",
    "test_sites = []\n",
    "for i in test_set:\n",
    "    test_abstracts.append(bstracts[i])\n",
    "    test_titles.append(titles[i])\n",
    "    test_sites.append(sites[i])\n",
    "train_abstracts = []\n",
    "train_titles = []\n",
    "train_sites = []\n",
    "for i in train_set:\n",
    "    train_abstracts.append(bstracts[i])\n",
    "    train_titles.append(titles[i])\n",
    "    train_sites.append(sites[i])"
   ]
  },
  {
   "cell_type": "markdown",
   "metadata": {},
   "source": [
    "### we must save these file so that they can be read using the gensim preprocessor"
   ]
  },
  {
   "cell_type": "code",
   "execution_count": 21,
   "metadata": {
    "collapsed": true,
    "deletable": true,
    "editable": true
   },
   "outputs": [],
   "source": [
    "with open(\"sciml_train\", 'wb') as f:\n",
    "    for abs in train_abstracts:\n",
    "        f.write(abs+ \"\\n\")\n",
    "with open(\"sciml_test\", 'wb') as f:\n",
    "    for abs in test_abstracts:\n",
    "        f.write(abs+ \"\\n\")"
   ]
  },
  {
   "cell_type": "code",
   "execution_count": 22,
   "metadata": {
    "collapsed": false,
    "deletable": true,
    "editable": true
   },
   "outputs": [],
   "source": [
    "def read_corpus(fname, tokens_only=False):\n",
    "    with smart_open.smart_open(fname, encoding=\"iso-8859-1\") as f:\n",
    "        for i, line in enumerate(f):\n",
    "            if tokens_only:\n",
    "                yield gensim.utils.simple_preprocess(line)\n",
    "            else:\n",
    "                # For training data, add tags\n",
    "                yield gensim.models.doc2vec.TaggedDocument(gensim.utils.simple_preprocess(line), [i])"
   ]
  },
  {
   "cell_type": "code",
   "execution_count": 23,
   "metadata": {
    "collapsed": false,
    "deletable": true,
    "editable": true
   },
   "outputs": [],
   "source": [
    "train_corpus = list(read_corpus(\"sciml_train\"))\n",
    "test_corpus = list(read_corpus(\"sciml_test\", tokens_only=True))"
   ]
  },
  {
   "cell_type": "markdown",
   "metadata": {
    "deletable": true,
    "editable": true
   },
   "source": [
    "Let's take a look at the training corpus"
   ]
  },
  {
   "cell_type": "code",
   "execution_count": 24,
   "metadata": {
    "collapsed": false,
    "deletable": true,
    "editable": true
   },
   "outputs": [
    {
     "data": {
      "text/plain": [
       "5000"
      ]
     },
     "execution_count": 24,
     "metadata": {},
     "output_type": "execute_result"
    }
   ],
   "source": [
    "len(train_corpus)"
   ]
  },
  {
   "cell_type": "code",
   "execution_count": 25,
   "metadata": {
    "collapsed": false,
    "deletable": true,
    "editable": true
   },
   "outputs": [
    {
     "data": {
      "text/plain": [
       "[TaggedDocument(words=[u'photosynthetic', u'water', u'oxidation', u'is', u'fundamental', u'process', u'that', u'sustains', u'the', u'biosphere', u'mn', u'ca', u'cluster', u'embedded', u'in', u'the', u'photosystem', u'ii', u'protein', u'environment', u'is', u'responsible', u'for', u'the', u'production', u'of', u'atmospheric', u'oxygen', u'here', u'time', u'resolved', u'ray', u'emission', u'spectroscopy', u'xes', u'was', u'used', u'to', u'observe', u'the', u'process', u'of', u'oxygen', u'formation', u'in', u'real', u'time', u'these', u'experiments', u'reveal', u'that', u'the', u'oxygen', u'evolution', u'step', u'initiated', u'by', u'three', u'sequential', u'laser', u'flashes', u'is', u'accompanied', u'by', u'rapid', u'within', u'mu', u'changes', u'to', u'the', u'mn', u'beta', u'xes', u'spectrum', u'however', u'no', u'oxidation', u'of', u'the', u'mn', u'ca', u'core', u'above', u'the', u'all', u'mn', u'text', u'iv', u'state', u'was', u'detected', u'to', u'precede', u'bond', u'formation', u'new', u'mechanism', u'featuring', u'mn', u'text', u'iv', u'formation', u'in', u'the', u'state', u'is', u'proposed', u'to', u'explain', u'the', u'spectroscopic', u'results', u'this', u'chemical', u'formulation', u'is', u'consistent', u'with', u'the', u'unique', u'reactivity', u'of', u'the', u'state', u'and', u'explains', u'facilitation', u'of', u'the', u'following', u'to', u'transition', u'resolving', u'in', u'part', u'the', u'kinetic', u'limitations', u'associated', u'with', u'bond', u'formation', u'in', u'the', u'proposed', u'mechanism', u'bond', u'formation', u'precedes', u'transfer', u'of', u'the', u'final', u'text', u'th', u'electron', u'from', u'the', u'mn', u'ca', u'cluster', u'in', u'agreement', u'with', u'experiment'], tags=[0]),\n",
       " TaggedDocument(words=[u'recent', u'experiments', u'on', u'the', u'bacterial', u'flagellar', u'motor', u'have', u'shown', u'that', u'the', u'structure', u'of', u'this', u'nanomachine', u'which', u'drives', u'locomotion', u'in', u'wide', u'range', u'of', u'bacterial', u'species', u'is', u'more', u'dynamic', u'than', u'previously', u'believed', u'specifically', u'the', u'number', u'of', u'active', u'torque', u'generating', u'units', u'stators', u'was', u'shown', u'to', u'vary', u'across', u'applied', u'loads', u'this', u'finding', u'invalidates', u'the', u'experimental', u'evidence', u'reporting', u'that', u'limiting', u'zero', u'torque', u'speed', u'is', u'independent', u'of', u'the', u'number', u'of', u'active', u'stators', u'here', u'we', u'propose', u'that', u'contrary', u'to', u'previous', u'assumptions', u'the', u'maximum', u'speed', u'of', u'the', u'motor', u'is', u'not', u'universal', u'but', u'rather', u'increases', u'as', u'additional', u'torque', u'generators', u'are', u'recruited', u'this', u'result', u'arises', u'from', u'our', u'assumption', u'that', u'stators', u'disengage', u'from', u'the', u'motor', u'for', u'significant', u'portion', u'of', u'their', u'mechanochemical', u'cycles', u'at', u'low', u'loads', u'we', u'show', u'that', u'this', u'assumption', u'is', u'consistent', u'with', u'current', u'experimental', u'evidence', u'and', u'consolidate', u'our', u'predictions', u'with', u'arguments', u'that', u'processive', u'motor', u'must', u'have', u'high', u'duty', u'ratio', u'at', u'high', u'loads'], tags=[1])]"
      ]
     },
     "execution_count": 25,
     "metadata": {},
     "output_type": "execute_result"
    }
   ],
   "source": [
    "train_corpus[:2]"
   ]
  },
  {
   "cell_type": "markdown",
   "metadata": {
    "deletable": true,
    "editable": true
   },
   "source": [
    "And the testing corpus looks like this:"
   ]
  },
  {
   "cell_type": "code",
   "execution_count": 26,
   "metadata": {
    "collapsed": false,
    "deletable": true,
    "editable": true
   },
   "outputs": [
    {
     "name": "stdout",
     "output_type": "stream",
     "text": [
      "[[u'we', u'investigate', u'similarities', u'in', u'the', u'micro', u'structural', u'dynamics', u'between', u'externally', u'driven', u'and', u'actively', u'driven', u'nematics', u'walls', u'lines', u'of', u'strong', u'deformations', u'in', u'the', u'director', u'field', u'and', u'topological', u'defects', u'are', u'characteristic', u'features', u'of', u'an', u'active', u'nematic', u'similar', u'structures', u'form', u'in', u'driven', u'passive', u'nematics', u'when', u'there', u'are', u'inhomogeneities', u'in', u'imposed', u'velocity', u'gradients', u'due', u'to', u'non', u'linear', u'flow', u'fields', u'or', u'geometrical', u'constraints', u'specifically', u'pressure', u'driven', u'flow', u'of', u'tumbling', u'passive', u'nematic', u'in', u'an', u'expanding', u'contracting', u'channel', u'produces', u'walls', u'and', u'defects', u'similar', u'to', u'those', u'seen', u'in', u'active', u'nematics', u'we', u'also', u'study', u'the', u'response', u'of', u'active', u'nematics', u'to', u'external', u'driving', u'confirming', u'that', u'imposed', u'shear', u'suppresses', u'the', u'hydrodynamic', u'instabilities', u'we', u'show', u'that', u'shear', u'fields', u'can', u'lead', u'to', u'wall', u'alignments', u'and', u'the', u'localisation', u'of', u'active', u'turbulence'], [u'in', u'this', u'paper', u'we', u'present', u'an', u'adaptive', u'nonparametric', u'solution', u'to', u'the', u'image', u'parsing', u'task', u'namely', u'annotating', u'each', u'image', u'pixel', u'with', u'its', u'corresponding', u'category', u'label', u'for', u'given', u'test', u'image', u'first', u'locality', u'aware', u'retrieval', u'set', u'is', u'extracted', u'from', u'the', u'training', u'data', u'based', u'on', u'super', u'pixel', u'matching', u'similarities', u'which', u'are', u'augmented', u'with', u'feature', u'extraction', u'for', u'better', u'differentiation', u'of', u'local', u'super', u'pixels', u'then', u'the', u'category', u'of', u'each', u'super', u'pixel', u'is', u'initialized', u'by', u'the', u'majority', u'vote', u'of', u'the', u'nearest', u'neighbor', u'super', u'pixels', u'in', u'the', u'retrieval', u'set', u'instead', u'of', u'fixing', u'as', u'in', u'traditional', u'non', u'parametric', u'approaches', u'here', u'we', u'propose', u'novel', u'adaptive', u'nonparametric', u'approach', u'which', u'determines', u'the', u'sample', u'specific', u'for', u'each', u'test', u'image', u'in', u'particular', u'is', u'adaptively', u'set', u'to', u'be', u'the', u'number', u'of', u'the', u'fewest', u'nearest', u'super', u'pixels', u'which', u'the', u'images', u'in', u'the', u'retrieval', u'set', u'can', u'use', u'to', u'get', u'the', u'best', u'category', u'prediction', u'finally', u'the', u'initial', u'super', u'pixel', u'labels', u'are', u'further', u'refined', u'by', u'contextual', u'smoothing', u'extensive', u'experiments', u'on', u'challenging', u'datasets', u'demonstrate', u'the', u'superiority', u'of', u'the', u'new', u'solution', u'over', u'other', u'state', u'of', u'the', u'art', u'nonparametric', u'solutions']]\n"
     ]
    }
   ],
   "source": [
    "print(test_corpus[:2])"
   ]
  },
  {
   "cell_type": "markdown",
   "metadata": {
    "deletable": true,
    "editable": true
   },
   "source": [
    "Notice that the testing corpus is just a list of lists and does not contain any tags."
   ]
  },
  {
   "cell_type": "markdown",
   "metadata": {
    "deletable": true,
    "editable": true
   },
   "source": [
    "## Training the Model"
   ]
  },
  {
   "cell_type": "markdown",
   "metadata": {
    "deletable": true,
    "editable": true
   },
   "source": [
    "### Instantiate a Doc2Vec Object "
   ]
  },
  {
   "cell_type": "markdown",
   "metadata": {
    "deletable": true,
    "editable": true
   },
   "source": [
    "Now, we'll instantiate a Doc2Vec model with a vector size with 50 words and iterating over the training corpus 55 times. We set the minimum word count to 2 in order to give higher frequency words more weighting. Model accuracy can be improved by increasing the number of iterations but this generally increases the training time. Small datasets with short documents, like this one, can benefit from more training passes."
   ]
  },
  {
   "cell_type": "code",
   "execution_count": null,
   "metadata": {
    "collapsed": false,
    "deletable": true,
    "editable": true
   },
   "outputs": [],
   "source": [
    "model = gensim.models.doc2vec.Doc2Vec(size=50, min_count=2, iter=55)"
   ]
  },
  {
   "cell_type": "markdown",
   "metadata": {
    "deletable": true,
    "editable": true
   },
   "source": [
    "### Build a Vocabulary"
   ]
  },
  {
   "cell_type": "code",
   "execution_count": null,
   "metadata": {
    "collapsed": true,
    "deletable": true,
    "editable": true
   },
   "outputs": [],
   "source": [
    "model.build_vocab(train_corpus)"
   ]
  },
  {
   "cell_type": "markdown",
   "metadata": {
    "deletable": true,
    "editable": true
   },
   "source": [
    "Essentially, the vocabulary is a dictionary (accessible via `model.wv.vocab`) of all of the unique words extracted from the training corpus along with the count (e.g., `model.wv.vocab['penalty'].count` for counts for the word `penalty`)."
   ]
  },
  {
   "cell_type": "markdown",
   "metadata": {
    "deletable": true,
    "editable": true
   },
   "source": [
    "### Train\n",
    "\n",
    "for this data set it takes about 2 min of user cpu time."
   ]
  },
  {
   "cell_type": "code",
   "execution_count": null,
   "metadata": {
    "collapsed": false,
    "deletable": true,
    "editable": true
   },
   "outputs": [],
   "source": [
    "%time model.train(train_corpus, total_examples=model.corpus_count, epochs=model.iter)"
   ]
  },
  {
   "cell_type": "markdown",
   "metadata": {
    "deletable": true,
    "editable": true
   },
   "source": [
    "### Inferring a Vector"
   ]
  },
  {
   "cell_type": "markdown",
   "metadata": {
    "deletable": true,
    "editable": true
   },
   "source": [
    "One important thing to note is that you can now infer a vector for any piece of text without having to re-train the model by passing a list of words to the `model.infer_vector` function. This vector can then be compared with other vectors via cosine similarity."
   ]
  },
  {
   "cell_type": "code",
   "execution_count": null,
   "metadata": {
    "collapsed": false,
    "deletable": true,
    "editable": true
   },
   "outputs": [],
   "source": [
    "model.infer_vector([u'deep', u'convolutional', u'neural', u'networks', u'cnn'])"
   ]
  },
  {
   "cell_type": "markdown",
   "metadata": {
    "deletable": true,
    "editable": true
   },
   "source": [
    "## Assessing Model"
   ]
  },
  {
   "cell_type": "markdown",
   "metadata": {
    "deletable": true,
    "editable": true
   },
   "source": [
    "To assess our new model, we'll first infer new vectors for each document of the training corpus, compare the inferred vectors with the training corpus, and then returning the rank of the document based on self-similarity. Basically, we're pretending as if the training corpus is some new unseen data and then seeing how they compare with the trained model. The expectation is that we've likely overfit our model (i.e., all of the ranks will be less than 2) and so we should be able to find similar documents very easily. Additionally, we'll keep track of the second ranks for a comparison of less similar documents. "
   ]
  },
  {
   "cell_type": "code",
   "execution_count": null,
   "metadata": {
    "collapsed": false,
    "deletable": true,
    "editable": true
   },
   "outputs": [],
   "source": [
    "ranks = []\n",
    "second_ranks = []\n",
    "for doc_id in range(len(train_corpus)):\n",
    "    inferred_vector = model.infer_vector(train_corpus[doc_id].words)\n",
    "    sims = model.docvecs.most_similar([inferred_vector], topn=len(model.docvecs))\n",
    "    rank = [docid for docid, sim in sims].index(doc_id)\n",
    "    ranks.append(rank)\n",
    "    \n",
    "    second_ranks.append(sims[1])"
   ]
  },
  {
   "cell_type": "markdown",
   "metadata": {
    "deletable": true,
    "editable": true
   },
   "source": [
    "Let's count how each document ranks with respect to the training corpus "
   ]
  },
  {
   "cell_type": "code",
   "execution_count": null,
   "metadata": {
    "collapsed": false,
    "deletable": true,
    "editable": true,
    "scrolled": true
   },
   "outputs": [],
   "source": [
    "collections.Counter(ranks)  # Results vary due to random seeding and very small corpus"
   ]
  },
  {
   "cell_type": "markdown",
   "metadata": {
    "deletable": true,
    "editable": true
   },
   "source": [
    "Basically, greater than 90% of the inferred documents are found to be most similar to itself and about 10% of the time it is mistakenly most similar to another document. the checking of an inferred-vector against a training-vector is a sort of 'sanity check' as to whether the model is behaving in a usefully consistent manner, though not a real 'accuracy' value.\n",
    "\n",
    "This is great and not entirely surprising. We can take a look at an example:"
   ]
  },
  {
   "cell_type": "markdown",
   "metadata": {
    "deletable": true,
    "editable": true
   },
   "source": [
    "## Testing the Model"
   ]
  },
  {
   "cell_type": "markdown",
   "metadata": {
    "deletable": true,
    "editable": true
   },
   "source": [
    "Using the same approach above, we'll infer the vector for a randomly chosen test document, and compare the document to our model by eye."
   ]
  },
  {
   "cell_type": "code",
   "execution_count": null,
   "metadata": {
    "collapsed": false,
    "deletable": true,
    "editable": true
   },
   "outputs": [],
   "source": [
    "doc_id = 0\n",
    "text = \"u'Einsteins', u'general', u'theory', u'of', u'relativity', u'explains', u'gravity', u'in', u'terms', u'of', u'the', u'curvature', u'of', u'space-time'\"\n",
    "inferred_vector = model.infer_vector(text)\n",
    "sims = model.docvecs.most_similar([inferred_vector], topn=len(model.docvecs))\n",
    "print('Test Document ({}): «{}»\\n'.format(doc_id, text))\n",
    "\n",
    "for index in range(20):\n",
    "    if sims[index][1] > 0.2:\n",
    "        print('%s %s %s' % (sims[index], topicdict[train_sites[sims[index][0]]], train_titles[sims[index][0]]))"
   ]
  },
  {
   "cell_type": "markdown",
   "metadata": {},
   "source": [
    "### Now let's create a score\n",
    "We are going to compute a score for a document by taking the similarity measure for all training docs above a certain threshold and we add the scores in each of our classification categories.  This weighted total is not based on any  deep analysis and different variations are possible"
   ]
  },
  {
   "cell_type": "code",
   "execution_count": 27,
   "metadata": {
    "collapsed": true
   },
   "outputs": [],
   "source": [
    "import pandas as pd\n",
    "import numpy as np"
   ]
  },
  {
   "cell_type": "markdown",
   "metadata": {},
   "source": [
    "# model tester\n",
    "the function test_model creates a confusion matrix for each of a test set against the training set."
   ]
  },
  {
   "cell_type": "code",
   "execution_count": 28,
   "metadata": {
    "collapsed": false
   },
   "outputs": [],
   "source": [
    "def bestans(score, indexlist):\n",
    "    ans = indexlist[0]\n",
    "    for top in indexlist[1:]:\n",
    "        if score[top] > score[ans]: ans = top\n",
    "    if score[ans] == 0.0: ans = 'none'\n",
    "    return ans\n",
    "\n",
    "def test_model(threshold, model, topicdict, test_corpus, test_sites, train_corpus, train_sites, indexlist):\n",
    "    v = len(indexlist)\n",
    "    zer = np.zeros((v,v), dtype=float)\n",
    "    df = pd.DataFrame(zer, index = indexlist, columns=indexlist)\n",
    "    gotnone = 0\n",
    "    gotother = 0\n",
    "    gotnonelist = []\n",
    "    gototherlist = []\n",
    "    indexset = set(indexlist)\n",
    "    istrain = (test_corpus  == train_corpus)\n",
    "    for i in range(len(test_corpus)):\n",
    "        inferred_vector = model.infer_vector(train_corpus[i].words,steps = 20, alpha = 0.2 ) if istrain \\\n",
    "            else model.infer_vector(test_corpus[i], steps = 20, alpha = 0.2)\n",
    "        sims = model.docvecs.most_similar([inferred_vector], topn=len(model.docvecs))\n",
    "        try:\n",
    "            correct = topicdict[test_sites[i]]\n",
    "            score = { z: 0.0 for z in indexlist}\n",
    "            for index in range(20):\n",
    "                if (sims[index][1] > threshold): \n",
    "                    try: \n",
    "                        top =  topicdict[train_sites[sims[index][0]]]\n",
    "                        if top in indexset:\n",
    "                            x = sims[index][1]\n",
    "                            score[top]= score[top]+ x\n",
    "                    except:\n",
    "                        gotother += 1\n",
    "            best = bestans(score, indexlist)\n",
    "            if (best == 'none'): \n",
    "                gotnone += 1\n",
    "                gotnonelist.append(i)\n",
    "            else:\n",
    "                df[best][correct] += 1\n",
    "        except:\n",
    "            gotother += 1\n",
    "            gototherlist.append(i)\n",
    "    print (\"gotother =\"+str(gotother))\n",
    "    print (\"none =\"+str(gotnone))\n",
    "    total = 0.\n",
    "    tpos = 0.\n",
    "    for top in indexlist:\n",
    "        for t2 in indexlist:\n",
    "            total += df[t2][top]\n",
    "            if top == t2:\n",
    "                tpos += df[t2][top]\n",
    "    tposrate = tpos/total\n",
    "    classified = total/len(test_sites)\n",
    "    print(\"clasified fraction = \"+ str(classified) + \" true pos rate = \"+ str(tposrate))\n",
    "    tot = 0\n",
    "    for top in indexlist:\n",
    "        tot += df[top]\n",
    "    for top in indexlist:\n",
    "        df[top] = np.round(100*df[top]/tot, decimals= 0)\n",
    "    return df, tposrate, classified, gotnonelist, gototherlist"
   ]
  },
  {
   "cell_type": "markdown",
   "metadata": {},
   "source": [
    "Now for the confusion matrix of the test vs the training set.  each row corresponds to how element of the test set are predicted to be in the training set (the valuues are percentages).   note that \"none\" is the set of documents that did not have any elements of the test set that occured above the threshold.  \"gotother\" are documents that are not classified by arxiv in one of our five categories.   these are ones we just ignnore."
   ]
  },
  {
   "cell_type": "code",
   "execution_count": null,
   "metadata": {
    "collapsed": false
   },
   "outputs": [],
   "source": [
    "indexlist = [\"Physics\", \"bio\", \"compsci\", \"math\", \"finance\"]\n",
    "indexlist = topics\n",
    "rates = [0.60, 0.625, 0.65, 0.675, 0.70, 0.725, 0.750, 0.775, 0.80]\n",
    "posrate = np.zeros((len(rates)), dtype=float)\n",
    "classified = np.zeros((len(rates)), dtype=float)\n",
    "for i in range(len(rates)):\n",
    "    print (\"for rate \"+str(rates[i]))\n",
    "    df , posrate[i], classified[i], gotnonelist, gototherlist=  \\\n",
    "        test_model(rates[i], model, topicdict, test_corpus, test_sites, train_corpus, train_sites, indexlist)\n",
    "df"
   ]
  },
  {
   "cell_type": "markdown",
   "metadata": {},
   "source": [
    "The following plot show increased accuracy but with greatly diminished classification rates."
   ]
  },
  {
   "cell_type": "code",
   "execution_count": null,
   "metadata": {
    "collapsed": false
   },
   "outputs": [],
   "source": [
    "import numpy as np\n",
    "import matplotlib.pyplot as plt\n",
    "\n",
    "ax = plt.subplot(111)\n",
    "\n",
    "t = rates\n",
    "s = classified\n",
    "u = posrate\n",
    "cline, = plt.plot(t, s, lw=2)\n",
    "pline, = plt.plot(t, u, lw=2)\n",
    "\n",
    "#plt.ylim(-2,2)\n",
    "plt.show()"
   ]
  },
  {
   "cell_type": "code",
   "execution_count": null,
   "metadata": {
    "collapsed": false
   },
   "outputs": [],
   "source": [
    "indexlist = topics\n",
    "df , posrate_rate, classified_rate, gotnonelist, gototherlist=  \\\n",
    "        test_model(0.6, model, topicdict, test_corpus, test_sites, train_corpus, train_sites, indexlist)\n"
   ]
  },
  {
   "cell_type": "code",
   "execution_count": null,
   "metadata": {
    "collapsed": false
   },
   "outputs": [],
   "source": [
    "gotnonelist[0:40]\n",
    "\n",
    "test_abstracts[8]"
   ]
  },
  {
   "cell_type": "code",
   "execution_count": null,
   "metadata": {
    "collapsed": false
   },
   "outputs": [],
   "source": [
    "inferred_vector = model.infer_vector(test_corpus[8])\n",
    "sims = model.docvecs.most_similar([inferred_vector], topn=len(model.docvecs))\n",
    "print('Test Document ({}): «{}»\\n'.format(doc_id, ' '.join(test_corpus[8]))+test_sites[8])\n",
    "\n",
    "for index in range(20):\n",
    "    if sims[index][1] > 0.5:\n",
    "        print('%s %s %s' % (sims[index], topicdict[train_sites[sims[index][0]]], train_titles[sims[index][0]]))"
   ]
  },
  {
   "cell_type": "markdown",
   "metadata": {},
   "source": [
    "now for the train vs train matrix.  with a high threshold these should be nearly 100% on the diagonal.  "
   ]
  },
  {
   "cell_type": "code",
   "execution_count": null,
   "metadata": {
    "collapsed": true
   },
   "outputs": [],
   "source": []
  },
  {
   "cell_type": "code",
   "execution_count": null,
   "metadata": {
    "collapsed": false
   },
   "outputs": [],
   "source": [
    "indexlist = topics\n",
    "rates = [0.60, 0.625, 0.65, 0.675, 0.70, 0.725, 0.750, 0.775, 0.80]\n",
    "posrate = np.zeros((len(rates)), dtype=float)\n",
    "classified = np.zeros((len(rates)), dtype=float)\n",
    "for i in range(len(rates)):\n",
    "    print (\"for rate \"+str(rates[i]))\n",
    "    df , posrate[i], classified[i], gotnonelist, gototherlist=  \\\n",
    "         test_model(rates[i], model, topicdict, train_corpus, train_sites, train_corpus, train_sites, indexlist)\n",
    "df"
   ]
  },
  {
   "cell_type": "code",
   "execution_count": null,
   "metadata": {
    "collapsed": false
   },
   "outputs": [],
   "source": [
    "\n",
    "ax = plt.subplot(111)\n",
    "\n",
    "t = rates\n",
    "s = classified\n",
    "u = posrate\n",
    "cline, = plt.plot(t, s, lw=2)\n",
    "pline, = plt.plot(t, u, lw=2)\n",
    "\n",
    "#plt.ylim(-2,2)\n",
    "plt.show()"
   ]
  },
  {
   "cell_type": "markdown",
   "metadata": {},
   "source": [
    "### visualizing the embedding space\n",
    "our embedding is a virtual 5000 by 50 matrix.   We can use TSNE to project it to a 2D space.  "
   ]
  },
  {
   "cell_type": "code",
   "execution_count": 29,
   "metadata": {
    "collapsed": true,
    "deletable": true,
    "editable": true
   },
   "outputs": [],
   "source": [
    "import numpy as np\n",
    "from sklearn.manifold import TSNE"
   ]
  },
  {
   "cell_type": "code",
   "execution_count": null,
   "metadata": {
    "collapsed": false,
    "deletable": true,
    "editable": true
   },
   "outputs": [],
   "source": [
    "N = 4999\n",
    "c = np.array([0]*N)\n",
    "x = []\n",
    "i =0\n",
    "for i in range(N):  #range(len(train_corpus)):\n",
    "    inferred_vector = model.infer_vector(train_corpus[i].words)\n",
    "    x.append(inferred_vector)\n",
    "    if (train_sites[i] =='nlin.CG') or (train_sites[i] == \"none\"):\n",
    "        z = 'math'\n",
    "    else:\n",
    "        z = topicdict[train_sites[i]]\n",
    "    if z == 'math':\n",
    "        c[i] = 1\n",
    "    elif z == 'Physics':\n",
    "        c[i] = 2\n",
    "    elif z == 'bio':\n",
    "        c[i]= 3\n",
    "    elif z == 'finance':\n",
    "        c[i]= 4\n",
    "    elif z == 'compsci':\n",
    "        c[i]= 5\n",
    "    #i = i+1"
   ]
  },
  {
   "cell_type": "code",
   "execution_count": null,
   "metadata": {
    "collapsed": false,
    "deletable": true,
    "editable": true
   },
   "outputs": [],
   "source": [
    "w = np.array(x)"
   ]
  },
  {
   "cell_type": "code",
   "execution_count": null,
   "metadata": {
    "collapsed": false,
    "deletable": true,
    "editable": true
   },
   "outputs": [],
   "source": [
    "RS =20150101\n",
    "w_embedded = TSNE(random_state=RS).fit_transform(w)"
   ]
  },
  {
   "cell_type": "code",
   "execution_count": null,
   "metadata": {
    "collapsed": false,
    "deletable": true,
    "editable": true
   },
   "outputs": [],
   "source": [
    " w_embedded.shape"
   ]
  },
  {
   "cell_type": "code",
   "execution_count": null,
   "metadata": {
    "collapsed": false,
    "deletable": true,
    "editable": true
   },
   "outputs": [],
   "source": [
    "plt.figure(figsize=(8,6))\n",
    "plt.scatter(w_embedded[:,0], w_embedded[:,1], c = c)\n",
    "plt.colorbar()\n",
    "plt.grid"
   ]
  },
  {
   "cell_type": "markdown",
   "metadata": {},
   "source": [
    "The most intresting thing in the above visualization is the two clusters of physics documents (2.0 on the color spectrum.) but the others are spread around.  \n"
   ]
  },
  {
   "cell_type": "markdown",
   "metadata": {},
   "source": [
    "## Now repeat the process looking only at Physics papers."
   ]
  },
  {
   "cell_type": "code",
   "execution_count": 30,
   "metadata": {
    "collapsed": true
   },
   "outputs": [],
   "source": [
    "phy_subject, phy_loadset, phy_subtopics = read_config(\"phy\", \"./\")"
   ]
  },
  {
   "cell_type": "code",
   "execution_count": 33,
   "metadata": {
    "collapsed": true
   },
   "outputs": [],
   "source": [
    "phy_topics = [x[0] for x in phy_subtopics]\n",
    "phy_topics\n",
    "indexlist = phy_topics[0:7]"
   ]
  },
  {
   "cell_type": "code",
   "execution_count": 34,
   "metadata": {
    "collapsed": true
   },
   "outputs": [],
   "source": [
    "phy_topicdict = make_topic_dict(phy_subtopics)\n",
    "phy_topicdict['cond-mat.dis-nn'] = 'Cond Matter' # a small fix.   this one was left out of the phy.json list"
   ]
  },
  {
   "cell_type": "code",
   "execution_count": 37,
   "metadata": {
    "collapsed": false
   },
   "outputs": [],
   "source": [
    "phy_abstracts = []\n",
    "phy_sites = []\n",
    "phy_titles = []\n",
    "for i in range(7108):\n",
    "    if sites[i] != 'none' and sites[i] != 'nlin.CG'  and topicdict[sites[i]] == 'Physics' and phy_topicdict[sites[i]] != 'other-phy':\n",
    "        phy_sites.append(sites[i])\n",
    "        phy_titles.append(titles[i])\n",
    "        phy_abstracts.append(bstracts[i])"
   ]
  },
  {
   "cell_type": "code",
   "execution_count": 39,
   "metadata": {
    "collapsed": false
   },
   "outputs": [
    {
     "data": {
      "text/plain": [
       "794"
      ]
     },
     "execution_count": 39,
     "metadata": {},
     "output_type": "execute_result"
    }
   ],
   "source": [
    "my_list = range(len(phy_titles))\n",
    "phy_train_set = random.sample(my_list, 2000)\n",
    "phy_test_set = set(my_list)-set(phy_train_set)\n",
    "phy_test_set = list(phy_test_set)\n",
    "len(phy_test_set)"
   ]
  },
  {
   "cell_type": "code",
   "execution_count": 40,
   "metadata": {
    "collapsed": true
   },
   "outputs": [],
   "source": [
    "phy_test_abstracts = []\n",
    "phy_test_titles = []\n",
    "phy_test_sites = []\n",
    "for i in phy_test_set:\n",
    "    phy_test_abstracts.append(phy_abstracts[i])\n",
    "    phy_test_titles.append(phy_titles[i])\n",
    "    phy_test_sites.append(phy_sites[i])\n",
    "phy_train_abstracts = []\n",
    "phy_train_titles = []\n",
    "phy_train_sites = []\n",
    "for i in phy_train_set:\n",
    "    phy_train_abstracts.append(phy_abstracts[i])\n",
    "    phy_train_titles.append(phy_titles[i])\n",
    "    phy_train_sites.append(phy_sites[i])"
   ]
  },
  {
   "cell_type": "code",
   "execution_count": 41,
   "metadata": {
    "collapsed": true
   },
   "outputs": [],
   "source": [
    "with open(\"phy_sciml_train\", 'wb') as f:\n",
    "    for abs in phy_train_abstracts:\n",
    "        f.write(abs+ \"\\n\")\n",
    "with open(\"phy_sciml_test\", 'wb') as f:\n",
    "    for abs in phy_test_abstracts:\n",
    "        f.write(abs+ \"\\n\")"
   ]
  },
  {
   "cell_type": "code",
   "execution_count": 42,
   "metadata": {
    "collapsed": true
   },
   "outputs": [],
   "source": [
    "phy_train = []\n",
    "for i in range(len(phy_train_sites)):\n",
    "    phy_train.append([phy_train_titles[i], phy_train_sites[i], phy_train_abstracts[i]])\n",
    "    "
   ]
  },
  {
   "cell_type": "code",
   "execution_count": 43,
   "metadata": {
    "collapsed": false
   },
   "outputs": [
    {
     "data": {
      "text/plain": [
       "'physics.flu-dyn'"
      ]
     },
     "execution_count": 43,
     "metadata": {},
     "output_type": "execute_result"
    }
   ],
   "source": [
    "phy_train[0][1]"
   ]
  },
  {
   "cell_type": "code",
   "execution_count": 44,
   "metadata": {
    "collapsed": true
   },
   "outputs": [],
   "source": [
    "pickle.dump( phy_train, open( \"phy_train.p\", \"wb\" ) )"
   ]
  },
  {
   "cell_type": "code",
   "execution_count": 45,
   "metadata": {
    "collapsed": true
   },
   "outputs": [],
   "source": [
    "phy_train_corpus = list(read_corpus(\"phy_sciml_train\"))\n",
    "phy_test_corpus = list(read_corpus(\"phy_sciml_test\", tokens_only=True))"
   ]
  },
  {
   "cell_type": "code",
   "execution_count": 46,
   "metadata": {
    "collapsed": true
   },
   "outputs": [],
   "source": [
    "phy_model = gensim.models.doc2vec.Doc2Vec(size=50, min_count=2, iter=55)\n",
    "phy_model.build_vocab(phy_train_corpus)"
   ]
  },
  {
   "cell_type": "code",
   "execution_count": 47,
   "metadata": {
    "collapsed": false
   },
   "outputs": [
    {
     "name": "stdout",
     "output_type": "stream",
     "text": [
      "CPU times: user 55.3 s, sys: 4.47 s, total: 59.8 s\n",
      "Wall time: 28.1 s\n"
     ]
    },
    {
     "data": {
      "text/plain": [
       "13491944"
      ]
     },
     "execution_count": 47,
     "metadata": {},
     "output_type": "execute_result"
    }
   ],
   "source": [
    "%time phy_model.train(phy_train_corpus, total_examples=phy_model.corpus_count, epochs=phy_model.iter)"
   ]
  },
  {
   "cell_type": "code",
   "execution_count": 48,
   "metadata": {
    "collapsed": false
   },
   "outputs": [
    {
     "name": "stdout",
     "output_type": "stream",
     "text": [
      "the train other list\n",
      "{u'ed-physics': 162.0, u'Cond Matter': 145.0, u'GenRelQGr': 444.0, u'Astro': 734.0, u'quantum': 79.0, 'other': 0.0, u'MathPh': 141.0, u'high eng': 295.0}\n",
      "0\n",
      "the test other list\n",
      "{u'ed-physics': 57.0, u'Cond Matter': 55.0, u'GenRelQGr': 173.0, u'Astro': 315.0, u'quantum': 26.0, 'other': 0.0, u'MathPh': 53.0, u'high eng': 115.0}\n",
      "0\n"
     ]
    }
   ],
   "source": [
    "train_doc_count =  {x: 0.0 for x in indexlist}\n",
    "train_doc_list =  {x: [] for x in indexlist}\n",
    "test_doc_list =  {x: [] for x in indexlist}\n",
    "train_doc_count['other'] = 0.0\n",
    "train_otherlist = []\n",
    "for i in range(len(phy_train_sites)):\n",
    "    try:\n",
    "        train_doc_count[phy_topicdict[phy_train_sites[i]]]+=1\n",
    "        train_doc_list[phy_topicdict[phy_train_sites[i]]].append(i)\n",
    "    except:\n",
    "        train_doc_count['other']+=1\n",
    "        train_otherlist.append(i)\n",
    "print \"the train other list\"\n",
    "print train_doc_count\n",
    "print len(train_otherlist)\n",
    "\n",
    "test_doc_count =  {x: 0.0 for x in indexlist}\n",
    "test_doc_count['other'] = 0.0\n",
    "test_otherlist = []\n",
    "for i in range(len(phy_test_sites)):\n",
    "    try:\n",
    "        test_doc_count[phy_topicdict[phy_test_sites[i]]]+=1\n",
    "        test_doc_list[phy_topicdict[phy_train_sites[i]]].append(i)\n",
    "    except:\n",
    "        test_doc_count['other']+=1\n",
    "        test_otherlist.append(i)\n",
    "print \"the test other list\"\n",
    "print test_doc_count\n",
    "print len(test_otherlist)\n",
    "gotest = set(test_otherlist)\n",
    "gotrain = set(train_otherlist)"
   ]
  },
  {
   "cell_type": "code",
   "execution_count": 49,
   "metadata": {
    "collapsed": false
   },
   "outputs": [
    {
     "name": "stdout",
     "output_type": "stream",
     "text": [
      "Astro  288\n",
      "GenRelQGr  166\n",
      "Cond Matter  58\n",
      "high eng  115\n",
      "MathPh  62\n",
      "quantum  35\n",
      "ed-physics  70\n"
     ]
    }
   ],
   "source": [
    "for x in indexlist:\n",
    "    print x +  \"  \"+str(len(test_doc_list[x]))"
   ]
  },
  {
   "cell_type": "markdown",
   "metadata": {},
   "source": [
    "This is the test using the doc2vec version of the classifier"
   ]
  },
  {
   "cell_type": "code",
   "execution_count": 105,
   "metadata": {
    "collapsed": false
   },
   "outputs": [
    {
     "name": "stdout",
     "output_type": "stream",
     "text": [
      "[u'Astro', u'GenRelQGr', u'Cond Matter', u'high eng', u'MathPh', u'quantum', u'ed-physics']\n",
      "gotother =0\n",
      "none =343\n",
      "clasified fraction = 0.568010075567 true pos rate = 0.660753880266\n"
     ]
    },
    {
     "data": {
      "text/html": [
       "<div>\n",
       "<table border=\"1\" class=\"dataframe\">\n",
       "  <thead>\n",
       "    <tr style=\"text-align: right;\">\n",
       "      <th></th>\n",
       "      <th>Astro</th>\n",
       "      <th>GenRelQGr</th>\n",
       "      <th>Cond Matter</th>\n",
       "      <th>high eng</th>\n",
       "      <th>MathPh</th>\n",
       "      <th>quantum</th>\n",
       "      <th>ed-physics</th>\n",
       "    </tr>\n",
       "  </thead>\n",
       "  <tbody>\n",
       "    <tr>\n",
       "      <th>Astro</th>\n",
       "      <td>89.0</td>\n",
       "      <td>5.0</td>\n",
       "      <td>2.0</td>\n",
       "      <td>2.0</td>\n",
       "      <td>0.0</td>\n",
       "      <td>0.0</td>\n",
       "      <td>3.0</td>\n",
       "    </tr>\n",
       "    <tr>\n",
       "      <th>GenRelQGr</th>\n",
       "      <td>18.0</td>\n",
       "      <td>64.0</td>\n",
       "      <td>0.0</td>\n",
       "      <td>12.0</td>\n",
       "      <td>4.0</td>\n",
       "      <td>1.0</td>\n",
       "      <td>1.0</td>\n",
       "    </tr>\n",
       "    <tr>\n",
       "      <th>Cond Matter</th>\n",
       "      <td>8.0</td>\n",
       "      <td>20.0</td>\n",
       "      <td>40.0</td>\n",
       "      <td>16.0</td>\n",
       "      <td>0.0</td>\n",
       "      <td>16.0</td>\n",
       "      <td>0.0</td>\n",
       "    </tr>\n",
       "    <tr>\n",
       "      <th>high eng</th>\n",
       "      <td>6.0</td>\n",
       "      <td>45.0</td>\n",
       "      <td>5.0</td>\n",
       "      <td>34.0</td>\n",
       "      <td>3.0</td>\n",
       "      <td>6.0</td>\n",
       "      <td>2.0</td>\n",
       "    </tr>\n",
       "    <tr>\n",
       "      <th>MathPh</th>\n",
       "      <td>0.0</td>\n",
       "      <td>31.0</td>\n",
       "      <td>28.0</td>\n",
       "      <td>7.0</td>\n",
       "      <td>28.0</td>\n",
       "      <td>3.0</td>\n",
       "      <td>3.0</td>\n",
       "    </tr>\n",
       "    <tr>\n",
       "      <th>quantum</th>\n",
       "      <td>0.0</td>\n",
       "      <td>18.0</td>\n",
       "      <td>9.0</td>\n",
       "      <td>18.0</td>\n",
       "      <td>9.0</td>\n",
       "      <td>45.0</td>\n",
       "      <td>0.0</td>\n",
       "    </tr>\n",
       "    <tr>\n",
       "      <th>ed-physics</th>\n",
       "      <td>0.0</td>\n",
       "      <td>2.0</td>\n",
       "      <td>10.0</td>\n",
       "      <td>7.0</td>\n",
       "      <td>0.0</td>\n",
       "      <td>5.0</td>\n",
       "      <td>76.0</td>\n",
       "    </tr>\n",
       "  </tbody>\n",
       "</table>\n",
       "</div>"
      ],
      "text/plain": [
       "             Astro  GenRelQGr  Cond Matter  high eng  MathPh  quantum  \\\n",
       "Astro         89.0        5.0          2.0       2.0     0.0      0.0   \n",
       "GenRelQGr     18.0       64.0          0.0      12.0     4.0      1.0   \n",
       "Cond Matter    8.0       20.0         40.0      16.0     0.0     16.0   \n",
       "high eng       6.0       45.0          5.0      34.0     3.0      6.0   \n",
       "MathPh         0.0       31.0         28.0       7.0    28.0      3.0   \n",
       "quantum        0.0       18.0          9.0      18.0     9.0     45.0   \n",
       "ed-physics     0.0        2.0         10.0       7.0     0.0      5.0   \n",
       "\n",
       "             ed-physics  \n",
       "Astro               3.0  \n",
       "GenRelQGr           1.0  \n",
       "Cond Matter         0.0  \n",
       "high eng            2.0  \n",
       "MathPh              3.0  \n",
       "quantum             0.0  \n",
       "ed-physics         76.0  "
      ]
     },
     "execution_count": 105,
     "metadata": {},
     "output_type": "execute_result"
    }
   ],
   "source": [
    "indexlist = phy_topics[0:7]\n",
    "print indexlist\n",
    "rate = 0.60 #[0.60, 0.625, 0.65, 0.675, 0.70, 0.725, 0.750, 0.775, 0.80]\n",
    "dftest ,posrate, classified, gotnonelist, gototherlist= test_model(rate, phy_model, phy_topicdict, phy_test_corpus, phy_test_sites, phy_train_corpus, phy_train_sites, indexlist)\n",
    "dftest"
   ]
  },
  {
   "cell_type": "code",
   "execution_count": 50,
   "metadata": {
    "collapsed": false
   },
   "outputs": [
    {
     "name": "stdout",
     "output_type": "stream",
     "text": [
      "for rate 0.6\n",
      "gotother =0\n",
      "none =345\n",
      "clasified fraction = 0.565491183879 true pos rate = 0.650334075724\n",
      "for rate 0.625\n",
      "gotother =0\n",
      "none =470\n",
      "clasified fraction = 0.408060453401 true pos rate = 0.697530864198\n",
      "for rate 0.65\n",
      "gotother =0\n",
      "none =586\n",
      "clasified fraction = 0.261964735516 true pos rate = 0.701923076923\n",
      "for rate 0.675\n",
      "gotother =0\n",
      "none =648\n",
      "clasified fraction = 0.183879093199 true pos rate = 0.780821917808\n",
      "for rate 0.7\n",
      "gotother =0\n",
      "none =694\n",
      "clasified fraction = 0.125944584383 true pos rate = 0.85\n",
      "for rate 0.725\n",
      "gotother =0\n",
      "none =715\n",
      "clasified fraction = 0.0994962216625 true pos rate = 0.911392405063\n",
      "for rate 0.75\n",
      "gotother =0\n",
      "none =726\n",
      "clasified fraction = 0.0856423173804 true pos rate = 0.941176470588\n",
      "for rate 0.775\n",
      "gotother =0\n",
      "none =730\n",
      "clasified fraction = 0.080604534005 true pos rate = 1.0\n",
      "for rate 0.8\n",
      "gotother =0\n",
      "none =733\n",
      "clasified fraction = 0.0768261964736 true pos rate = 1.0\n"
     ]
    },
    {
     "data": {
      "text/html": [
       "<div>\n",
       "<table border=\"1\" class=\"dataframe\">\n",
       "  <thead>\n",
       "    <tr style=\"text-align: right;\">\n",
       "      <th></th>\n",
       "      <th>Astro</th>\n",
       "      <th>GenRelQGr</th>\n",
       "      <th>Cond Matter</th>\n",
       "      <th>high eng</th>\n",
       "      <th>MathPh</th>\n",
       "      <th>quantum</th>\n",
       "      <th>ed-physics</th>\n",
       "    </tr>\n",
       "  </thead>\n",
       "  <tbody>\n",
       "    <tr>\n",
       "      <th>Astro</th>\n",
       "      <td>100.0</td>\n",
       "      <td>0.0</td>\n",
       "      <td>0.0</td>\n",
       "      <td>0.0</td>\n",
       "      <td>0.0</td>\n",
       "      <td>0.0</td>\n",
       "      <td>0.0</td>\n",
       "    </tr>\n",
       "    <tr>\n",
       "      <th>GenRelQGr</th>\n",
       "      <td>0.0</td>\n",
       "      <td>100.0</td>\n",
       "      <td>0.0</td>\n",
       "      <td>0.0</td>\n",
       "      <td>0.0</td>\n",
       "      <td>0.0</td>\n",
       "      <td>0.0</td>\n",
       "    </tr>\n",
       "    <tr>\n",
       "      <th>Cond Matter</th>\n",
       "      <td>0.0</td>\n",
       "      <td>0.0</td>\n",
       "      <td>100.0</td>\n",
       "      <td>0.0</td>\n",
       "      <td>0.0</td>\n",
       "      <td>0.0</td>\n",
       "      <td>0.0</td>\n",
       "    </tr>\n",
       "    <tr>\n",
       "      <th>high eng</th>\n",
       "      <td>0.0</td>\n",
       "      <td>0.0</td>\n",
       "      <td>0.0</td>\n",
       "      <td>100.0</td>\n",
       "      <td>0.0</td>\n",
       "      <td>0.0</td>\n",
       "      <td>0.0</td>\n",
       "    </tr>\n",
       "    <tr>\n",
       "      <th>MathPh</th>\n",
       "      <td>0.0</td>\n",
       "      <td>0.0</td>\n",
       "      <td>0.0</td>\n",
       "      <td>0.0</td>\n",
       "      <td>100.0</td>\n",
       "      <td>0.0</td>\n",
       "      <td>0.0</td>\n",
       "    </tr>\n",
       "    <tr>\n",
       "      <th>quantum</th>\n",
       "      <td>0.0</td>\n",
       "      <td>0.0</td>\n",
       "      <td>0.0</td>\n",
       "      <td>0.0</td>\n",
       "      <td>0.0</td>\n",
       "      <td>100.0</td>\n",
       "      <td>0.0</td>\n",
       "    </tr>\n",
       "    <tr>\n",
       "      <th>ed-physics</th>\n",
       "      <td>0.0</td>\n",
       "      <td>0.0</td>\n",
       "      <td>0.0</td>\n",
       "      <td>0.0</td>\n",
       "      <td>0.0</td>\n",
       "      <td>0.0</td>\n",
       "      <td>100.0</td>\n",
       "    </tr>\n",
       "  </tbody>\n",
       "</table>\n",
       "</div>"
      ],
      "text/plain": [
       "             Astro  GenRelQGr  Cond Matter  high eng  MathPh  quantum  \\\n",
       "Astro        100.0        0.0          0.0       0.0     0.0      0.0   \n",
       "GenRelQGr      0.0      100.0          0.0       0.0     0.0      0.0   \n",
       "Cond Matter    0.0        0.0        100.0       0.0     0.0      0.0   \n",
       "high eng       0.0        0.0          0.0     100.0     0.0      0.0   \n",
       "MathPh         0.0        0.0          0.0       0.0   100.0      0.0   \n",
       "quantum        0.0        0.0          0.0       0.0     0.0    100.0   \n",
       "ed-physics     0.0        0.0          0.0       0.0     0.0      0.0   \n",
       "\n",
       "             ed-physics  \n",
       "Astro               0.0  \n",
       "GenRelQGr           0.0  \n",
       "Cond Matter         0.0  \n",
       "high eng            0.0  \n",
       "MathPh              0.0  \n",
       "quantum             0.0  \n",
       "ed-physics        100.0  "
      ]
     },
     "execution_count": 50,
     "metadata": {},
     "output_type": "execute_result"
    }
   ],
   "source": [
    "indexlist = phy_topics[0:7]\n",
    "rates = [0.60, 0.625, 0.65, 0.675, 0.70, 0.725, 0.750, 0.775, 0.80]\n",
    "posrate = np.zeros((len(rates)), dtype=float)\n",
    "classified = np.zeros((len(rates)), dtype=float)\n",
    "for i in range(len(rates)):\n",
    "    print (\"for rate \"+str(rates[i]))\n",
    "    dftest ,posrate[i], classified[i], gotnonelist, gototherlist= test_model(rates[i], phy_model, phy_topicdict, phy_test_corpus, phy_test_sites, phy_train_corpus, phy_train_sites, indexlist)\n",
    "dftest"
   ]
  },
  {
   "cell_type": "code",
   "execution_count": 51,
   "metadata": {
    "collapsed": false
   },
   "outputs": [
    {
     "data": {
      "image/png": "[encoded data removed]",
      "text/plain": [
       "<matplotlib.figure.Figure at 0x7f4f69e813d0>"
      ]
     },
     "metadata": {},
     "output_type": "display_data"
    }
   ],
   "source": [
    "ax = plt.subplot(111)\n",
    "\n",
    "t = rates\n",
    "s = classified\n",
    "u = posrate\n",
    "cline, = plt.plot(t, s, lw=2)\n",
    "pline, = plt.plot(t, u, lw=2)\n",
    "\n",
    "#plt.ylim(-2,2)\n",
    "plt.show()"
   ]
  },
  {
   "cell_type": "code",
   "execution_count": 52,
   "metadata": {
    "collapsed": false
   },
   "outputs": [
    {
     "name": "stdout",
     "output_type": "stream",
     "text": [
      "61\n"
     ]
    }
   ],
   "source": [
    "none_test = gotnonelist\n",
    "print len(phy_test_sites)-len(none_test)"
   ]
  },
  {
   "cell_type": "code",
   "execution_count": 53,
   "metadata": {
    "collapsed": false
   },
   "outputs": [
    {
     "name": "stdout",
     "output_type": "stream",
     "text": [
      "0\n",
      "0\n"
     ]
    }
   ],
   "source": [
    "print len(test_otherlist)\n",
    "i = 0\n",
    "for x in gotnonelist:\n",
    "    if x in gotest:\n",
    "        i = i+1\n",
    "print i"
   ]
  },
  {
   "cell_type": "markdown",
   "metadata": {},
   "source": [
    "Note that we see Astro physics is pretty easly identified, but General Relativity and high engery physics are easily confused.\n",
    "We noted this fact on all of our previous classification experiments.   Also not that almost half (634) of the test set failed to \n",
    "have a document within the 0.65 range.\n"
   ]
  },
  {
   "cell_type": "code",
   "execution_count": 54,
   "metadata": {
    "collapsed": false
   },
   "outputs": [
    {
     "name": "stdout",
     "output_type": "stream",
     "text": [
      "for rate 0.6\n",
      "gotother =0\n",
      "none =0\n",
      "clasified fraction = 1.0 true pos rate = 0.7915\n",
      "for rate 0.625\n",
      "gotother =0\n",
      "none =0\n",
      "clasified fraction = 1.0 true pos rate = 0.848\n",
      "for rate 0.65\n",
      "gotother =0\n",
      "none =0\n",
      "clasified fraction = 1.0 true pos rate = 0.9075\n",
      "for rate 0.675\n",
      "gotother =0\n",
      "none =2\n",
      "clasified fraction = 0.999 true pos rate = 0.96046046046\n",
      "for rate 0.7\n",
      "gotother =0\n",
      "none =3\n",
      "clasified fraction = 0.9985 true pos rate = 0.978467701552\n",
      "for rate 0.725\n",
      "gotother =0\n",
      "none =22\n",
      "clasified fraction = 0.989 true pos rate = 0.988877654196\n",
      "for rate 0.75\n",
      "gotother =0\n",
      "none =38\n",
      "clasified fraction = 0.981 true pos rate = 0.998980632008\n",
      "for rate 0.775\n",
      "gotother =0\n",
      "none =83\n",
      "clasified fraction = 0.9585 true pos rate = 0.999478351591\n",
      "for rate 0.8\n",
      "gotother =0\n",
      "none =192\n",
      "clasified fraction = 0.904 true pos rate = 1.0\n"
     ]
    },
    {
     "data": {
      "text/html": [
       "<div>\n",
       "<table border=\"1\" class=\"dataframe\">\n",
       "  <thead>\n",
       "    <tr style=\"text-align: right;\">\n",
       "      <th></th>\n",
       "      <th>Astro</th>\n",
       "      <th>GenRelQGr</th>\n",
       "      <th>Cond Matter</th>\n",
       "      <th>high eng</th>\n",
       "      <th>MathPh</th>\n",
       "      <th>quantum</th>\n",
       "      <th>ed-physics</th>\n",
       "    </tr>\n",
       "  </thead>\n",
       "  <tbody>\n",
       "    <tr>\n",
       "      <th>Astro</th>\n",
       "      <td>100.0</td>\n",
       "      <td>0.0</td>\n",
       "      <td>0.0</td>\n",
       "      <td>0.0</td>\n",
       "      <td>0.0</td>\n",
       "      <td>0.0</td>\n",
       "      <td>0.0</td>\n",
       "    </tr>\n",
       "    <tr>\n",
       "      <th>GenRelQGr</th>\n",
       "      <td>0.0</td>\n",
       "      <td>100.0</td>\n",
       "      <td>0.0</td>\n",
       "      <td>0.0</td>\n",
       "      <td>0.0</td>\n",
       "      <td>0.0</td>\n",
       "      <td>0.0</td>\n",
       "    </tr>\n",
       "    <tr>\n",
       "      <th>Cond Matter</th>\n",
       "      <td>0.0</td>\n",
       "      <td>0.0</td>\n",
       "      <td>100.0</td>\n",
       "      <td>0.0</td>\n",
       "      <td>0.0</td>\n",
       "      <td>0.0</td>\n",
       "      <td>0.0</td>\n",
       "    </tr>\n",
       "    <tr>\n",
       "      <th>high eng</th>\n",
       "      <td>0.0</td>\n",
       "      <td>0.0</td>\n",
       "      <td>0.0</td>\n",
       "      <td>100.0</td>\n",
       "      <td>0.0</td>\n",
       "      <td>0.0</td>\n",
       "      <td>0.0</td>\n",
       "    </tr>\n",
       "    <tr>\n",
       "      <th>MathPh</th>\n",
       "      <td>0.0</td>\n",
       "      <td>0.0</td>\n",
       "      <td>0.0</td>\n",
       "      <td>0.0</td>\n",
       "      <td>100.0</td>\n",
       "      <td>0.0</td>\n",
       "      <td>0.0</td>\n",
       "    </tr>\n",
       "    <tr>\n",
       "      <th>quantum</th>\n",
       "      <td>0.0</td>\n",
       "      <td>0.0</td>\n",
       "      <td>0.0</td>\n",
       "      <td>0.0</td>\n",
       "      <td>0.0</td>\n",
       "      <td>100.0</td>\n",
       "      <td>0.0</td>\n",
       "    </tr>\n",
       "    <tr>\n",
       "      <th>ed-physics</th>\n",
       "      <td>0.0</td>\n",
       "      <td>0.0</td>\n",
       "      <td>0.0</td>\n",
       "      <td>0.0</td>\n",
       "      <td>0.0</td>\n",
       "      <td>0.0</td>\n",
       "      <td>100.0</td>\n",
       "    </tr>\n",
       "  </tbody>\n",
       "</table>\n",
       "</div>"
      ],
      "text/plain": [
       "             Astro  GenRelQGr  Cond Matter  high eng  MathPh  quantum  \\\n",
       "Astro        100.0        0.0          0.0       0.0     0.0      0.0   \n",
       "GenRelQGr      0.0      100.0          0.0       0.0     0.0      0.0   \n",
       "Cond Matter    0.0        0.0        100.0       0.0     0.0      0.0   \n",
       "high eng       0.0        0.0          0.0     100.0     0.0      0.0   \n",
       "MathPh         0.0        0.0          0.0       0.0   100.0      0.0   \n",
       "quantum        0.0        0.0          0.0       0.0     0.0    100.0   \n",
       "ed-physics     0.0        0.0          0.0       0.0     0.0      0.0   \n",
       "\n",
       "             ed-physics  \n",
       "Astro               0.0  \n",
       "GenRelQGr           0.0  \n",
       "Cond Matter         0.0  \n",
       "high eng            0.0  \n",
       "MathPh              0.0  \n",
       "quantum             0.0  \n",
       "ed-physics        100.0  "
      ]
     },
     "execution_count": 54,
     "metadata": {},
     "output_type": "execute_result"
    }
   ],
   "source": [
    "indexlist = phy_topics[0:7]\n",
    "rates = [0.60, 0.625, 0.65, 0.675, 0.70, 0.725, 0.750, 0.775, 0.80]\n",
    "posrate = np.zeros((len(rates)), dtype=float)\n",
    "classified = np.zeros((len(rates)), dtype=float)\n",
    "for i in range(len(rates)):\n",
    "    print (\"for rate \"+str(rates[i]))\n",
    "    dftest ,posrate[i], classified[i], gotnonelist, gototherlist= test_model(rates[i], phy_model, phy_topicdict, phy_train_corpus, phy_train_sites, phy_train_corpus, phy_train_sites, indexlist)\n",
    "dftest"
   ]
  },
  {
   "cell_type": "code",
   "execution_count": 55,
   "metadata": {
    "collapsed": false
   },
   "outputs": [
    {
     "data": {
      "image/png": "[encoded data removed]",
      "text/plain": [
       "<matplotlib.figure.Figure at 0x7f4f6851af90>"
      ]
     },
     "metadata": {},
     "output_type": "display_data"
    }
   ],
   "source": [
    "x = plt.subplot(111)\n",
    "\n",
    "t = rates\n",
    "s = classified\n",
    "u = posrate\n",
    "cline, = plt.plot(t, s, lw=2)\n",
    "pline, = plt.plot(t, u, lw=2)\n",
    "\n",
    "#plt.ylim(-2,2)\n",
    "plt.show()"
   ]
  },
  {
   "cell_type": "code",
   "execution_count": 56,
   "metadata": {
    "collapsed": false
   },
   "outputs": [
    {
     "data": {
      "text/plain": [
       "2000"
      ]
     },
     "execution_count": 56,
     "metadata": {},
     "output_type": "execute_result"
    }
   ],
   "source": [
    "len(phy_train_corpus)"
   ]
  },
  {
   "cell_type": "code",
   "execution_count": 58,
   "metadata": {
    "collapsed": false
   },
   "outputs": [],
   "source": [
    "N = 1999\n",
    "c = np.array([0]*N)\n",
    "x = []\n",
    "i =0\n",
    "for i in range(N):  #range(len(train_corpus)):\n",
    "    inferred_vector = phy_model.infer_vector(phy_train_corpus[i].words)\n",
    "    x.append(inferred_vector)\n",
    "    if (phy_train_sites[i] =='nlin.CG') or (phy_train_sites[i] == \"none\"):\n",
    "        z = 'ed-physics'\n",
    "    else:\n",
    "        z = phy_topicdict[phy_train_sites[i]]\n",
    "    #print z\n",
    "    for j in range(len(indexlist)):\n",
    "        if z == indexlist[j]:\n",
    "            c[i] = j\n",
    "cold = c"
   ]
  },
  {
   "cell_type": "code",
   "execution_count": 59,
   "metadata": {
    "collapsed": false
   },
   "outputs": [
    {
     "data": {
      "text/plain": [
       "(1999, 2)"
      ]
     },
     "execution_count": 59,
     "metadata": {},
     "output_type": "execute_result"
    }
   ],
   "source": [
    "w = np.array(x)\n",
    "RS =20150101\n",
    "w_embedded = TSNE(random_state=RS).fit_transform(w)\n",
    "w_embedded.shape"
   ]
  },
  {
   "cell_type": "code",
   "execution_count": 60,
   "metadata": {
    "collapsed": false
   },
   "outputs": [
    {
     "data": {
      "text/plain": [
       "<function matplotlib.pyplot.grid>"
      ]
     },
     "execution_count": 60,
     "metadata": {},
     "output_type": "execute_result"
    },
    {
     "data": {
      "image/png": "[encoded data removed]",
      "text/plain": [
       "<matplotlib.figure.Figure at 0x7f4f6c99b290>"
      ]
     },
     "metadata": {},
     "output_type": "display_data"
    }
   ],
   "source": [
    "plt.figure(figsize=(8,6))\n",
    "plt.scatter(w_embedded[:,0], w_embedded[:,1], c = c)\n",
    "plt.colorbar()\n",
    "plt.grid"
   ]
  },
  {
   "cell_type": "markdown",
   "metadata": {
    "deletable": true,
    "editable": true
   },
   "source": [
    "Again the only thing interesting here is the way astrophysics is a clear cluster.  everything else is spread around."
   ]
  },
  {
   "cell_type": "code",
   "execution_count": 61,
   "metadata": {
    "collapsed": false
   },
   "outputs": [],
   "source": [
    "from sklearn import svm\n",
    "from sklearn.ensemble import RandomForestClassifier, AdaBoostClassifier\n",
    "from sklearn.neural_network import MLPClassifier\n",
    "from sklearn.feature_extraction.text import CountVectorizer\n",
    "from sklearn.feature_extraction.text import TfidfTransformer\n",
    "from sklearn.ensemble import RandomForestClassifier\n"
   ]
  },
  {
   "cell_type": "code",
   "execution_count": 62,
   "metadata": {
    "collapsed": true
   },
   "outputs": [],
   "source": [
    "a = phy_model.docvecs"
   ]
  },
  {
   "cell_type": "code",
   "execution_count": 63,
   "metadata": {
    "collapsed": false
   },
   "outputs": [
    {
     "data": {
      "text/plain": [
       "array([ 0.70089364, -0.21496131,  0.65399545, -0.39224419, -0.34866181,\n",
       "        0.70728356,  0.2870945 , -1.62007761, -0.48366401, -0.07942587,\n",
       "       -0.18353277,  0.57799125,  0.50682646, -0.41240433,  1.71568525,\n",
       "        0.92046624, -3.00247812,  0.04818186, -1.70467103,  0.80643272,\n",
       "        0.39295381,  0.3874512 ,  0.1995682 ,  0.95303643,  0.73628443,\n",
       "        1.05776429, -0.53782409, -0.30147108, -0.5901292 , -1.12162769,\n",
       "        0.58742917,  1.47967505,  0.6383273 , -0.69966573,  0.3252596 ,\n",
       "       -0.40519831,  0.36379787,  0.96413183,  0.2047082 , -0.99923462,\n",
       "        0.37271392, -0.74735063,  0.49446741,  0.42120898,  0.17047584,\n",
       "       -0.82198519,  0.35625628,  0.15148826,  0.32985136, -1.03670192], dtype=float32)"
      ]
     },
     "execution_count": 63,
     "metadata": {},
     "output_type": "execute_result"
    }
   ],
   "source": [
    "a[0]"
   ]
  },
  {
   "cell_type": "code",
   "execution_count": 64,
   "metadata": {
    "collapsed": false
   },
   "outputs": [],
   "source": [
    "m = a.doctag_syn0"
   ]
  },
  {
   "cell_type": "code",
   "execution_count": 65,
   "metadata": {
    "collapsed": false
   },
   "outputs": [],
   "source": [
    "sims = a.most_similar(155)"
   ]
  },
  {
   "cell_type": "code",
   "execution_count": 66,
   "metadata": {
    "collapsed": false
   },
   "outputs": [
    {
     "data": {
      "text/plain": [
       "[(670, 0.7162301540374756),\n",
       " (628, 0.7089747190475464),\n",
       " (1660, 0.6939022541046143),\n",
       " (1450, 0.6767436265945435),\n",
       " (1264, 0.6635294556617737),\n",
       " (1747, 0.6436527967453003),\n",
       " (664, 0.6330532431602478),\n",
       " (864, 0.6087887287139893),\n",
       " (47, 0.6056168675422668),\n",
       " (969, 0.6041465997695923)]"
      ]
     },
     "execution_count": 66,
     "metadata": {},
     "output_type": "execute_result"
    }
   ],
   "source": [
    "sims"
   ]
  },
  {
   "cell_type": "code",
   "execution_count": 67,
   "metadata": {
    "collapsed": false
   },
   "outputs": [
    {
     "data": {
      "text/plain": [
       "u'Weak lensing induced by second-order vector mode [astro-ph.CO]'"
      ]
     },
     "execution_count": 67,
     "metadata": {},
     "output_type": "execute_result"
    }
   ],
   "source": [
    "phy_train_titles[155]"
   ]
  },
  {
   "cell_type": "code",
   "execution_count": 68,
   "metadata": {
    "collapsed": false
   },
   "outputs": [
    {
     "data": {
      "text/plain": [
       "[u'Searching for Features of a String Inspired Inflationary Model with   Cosmological Observations [astro-ph.CO]',\n",
       " u'Searching for Features of a String Inspired Inflationary Model with   Cosmological Observations [astro-ph.CO]',\n",
       " u'Gauge Invariant Cosmological Perturbations in Teleparallel Gravity [gr-qc]',\n",
       " u'On the coupling of vector fields to the Gauss-Bonnet invariant [gr-qc]',\n",
       " u'Dark energy and non-linear power spectrum [astro-ph.CO]',\n",
       " u'Bubble Expansion and the Viability of Singlet-Driven Electroweak   Baryogenesis [hep-ph]',\n",
       " u'Parity-violating CMB correlators with non-decaying statistical   anisotropy [astro-ph.CO]',\n",
       " u'Fine Tuning May Not Be Enough [astro-ph.CO]',\n",
       " u'Removing Ostrogradski&#x27;s ghost from cosmological perturbations in   $f(R,R_{\\\\mu\\\\nu}^2,C_{\\\\mu\\\\nu\\\\rho\\\\sigma}^2)$ gravity [gr-qc]',\n",
       " u'Inflationary Magnetogenesis in $R^{2}$-Inflation after Planck 2015 [astro-ph.CO]']"
      ]
     },
     "execution_count": 68,
     "metadata": {},
     "output_type": "execute_result"
    }
   ],
   "source": [
    "[phy_train_titles[x[0]] for x in sims]"
   ]
  },
  {
   "cell_type": "code",
   "execution_count": 69,
   "metadata": {
    "collapsed": false
   },
   "outputs": [],
   "source": [
    "#!pip install xgboost"
   ]
  },
  {
   "cell_type": "code",
   "execution_count": 70,
   "metadata": {
    "collapsed": false
   },
   "outputs": [
    {
     "name": "stderr",
     "output_type": "stream",
     "text": [
      "/opt/conda/envs/python2/lib/python2.7/site-packages/sklearn/cross_validation.py:44: DeprecationWarning: This module was deprecated in version 0.18 in favor of the model_selection module into which all the refactored classes and functions are moved. Also note that the interface of the new CV iterators are different from that of this module. This module will be removed in 0.20.\n",
      "  \"This module will be removed in 0.20.\", DeprecationWarning)\n"
     ]
    }
   ],
   "source": [
    "import xgboost as xgb\n",
    "from sklearn.neighbors import KNeighborsClassifier"
   ]
  },
  {
   "cell_type": "code",
   "execution_count": 71,
   "metadata": {
    "collapsed": false
   },
   "outputs": [
    {
     "data": {
      "text/plain": [
       "RandomForestClassifier(bootstrap=True, class_weight=None, criterion='gini',\n",
       "            max_depth=None, max_features='auto', max_leaf_nodes=None,\n",
       "            min_impurity_split=1e-07, min_samples_leaf=1,\n",
       "            min_samples_split=2, min_weight_fraction_leaf=0.0,\n",
       "            n_estimators=100, n_jobs=1, oob_score=False, random_state=None,\n",
       "            verbose=0, warm_start=False)"
      ]
     },
     "execution_count": 71,
     "metadata": {},
     "output_type": "execute_result"
    }
   ],
   "source": [
    "#classifier = svm.SVC(gamma=0.1)\n",
    "#classifier = RandomForestClassifier(n_estimators = 100)\n",
    "#classifier = MLPClassifier(hidden_layer_sizes=(1000,), epsilon=1e-10, tol=0.000001,max_iter=1000)\n",
    "#classifier = KNeighborsClassifier(p = 3)\n",
    "count_vect = CountVectorizer()\n",
    "training_set_data = np.array(phy_train_abstracts)\n",
    "X_train_counts = count_vect.fit_transform(training_set_data)\n",
    "tfidf_transformer = TfidfTransformer()\n",
    "X_train_tfidf = tfidf_transformer.fit_transform(X_train_counts)\n",
    "classifier = RandomForestClassifier(n_estimators = 100)\n",
    "N = len(phy_train_sites)\n",
    "target = np.array([0]*N)\n",
    "for i in range(len(phy_train_sites)):\n",
    "    z= phy_topicdict[phy_train_sites[i]]\n",
    "    for j in range(len(indexlist)):\n",
    "        if z == indexlist[j]:\n",
    "            target[i] = j    \n",
    "classifier.fit(X_train_tfidf, target)\n"
   ]
  },
  {
   "cell_type": "code",
   "execution_count": 72,
   "metadata": {
    "collapsed": false
   },
   "outputs": [
    {
     "data": {
      "text/plain": [
       "(2000, 15568)"
      ]
     },
     "execution_count": 72,
     "metadata": {},
     "output_type": "execute_result"
    }
   ],
   "source": [
    "X_train_tfidf.shape"
   ]
  },
  {
   "cell_type": "code",
   "execution_count": 73,
   "metadata": {
    "collapsed": false
   },
   "outputs": [
    {
     "data": {
      "text/plain": [
       "<1x15568 sparse matrix of type '<type 'numpy.float64'>'\n",
       "\twith 151 stored elements in Compressed Sparse Row format>"
      ]
     },
     "execution_count": 73,
     "metadata": {},
     "output_type": "execute_result"
    }
   ],
   "source": [
    "X_train_tfidf[20]"
   ]
  },
  {
   "cell_type": "code",
   "execution_count": 74,
   "metadata": {
    "collapsed": false
   },
   "outputs": [],
   "source": [
    "predicted = classifier.predict(X_train_tfidf)"
   ]
  },
  {
   "cell_type": "code",
   "execution_count": 75,
   "metadata": {
    "collapsed": false
   },
   "outputs": [
    {
     "name": "stdout",
     "output_type": "stream",
     "text": [
      "2000\n"
     ]
    },
    {
     "data": {
      "text/plain": [
       "array([1, 3, 6, 0, 0, 0, 0, 4, 0, 0])"
      ]
     },
     "execution_count": 75,
     "metadata": {},
     "output_type": "execute_result"
    }
   ],
   "source": [
    "print len(predicted)\n",
    "predicted[20:30]"
   ]
  },
  {
   "cell_type": "code",
   "execution_count": 76,
   "metadata": {
    "collapsed": false
   },
   "outputs": [
    {
     "name": "stdout",
     "output_type": "stream",
     "text": [
      "1999\n"
     ]
    },
    {
     "data": {
      "text/plain": [
       "array([4, 6, 0, ..., 0, 4, 2])"
      ]
     },
     "execution_count": 76,
     "metadata": {},
     "output_type": "execute_result"
    }
   ],
   "source": [
    "print len(cold)\n",
    "cold[:-10]"
   ]
  },
  {
   "cell_type": "code",
   "execution_count": 77,
   "metadata": {
    "collapsed": false
   },
   "outputs": [],
   "source": [
    "v = len(indexlist)\n",
    "zer = np.zeros((v,v), dtype=float)\n",
    "df = pd.DataFrame(zer, index = indexlist, columns=indexlist)\n",
    "gotnone = 0\n",
    "gotother = 0\n",
    "N = len(phy_train_sites)\n",
    "c = np.array([0]*N)\n",
    "for i in range(len(phy_train_sites)):\n",
    "    z= phy_topicdict[phy_train_sites[i]]\n",
    "    for j in range(len(indexlist)):\n",
    "        if z == indexlist[j]:\n",
    "            c[i] = j\n",
    "            \n",
    "for i in range(len(phy_train_sites)):\n",
    "    try:\n",
    "        x = indexlist[c[i]]\n",
    "        y = indexlist[predicted[i]]\n",
    "        df[y][x]+= 1\n",
    "    except:\n",
    "        gotnone +=1\n",
    "tot = 0\n",
    "for top in indexlist:\n",
    "    tot += df[top]\n",
    "for top in indexlist:\n",
    "    df[top] = np.round(100*df[top]/tot, decimals= 0)\n"
   ]
  },
  {
   "cell_type": "code",
   "execution_count": 78,
   "metadata": {
    "collapsed": false
   },
   "outputs": [
    {
     "data": {
      "text/html": [
       "<div>\n",
       "<table border=\"1\" class=\"dataframe\">\n",
       "  <thead>\n",
       "    <tr style=\"text-align: right;\">\n",
       "      <th></th>\n",
       "      <th>Astro</th>\n",
       "      <th>GenRelQGr</th>\n",
       "      <th>Cond Matter</th>\n",
       "      <th>high eng</th>\n",
       "      <th>MathPh</th>\n",
       "      <th>quantum</th>\n",
       "      <th>ed-physics</th>\n",
       "    </tr>\n",
       "  </thead>\n",
       "  <tbody>\n",
       "    <tr>\n",
       "      <th>Astro</th>\n",
       "      <td>100.0</td>\n",
       "      <td>0.0</td>\n",
       "      <td>0.0</td>\n",
       "      <td>0.0</td>\n",
       "      <td>0.0</td>\n",
       "      <td>0.0</td>\n",
       "      <td>0.0</td>\n",
       "    </tr>\n",
       "    <tr>\n",
       "      <th>GenRelQGr</th>\n",
       "      <td>0.0</td>\n",
       "      <td>100.0</td>\n",
       "      <td>0.0</td>\n",
       "      <td>0.0</td>\n",
       "      <td>0.0</td>\n",
       "      <td>0.0</td>\n",
       "      <td>0.0</td>\n",
       "    </tr>\n",
       "    <tr>\n",
       "      <th>Cond Matter</th>\n",
       "      <td>0.0</td>\n",
       "      <td>0.0</td>\n",
       "      <td>100.0</td>\n",
       "      <td>0.0</td>\n",
       "      <td>0.0</td>\n",
       "      <td>0.0</td>\n",
       "      <td>0.0</td>\n",
       "    </tr>\n",
       "    <tr>\n",
       "      <th>high eng</th>\n",
       "      <td>0.0</td>\n",
       "      <td>0.0</td>\n",
       "      <td>0.0</td>\n",
       "      <td>100.0</td>\n",
       "      <td>0.0</td>\n",
       "      <td>0.0</td>\n",
       "      <td>0.0</td>\n",
       "    </tr>\n",
       "    <tr>\n",
       "      <th>MathPh</th>\n",
       "      <td>0.0</td>\n",
       "      <td>0.0</td>\n",
       "      <td>0.0</td>\n",
       "      <td>0.0</td>\n",
       "      <td>100.0</td>\n",
       "      <td>0.0</td>\n",
       "      <td>0.0</td>\n",
       "    </tr>\n",
       "    <tr>\n",
       "      <th>quantum</th>\n",
       "      <td>0.0</td>\n",
       "      <td>0.0</td>\n",
       "      <td>0.0</td>\n",
       "      <td>0.0</td>\n",
       "      <td>0.0</td>\n",
       "      <td>100.0</td>\n",
       "      <td>0.0</td>\n",
       "    </tr>\n",
       "    <tr>\n",
       "      <th>ed-physics</th>\n",
       "      <td>0.0</td>\n",
       "      <td>0.0</td>\n",
       "      <td>0.0</td>\n",
       "      <td>0.0</td>\n",
       "      <td>0.0</td>\n",
       "      <td>0.0</td>\n",
       "      <td>100.0</td>\n",
       "    </tr>\n",
       "  </tbody>\n",
       "</table>\n",
       "</div>"
      ],
      "text/plain": [
       "             Astro  GenRelQGr  Cond Matter  high eng  MathPh  quantum  \\\n",
       "Astro        100.0        0.0          0.0       0.0     0.0      0.0   \n",
       "GenRelQGr      0.0      100.0          0.0       0.0     0.0      0.0   \n",
       "Cond Matter    0.0        0.0        100.0       0.0     0.0      0.0   \n",
       "high eng       0.0        0.0          0.0     100.0     0.0      0.0   \n",
       "MathPh         0.0        0.0          0.0       0.0   100.0      0.0   \n",
       "quantum        0.0        0.0          0.0       0.0     0.0    100.0   \n",
       "ed-physics     0.0        0.0          0.0       0.0     0.0      0.0   \n",
       "\n",
       "             ed-physics  \n",
       "Astro               0.0  \n",
       "GenRelQGr           0.0  \n",
       "Cond Matter         0.0  \n",
       "high eng            0.0  \n",
       "MathPh              0.0  \n",
       "quantum             0.0  \n",
       "ed-physics        100.0  "
      ]
     },
     "execution_count": 78,
     "metadata": {},
     "output_type": "execute_result"
    }
   ],
   "source": [
    "df"
   ]
  },
  {
   "cell_type": "code",
   "execution_count": 79,
   "metadata": {
    "collapsed": false
   },
   "outputs": [
    {
     "data": {
      "text/plain": [
       "0"
      ]
     },
     "execution_count": 79,
     "metadata": {},
     "output_type": "execute_result"
    }
   ],
   "source": [
    "gotnone"
   ]
  },
  {
   "cell_type": "code",
   "execution_count": 80,
   "metadata": {
    "collapsed": false
   },
   "outputs": [],
   "source": [
    "test_set_data = np.array(phy_test_abstracts)\n",
    "X_test_counts = count_vect.transform(phy_test_abstracts)\n",
    "X_test_tfidf = tfidf_transformer.transform(X_test_counts)\n",
    "N = len(phy_test_sites)\n",
    "c = np.array([0]*N)\n",
    "for i in range(len(phy_test_sites)):\n",
    "    z= phy_topicdict[phy_test_sites[i]]\n",
    "    for j in range(len(indexlist)):\n",
    "        if z == indexlist[j]:\n",
    "            c[i] = j    \n",
    "    "
   ]
  },
  {
   "cell_type": "code",
   "execution_count": 81,
   "metadata": {
    "collapsed": false
   },
   "outputs": [
    {
     "name": "stdout",
     "output_type": "stream",
     "text": [
      "794\n",
      "(794, 15568)\n"
     ]
    }
   ],
   "source": [
    "print len(c)\n",
    "print X_test_tfidf.shape"
   ]
  },
  {
   "cell_type": "code",
   "execution_count": 82,
   "metadata": {
    "collapsed": false
   },
   "outputs": [
    {
     "data": {
      "text/plain": [
       "794"
      ]
     },
     "execution_count": 82,
     "metadata": {},
     "output_type": "execute_result"
    }
   ],
   "source": [
    "predicted = classifier.predict(X_test_tfidf)\n",
    "len(predicted)"
   ]
  },
  {
   "cell_type": "code",
   "execution_count": 83,
   "metadata": {
    "collapsed": false
   },
   "outputs": [
    {
     "name": "stdout",
     "output_type": "stream",
     "text": [
      "             Astro  GenRelQGr  Cond Matter  high eng  MathPh  quantum  \\\n",
      "Astro        299.0       16.0          0.0       0.0     0.0      0.0   \n",
      "GenRelQGr     16.0      155.0          0.0       2.0     0.0      0.0   \n",
      "Cond Matter   31.0       15.0          7.0       1.0     0.0      0.0   \n",
      "high eng      34.0       52.0          0.0      28.0     0.0      1.0   \n",
      "MathPh        17.0       25.0          1.0       2.0     7.0      0.0   \n",
      "quantum        4.0       10.0          0.0       3.0     0.0      7.0   \n",
      "ed-physics    28.0        6.0          0.0       1.0     0.0      0.0   \n",
      "\n",
      "             ed-physics  \n",
      "Astro               0.0  \n",
      "GenRelQGr           0.0  \n",
      "Cond Matter         1.0  \n",
      "high eng            0.0  \n",
      "MathPh              1.0  \n",
      "quantum             2.0  \n",
      "ed-physics         22.0  \n"
     ]
    },
    {
     "data": {
      "text/html": [
       "<div>\n",
       "<table border=\"1\" class=\"dataframe\">\n",
       "  <thead>\n",
       "    <tr style=\"text-align: right;\">\n",
       "      <th></th>\n",
       "      <th>Astro</th>\n",
       "      <th>GenRelQGr</th>\n",
       "      <th>Cond Matter</th>\n",
       "      <th>high eng</th>\n",
       "      <th>MathPh</th>\n",
       "      <th>quantum</th>\n",
       "      <th>ed-physics</th>\n",
       "    </tr>\n",
       "  </thead>\n",
       "  <tbody>\n",
       "    <tr>\n",
       "      <th>Astro</th>\n",
       "      <td>95.0</td>\n",
       "      <td>5.0</td>\n",
       "      <td>0.0</td>\n",
       "      <td>0.0</td>\n",
       "      <td>0.0</td>\n",
       "      <td>0.0</td>\n",
       "      <td>0.0</td>\n",
       "    </tr>\n",
       "    <tr>\n",
       "      <th>GenRelQGr</th>\n",
       "      <td>9.0</td>\n",
       "      <td>90.0</td>\n",
       "      <td>0.0</td>\n",
       "      <td>1.0</td>\n",
       "      <td>0.0</td>\n",
       "      <td>0.0</td>\n",
       "      <td>0.0</td>\n",
       "    </tr>\n",
       "    <tr>\n",
       "      <th>Cond Matter</th>\n",
       "      <td>56.0</td>\n",
       "      <td>27.0</td>\n",
       "      <td>13.0</td>\n",
       "      <td>2.0</td>\n",
       "      <td>0.0</td>\n",
       "      <td>0.0</td>\n",
       "      <td>2.0</td>\n",
       "    </tr>\n",
       "    <tr>\n",
       "      <th>high eng</th>\n",
       "      <td>30.0</td>\n",
       "      <td>45.0</td>\n",
       "      <td>0.0</td>\n",
       "      <td>24.0</td>\n",
       "      <td>0.0</td>\n",
       "      <td>1.0</td>\n",
       "      <td>0.0</td>\n",
       "    </tr>\n",
       "    <tr>\n",
       "      <th>MathPh</th>\n",
       "      <td>32.0</td>\n",
       "      <td>47.0</td>\n",
       "      <td>2.0</td>\n",
       "      <td>4.0</td>\n",
       "      <td>13.0</td>\n",
       "      <td>0.0</td>\n",
       "      <td>2.0</td>\n",
       "    </tr>\n",
       "    <tr>\n",
       "      <th>quantum</th>\n",
       "      <td>15.0</td>\n",
       "      <td>38.0</td>\n",
       "      <td>0.0</td>\n",
       "      <td>12.0</td>\n",
       "      <td>0.0</td>\n",
       "      <td>27.0</td>\n",
       "      <td>8.0</td>\n",
       "    </tr>\n",
       "    <tr>\n",
       "      <th>ed-physics</th>\n",
       "      <td>49.0</td>\n",
       "      <td>11.0</td>\n",
       "      <td>0.0</td>\n",
       "      <td>2.0</td>\n",
       "      <td>0.0</td>\n",
       "      <td>0.0</td>\n",
       "      <td>39.0</td>\n",
       "    </tr>\n",
       "  </tbody>\n",
       "</table>\n",
       "</div>"
      ],
      "text/plain": [
       "             Astro  GenRelQGr  Cond Matter  high eng  MathPh  quantum  \\\n",
       "Astro         95.0        5.0          0.0       0.0     0.0      0.0   \n",
       "GenRelQGr      9.0       90.0          0.0       1.0     0.0      0.0   \n",
       "Cond Matter   56.0       27.0         13.0       2.0     0.0      0.0   \n",
       "high eng      30.0       45.0          0.0      24.0     0.0      1.0   \n",
       "MathPh        32.0       47.0          2.0       4.0    13.0      0.0   \n",
       "quantum       15.0       38.0          0.0      12.0     0.0     27.0   \n",
       "ed-physics    49.0       11.0          0.0       2.0     0.0      0.0   \n",
       "\n",
       "             ed-physics  \n",
       "Astro               0.0  \n",
       "GenRelQGr           0.0  \n",
       "Cond Matter         2.0  \n",
       "high eng            0.0  \n",
       "MathPh              2.0  \n",
       "quantum             8.0  \n",
       "ed-physics         39.0  "
      ]
     },
     "execution_count": 83,
     "metadata": {},
     "output_type": "execute_result"
    }
   ],
   "source": [
    "v = len(indexlist)\n",
    "zer = np.zeros((v,v), dtype=float)\n",
    "df = pd.DataFrame(zer, index = indexlist, columns=indexlist)\n",
    "gotnone = 0\n",
    "gotother = 0\n",
    "N = len(phy_test_sites)\n",
    "c = np.array([0]*N)\n",
    "for i in range(len(phy_test_sites)):\n",
    "    z= phy_topicdict[phy_test_sites[i]]\n",
    "    for j in range(len(indexlist)):\n",
    "        if z == indexlist[j]:\n",
    "            c[i] = j\n",
    "\n",
    "for i in range(1114):\n",
    "    #if (i not in gotest) and (i not in gntest):\n",
    "    try:\n",
    "        x = indexlist[c[i]]\n",
    "        y = indexlist[predicted[i]]\n",
    "        df[y][x]+= 1\n",
    "    except:\n",
    "        gotnone +=1\n",
    "tot = 0\n",
    "#remove most of the Astro cases\n",
    "print df\n",
    "for top in indexlist:\n",
    "    tot += df[top]\n",
    "for top in indexlist:\n",
    "    df[top] = np.round(100*df[top]/tot, decimals= 0)\n",
    "df"
   ]
  },
  {
   "cell_type": "code",
   "execution_count": 84,
   "metadata": {
    "collapsed": false
   },
   "outputs": [
    {
     "data": {
      "text/plain": [
       "320"
      ]
     },
     "execution_count": 84,
     "metadata": {},
     "output_type": "execute_result"
    }
   ],
   "source": [
    "gotnone"
   ]
  },
  {
   "cell_type": "code",
   "execution_count": 85,
   "metadata": {
    "collapsed": true
   },
   "outputs": [],
   "source": [
    "from predictor import predictor"
   ]
  },
  {
   "cell_type": "code",
   "execution_count": 86,
   "metadata": {
    "collapsed": false
   },
   "outputs": [
    {
     "name": "stdout",
     "output_type": "stream",
     "text": [
      "init done\n"
     ]
    }
   ],
   "source": [
    "pred = predictor()"
   ]
  },
  {
   "cell_type": "markdown",
   "metadata": {},
   "source": [
    "predict returns:  randomforest, best, sencondbest, centroid, true"
   ]
  },
  {
   "cell_type": "code",
   "execution_count": 87,
   "metadata": {
    "collapsed": false
   },
   "outputs": [
    {
     "data": {
      "text/plain": [
       "(u'GenRelQGr', u'GenRelQGr', u'GenRelQGr', u'GenRelQGr', u'GenRelQGr')"
      ]
     },
     "execution_count": 87,
     "metadata": {},
     "output_type": "execute_result"
    }
   ],
   "source": [
    "pred.predict(phy_train_abstracts[13], phy_train_sites[13])"
   ]
  },
  {
   "cell_type": "code",
   "execution_count": 88,
   "metadata": {
    "collapsed": false
   },
   "outputs": [
    {
     "data": {
      "text/html": [
       "<div>\n",
       "<table border=\"1\" class=\"dataframe\">\n",
       "  <thead>\n",
       "    <tr style=\"text-align: right;\">\n",
       "      <th></th>\n",
       "      <th>Astro</th>\n",
       "      <th>GenRelQGr</th>\n",
       "      <th>Cond Matter</th>\n",
       "      <th>high eng</th>\n",
       "      <th>MathPh</th>\n",
       "      <th>quantum</th>\n",
       "      <th>ed-physics</th>\n",
       "    </tr>\n",
       "  </thead>\n",
       "  <tbody>\n",
       "    <tr>\n",
       "      <th>Astro</th>\n",
       "      <td>94.0</td>\n",
       "      <td>3.0</td>\n",
       "      <td>1.0</td>\n",
       "      <td>1.0</td>\n",
       "      <td>1.0</td>\n",
       "      <td>0.0</td>\n",
       "      <td>0.0</td>\n",
       "    </tr>\n",
       "    <tr>\n",
       "      <th>GenRelQGr</th>\n",
       "      <td>5.0</td>\n",
       "      <td>86.0</td>\n",
       "      <td>0.0</td>\n",
       "      <td>5.0</td>\n",
       "      <td>2.0</td>\n",
       "      <td>2.0</td>\n",
       "      <td>0.0</td>\n",
       "    </tr>\n",
       "    <tr>\n",
       "      <th>Cond Matter</th>\n",
       "      <td>5.0</td>\n",
       "      <td>6.0</td>\n",
       "      <td>70.0</td>\n",
       "      <td>3.0</td>\n",
       "      <td>6.0</td>\n",
       "      <td>6.0</td>\n",
       "      <td>5.0</td>\n",
       "    </tr>\n",
       "    <tr>\n",
       "      <th>high eng</th>\n",
       "      <td>6.0</td>\n",
       "      <td>14.0</td>\n",
       "      <td>2.0</td>\n",
       "      <td>72.0</td>\n",
       "      <td>2.0</td>\n",
       "      <td>3.0</td>\n",
       "      <td>1.0</td>\n",
       "    </tr>\n",
       "    <tr>\n",
       "      <th>MathPh</th>\n",
       "      <td>4.0</td>\n",
       "      <td>4.0</td>\n",
       "      <td>5.0</td>\n",
       "      <td>9.0</td>\n",
       "      <td>74.0</td>\n",
       "      <td>2.0</td>\n",
       "      <td>2.0</td>\n",
       "    </tr>\n",
       "    <tr>\n",
       "      <th>quantum</th>\n",
       "      <td>4.0</td>\n",
       "      <td>5.0</td>\n",
       "      <td>1.0</td>\n",
       "      <td>6.0</td>\n",
       "      <td>9.0</td>\n",
       "      <td>72.0</td>\n",
       "      <td>3.0</td>\n",
       "    </tr>\n",
       "    <tr>\n",
       "      <th>ed-physics</th>\n",
       "      <td>1.0</td>\n",
       "      <td>3.0</td>\n",
       "      <td>4.0</td>\n",
       "      <td>3.0</td>\n",
       "      <td>5.0</td>\n",
       "      <td>2.0</td>\n",
       "      <td>82.0</td>\n",
       "    </tr>\n",
       "  </tbody>\n",
       "</table>\n",
       "</div>"
      ],
      "text/plain": [
       "             Astro  GenRelQGr  Cond Matter  high eng  MathPh  quantum  \\\n",
       "Astro         94.0        3.0          1.0       1.0     1.0      0.0   \n",
       "GenRelQGr      5.0       86.0          0.0       5.0     2.0      2.0   \n",
       "Cond Matter    5.0        6.0         70.0       3.0     6.0      6.0   \n",
       "high eng       6.0       14.0          2.0      72.0     2.0      3.0   \n",
       "MathPh         4.0        4.0          5.0       9.0    74.0      2.0   \n",
       "quantum        4.0        5.0          1.0       6.0     9.0     72.0   \n",
       "ed-physics     1.0        3.0          4.0       3.0     5.0      2.0   \n",
       "\n",
       "             ed-physics  \n",
       "Astro               0.0  \n",
       "GenRelQGr           0.0  \n",
       "Cond Matter         5.0  \n",
       "high eng            1.0  \n",
       "MathPh              2.0  \n",
       "quantum             3.0  \n",
       "ed-physics         82.0  "
      ]
     },
     "execution_count": 88,
     "metadata": {},
     "output_type": "execute_result"
    }
   ],
   "source": [
    "v = len(indexlist)\n",
    "zer = np.zeros((v,v), dtype=float)\n",
    "dfp = pd.DataFrame(zer, index = indexlist, columns=indexlist)\n",
    "c = np.array([0]*len(phy_train_sites))\n",
    "\n",
    "gotnone = 0\n",
    "gotother = 0\n",
    "for i in range(len(phy_train_sites)):       \n",
    "    z = phy_topicdict[phy_train_sites[i]]\n",
    "    for j in range(len(indexlist)):\n",
    "        if z == indexlist[j]:\n",
    "            c[i] = j\n",
    "\n",
    "for i in range(len(phy_train_abstracts)):\n",
    "    if (i not in gotrain): \n",
    "        x = indexlist[c[i]]\n",
    "        p = pred.predict(phy_train_abstracts[i], phy_train_sites[i])\n",
    "        #print p\n",
    "        for j in range(len(indexlist)):\n",
    "            if p[1] == indexlist[j]:\n",
    "                pr = j\n",
    "        y = indexlist[pr]\n",
    "        dfp[y][x]+= 1\n",
    "tot = 0\n",
    "for top in indexlist:\n",
    "    tot += dfp[top]\n",
    "for top in indexlist:\n",
    "    dfp[top] = np.round(100*dfp[top]/tot, decimals= 0)\n",
    "dfp"
   ]
  },
  {
   "cell_type": "code",
   "execution_count": 91,
   "metadata": {
    "collapsed": false
   },
   "outputs": [],
   "source": [
    "gotestl = []\n",
    "for i in range(len(phy_test_sites)):\n",
    "    if phy_topicdict[phy_test_sites[i]] == 'other-phy':\n",
    "        gotestl.append(i)\n",
    "gotest = set(gotestl)"
   ]
  },
  {
   "cell_type": "code",
   "execution_count": null,
   "metadata": {
    "collapsed": false
   },
   "outputs": [],
   "source": []
  },
  {
   "cell_type": "code",
   "execution_count": 99,
   "metadata": {
    "collapsed": false
   },
   "outputs": [
    {
     "data": {
      "text/html": [
       "<div>\n",
       "<table border=\"1\" class=\"dataframe\">\n",
       "  <thead>\n",
       "    <tr style=\"text-align: right;\">\n",
       "      <th></th>\n",
       "      <th>Astro</th>\n",
       "      <th>GenRelQGr</th>\n",
       "      <th>Cond Matter</th>\n",
       "      <th>high eng</th>\n",
       "      <th>MathPh</th>\n",
       "      <th>quantum</th>\n",
       "      <th>ed-physics</th>\n",
       "    </tr>\n",
       "  </thead>\n",
       "  <tbody>\n",
       "    <tr>\n",
       "      <th>Astro</th>\n",
       "      <td>90.0</td>\n",
       "      <td>3.0</td>\n",
       "      <td>1.0</td>\n",
       "      <td>3.0</td>\n",
       "      <td>1.0</td>\n",
       "      <td>1.0</td>\n",
       "      <td>1.0</td>\n",
       "    </tr>\n",
       "    <tr>\n",
       "      <th>GenRelQGr</th>\n",
       "      <td>5.0</td>\n",
       "      <td>83.0</td>\n",
       "      <td>1.0</td>\n",
       "      <td>8.0</td>\n",
       "      <td>1.0</td>\n",
       "      <td>2.0</td>\n",
       "      <td>1.0</td>\n",
       "    </tr>\n",
       "    <tr>\n",
       "      <th>Cond Matter</th>\n",
       "      <td>11.0</td>\n",
       "      <td>5.0</td>\n",
       "      <td>73.0</td>\n",
       "      <td>7.0</td>\n",
       "      <td>2.0</td>\n",
       "      <td>0.0</td>\n",
       "      <td>2.0</td>\n",
       "    </tr>\n",
       "    <tr>\n",
       "      <th>high eng</th>\n",
       "      <td>7.0</td>\n",
       "      <td>11.0</td>\n",
       "      <td>1.0</td>\n",
       "      <td>77.0</td>\n",
       "      <td>0.0</td>\n",
       "      <td>2.0</td>\n",
       "      <td>2.0</td>\n",
       "    </tr>\n",
       "    <tr>\n",
       "      <th>MathPh</th>\n",
       "      <td>2.0</td>\n",
       "      <td>6.0</td>\n",
       "      <td>6.0</td>\n",
       "      <td>9.0</td>\n",
       "      <td>74.0</td>\n",
       "      <td>2.0</td>\n",
       "      <td>2.0</td>\n",
       "    </tr>\n",
       "    <tr>\n",
       "      <th>quantum</th>\n",
       "      <td>0.0</td>\n",
       "      <td>4.0</td>\n",
       "      <td>4.0</td>\n",
       "      <td>4.0</td>\n",
       "      <td>0.0</td>\n",
       "      <td>77.0</td>\n",
       "      <td>12.0</td>\n",
       "    </tr>\n",
       "    <tr>\n",
       "      <th>ed-physics</th>\n",
       "      <td>4.0</td>\n",
       "      <td>2.0</td>\n",
       "      <td>0.0</td>\n",
       "      <td>2.0</td>\n",
       "      <td>2.0</td>\n",
       "      <td>0.0</td>\n",
       "      <td>91.0</td>\n",
       "    </tr>\n",
       "  </tbody>\n",
       "</table>\n",
       "</div>"
      ],
      "text/plain": [
       "             Astro  GenRelQGr  Cond Matter  high eng  MathPh  quantum  \\\n",
       "Astro         90.0        3.0          1.0       3.0     1.0      1.0   \n",
       "GenRelQGr      5.0       83.0          1.0       8.0     1.0      2.0   \n",
       "Cond Matter   11.0        5.0         73.0       7.0     2.0      0.0   \n",
       "high eng       7.0       11.0          1.0      77.0     0.0      2.0   \n",
       "MathPh         2.0        6.0          6.0       9.0    74.0      2.0   \n",
       "quantum        0.0        4.0          4.0       4.0     0.0     77.0   \n",
       "ed-physics     4.0        2.0          0.0       2.0     2.0      0.0   \n",
       "\n",
       "             ed-physics  \n",
       "Astro               1.0  \n",
       "GenRelQGr           1.0  \n",
       "Cond Matter         2.0  \n",
       "high eng            2.0  \n",
       "MathPh              2.0  \n",
       "quantum            12.0  \n",
       "ed-physics         91.0  "
      ]
     },
     "execution_count": 99,
     "metadata": {},
     "output_type": "execute_result"
    }
   ],
   "source": [
    "v = len(indexlist)\n",
    "zer = np.zeros((v,v), dtype=float)\n",
    "dfpt = pd.DataFrame(zer, index = indexlist, columns=indexlist)\n",
    "c = np.array([0]*len(phy_test_sites))\n",
    "\n",
    "gotnone = 0\n",
    "gotother = 0\n",
    "for i in range(len(phy_test_sites)):       \n",
    "    z = phy_topicdict[phy_test_sites[i]]\n",
    "    for j in range(len(indexlist)):\n",
    "        if z == indexlist[j]:\n",
    "            c[i] = j\n",
    "\n",
    "for i in range(len(phy_test_abstracts)):\n",
    "    if (i not in gotest): # and (i not in gntest):\n",
    "        x = indexlist[c[i]]\n",
    "        p = pred.predict(phy_test_abstracts[i], phy_test_sites[i])\n",
    "        #print p\n",
    "        for j in range(len(indexlist)):\n",
    "            if p[1] == indexlist[j]:\n",
    "                pr = j\n",
    "        y = indexlist[pr]\n",
    "        dfpt[y][x]+= 1\n",
    "#print(dfpt)\n",
    "tot = 0\n",
    "for top in indexlist:\n",
    "    tot += dfpt[top]\n",
    "for top in indexlist:\n",
    "    dfpt[top] = np.round(100*dfpt[top]/tot, decimals= 0)\n",
    "dfpt"
   ]
  },
  {
   "cell_type": "code",
   "execution_count": 95,
   "metadata": {
    "collapsed": false
   },
   "outputs": [
    {
     "name": "stdout",
     "output_type": "stream",
     "text": [
      "2000\n"
     ]
    }
   ],
   "source": [
    "print len(phy_train_abstracts)"
   ]
  },
  {
   "cell_type": "markdown",
   "metadata": {},
   "source": [
    "now do it again with random forest"
   ]
  },
  {
   "cell_type": "code",
   "execution_count": 97,
   "metadata": {
    "collapsed": false
   },
   "outputs": [
    {
     "data": {
      "text/html": [
       "<div>\n",
       "<table border=\"1\" class=\"dataframe\">\n",
       "  <thead>\n",
       "    <tr style=\"text-align: right;\">\n",
       "      <th></th>\n",
       "      <th>Astro</th>\n",
       "      <th>GenRelQGr</th>\n",
       "      <th>Cond Matter</th>\n",
       "      <th>high eng</th>\n",
       "      <th>MathPh</th>\n",
       "      <th>quantum</th>\n",
       "      <th>ed-physics</th>\n",
       "    </tr>\n",
       "  </thead>\n",
       "  <tbody>\n",
       "    <tr>\n",
       "      <th>Astro</th>\n",
       "      <td>95.0</td>\n",
       "      <td>4.0</td>\n",
       "      <td>0.0</td>\n",
       "      <td>0.0</td>\n",
       "      <td>0.0</td>\n",
       "      <td>0.0</td>\n",
       "      <td>0.0</td>\n",
       "    </tr>\n",
       "    <tr>\n",
       "      <th>GenRelQGr</th>\n",
       "      <td>5.0</td>\n",
       "      <td>95.0</td>\n",
       "      <td>0.0</td>\n",
       "      <td>0.0</td>\n",
       "      <td>1.0</td>\n",
       "      <td>0.0</td>\n",
       "      <td>0.0</td>\n",
       "    </tr>\n",
       "    <tr>\n",
       "      <th>Cond Matter</th>\n",
       "      <td>31.0</td>\n",
       "      <td>9.0</td>\n",
       "      <td>58.0</td>\n",
       "      <td>2.0</td>\n",
       "      <td>0.0</td>\n",
       "      <td>0.0</td>\n",
       "      <td>0.0</td>\n",
       "    </tr>\n",
       "    <tr>\n",
       "      <th>high eng</th>\n",
       "      <td>10.0</td>\n",
       "      <td>28.0</td>\n",
       "      <td>0.0</td>\n",
       "      <td>60.0</td>\n",
       "      <td>1.0</td>\n",
       "      <td>1.0</td>\n",
       "      <td>0.0</td>\n",
       "    </tr>\n",
       "    <tr>\n",
       "      <th>MathPh</th>\n",
       "      <td>9.0</td>\n",
       "      <td>19.0</td>\n",
       "      <td>0.0</td>\n",
       "      <td>4.0</td>\n",
       "      <td>66.0</td>\n",
       "      <td>0.0</td>\n",
       "      <td>2.0</td>\n",
       "    </tr>\n",
       "    <tr>\n",
       "      <th>quantum</th>\n",
       "      <td>0.0</td>\n",
       "      <td>8.0</td>\n",
       "      <td>0.0</td>\n",
       "      <td>8.0</td>\n",
       "      <td>0.0</td>\n",
       "      <td>81.0</td>\n",
       "      <td>4.0</td>\n",
       "    </tr>\n",
       "    <tr>\n",
       "      <th>ed-physics</th>\n",
       "      <td>12.0</td>\n",
       "      <td>4.0</td>\n",
       "      <td>2.0</td>\n",
       "      <td>2.0</td>\n",
       "      <td>2.0</td>\n",
       "      <td>0.0</td>\n",
       "      <td>79.0</td>\n",
       "    </tr>\n",
       "  </tbody>\n",
       "</table>\n",
       "</div>"
      ],
      "text/plain": [
       "             Astro  GenRelQGr  Cond Matter  high eng  MathPh  quantum  \\\n",
       "Astro         95.0        4.0          0.0       0.0     0.0      0.0   \n",
       "GenRelQGr      5.0       95.0          0.0       0.0     1.0      0.0   \n",
       "Cond Matter   31.0        9.0         58.0       2.0     0.0      0.0   \n",
       "high eng      10.0       28.0          0.0      60.0     1.0      1.0   \n",
       "MathPh         9.0       19.0          0.0       4.0    66.0      0.0   \n",
       "quantum        0.0        8.0          0.0       8.0     0.0     81.0   \n",
       "ed-physics    12.0        4.0          2.0       2.0     2.0      0.0   \n",
       "\n",
       "             ed-physics  \n",
       "Astro               0.0  \n",
       "GenRelQGr           0.0  \n",
       "Cond Matter         0.0  \n",
       "high eng            0.0  \n",
       "MathPh              2.0  \n",
       "quantum             4.0  \n",
       "ed-physics         79.0  "
      ]
     },
     "execution_count": 97,
     "metadata": {},
     "output_type": "execute_result"
    }
   ],
   "source": [
    "v = len(indexlist)\n",
    "zer = np.zeros((v,v), dtype=float)\n",
    "dfpt = pd.DataFrame(zer, index = indexlist, columns=indexlist)\n",
    "c = np.array([0]*len(phy_test_sites))\n",
    "\n",
    "gotnone = 0\n",
    "gotother = 0\n",
    "c \n",
    "for i in range(len(phy_test_sites)):       \n",
    "    z = phy_topicdict[phy_test_sites[i]]\n",
    "    for j in range(len(indexlist)):\n",
    "        if z == indexlist[j]:\n",
    "            c[i] = j\n",
    "\n",
    "for i in range(len(phy_test_abstracts)):\n",
    "    x = indexlist[c[i]]\n",
    "    p = pred.predict(phy_test_abstracts[i], phy_test_sites[i])\n",
    "    #print p\n",
    "    for j in range(len(indexlist)):\n",
    "        if p[0] == indexlist[j]:\n",
    "            pr = j\n",
    "    y = indexlist[pr]\n",
    "    dfpt[y][x]+= 1\n",
    "tot = 0\n",
    "for top in indexlist:\n",
    "    tot += dfpt[top]\n",
    "for top in indexlist:\n",
    "    dfpt[top] = np.round(100*dfpt[top]/tot, decimals= 0)\n",
    "dfpt"
   ]
  },
  {
   "cell_type": "code",
   "execution_count": null,
   "metadata": {
    "collapsed": true
   },
   "outputs": [],
   "source": [
    "classifier = MLPClassifier(hidden_layer_sizes=(1000,), epsilon=1e-10, tol=0.000001,max_iter=1000)"
   ]
  },
  {
   "cell_type": "code",
   "execution_count": null,
   "metadata": {
    "collapsed": false
   },
   "outputs": [],
   "source": [
    "N = len(phy_train_sites)\n",
    "target = np.array([0]*N)\n",
    "x = []\n",
    "for i in range(len(phy_train_sites)):\n",
    "    z= phy_topicdict[phy_train_sites[i]]\n",
    "    x.append(phy_train_abstracts[i])\n",
    "    for j in range(len(indexlist)):\n",
    "        if z == indexlist[j]:\n",
    "            target[i] = j  \n",
    "a = phy_model.docvecs\n",
    "m = a.doctag_syn0\n",
    "classifier.fit(m, target)\n"
   ]
  },
  {
   "cell_type": "code",
   "execution_count": null,
   "metadata": {
    "collapsed": false
   },
   "outputs": [],
   "source": []
  },
  {
   "cell_type": "code",
   "execution_count": null,
   "metadata": {
    "collapsed": false
   },
   "outputs": [],
   "source": [
    "predicted = classifier.predict(m)\n",
    "len(predicted)"
   ]
  },
  {
   "cell_type": "code",
   "execution_count": null,
   "metadata": {
    "collapsed": false
   },
   "outputs": [],
   "source": [
    "v = len(indexlist)\n",
    "zer = np.zeros((v,v), dtype=float)\n",
    "df = pd.DataFrame(zer, index = indexlist, columns=indexlist)\n",
    "gotnone = 0\n",
    "gotother = 0\n",
    "c = np.array([0]*len(phy_train_sites))\n",
    "\n",
    "gotnone = 0\n",
    "gotother = 0\n",
    "for i in range(len(phy_train_sites)):       \n",
    "    z = phy_topicdict[phy_train_sites[i]]\n",
    "    for j in range(len(indexlist)):\n",
    "        if z == indexlist[j]:\n",
    "            c[i] = j\n",
    "\n",
    "for i in range(1114):\n",
    "    if (i not in gotrain): # and (i not in gntest):\n",
    "        try:\n",
    "            x = indexlist[c[i]]\n",
    "            y = indexlist[predicted[i]]\n",
    "            df[y][x]+= 1\n",
    "        except:\n",
    "            gotnone +=1\n",
    "tot = 0\n",
    "#remove most of the Astro cases\n",
    "\n",
    "for top in indexlist:\n",
    "    tot += df[top]\n",
    "for top in indexlist:\n",
    "    df[top] = np.round(100*df[top]/tot, decimals= 0)\n",
    "df"
   ]
  },
  {
   "cell_type": "code",
   "execution_count": null,
   "metadata": {
    "collapsed": false
   },
   "outputs": [],
   "source": [
    "N = len(phy_test_corpus)\n",
    "print N\n",
    "c = np.array([0]*N)\n",
    "x = []\n",
    "i =0\n",
    "for i in range(N):  #range(len(train_corpus)):\n",
    "    inferred_vector = model.infer_vector(phy_test_corpus[i])\n",
    "    x.append(inferred_vector)\n",
    "    try:\n",
    "        z = phy_topicdict[phy_train_sites[i]]\n",
    "        for j in range(len(indexlist)):\n",
    "            if z == indexlist[j]:\n",
    "                c[i] = j\n",
    "    except:\n",
    "        c[i] = 7\n"
   ]
  },
  {
   "cell_type": "code",
   "execution_count": null,
   "metadata": {
    "collapsed": false
   },
   "outputs": [],
   "source": [
    "v = np.array(x)\n",
    "predicted = classifier.predict(v)\n",
    "len(predicted)"
   ]
  },
  {
   "cell_type": "code",
   "execution_count": null,
   "metadata": {
    "collapsed": false
   },
   "outputs": [],
   "source": [
    "v = len(indexlist)\n",
    "zer = np.zeros((v,v), dtype=float)\n",
    "df = pd.DataFrame(zer, index = indexlist, columns=indexlist)\n",
    "gotnone = 0\n",
    "gotother = 0\n",
    "c = np.array([0]*len(phy_test_sites))\n",
    "\n",
    "gotnone = 0\n",
    "gotother = 0\n",
    "for i in range(len(phy_test_sites)):       \n",
    "    z = phy_topicdict[phy_test_sites[i]]\n",
    "    for j in range(len(indexlist)):\n",
    "        if z == indexlist[j]:\n",
    "            c[i] = j\n",
    "\n",
    "for i in range(1114):\n",
    "    if (i not in gotest)and (i not in set(none_test)):\n",
    "        try:\n",
    "            x = indexlist[c[i]]\n",
    "            y = indexlist[predicted[i]]\n",
    "            df[y][x]+= 1\n",
    "        except:\n",
    "            gotnone +=1\n",
    "tot = 0\n",
    "#remove most of the Astro cases\n",
    "\n",
    "for top in indexlist:\n",
    "    tot += df[top]\n",
    "for top in indexlist:\n",
    "    df[top] = np.round(100*df[top]/tot, decimals= 0)\n",
    "df"
   ]
  },
  {
   "cell_type": "code",
   "execution_count": null,
   "metadata": {
    "collapsed": false
   },
   "outputs": [],
   "source": [
    "gotnone"
   ]
  },
  {
   "cell_type": "code",
   "execution_count": null,
   "metadata": {
    "collapsed": false
   },
   "outputs": [],
   "source": [
    "gotother"
   ]
  },
  {
   "cell_type": "code",
   "execution_count": null,
   "metadata": {
    "collapsed": true
   },
   "outputs": [],
   "source": []
  }
 ],
 "metadata": {
  "anaconda-cloud": {},
  "kernelspec": {
   "display_name": "Python 2",
   "language": "python",
   "name": "python2"
  },
  "language_info": {
   "codemirror_mode": {
    "name": "ipython",
    "version": 2
   },
   "file_extension": ".py",
   "mimetype": "text/x-python",
   "name": "python",
   "nbconvert_exporter": "python",
   "pygments_lexer": "ipython2",
   "version": "2.7.12"
  }
 },
 "nbformat": 4,
 "nbformat_minor": 0
}
