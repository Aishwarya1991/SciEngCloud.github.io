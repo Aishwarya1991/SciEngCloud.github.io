{
 "cells": [
  {
   "cell_type": "markdown",
   "metadata": {
    "deletable": true,
    "editable": true
   },
   "source": [
    "# City Graph\n",
    "Here we are going to look at a subset of the cities database.  We are going to look for \"local\" story connections rather than big news items.  more specifically we will look at cities that appear in at least 3 but no more than 5 stories in days news.    This leaves out big cities like washington DC.  Next we will build a graph that we can use to explore the stories and cities that share these stories.  \n",
    "\n",
    "The final graph will be interact and allow us to select city nodes and the stories they appear in  and the links to the other cities in those stories.  "
   ]
  },
  {
   "cell_type": "code",
   "execution_count": 4,
   "metadata": {
    "collapsed": true,
    "deletable": true,
    "editable": true
   },
   "outputs": [],
   "source": [
    "import csv"
   ]
  },
  {
   "cell_type": "code",
   "execution_count": 2,
   "metadata": {
    "collapsed": false,
    "deletable": true,
    "editable": true
   },
   "outputs": [],
   "source": [
    "#!pip install pydocumentdb"
   ]
  },
  {
   "cell_type": "code",
   "execution_count": 3,
   "metadata": {
    "collapsed": false,
    "deletable": true,
    "editable": true
   },
   "outputs": [],
   "source": [
    "import pydocumentdb;\n",
    "import pydocumentdb.document_client as document_client"
   ]
  },
  {
   "cell_type": "code",
   "execution_count": 5,
   "metadata": {
    "collapsed": true,
    "deletable": true,
    "editable": true
   },
   "outputs": [],
   "source": [
    "config = { \n",
    "    'ENDPOINT': 'https://bookdocdb.documents.azure.com',\n",
    "    'MASTERKEY': 'VHpAe9o2INSzEx5MaPMu2Yy9aFOXe4yLNPGnzkr7oDe0DA6wFocezMjUIodZp1xyGZ6aFjZnhNNBEih8d6dPog==',\n",
    "    'DOCUMENTDB_DATABASE': 'db3',\n",
    "    'DOCUMENTDB_COLLECTION': 'cities'\n",
    "};"
   ]
  },
  {
   "cell_type": "code",
   "execution_count": 6,
   "metadata": {
    "collapsed": true,
    "deletable": true,
    "editable": true
   },
   "outputs": [],
   "source": [
    "# Initialize the Python DocumentDB client\n",
    "client = document_client.DocumentClient(config['ENDPOINT'], {'masterKey': config['MASTERKEY']})"
   ]
  },
  {
   "cell_type": "code",
   "execution_count": 7,
   "metadata": {
    "collapsed": false,
    "deletable": true,
    "editable": true
   },
   "outputs": [
    {
     "name": "stderr",
     "output_type": "stream",
     "text": [
      "INFO:Starting new HTTPS connection (1): bookdocdb.documents.azure.com\n",
      "INFO:Starting new HTTPS connection (1): bookdocdb-northcentralus.documents.azure.com\n"
     ]
    }
   ],
   "source": [
    "try:\n",
    "    db = client.CreateDatabase({ 'id': config['DOCUMENTDB_DATABASE'] }, )\n",
    "except:\n",
    "    db_id = config['DOCUMENTDB_DATABASE']\n",
    "    db_query = \"select * from r where r.id = '{0}'\".format(db_id)\n",
    "    db = list(client.QueryDatabases(db_query))[0]"
   ]
  },
  {
   "cell_type": "code",
   "execution_count": 8,
   "metadata": {
    "collapsed": true,
    "deletable": true,
    "editable": true
   },
   "outputs": [],
   "source": [
    "# Create collection options\n",
    "options = {\n",
    "    'offerEnableRUPerMinuteThroughput': True,\n",
    "    'offerVersion': \"V2\",\n",
    "    'offerThroughput': 400\n",
    "}"
   ]
  },
  {
   "cell_type": "code",
   "execution_count": 9,
   "metadata": {
    "collapsed": true,
    "deletable": true,
    "editable": true
   },
   "outputs": [],
   "source": [
    "try:\n",
    "    collection = client.CreateCollection(db['_self'], { 'id': config['DOCUMENTDB_COLLECTION'] }, options)\n",
    "except:\n",
    "    collection = next((coll for coll in client.ReadCollections(db['_self']) if coll['id']==config['DOCUMENTDB_COLLECTION']))"
   ]
  },
  {
   "cell_type": "markdown",
   "metadata": {
    "deletable": true,
    "editable": true
   },
   "source": [
    "extrace the cities for each url in the database"
   ]
  },
  {
   "cell_type": "code",
   "execution_count": 10,
   "metadata": {
    "collapsed": false,
    "deletable": true,
    "editable": true
   },
   "outputs": [],
   "source": [
    "db_query = {'query':\"select r.cities, r.url from r\" }\n",
    "options = {}\n",
    "options['enableCrossPartitionQuery'] = True\n",
    "options['maxItemCount'] = 1000\n",
    "q = client.QueryDocuments(collection['_self'], db_query, options)\n",
    "results = list(q)"
   ]
  },
  {
   "cell_type": "code",
   "execution_count": 11,
   "metadata": {
    "collapsed": false,
    "deletable": true,
    "editable": true
   },
   "outputs": [],
   "source": [
    "cities = []\n",
    "for x in results:\n",
    "    cities  = cities + x['cities']"
   ]
  },
  {
   "cell_type": "code",
   "execution_count": 12,
   "metadata": {
    "collapsed": true,
    "deletable": true,
    "editable": true
   },
   "outputs": [],
   "source": [
    "def shorten_name(citylist):\n",
    "    short = []\n",
    "    for x in citylist:\n",
    "        k = x.find(\" lat\")\n",
    "        short.append(x[:k])\n",
    "    return short"
   ]
  },
  {
   "cell_type": "code",
   "execution_count": 13,
   "metadata": {
    "collapsed": false,
    "deletable": true,
    "editable": true
   },
   "outputs": [],
   "source": [
    "cities = shorten_name(cities)"
   ]
  },
  {
   "cell_type": "code",
   "execution_count": 14,
   "metadata": {
    "collapsed": false,
    "deletable": true,
    "editable": true
   },
   "outputs": [
    {
     "data": {
      "text/plain": [
       "2213"
      ]
     },
     "execution_count": 14,
     "metadata": {},
     "output_type": "execute_result"
    }
   ],
   "source": [
    "x = set(cities)\n",
    "uniquecities = list(x)\n",
    "len(uniquecities)"
   ]
  },
  {
   "cell_type": "markdown",
   "metadata": {
    "deletable": true,
    "editable": true
   },
   "source": [
    "cities appear in more than one story.   we are interested in stories of regional interest so let's find cities that were in at least 3 stores but no more than five.   we will use these for creating edges.   \n",
    "\n",
    "start by building a histogram of cities counting the number of stories"
   ]
  },
  {
   "cell_type": "code",
   "execution_count": 15,
   "metadata": {
    "collapsed": true,
    "deletable": true,
    "editable": true
   },
   "outputs": [],
   "source": [
    "histo = {}\n",
    "for x in uniquecities:\n",
    "    histo[x] = 0"
   ]
  },
  {
   "cell_type": "code",
   "execution_count": 16,
   "metadata": {
    "collapsed": false,
    "deletable": true,
    "editable": true
   },
   "outputs": [],
   "source": [
    "for y in cities:\n",
    "    histo[y] = histo[y]+1"
   ]
  },
  {
   "cell_type": "code",
   "execution_count": 17,
   "metadata": {
    "collapsed": false,
    "deletable": true,
    "editable": true
   },
   "outputs": [],
   "source": [
    "linkcities = []\n",
    "for x in uniquecities:\n",
    "    if histo[x]> 2 and histo[x] < 6:\n",
    "        linkcities.append(x)"
   ]
  },
  {
   "cell_type": "code",
   "execution_count": 18,
   "metadata": {
    "collapsed": false,
    "deletable": true,
    "editable": true
   },
   "outputs": [
    {
     "data": {
      "text/plain": [
       "['Tibet, Xizang, China',\n",
       " 'Chieh Chung, Henan, China',\n",
       " 'Havana, Ciudad de La Habana, Cuba',\n",
       " 'Juba, Wilayat Bahr al Jabal, South Sudan',\n",
       " \"Odessa, Odes'ka Oblast, Ukraine\",\n",
       " 'The White House, District of Columbia, United States',\n",
       " 'Tampa Bay, Florida, United States',\n",
       " 'Anambra, Nigeria (general), Nigeria',\n",
       " 'Niger Delta, Nigeria (general), Nigeria',\n",
       " 'Tokyo Bay, Japan (general), Japan',\n",
       " 'Irvine, California, United States',\n",
       " 'Batumi, Ajaria**, Georgia',\n",
       " 'Khan Shaykhun, Idlib, Syria',\n",
       " 'Jeddah, Makkah, Saudi Arabia',\n",
       " 'Miramar National Cemetery, California, United States',\n",
       " 'Byron Bay, New South Wales, Australia',\n",
       " 'Karabakh, Dagestan, Russia',\n",
       " 'Dutch Bank, United Kingdom (general), United Kingdom',\n",
       " 'Tawang, Shaanxi, China',\n",
       " 'Bridgetown, Saint Michael, Barbados',\n",
       " 'Zhejiang, Zhejiang, China',\n",
       " 'Jefferson City, Missouri, United States',\n",
       " 'Latvia',\n",
       " 'North Point, Hong Kong (general), Hong Kong',\n",
       " 'Burkina Faso',\n",
       " 'Chosin, Hamgyong-namdo, North Korea',\n",
       " 'Kashmiri, Punjab, Pakistan',\n",
       " 'Cheyenne, Wyoming, United States',\n",
       " 'Uruguay',\n",
       " 'Toowoomba, Queensland, Australia',\n",
       " 'Tigris River, Al Basrah, Iraq',\n",
       " 'Oklahoma City, Oklahoma, United States',\n",
       " 'Raleigh, North Carolina, United States',\n",
       " 'Roma, Lazio, Italy',\n",
       " 'Bhopal, Madhya Pradesh, India',\n",
       " 'Jakarta, Jakarta Raya, Indonesia',\n",
       " 'Caloundra, Queensland, Australia',\n",
       " 'San Antonio, Texas, United States',\n",
       " 'District of Columbia, United States',\n",
       " 'Charlotte, North Carolina, United States',\n",
       " 'Turkmenistan',\n",
       " 'Los Angeles International Airport, California, United States',\n",
       " 'Grand Junction, Colorado, United States',\n",
       " 'Belton Lake, Texas, United States',\n",
       " 'Khan Sheikhun, Idlib, Syria',\n",
       " 'Moldova',\n",
       " 'Rajkot, Gujarat, India',\n",
       " 'World Bank, District of Columbia, United States',\n",
       " 'Honduras',\n",
       " 'Bamako, Bamako, Mali',\n",
       " 'Durban, KwaZulu-Natal, South Africa',\n",
       " 'Sabarmati, Gujarat, India',\n",
       " 'Mauritius',\n",
       " 'Sacramento County, California, United States',\n",
       " 'Malta',\n",
       " 'West Bank',\n",
       " 'Hyogo, Hokkaido, Japan',\n",
       " 'Manbij, ?alab, Syria',\n",
       " 'Saskatchewan, Manitoba, Canada',\n",
       " 'Des Plaines, Illinois, United States',\n",
       " 'Guiyang, Guizhou, China',\n",
       " 'Brisbane, Queensland, Australia',\n",
       " 'Shenzhen, Guangdong, China',\n",
       " 'Anadolu, Turkey (general), Turkey',\n",
       " 'Dhaka, Dhaka, Bangladesh',\n",
       " 'Dadri, Uttar Pradesh, India',\n",
       " 'Tbilisi, Georgia (general), Georgia',\n",
       " 'Hanoi, Ha N?i, Vietnam, Republic Of',\n",
       " 'Maroochydore, Queensland, Australia',\n",
       " 'Mogadishu, Banaadir, Somalia',\n",
       " 'Dar Es Salaam, Dar es Salaam, Tanzania',\n",
       " \"Sanaa, San\\x91a', Yemen\",\n",
       " 'Petrograd, Sankt-Peterburg, Russia',\n",
       " 'Mullumbimby, New South Wales, Australia',\n",
       " 'Bismarck, North Dakota, United States',\n",
       " 'Vanuatu',\n",
       " 'Muzaffarnagar, Uttar Pradesh, India',\n",
       " 'Makkah, Makkah, Saudi Arabia',\n",
       " 'Portland, Oregon, United States',\n",
       " 'Guyana',\n",
       " 'Tiran, Ha?afon, Israel',\n",
       " 'Vancouver, British Columbia, Canada',\n",
       " 'Kampala, Kampala, Uganda',\n",
       " 'Buderim, Queensland, Australia',\n",
       " 'Amsterdam, Noord-Holland, Netherlands',\n",
       " 'Karnataka, Karnataka, India',\n",
       " 'Carnegie Endowment For International Peace, District of Columbia, United States',\n",
       " 'Albuquerque, New Mexico, United States',\n",
       " 'Al-Bab, ?alab, Syria',\n",
       " 'East China Sea, Japan (general), Japan',\n",
       " 'Sedat, Diyarbakir, Turkey',\n",
       " 'Windhoek, Khomas, Namibia',\n",
       " 'Euphrates, Dayr az Zawr, Syria',\n",
       " 'Aklan, Quirino, Philippines',\n",
       " 'Morganton, North Carolina, United States',\n",
       " 'Zagreb, Zagreb, Grad, Croatia',\n",
       " 'Lucknow, Uttar Pradesh, India',\n",
       " 'Bahawalpur, Punjab, Pakistan',\n",
       " 'Palawan, Dapitan, Philippines',\n",
       " 'Heathrow, Hillingdon, United Kingdom',\n",
       " 'Arab League, Al Qahirah, Egypt',\n",
       " 'Djibouti',\n",
       " 'Baton Rouge, Louisiana, United States',\n",
       " 'Nangarhar, Nangarhar, Afghanistan',\n",
       " 'Safakadal, Jammu and Kashmir, India',\n",
       " 'Yokosuka, Kanagawa, Japan',\n",
       " 'University Of North Carolina, North Carolina, United States',\n",
       " 'Accra, Greater Accra, Ghana',\n",
       " 'Trinidad And Tobago',\n",
       " 'Budapest, Budapest, Hungary',\n",
       " 'Cedar Rapids, Iowa, United States',\n",
       " 'Tunis, (TS26), Tunisia',\n",
       " 'Suffolk County, New York, United States',\n",
       " 'Zurich, ZüSZ, Switzerland',\n",
       " 'Ibadan, Oyo, Nigeria',\n",
       " 'Mandsaur, Madhya Pradesh, India',\n",
       " 'Puerto Rico',\n",
       " 'Sindhi, Punjab, Pakistan',\n",
       " 'Colombo, Western, Sri Lanka',\n",
       " 'Copenhagen, Køavn*, Denmark',\n",
       " 'Gulf Of Aqaba, Egypt (general), Egypt',\n",
       " 'Madagascar',\n",
       " 'Eilat, HaDarom, Israel',\n",
       " 'Ogun State, Ogun, Nigeria',\n",
       " 'Comoros',\n",
       " 'Liberia',\n",
       " 'Niger',\n",
       " 'Arabian Peninsula, Saudi Arabia (general), Saudi Arabia',\n",
       " 'South Sudan',\n",
       " 'Belgrade, Serbia (general),',\n",
       " 'Kwazulu, Eastern Cape, South Africa',\n",
       " 'Hiroshima, Hiroshima, Japan',\n",
       " 'Panama City, PanamáM, Panama',\n",
       " 'Grenada',\n",
       " 'Berkeley, California, United States',\n",
       " 'Cambodia',\n",
       " 'Sanafir, Al Qalyubiyah, Egypt',\n",
       " 'Orange County, California, United States',\n",
       " 'Iceland',\n",
       " 'Anchorage, Alaska, United States',\n",
       " 'Maldives',\n",
       " 'Guinea',\n",
       " 'Lake Chad, Nigeria (general), Nigeria',\n",
       " 'Artsakh, Azerbaijan (general), Azerbaijan',\n",
       " 'Atlanta, Georgia, United States',\n",
       " 'Tumen, Henan, China',\n",
       " 'Ghouta, Dimashq, Syria',\n",
       " 'El Salvador',\n",
       " 'Hubei, Guangdong, China',\n",
       " \"Namyang, P'yongyang-si, North Korea\",\n",
       " 'Guwahati, Assam, India',\n",
       " 'Richmond, Virginia, United States',\n",
       " 'Chumbi, Punjab, Pakistan',\n",
       " 'Springfield, Illinois, United States',\n",
       " 'Myanmar',\n",
       " 'Bethany Beach, Delaware, United States',\n",
       " 'Baltal, Jammu and Kashmir, India',\n",
       " 'Macedonia',\n",
       " 'Jolo, Sulu, Philippines',\n",
       " \"Luhansk, Luhans'ka Oblast', Ukraine\",\n",
       " 'Palm Beach, Florida, United States',\n",
       " 'Spratly Islands',\n",
       " 'Lima, Lima, Peru',\n",
       " 'Guatemala',\n",
       " 'Bucharest, Bucuresti, Romania',\n",
       " 'Khanyar, Jammu and Kashmir, India',\n",
       " 'Slovak Republic',\n",
       " 'Hong Kong Island, Hong Kong (general), Hong Kong',\n",
       " 'Edinburgh, Edinburgh, City of, United Kingdom',\n",
       " 'Elk Grove Village, Illinois, United States',\n",
       " 'Hamilton County, Ohio, United States',\n",
       " 'Nanjing, Jiangsu, China',\n",
       " 'Kuala Lumpur, Kuala Lumpur, Malaysia',\n",
       " 'Queens, New York, United States',\n",
       " 'Sofia, Sofiya-Grad, Bulgaria',\n",
       " 'Manama, Al Manamah, Bahrain',\n",
       " 'Oman',\n",
       " 'Euphrate, Al Basrah, Iraq',\n",
       " 'Serbia',\n",
       " 'Somaliland, Somalia (general), Somalia',\n",
       " 'Wenzhou, Zhejiang, China',\n",
       " 'Bolivia',\n",
       " 'Denver, Colorado, United States',\n",
       " 'Eritrea',\n",
       " 'Tirana, Tirane, Albania',\n",
       " 'Akinci, Siirt, Turkey',\n",
       " 'Panama Canal, Panama (general), Panama',\n",
       " 'Guizhou, Hubei, China',\n",
       " 'Nablus, West Bank (general), West Bank',\n",
       " 'Ballarat, Victoria, Australia',\n",
       " 'Orlando, Florida, United States',\n",
       " 'Senegal',\n",
       " 'South Dakota, United States',\n",
       " 'Visayan, Mindoro Occidental, Philippines',\n",
       " 'Los Angeles, California, United States',\n",
       " 'Ninoy Aquino International Airport, Pasay, Philippines',\n",
       " 'Andalucia, AndalucíSP, Spain',\n",
       " 'Manhattan, New York, United States',\n",
       " 'Wellington, New Zealand (general), New Zealand',\n",
       " 'Rhode Island, United States',\n",
       " 'Honolulu, Hawaii, United States',\n",
       " 'Kashmir, North-West Frontier, Pakistan',\n",
       " 'Dominican Republic',\n",
       " 'Prague, Praha, Hlavníesto, Czech Republic',\n",
       " 'Kordofan, Shamal Kurdufan, Sudan',\n",
       " 'Belfast, Belfast, United Kingdom',\n",
       " 'Kings Beach, Queensland, Australia',\n",
       " \"Equatoria, Wilayat Gharb al Istiwa'iyah, South Sudan\",\n",
       " 'Chester County, Pennsylvania, United States',\n",
       " 'Tunisia',\n",
       " 'Prince Of Wales, Nunavut, Canada',\n",
       " 'Khorasan, Helmand, Afghanistan',\n",
       " 'Nusra, Kafr ash Shaykh, Egypt',\n",
       " 'Montenegro',\n",
       " 'Ghana',\n",
       " 'Fort Hays State University, Kansas, United States',\n",
       " 'Great Falls, Montana, United States',\n",
       " 'Shenyang, Liaoning, China',\n",
       " 'Botswana',\n",
       " 'Iloilo, Iloilo City, Philippines',\n",
       " 'Dakar, Dakar, Senegal',\n",
       " 'Kiev, Ukraine (general), Ukraine',\n",
       " 'Seychelles',\n",
       " 'Tallinn, Harjumaa, Estonia',\n",
       " 'Buhari, Kano, Nigeria',\n",
       " 'Milan, Lombardia, Italy',\n",
       " 'Stepanakert, Xank?ndi*, Azerbaijan',\n",
       " 'Ramallah, West Bank (general), West Bank',\n",
       " 'Des Moines, Iowa, United States',\n",
       " 'Jaipur, Rajasthan, India',\n",
       " 'Scarborough Shoal, Philippines (general), Philippines',\n",
       " 'Jilin, Jilin, China',\n",
       " 'Odisha, Orissa, India',\n",
       " 'Lingnan, Guangdong, China',\n",
       " 'Triumf, Permskiy Kray, Russia',\n",
       " 'Kosovo',\n",
       " 'Guangdong, Jilin, China',\n",
       " 'Albania',\n",
       " 'Deir Ezzor, Dayr az Zawr, Syria',\n",
       " 'Nagoya, Aichi, Japan',\n",
       " 'Azerbaijan',\n",
       " 'Quneitra, Al Qunaytirah, Syria',\n",
       " 'Pulaski County, Arkansas, United States',\n",
       " 'Charleston, South Carolina, United States',\n",
       " 'San Bernardino, California, United States']"
      ]
     },
     "execution_count": 18,
     "metadata": {},
     "output_type": "execute_result"
    }
   ],
   "source": [
    "linkcities"
   ]
  },
  {
   "cell_type": "code",
   "execution_count": 19,
   "metadata": {
    "collapsed": false,
    "deletable": true,
    "editable": true
   },
   "outputs": [
    {
     "data": {
      "text/plain": [
       "245"
      ]
     },
     "execution_count": 19,
     "metadata": {},
     "output_type": "execute_result"
    }
   ],
   "source": [
    "len(linkcities)"
   ]
  },
  {
   "cell_type": "code",
   "execution_count": 20,
   "metadata": {
    "collapsed": false,
    "deletable": true,
    "editable": true
   },
   "outputs": [
    {
     "data": {
      "text/plain": [
       "1699"
      ]
     },
     "execution_count": 20,
     "metadata": {},
     "output_type": "execute_result"
    }
   ],
   "source": [
    "len(results)"
   ]
  },
  {
   "cell_type": "code",
   "execution_count": 21,
   "metadata": {
    "collapsed": false,
    "deletable": true,
    "editable": true
   },
   "outputs": [],
   "source": [
    "#create a list of sets\n",
    "#for each city in linkcities:\n",
    "#    stories[city]= set of stories linked by city\n",
    "#    \n",
    "stories = {}\n",
    "for city in linkcities:\n",
    "    stories[city] = []\n",
    "linkcitiesset = set(linkcities)\n",
    "#print(linkcitiesset)\n",
    "for res in results:\n",
    "    rescit = shorten_name(res['cities'])\n",
    "    for c in rescit:\n",
    "        if c in linkcitiesset:\n",
    "            stories[c].append(res['url'])\n",
    "#remove strange duplicate stories\n",
    "for city in linkcities:\n",
    "    x = stories[city]\n",
    "    xset = set(x)\n",
    "    stories[city] = list(xset)\n"
   ]
  },
  {
   "cell_type": "code",
   "execution_count": 22,
   "metadata": {
    "collapsed": false,
    "deletable": true,
    "editable": true
   },
   "outputs": [
    {
     "data": {
      "text/plain": [
       "{'Accra, Greater Accra, Ghana': ['http://cajnewsafrica.com/2017/06/30/varsity-graduate-salvages-west-africas-youth-from-terrorism/',\n",
       "  'http://www.pambazuka.org/pan-africanism/pan-african-agenda-21st-century'],\n",
       " 'Akinci, Siirt, Turkey': ['https://www.pressenza.com/2017/06/un-hopes-success-cyprus-talks-enter-new-phase/',\n",
       "  'http://famagusta-gazette.com/turkey-denies-claims-it-will-pull-troops-from-cyprus-p41073-69.htm'],\n",
       " 'Aklan, Quirino, Philippines': ['http://news.pia.gov.ph/article/view/1541498786066/prrd-consoles-mother-of-cop-slain-by-npa',\n",
       "  'http://news.pia.gov.ph/article/view/3441498802882/duterte-avows-comfortable-life-for-all',\n",
       "  'http://www.philstar.com/region/2017/07/01/1715272/negros-occidental-electric-coop-ppc-inks-power-purchase-deal'],\n",
       " 'Al-Bab, ?alab, Syria': ['https://www.dailysabah.com/syrian-crisis/2017/06/30/daesh-fully-withdraws-from-syrias-aleppo-province-monitor-says',\n",
       "  'http://www.middle-east-online.com/english/?id=83719'],\n",
       " 'Albania': ['http://www.staradvertiser.com/2017/06/29/tgif/movies/arthouse-7/',\n",
       "  'https://www.voanews.com/a/russia-lavrov-warns-us-eu-on-macedonia/3779923.html',\n",
       "  'http://freerepublic.com/focus/f-bloggers/3565468/posts'],\n",
       " 'Albuquerque, New Mexico, United States': ['http://kunm.org/post/female-prison-rate-rises-us-smokejumpers-prepare-parachute-fight-us-wildfires',\n",
       "  'http://kunm.org/post/state-faces-renewed-criticism-welfare-delays-four-men-rescued-collapsed-gravel-pit',\n",
       "  'http://www.chieftain.com/news/national/utah-wildfire-evacuees-return-ready-for-quieter-july-th/article_5e64942c-31d2-5d6a-a0be-4e8d495a971a.html'],\n",
       " 'Amsterdam, Noord-Holland, Netherlands': ['http://www.foodbev.com/news/novo-fogo-expands-cachaca-europe-distribution-deals/',\n",
       "  'http://www.traveller.com.au/readers-tips-the-tipometer-gwye86',\n",
       "  'http://nypost.com/2017/06/30/the-tolerant-left-has-no-problem-bashing-those-who-speak-out-against-muslim-extremists/'],\n",
       " 'Anadolu, Turkey (general), Turkey': ['http://aa.com.tr/en/middle-east/gulf-states-stand-together-against-iran-experts/851667',\n",
       "  'http://www.digitaljournal.com/news/world/turkey-urges-respect-of-qatar-s-rights-to-solve-gulf-crisis/article/496536',\n",
       "  'http://aranews.net/2017/06/syrian-kurds-call-on-international-community-to-stop-turkish-attacks-on-rojava/',\n",
       "  'http://jordantimes.com/news/local/qatar%E2%80%99s-defence-minister-visit-turkey-amid-base-controversy'],\n",
       " 'Anambra, Nigeria (general), Nigeria': ['http://www.thebreakingtimes.com/ohanaeze-ndi-igbo-okorocha-willie-obiano-blast-nnamdi-kanu-over-comments/',\n",
       "  'http://www.nairaland.com/3891644/anambra-state-breaks-out-biafra',\n",
       "  'http://huhuonline.com/hunew/index.php/huhuonline-more-news/9796-osinbajo-to-nigerians-regularise-your-tax-payment-or-face-criminal-charges'],\n",
       " 'Anchorage, Alaska, United States': ['https://www.adn.com/alaska-marijuana/2017/06/30/two-years-out-alaska-marijuana-criminal-cases-inch-forward/',\n",
       "  'http://www.taosnews.com/stories/this-hunt-is-about-living,41518'],\n",
       " 'Andalucia, AndalucíSP, Spain': ['http://www.business-standard.com/article/international/german-plans-to-send-migrant-children-to-reception-centres-in-morocco-117063000238_1.html',\n",
       "  'http://www.freshplaza.com/article/177684/III-International-Soft-Fruits-Congress-production,-commercialization-and-consumption'],\n",
       " 'Arab League, Al Qahirah, Egypt': ['http://www.straitstimes.com/opinion/qatar-big-lessons-from-a-small-country',\n",
       "  'http://canadafreepress.com/article/united-nations-hosts-two-day-anti-israel-palestinian-forum-at-its-headquart',\n",
       "  'https://en.qantara.de/content/the-arabs-and-the-libyan-intervention-dont-steal-our-revolution'],\n",
       " 'Arabian Peninsula, Saudi Arabia (general), Saudi Arabia': ['https://lobelog.com/qatar-looks-to-iran-and-iraq/',\n",
       "  'https://www.memri.org/reports/jihad-and-terrorism-threat-monitor-jttm-weekend-summary-256',\n",
       "  'https://foreignpolicy.com/2017/06/29/the-showdown-in-the-gulf-gets-nasty/'],\n",
       " 'Artsakh, Azerbaijan (general), Azerbaijan': ['https://news.am/eng/news/398016.html',\n",
       "  'https://armenpress.am/eng/news/897155/alexander-lapshin-pleads-not-guilty-in-baku-trial.html',\n",
       "  'https://armenpress.am/eng/news/897168/%E2%80%98massacre-of-maragha-has-not-been-internationally-addressed-properly%E2%80%99-%E2%80%93-ambassador-tigran-mkrtchyan%E2%80%99s.html'],\n",
       " 'Atlanta, Georgia, United States': ['http://www.politico.com/tipsheets/morning-score/2017/06/30/alabama-donor-forms-anti-strange-pac-221127',\n",
       "  'http://rollingout.com/2017/06/30/update-police-make-3rd-arrest-in-murder-of-black-georgia-ceo/',\n",
       "  'http://www.indiawest.com/news/global_indian/indian-american-professor-accused-of-child-trafficking-by-delta-airlines/article_b663bd00-5cf6-11e7-8911-a3d7b288cefd.html',\n",
       "  'http://www.reporternewspapers.net/2017/06/30/comfort-women-memorial-unveiled-brookhaven-park-may-move-soon/'],\n",
       " 'Azerbaijan': ['http://www.coinweek.com/world-coins/coinweek-news-wire-june-30-2017/',\n",
       "  'http://news.az/articles/politics/123074',\n",
       "  'http://news.az/articles/world/123102',\n",
       "  'https://www.azernews.az/karabakh/115491.html',\n",
       "  'http://news.az/articles/politics/123073'],\n",
       " 'Bahawalpur, Punjab, Pakistan': ['The Nation website in English/BBC Monitoring/(c) BBC',\n",
       "  'http://www.washdiplomat.com/index.php?option=com_content&view=article&id=15551&Itemid=436',\n",
       "  'http://www.inquisitr.com/4334987/pakistan-fuel-tanker-explosion-kills-more-than-150-people/'],\n",
       " 'Ballarat, Victoria, Australia': ['http://www.eastbaytimes.com/2017/06/29/charges-against-vatican-cardinal-revive-questions-about-pope-francis-handling-of-child-sexual-abuse-by-priests-3/',\n",
       "  'http://www.wahpetondailynews.com/cardinal-takes-leave-from-vatican-after-sex-assault-charges/article_90ffde86-5cd3-11e7-b051-9f94fcf242b6.html'],\n",
       " 'Baltal, Jammu and Kashmir, India': ['http://fumbleboard.com/2017/06/30/man-sought-after-pair-burned-in-london-acid-attack/',\n",
       "  'http://news.rediff.com/commentary/2017/jun/30/liveupdates.htm'],\n",
       " 'Bamako, Bamako, Mali': ['http://reliefweb.int/report/mali/liptako-gourma-epicentre-sahel-crisis',\n",
       "  'http://www.premiumtimesng.com/foreign/west-africa-foreign/235447-new-french-president-macron-heads-west-africa.html',\n",
       "  'https://www.modernghana.com/news/785453/frances-macron-due-in-mali-to-back-sahel-anti-jihad-force.html',\n",
       "  'https://cruxnow.com/vatican/2017/06/30/fresh-consistory-new-cardinals-greet-family-friends/'],\n",
       " 'Baton Rouge, Louisiana, United States': ['https://undark.org/article/right-to-try-fda-trump-deregulation/',\n",
       "  'http://www.greensboro.com/ap/us_world/gunman-who-ambushed-police-left-note-prayer-trail-of-rage/article_3871177a-6e20-533f-8e0f-0ac0afc7dd6c.html'],\n",
       " 'Batumi, Ajaria**, Georgia': ['BBC Monitoring/BBC Monitoring/(c) BBC',\n",
       "  'Rustavi-2 TV, Tbilisi/BBC Monitoring/(c) BBC'],\n",
       " 'Belfast, Belfast, United Kingdom': ['http://www.irishtimes.com/news/politics/varadkar-and-may-must-engage-in-stormont-talks-says-sinn-f%C3%A9in-1.3139110',\n",
       "  'http://www.bridportnews.co.uk/news/national/15384196.DUP_ridicules_Sinn_Fein_call_for_PM_and_Taoiseach_to_intervene_in_crisis_talks/',\n",
       "  'http://www.newsletter.co.uk/news/crime/extradition-proceedings-for-david-black-accused-set-for-next-month-1-8034912',\n",
       "  'http://www.hotpress.com/REM/news/REM-reissue-iLive-At-The-Olympiai-on-its-10-Anniversary/20322758.html'],\n",
       " 'Belgrade, Serbia (general),': ['http://www.spiegel.de/international/europe/tensions-in-the-balkans-rising-as-promise-of-eu-future-fades-a-1154499.html',\n",
       "  'http://www.washdiplomat.com/index.php?option=com_content&view=article&id=15669:beijings-belt-and-road-initiative-is-ambitious-maybe-too-ambitious&catid=1559&Itemid=428',\n",
       "  'http://freerepublic.com/focus/f-bloggers/3565468/posts',\n",
       "  'http://www.balkaninsight.com/en/article/romania-s-reagan-square-builds-on-balkan-tradition-06-29-2017'],\n",
       " 'Belton Lake, Texas, United States': ['http://kdhnews.com/news/local/remembering-kaitlyn-mourners-gather-for-girl-s-memorial-service/article_60dc11b6-5d41-11e7-9390-9f19d6e0568d.html',\n",
       "  'http://kdhnews.com/news/politics/north-korea-and-trade-on-agenda-for-us-skorea-talks/article_154665fe-942c-586a-b18e-d231e1f26c59.html'],\n",
       " 'Berkeley, California, United States': ['https://www.nytimes.com/2017/06/30/style/modern-love-seeking-the-comfort-of-an-old-flame-solitude.html',\n",
       "  'https://www.washingtonpost.com/news/made-by-history/wp/2017/06/29/grass-roots-activists-won-the-war-on-smoking-can-they-win-the-war-on-climate-change/?position=31&content_id=2ump087'],\n",
       " 'Bethany Beach, Delaware, United States': ['http://www.coastalpoint.com/content/st-martha%E2%80%99s-continues-welcome-foreign-students_06_29_2017',\n",
       "  'http://www.delawareonline.com/story/life/family/2017/06/30/teachers-jack-of-all-trades-summer-jobs-beach/435820001/'],\n",
       " 'Bhopal, Madhya Pradesh, India': ['http://www.firstpost.com/business/gst-india-live-updates-countdown-to-gst-roll-out-live-tax-reform-to-be-launched-tonight-amid-boycott-by-congress-and-friends-3760311.html',\n",
       "  'http://www.dqindia.com/vattikuti-technologies-provide-computer-assisted-robotic-surgery-for-cancer-cases/',\n",
       "  'http://www.thehindu.com/business/Economy/live-goods-and-services-tax-launch/article19185917.ece'],\n",
       " 'Bismarck, North Dakota, United States': ['http://bismarcktribune.com/ads/other/ad_vault/legals/pdfdisplayad_a89d5f51-5b11-5bc8-add1-4d9478ae6cf7.html',\n",
       "  'http://bismarcktribune.com/ads/other/ad_vault/legals/pdfdisplayad_c7beb30d-ac29-5e16-bb5a-9835fdff5980.html'],\n",
       " 'Bolivia': ['http://news.airwise.com/story/argentina-airline-flybondi-gets-government-approval',\n",
       "  'http://www.4-traders.com/news/UN-United-Nations-Accord-on-Iran-rsquo-s-Nuclear-Programme-Remains-on-Track-Political-Affairs-Chi--24678041/',\n",
       "  'http://www.foodbev.com/news/ecuadorian-president-opens-new-100m-tonicorp-dairy-facility/'],\n",
       " 'Botswana': ['https://www.namibiansun.com/news/poultry-farmers-worried-about-bird-flu/',\n",
       "  'http://normangeestar.net/2017/06/29/former-botswana-leader-masire-to-be-laid-to-rest/',\n",
       "  'http://news.sky.com/story/royal-family-spends-12m-on-doors-for-orangery-at-windsor-castle-10928378'],\n",
       " 'Bridgetown, Saint Michael, Barbados': ['http://news.abs-cbn.com/life/06/30/17/food-shorts-french-food-shop-dim-sum-4th-of-july-buffet',\n",
       "  'http://www.caribbeannewsnow.com/headline-CDB-rolls-out-training-programme-to-support-regional-institutional-reform-in-19-countries--34882.html'],\n",
       " 'Brisbane, Queensland, Australia': ['https://www.spectator.co.uk/2017/07/uk-sharia-councils-dont-prejudice-womens-rights-they-defend-them/',\n",
       "  'https://www.centraltelegraph.com.au/news/renewed-calls-put-jt-bronze-his-retirement/3195310/',\n",
       "  'https://www.thechronicle.com.au/news/how-death-ship-killers-took-two-lives-then-fled-po/3195697/'],\n",
       " 'Bucharest, Bucuresti, Romania': ['http://www.balkaninsight.com/en/article/romania-s-reagan-square-builds-on-balkan-tradition-06-29-2017',\n",
       "  'http://rri.ro/en_gb/june_30_2017-2566359'],\n",
       " 'Budapest, Budapest, Hungary': ['http://en.apa.az/nagorno_karabakh/armenia-violated-ceasefire-with-azerbaijan-3-883-times-in-june.html',\n",
       "  'https://medium.com/@mattforney/how-does-the-e-u-solve-a-problem-like-hungary-d10176feb6c3',\n",
       "  'http://www.washdiplomat.com/index.php?option=com_content&view=article&id=15669:beijings-belt-and-road-initiative-is-ambitious-maybe-too-ambitious&catid=1559&Itemid=428',\n",
       "  'http://www.albaniannews.com/index.php?idm=13983&mod=2',\n",
       "  'http://www.balkaninsight.com/en/article/romania-s-reagan-square-builds-on-balkan-tradition-06-29-2017'],\n",
       " 'Buderim, Queensland, Australia': ['https://www.caboolturenews.com.au/news/murder-house-market-11-million/3195497/',\n",
       "  'https://www.sunshinecoastdaily.com.au/news/different-fates-for-drug-dealing-couple/3195193/',\n",
       "  'https://www.noosanews.com.au/news/coffs-economy-may-slow-down-report/3195505/'],\n",
       " 'Buhari, Kano, Nigeria': ['http://www.ghanaweb.com/GhanaHomePage/world/Trump-and-Ivanka-host-two-Chibok-girls-at-the-White-House-553963',\n",
       "  'http://huhuonline.com/hunew/index.php/huhuonline-more-news/9796-osinbajo-to-nigerians-regularise-your-tax-payment-or-face-criminal-charges',\n",
       "  'https://guardian.ng/news/why-aircraft-cant-abandon-buhari-by-presidency/'],\n",
       " 'Burkina Faso': ['http://www.premiumtimesng.com/foreign/west-africa-foreign/235447-new-french-president-macron-heads-west-africa.html',\n",
       "  'http://www.gicafrica.diplo.de/Vertretung/suedafrika-dz/en/__pr/2017/06/06-Lindau-African-Scientists.html',\n",
       "  'http://disrupt-africa.com/2017/06/senegal-merchant-solution-weebi-expands-across-africa/'],\n",
       " 'Byron Bay, New South Wales, Australia': ['https://www.echonews.com.au/news/bali-shaun-was-pretty-popular-ladies/3195258/',\n",
       "  'https://www.byronnews.com.au/news/fishing-competition-back-again/3195073/'],\n",
       " 'Caloundra, Queensland, Australia': ['https://www.caboolturenews.com.au/news/murder-house-market-11-million/3195497/',\n",
       "  'https://www.sunshinecoastdaily.com.au/news/different-fates-for-drug-dealing-couple/3195193/',\n",
       "  'https://www.noosanews.com.au/news/coffs-economy-may-slow-down-report/3195505/'],\n",
       " 'Cambodia': ['https://international.thenewslens.com/article/72195',\n",
       "  'https://www.interfax.kz/?lang=eng&int_id=13&news_id=141',\n",
       "  'https://www.rescue.org/article/coming-america',\n",
       "  'http://www.countercurrents.org/2017/06/29/venomous-girl/'],\n",
       " 'Carnegie Endowment For International Peace, District of Columbia, United States': ['http://www.washdiplomat.com/index.php?option=com_content&view=article&id=15669:beijings-belt-and-road-initiative-is-ambitious-maybe-too-ambitious&catid=1559&Itemid=428',\n",
       "  'https://www.usatoday.com/story/opinion/2017/06/30/can-secretary-state-rex-tillerson-reclaim-his-job-miller-sokolsky-column/432721001/'],\n",
       " 'Cedar Rapids, Iowa, United States': ['http://muscatinejournal.com/muscatine/news/local/cedar-rapids-mayor-ron-corbett-visits-muscatine-to-discuss-his/article_66510c33-83b2-5e0a-b954-9a1196e1fd1b.html',\n",
       "  'http://www.kxel.com/kxel-news/2017/06/30/cedar-rapids-man-accused-of-attempted-murder'],\n",
       " 'Charleston, South Carolina, United States': ['http://www.clintonchronicle.com/breaking-news/black-out-city-clinton-will-view-total-eclipse-sun',\n",
       "  'http://www.autonews.com/article/20170630/OEM01/170639993/bmw-among-the-bad-foreign-companies-driving-u-s-manufacturing-jobs',\n",
       "  'http://www.arkansasonline.com/news/2017/jun/30/suspect-in-ruin-of-monolith-has-1st-cou/'],\n",
       " 'Charlotte, North Carolina, United States': ['http://freedomdaily.com/feds-just-raided-muslims-north-carolina-house-interrupt-last-step-independence-day-nightmare/',\n",
       "  'https://www.stripes.com/news/us/feds-confirm-isis-investigations-underway-in-nc-1.476095',\n",
       "  'http://www.dailymail.co.uk/health/article-4654600/Deadly-brain-eating-amoeba-detected-Louisiana.html'],\n",
       " 'Chester County, Pennsylvania, United States': ['http://www.delcotimes.com/general-news/20170629/sunoco-scores-two-wins-against-pipeline-lawsuits',\n",
       "  'http://www.greenwichtime.com/news/crime/article/The-Latest-Sketch-of-suspect-released-in-road-11259746.php',\n",
       "  'https://www.washingtonpost.com/news/post-nation/wp/2017/06/30/manhunt-underway-for-road-rage-suspect-accused-of-killing-pennsylvania-teenager/',\n",
       "  'http://www.speroforum.com/a/RNXJCPEORO1/81196-Promising-teen-shot-to-death-in-road-rage'],\n",
       " 'Cheyenne, Wyoming, United States': ['http://www.wyomingnews.com/how-cheyenne-started/article_41f7cbfc-5c18-11e7-bd16-5719b7e95d24.html',\n",
       "  'http://www.wyomingnews.com/history-through-headstones-cheyenne-s-lakeview-cemetery/article_c3660b46-5a91-11e7-bcc0-8f73dfd62d1e.html',\n",
       "  'http://missoulian.com/news/government-and-politics/montana-wants-to-defend-federal-coal-leases/article_27963092-1c5a-50b9-b27b-47e996247948.html',\n",
       "  'http://www.ncregister.com/daily-news/new-us-archbishops-look-forward-to-serving-god-in-their-local-churches'],\n",
       " 'Chieh Chung, Henan, China': ['BBC Monitoring/BBC Monitoring/(c) BBC',\n",
       "  'Multiple Sources/BBC Monitoring/(c) BBC'],\n",
       " 'Chosin, Hamgyong-namdo, North Korea': ['http://www.arirang.co.kr/News/News_View.asp?nseq=205757',\n",
       "  'http://www.kentucky.com/news/business/article158787569.html'],\n",
       " 'Chumbi, Punjab, Pakistan': ['http://www.business-standard.com/article/current-affairs/border-crisis-army-chief-in-sikkim-amid-standoff-between-indian-and-chinese-patrols-117062901179_1.html',\n",
       "  'http://indiatoday.intoday.in/story/nathu-la-pass-india-china-standoff-border-sikkim/1/989897.html'],\n",
       " 'Colombo, Western, Sri Lanka': ['http://indianexpress.com/article/opinion/china-india-relationship-belt-and-road-forum-brf-bri-china-pakistan-economic-corridor-cpec-4728637/',\n",
       "  'http://www.financialexpress.com/india-news/pentagon-asked-to-work-closely-with-india-in-maritime-domain/742696/',\n",
       "  'http://www.uktamilnews.com/?p=25726'],\n",
       " 'Comoros': ['https://sputniknews.com/middleeast/201706301055105929-qatar-concessions-syria-crisis/',\n",
       "  'https://www.afdb.org/en/news-and-events/indian-ocean-islands-east-african-countries-collaborate-to-enhance-responsible-fisheries-practices-17145/'],\n",
       " 'Copenhagen, Køavn*, Denmark': ['http://www.foodbev.com/news/novo-fogo-expands-cachaca-europe-distribution-deals/',\n",
       "  'https://www.yahoo.com/news/europes-muslims-start-grapple-touchy-issue-islamic-terrorism-193833793.html',\n",
       "  'http://www.wsws.org/en/articles/2017/06/30/mcme-j30.html'],\n",
       " 'Dadri, Uttar Pradesh, India': ['http://indianexpress.com/article/opinion/lynch-mobs-narendra-modi-sabarmati-ashram-the-pms-trail-is-this-my-country-the-country-of-bapu-4728749/',\n",
       "  'http://en.shafaqna.com/indian-pm-finally-decries-mob-lynching-against-muslims/'],\n",
       " 'Dakar, Dakar, Senegal': ['http://www.securitycouncilreport.org/monthly-forecast/2017-07/un_office_for_west_africa_and_the_sahel_1.php',\n",
       "  'http://disrupt-africa.com/2017/06/senegal-merchant-solution-weebi-expands-across-africa/'],\n",
       " 'Dar Es Salaam, Dar es Salaam, Tanzania': ['http://citiscope.org/story/2017/new-bus-rapid-transit-system-earns-dar-es-salaam-2018-sustainable-transit-award',\n",
       "  'http://www.tanzaniatoday.co.tz/news/tanzania-two-killed-as-gunmen-go-on-shooting-spree-in-kibiti',\n",
       "  'http://www.tanzaniatoday.co.tz/news/govt-to-establish-whether-singida-village-is-at-centre-of-tanzania'],\n",
       " 'Deir Ezzor, Dayr az Zawr, Syria': ['http://www.veteranstoday.com/2017/06/30/syrian-war-report-june-30-2017-government-advance-against-isis/',\n",
       "  'http://6cero.com/2017/06/syria-war-us-backed-forces-surround-is-in-raqqa/'],\n",
       " 'Denver, Colorado, United States': ['http://www.peoplesworld.org/article/koch-brothers-behind-the-push-to-kill-healthcare-in-u-s/',\n",
       "  'http://www.coloradoindependent.com/166148/colorado-news-booze',\n",
       "  'http://www.wyomingnews.com/how-cheyenne-started/article_41f7cbfc-5c18-11e7-bd16-5719b7e95d24.html',\n",
       "  'http://journalstar.com/news/state-and-regional/nebraska/nebraska-was-destination-for-trafficking-ring-s-black-market-marijuana/article_9a170631-972f-5b8c-bcef-353d37f1841f.html',\n",
       "  'https://www.wben.com/media/audio-channel/930in716-june-23-2017'],\n",
       " 'Des Moines, Iowa, United States': ['http://www.traerstarclipper.com/page/content.detail/id/522771/Peter-D--Williams--71.html',\n",
       "  'http://www.indiawest.com/news/global_indian/indian-american-professor-accused-of-child-trafficking-by-delta-airlines/article_b663bd00-5cf6-11e7-8911-a3d7b288cefd.html'],\n",
       " 'Des Plaines, Illinois, United States': ['http://www.politico.com/tipsheets/illinois-playbook/2017/06/30/politico-illinois-playbook-governor-junk-vs-junk-221119',\n",
       "  'http://www.chicagotribune.com/suburbs/glenview/ct-gla-blotter-tl-0706-20170630-story.html'],\n",
       " 'Dhaka, Dhaka, Bangladesh': ['http://www.thedailystar.net/frontpage/One-Year-of-Gulshan-Attack-successful-crackdowns-incomplete-probes-1426558',\n",
       "  'https://sputniknews.com/military/201706301055122602-russia-us-fight-for-indian-arms-market/',\n",
       "  'http://en.prothom-alo.com/bangladesh/news/152507/Preparing-for-the-Holey-Artisan-attack',\n",
       "  'http://gulfnews.com/opinion/today-in-history/july-1-1992-algerian-leader-boudiaf-buried-after-assassination-1.2051200'],\n",
       " 'District of Columbia, United States': ['http://www.bostonglobe.com/metro/2017/06/30/galvin-rejects-white-house-request-for-voter-data/AkXCo9uAeSuSdO3AoAyiIO/story.html',\n",
       "  'http://www.dailyprogress.com/news/politics/wire/trump-commission-on-voting-fraud-asks-states-for-voter-data/article_8ccf5165-3e0f-580c-968a-55dea7a5e9f2.html',\n",
       "  'http://www.dailyadvance.com/National-News/2017/06/29/Man-can-seek-money-for-wrongful-conviction-in-Mississippi.html',\n",
       "  'https://www.bna.com/whistleblowing-kasowitz-firm-n73014461013/',\n",
       "  'http://www.dispatch.com/news/20170630/husted-wont-turn-over-all-ohio-voter-information-to-trump-commission'],\n",
       " 'Djibouti': ['https://sputniknews.com/middleeast/201706301055105929-qatar-concessions-syria-crisis/',\n",
       "  'http://somaliamediamonitoring.org/june-30-2017-morning-headlines/'],\n",
       " 'Dominican Republic': ['http://manninglive.com/2017/06/30/today-in-history-friday-june-30/',\n",
       "  'http://www.freshplaza.com/article/178117/Banana-exports-from-the-Dominican-Republic-dropped-by-75-procent-last-year'],\n",
       " 'Durban, KwaZulu-Natal, South Africa': ['http://www.pambazuka.org/pan-africanism/pan-african-agenda-21st-century',\n",
       "  'http://www.pambazuka.org/democracy-governance/some-notes-white-monopoly-capital-definition-use-and-denial',\n",
       "  'http://www.eglobaltravelmedia.com.au/africas-hospitality-sector-withstands-economic-headwinds/'],\n",
       " 'Dutch Bank, United Kingdom (general), United Kingdom': ['https://www.democracynow.org/2017/6/30/headlines/top_vatican_official_charged_with_sexual_assault_in_australia',\n",
       "  'https://www.democracynow.org/2017/6/30/headlines/german_chancellor_says_upcoming_g20_will_focus_on_climate_change',\n",
       "  'https://www.democracynow.org/2017/6/30/headlines/german_lawmakers_advance_bill_to_legalize_same_sex_marriage'],\n",
       " 'East China Sea, Japan (general), Japan': ['http://news.trust.org/item/20170630131742-sfeaw',\n",
       "  'http://www.governancenow.com/news/regular-story/india-unwilling-to-budge-on-border-dispute-with-china',\n",
       "  'https://www.lawfareblog.com/water-wars-tugs-war-figurative-and-literal'],\n",
       " 'Edinburgh, Edinburgh, City of, United Kingdom': ['http://www.aninews.in/newsdetail-NA/MzIyMzUy/israel-adopts-resolution-for-strengthening-ties-with-india.html',\n",
       "  'http://www.aninews.in/newsdetail-NA/MzIyMzYy/sarin-gas-was-used-in-syria-attack-us-report-to-un.html',\n",
       "  'http://www.aninews.in/newsdetail-NA/MzIyMzc1/nepal-foreign-minister-to-visit-india-next-week.html',\n",
       "  'http://news.sky.com/story/royal-family-spends-12m-on-doors-for-orangery-at-windsor-castle-10928378'],\n",
       " 'Eilat, HaDarom, Israel': ['http://www.meforum.org/6792/saudi-gulf-of-aqaba',\n",
       "  'https://www.israel21c.org/13-stories-from-israel21c-that-blew-your-socks-off-in-2016/'],\n",
       " 'El Salvador': ['http://www.verdict.co.uk/northern-triangle-refugees-sent/',\n",
       "  'http://kval.com/news/nation-world/questions-raised-about-trumps-claims-on-ms-13-deportations',\n",
       "  'http://www.indietraveller.co/backpacking-in-central-america/'],\n",
       " 'Elk Grove Village, Illinois, United States': ['http://www.chicagotribune.com/suburbs/glenview/ct-gla-blotter-tl-0706-20170630-story.html',\n",
       "  'http://www.dailyherald.com/news/20170630/former-death-row-inmate-wants-new-trial'],\n",
       " \"Equatoria, Wilayat Gharb al Istiwa'iyah, South Sudan\": ['https://www.counterpunch.org/2017/06/30/the-stairs-expedition-canadian-atrocities-in-the-congo/',\n",
       "  'http://www.southsudannewsagency.com/index.php/2017/06/30/south-sudan-fails-politically-economically/',\n",
       "  'http://www.pambazuka.org/pan-africanism/canadian-who-helped-conquer-150000-sq-km-king-l%C3%A9opold-ii'],\n",
       " 'Eritrea': ['http://www.unesco.org/new/en/media-services/single-view/news/watch_on_bbc_world_news_eight_part_series_based_on_unesco/',\n",
       "  'https://www.businessghana.com/site/news/politics/147703/What-is-behind-tension-between-Eritrea-and-Djibouti'],\n",
       " 'Euphrate, Al Basrah, Iraq': ['http://english.ahram.org.eg/NewsContent/2/8/271799/World/Region/IS-under-pressure-in-Iraqi-and-Syrian-strongholds.aspx',\n",
       "  'http://www.dnaindia.com/world/report-islamic-state-under-pressure-in-iraqi-and-syrian-strongholds-2488847'],\n",
       " 'Euphrates, Dayr az Zawr, Syria': ['http://english.ahram.org.eg/NewsContent/2/8/271778/World/Region/Washingtons-antiIS-envoy-in-Ankara-after-Syria-vis.aspx',\n",
       "  'http://www.middleeasteye.net/news/us-anti-envoy-visits-turkey-bid-smooth-tensions-342231982'],\n",
       " 'Fort Hays State University, Kansas, United States': ['https://www.hayspost.com/2017/06/30/fort-hays-state-administrator-named-assistant-vp-at-new-york-university/',\n",
       "  'http://tmn.fhsu.edu/?p=33228'],\n",
       " 'Ghana': ['http://news.xinhuanet.com/english/2017-06/30/c_136407842.htm',\n",
       "  'http://www.wsws.org/en/articles/2017/06/30/wrks-j30.html',\n",
       "  'http://www.digitaljournal.com/pr/3398931',\n",
       "  'http://www.monitor.co.ug/News/National/Prof-Opio-Odongo-eulogised/688334-3994508-5ok57w/'],\n",
       " 'Ghouta, Dimashq, Syria': ['http://freerepublic.com/focus/f-chat/3565441/posts',\n",
       "  'http://21stcenturywire.com/2017/06/30/syria-chemical-weapon-media-hysteria-obstructs-critical-thinking/',\n",
       "  'http://www.governancenow.com/views/interview/i-dont-see-in-the-next-ten-years-any-real-solution-for-the-people-of-syria'],\n",
       " 'Grand Junction, Colorado, United States': ['http://www.sltrib.com/news/5459444-155/story.html',\n",
       "  'http://www.taosnews.com/stories/this-hunt-is-about-living,41518'],\n",
       " 'Great Falls, Montana, United States': ['http://missoulian.com/news/government-and-politics/montana-wants-to-defend-federal-coal-leases/article_27963092-1c5a-50b9-b27b-47e996247948.html',\n",
       "  'http://mtstandard.com/news/government-and-politics/fox-joins-in-defense-of-federal-coal-leases/article_8cab7bd8-0f98-5d5f-95ab-f2ad5a4198a6.html',\n",
       "  'http://www.greatfallstribune.com/story/news/2017/06/30/military-montana-celebrates-150-years/439374001/'],\n",
       " 'Grenada': ['http://www.pambazuka.org/human-security/caricom-deals-blow-us-plans-regime-change-venezuela',\n",
       "  'http://www.caribbeannewsnow.com/headline-CDB-rolls-out-training-programme-to-support-regional-institutional-reform-in-19-countries--34882.html'],\n",
       " 'Guangdong, Jilin, China': ['https://www.wtvq.com/2017/05/30/men-probing-ivanka-trump-brands-in-china-arrested-missing-3/',\n",
       "  'http://www.chinadaily.com.cn/business/2017-06/30/content_29942131.htm'],\n",
       " 'Guatemala': ['http://www.verdict.co.uk/northern-triangle-refugees-sent/',\n",
       "  'http://staugustine.com/living/religion/2017-06-30/pastor-celebrates-25th-anniversary-lighthouse-church-god-sunday',\n",
       "  'http://www.stormlakepilottribune.com/story/2424735.html'],\n",
       " 'Guinea': ['http://www.securitycouncilreport.org/monthly-forecast/2017-07/un_office_for_west_africa_and_the_sahel_1.php',\n",
       "  'http://disrupt-africa.com/2017/06/senegal-merchant-solution-weebi-expands-across-africa/'],\n",
       " 'Guiyang, Guizhou, China': ['http://conceptnewscentral.com/index.php/2017/06/30/china-vows-full-support-philippines/',\n",
       "  'http://conceptnewscentral.com/index.php/2017/07/01/china-seeks-anew-peaceful-solution-south-china-sea-disputes/'],\n",
       " 'Guizhou, Hubei, China': ['http://conceptnewscentral.com/index.php/2017/07/01/china-seeks-anew-peaceful-solution-south-china-sea-disputes/',\n",
       "  'http://english.china.com/news/china/54/20170630/1007743.html'],\n",
       " 'Gulf Of Aqaba, Egypt (general), Egypt': ['https://www.algemeiner.com/2017/06/30/latest-developments-in-saudi-arabia-chart-a-course-for-israeli-ties-with-arab-world/',\n",
       "  'http://www.meforum.org/6792/saudi-gulf-of-aqaba',\n",
       "  'https://unitedwithisrael.org/opinion-developments-in-saudi-arabia-signal-potential-ties-with-israel/'],\n",
       " 'Guwahati, Assam, India': ['http://www.aninews.in/newsdetail-Mg/MzIyMjQ2/pakistan-violates-ceasefire-in-poonch-india-retaliates.html',\n",
       "  'http://www.aninews.in/newsdetail-Mg/MzIyMzc4/gst-rollout-maha-govt-to-facilitate-businesses-to-migrate-from-old-tax-system.html'],\n",
       " 'Guyana': ['http://www.pambazuka.org/human-security/caricom-deals-blow-us-plans-regime-change-venezuela',\n",
       "  'http://www.caribbeannewsnow.com/headline-CDB-rolls-out-training-programme-to-support-regional-institutional-reform-in-19-countries--34882.html'],\n",
       " 'Hamilton County, Ohio, United States': ['http://www.wcpo.com/news/national/trump-commission-on-voting-fraud-asks-states-for-voter-data',\n",
       "  'http://www.dailyherald.com/news/20170630/former-death-row-inmate-wants-new-trial'],\n",
       " 'Hanoi, Ha N?i, Vietnam, Republic Of': ['http://www.business-standard.com/article/news-ani/beijing-s-political-nod-to-pla-s-new-aggression-on-india-bhutan-border-117063000144_1.html',\n",
       "  'http://www.vir.com.vn/vietnam-and-russia-open-doors-for-heightened-cooperation.html',\n",
       "  'https://www.lawfareblog.com/water-wars-tugs-war-figurative-and-literal',\n",
       "  'http://www.enterprisepub.com/news/arlington/koger-uno-students-travel-to-vietnam/article_4937365a-5cdb-11e7-93fb-57883e720125.html',\n",
       "  'http://www.aninews.in/newsdetail-NA/MzIyMjUx/beijing-039-s-political-nod-to-pla-039-s-new-aggression-on-india-bhutan-border.html'],\n",
       " 'Havana, Ciudad de La Habana, Cuba': ['http://time.com/4826876/25-moments-america-july-4th/',\n",
       "  'http://www.plenglish.com/index.php?o=rn&id=14986&SEO=cuba-gets-even-more-support-since-us-policy-change',\n",
       "  'http://www.wsws.org/en/articles/2017/06/30/immi-j30.html',\n",
       "  'http://www.pravdareport.com/world/americas/30-06-2017/138069-russia_cuba_base-0/'],\n",
       " 'Heathrow, Hillingdon, United Kingdom': ['https://article.wn.com/view/2017/06/30/Woman_21_arrested_on_suspicion_of_Syriarelated_terror_offenc/',\n",
       "  'http://www.independent.co.uk/travel/news-and-advice/british-airways-strike-passenger-rights-flight-cancelled-unite-union-mixed-fleet-cabin-crew-a7817411.html',\n",
       "  'http://www.liverpoolecho.co.uk/news/uk-world-news/top-news-headlines-britain-around-13262068'],\n",
       " 'Hiroshima, Hiroshima, Japan': ['http://fpif.org/americas-violent-century/',\n",
       "  'http://www.dailyo.in/politics/netaji-subhas-chandra-bose-mystery-netaji-files-modi-government/story/1/18093.html',\n",
       "  'http://www.washdiplomat.com/index.php?option=com_content&view=article&id=15521:op-ed-choices-made-in-war-can-lead-to-lifetime-of-invisible-wounds&catid=1559&Itemid=428'],\n",
       " 'Honduras': ['http://www.verdict.co.uk/northern-triangle-refugees-sent/',\n",
       "  'http://www.stormlakepilottribune.com/story/2424735.html'],\n",
       " 'Hong Kong Island, Hong Kong (general), Hong Kong': ['http://en.rfi.fr/asia-pacific/20170630-hong-kong-20-year-after-handover-fading-democracy',\n",
       "  'http://www.independent.co.uk/travel/asia/hong-kong-what-to-do-best-sights-restaurants-bars-dim-sum-tim-ho-wan-ozone-a7817771.html'],\n",
       " 'Honolulu, Hawaii, United States': ['http://www.pireport.org/articles/today_news/2017-06-29',\n",
       "  'https://tribune.com.pk/story/1446874/trump-administration-reverses-policy-fiances-travel-ban-takes-effect/',\n",
       "  'http://www.thestar.com.my/news/nation/2017/06/30/aloha-airasia-x-now-flying-to-hawaii-malaysias-awardwinning-airline-heads-to-honolulu-via-osaka/'],\n",
       " 'Hubei, Guangdong, China': ['https://www.wtvq.com/2017/05/30/men-probing-ivanka-trump-brands-in-china-arrested-missing-3/',\n",
       "  'http://english.china.com/news/china/54/20170630/1007743.html'],\n",
       " 'Hyogo, Hokkaido, Japan': ['http://news.az/articles/world/123094',\n",
       "  'https://japantoday.com/category/national/venomous-fire-ants-found-in-nagoya-port'],\n",
       " 'Ibadan, Oyo, Nigeria': ['http://thenationonlineng.net/restructuring-yoruba-group-urges-use-conference-report-template/',\n",
       "  'http://punchng.com/restructuring-el-rufai-under-attack-for-criticising-agitators/'],\n",
       " 'Iceland': ['http://www.staradvertiser.com/2017/06/29/tgif/movies/arthouse-7/',\n",
       "  'http://www.independent.co.uk/news/world/europe/germany-legalises-same-sex-gay-marriage-vote-bundestag-angela-merkel-spd-cdu-csu-lgbt-rights-a7815781.html'],\n",
       " 'Iloilo, Iloilo City, Philippines': ['http://www.philstar.com/region/2017/07/01/1715272/negros-occidental-electric-coop-ppc-inks-power-purchase-deal',\n",
       "  'http://www.gmanetwork.com/news/news/nation/616341/duterte-s-promises-and-his-first-year-in-office-national-security/story/',\n",
       "  'http://newsinfo.inquirer.net/909962/palace-warns-public-on-possible-npa-attacks',\n",
       "  'http://www.interaksyon.com/davao-traders-back-lacsons-call-to-scrap-peace-talks-with-reds/'],\n",
       " 'Irvine, California, United States': ['https://theintercept.com/2017/06/23/flimsy-evidence-and-fringe-sources-land-people-on-secretive-banking-watch-list/',\n",
       "  'http://www.christiandaily.co.kr/news/supreme-court-hear-case-bakers-religious-objection-provide-same-sex-76990.html',\n",
       "  'https://mic.com/articles/181247/secretaries-of-state-are-resisting-white-house-requests-for-voter-data'],\n",
       " 'Jaipur, Rajasthan, India': ['http://www.livelaw.in/campaign-aadhaar-picks-momentum-across-india/',\n",
       "  'http://www.business-standard.com/article/economy-policy/oppn-unity-over-gst-boycott-cracks-with-ncp-sp-jd-u-deciding-to-attend-117063001059_1.html'],\n",
       " 'Jakarta, Jakarta Raya, Indonesia': ['http://www.manilatimes.net/terrorism-necessarily-rooted-religion-international-character-4/335833/',\n",
       "  'https://lawfareblog.com/todays-headlines-and-commentary-1341',\n",
       "  'http://www.theedgemarkets.com/article/fading-islamic-state-brings-southeast-asia-terror-risk-ng-warns',\n",
       "  'http://www.thejakartapost.com/news/2017/06/30/jakarta-returnees-to-hit-108000-vehicles-as-holiday-traffic-peaks.html'],\n",
       " 'Jeddah, Makkah, Saudi Arabia': ['http://www.dailymail.co.uk/news/article-4654574/Rihanna-s-billionaire-lover-s-uncle-abducted-daughter.html',\n",
       "  'http://nation.com.pk/national/30-Jun-2017/saudi-official-denies-former-crown-prince-confined-to-palace',\n",
       "  'http://saudigazette.com.sa/saudi-arabia/dance-death-highways-amid-holiday-excitement/',\n",
       "  'http://www.newageislam.com/pakistan-press/new-age-islam-edit-bureau/terrorism-on-the-rampage,-by-shahid-m-amin--new-age-islam-s-selection,-30-june-2017/d/111717'],\n",
       " 'Jefferson City, Missouri, United States': ['http://fox17.com/news/local/tennessee-kentucky-wont-release-voter-information-despite-federal-commission-request',\n",
       "  'http://www.dailyprogress.com/news/politics/wire/trump-commission-on-voting-fraud-asks-states-for-voter-data/article_8ccf5165-3e0f-580c-968a-55dea7a5e9f2.html',\n",
       "  'http://www.tribtown.com/2017/06/29/us-voting-commission/'],\n",
       " 'Jilin, Jilin, China': ['http://www.theepochtimes.com/n3/2263247-new-documentary-secret-audio-recordings-of-politburo-standing-committee-members-reveal-vast-state-run-enterprise-of-live-organ-harvesting/',\n",
       "  'https://fortunascorner.com/2017/06/29/china-deploys-elite-brigades-near-north-korean-border/'],\n",
       " 'Jolo, Sulu, Philippines': ['http://news.pia.gov.ph/article/view/3441498802882/duterte-avows-comfortable-life-for-all',\n",
       "  'http://conceptnewscentral.com/index.php/2017/06/30/pnoys-administration-lot-killings-gordon/'],\n",
       " 'Juba, Wilayat Bahr al Jabal, South Sudan': ['http://smc.sd/en/dozen-killed-in-south-sudan-clashes/',\n",
       "  'African media/BBC Monitoring/(c) BBC',\n",
       "  'http://www.thefinancialexpress-bd.com/2017/06/30/75503/Uganda-needs-diplomatic-pressure-to-stop-stoking-conflicts'],\n",
       " 'Kampala, Kampala, Uganda': ['http://citiscope.org/story/2017/new-bus-rapid-transit-system-earns-dar-es-salaam-2018-sustainable-transit-award',\n",
       "  'http://www.monitor.co.ug/News/National/Prof-Opio-Odongo-eulogised/688334-3994508-5ok57w/',\n",
       "  'http://www.thefinancialexpress-bd.com/2017/06/30/75503/Uganda-needs-diplomatic-pressure-to-stop-stoking-conflicts',\n",
       "  'http://www.blackstarnews.com/global-politics/africa/ugandas-general-museveni-african-political-vampire.html'],\n",
       " 'Karabakh, Dagestan, Russia': ['http://artsakhpress.am/eng/news/69050/alexander-lapshin-pleads-not-guilty-in-baku-trial.html',\n",
       "  'https://armenpress.am/eng/news/897155/alexander-lapshin-pleads-not-guilty-in-baku-trial.html'],\n",
       " 'Karnataka, Karnataka, India': ['http://www.aninews.in/newsdetail-Mg/MzIyMzc0/byculla-jail-inmate-murder-pil-in-bombay-hc-seeking-cid-probe.html',\n",
       "  'http://www.aninews.in/newsdetail-Mg/MzIyMzc4/gst-rollout-maha-govt-to-facilitate-businesses-to-migrate-from-old-tax-system.html',\n",
       "  'http://www.thehindu.com/business/Economy/live-goods-and-services-tax-launch/article19185917.ece'],\n",
       " 'Kashmir, North-West Frontier, Pakistan': ['http://nation.com.pk/lahore/30-Jun-2017/lhcba-protest-against-pm-goes-on',\n",
       "  'http://www.truth-out.org/news/item/41113-facebook-s-secret-censorship-rules-protect-white-men-from-hate-speech-but-not-black-children',\n",
       "  'http://nation.com.pk/columns/30-Jun-2017/a-veteran-leader'],\n",
       " 'Kashmiri, Punjab, Pakistan': ['http://nation.com.pk/national/30-Jun-2017/pakistan-asks-india-to-respect-2003-ceasefire-accord',\n",
       "  'http://www.dailyprogress.com/pakistan-pm-condemns-us-india-silence-on-kashmir-violence/article_73fd03e6-dbe1-5be9-a665-78c2e8528a87.html',\n",
       "  'http://www.firstpost.com/india/narendra-modi-warns-gau-rakshaks-protests-can-be-effective-only-when-not-confined-to-caste-religion-3762521.html'],\n",
       " 'Khan Shaykhun, Idlib, Syria': ['https://sputniknews.com/politics/201706301055129519-us-trump-syria/',\n",
       "  'http://www.mei.edu/content/io/iran-warns-white-house-against-playing-fire-syria',\n",
       "  'http://www.npr.org/sections/thetwo-way/2017/06/30/534983929/syrian-civilians-exposed-to-sarin-in-april-attack-international-watchdog-says'],\n",
       " 'Khan Sheikhun, Idlib, Syria': ['http://www.hangthebankers.com/united-states-propaganda-war-syria-iran/',\n",
       "  'http://jordantimes.com/news/region/macron-and-trump%E2%80%99s-syria-pledge-masks-strategy-void-%E2%80%94-analysts'],\n",
       " 'Khanyar, Jammu and Kashmir, India': ['http://www.aninews.in/newsdetail-Mg/MzIyMjQ2/pakistan-violates-ceasefire-in-poonch-india-retaliates.html',\n",
       "  'http://www.aninews.in/newsdetail-Mg/MzIyMjI2/cong-targets-pm-modi-over-cow-vigilantism-calls-him-039-biggest-hypocrite-in-india-039-.html',\n",
       "  'http://www.aninews.in/newsdetail-Mg/MzIyMjI4/bjp-for-039-sovereign-impact-039-on-people-as-pm-modi-condemns-cow-vigilantism.html'],\n",
       " 'Khorasan, Helmand, Afghanistan': ['https://www.wtvq.com/2017/05/31/death-toll-at-90-in-huge-suicide-bombing-in-afghan-capital/',\n",
       "  'http://www.thefridaytimes.com/tft/americas-forgotten-war/',\n",
       "  'http://www.aninews.in/newsdetail-NA/MzIyMjI0/first-lady-melania-trump-stands-by-president-039-s-tweets.html',\n",
       "  'https://thewire.in/152867/eu-usa-afghanistan-taliban-troop-surge/'],\n",
       " 'Kiev, Ukraine (general), Ukraine': ['http://fumbleboard.com/2017/06/30/man-sought-after-pair-burned-in-london-acid-attack/',\n",
       "  'Odessa Region media highlights in Russian/BBC Monitoring/(c) BBC',\n",
       "  'http://napavalleyregister.com/news/national/recapping-pride-month-events-around-the-world-in-photos/collection_3944efe5-b0cd-5bda-b9e8-16b0042d50b8.html',\n",
       "  'http://www.deccanchronicle.com/technology/in-other-news/300617/global-cyber-attack-likely-cover-for-malware-installation-in-ukraine-police.html'],\n",
       " 'Kings Beach, Queensland, Australia': ['https://www.caboolturenews.com.au/news/murder-house-market-11-million/3195497/',\n",
       "  'https://www.sunshinecoastdaily.com.au/news/different-fates-for-drug-dealing-couple/3195193/'],\n",
       " 'Kordofan, Shamal Kurdufan, Sudan': ['https://www.alaraby.co.uk/english/society/2017/6/30/syrian-sudanese-refugees-already-suffering-from-trumps-travel-ban',\n",
       "  'https://www.americamagazine.org/politics-society/2017/06/29/travel-ban-blow-sudanese-refugees-awaiting-us-resettlement'],\n",
       " 'Kosovo': ['http://www.spiegel.de/international/europe/tensions-in-the-balkans-rising-as-promise-of-eu-future-fades-a-1154499.html',\n",
       "  'Blic website in Serbian/BBC Monitoring/(c) BBC',\n",
       "  'http://reliefweb.int/report/world/general-assembly-approves-appropriation-68-billion-14-peacekeeping-operations-201718',\n",
       "  'http://freerepublic.com/focus/f-bloggers/3565468/posts',\n",
       "  'http://www.balkaninsight.com/en/article/romania-s-reagan-square-builds-on-balkan-tradition-06-29-2017'],\n",
       " 'Kuala Lumpur, Kuala Lumpur, Malaysia': ['http://www.sacbee.com/latest-news/article158986794.html',\n",
       "  'http://www.wboc.com/story/35785524/a-look-at-philippine-leaders-stormy-first-year-in-power',\n",
       "  'http://www.benarnews.org/english/news/philippine/philippines-militants-06232017145611.html',\n",
       "  'http://www.thestar.com.my/news/nation/2017/06/30/aloha-airasia-x-now-flying-to-hawaii-malaysias-awardwinning-airline-heads-to-honolulu-via-osaka/',\n",
       "  'http://thestandard.com.ph/business/biz-plus/240702/clark-woos-more-foreign-airlines.html'],\n",
       " 'Kwazulu, Eastern Cape, South Africa': ['http://www.gicafrica.diplo.de/Vertretung/suedafrika-dz/en/__pr/2017/06/06-Lindau-African-Scientists.html',\n",
       "  'http://www.iol.co.za/the-star/agonising-mortuary-wait-goes-on-10067273'],\n",
       " 'Lake Chad, Nigeria (general), Nigeria': ['https://www.africa-newsroom.com/press/source/royal-norwegian-ministry-of-foreign-affairs',\n",
       "  'http://thenationonlineng.net/special-report-working-in-the-red-zone/',\n",
       "  'Telegram messaging service in Arabic/BBC Monitoring/(c) BBC'],\n",
       " 'Latvia': ['http://thenews.pl/1/10/Artykul/314182,FM-hopes-for-Trump-declaration-on-US-troops-in-Poland',\n",
       "  'http://www.politico.eu/article/simone-veil-european-idealist/',\n",
       "  'https://www.defense.gov/News/Article/Article/1231488/'],\n",
       " 'Liberia': ['https://www.africa-newsroom.com/press/source/royal-norwegian-ministry-of-foreign-affairs',\n",
       "  'http://reliefweb.int/report/world/general-assembly-approves-appropriation-68-billion-14-peacekeeping-operations-201718',\n",
       "  'http://www.monitor.co.ug/News/National/Prof-Opio-Odongo-eulogised/688334-3994508-5ok57w/'],\n",
       " 'Lima, Lima, Peru': ['http://www.4-traders.com/FEDEX-CORPORATION-12585/news/FedEx-Companies-still-hobbled-from-fearsome-cyberattack-24685823/',\n",
       "  'http://abcnews.go.com/Technology/wireStory/companies-hobbled-fearsome-cyberattack-48382983',\n",
       "  'http://www.interaksyon.com/9-things-that-defined-year-1-of-the-duterte-presidency/',\n",
       "  'http://www.buenosairesherald.com/article/226136/canada-at-a-new-crossroads-150-years-on'],\n",
       " 'Lingnan, Guangdong, China': ['http://www.cnn.com/2017/06/30/asia/trump-us-china-north-korea/',\n",
       "  'http://wtkr.com/2017/06/30/us-approves-first-arms-sale-to-taiwan-under-president-trump/'],\n",
       " 'Los Angeles International Airport, California, United States': ['http://hosted2.ap.org/APDEFAULT/3d281c11a96b4ad082fe88aa0db04305/Article_2017-06-29-US--Travel%20Ban-The%20Latest/id-c84e0a8b7859494ca188fa16f0bf8062',\n",
       "  'https://www.voanews.com/a/us-travel-ban-implementation-moves-ahead-little-protest/3923241.html',\n",
       "  'http://reviewtimes.com/world-news/2017/06/29/the-latest-us-adds-fiances-to-travel-ban-exemptions/'],\n",
       " 'Los Angeles, California, United States': ['http://www.ocregister.com/2017/06/30/would-you-kill-if-ordered-wwii-navy-survivor-of-port-chicago-disaster-faced-that-question/',\n",
       "  'https://www.noozhawk.com/article/bill_macfadyen_2_ventura_teenagers_killed_in_suspected_dui_crash_20170630',\n",
       "  'https://newrepublic.com/article/143004/rise-thought-leader-how-superrich-funded-new-class-intellectual&position=29&content_id=2tWcRaQ'],\n",
       " 'Lucknow, Uttar Pradesh, India': ['http://www.livelaw.in/campaign-aadhaar-picks-momentum-across-india/',\n",
       "  'http://www.theweek.in/theweek/current/shafi-armar-his-brother-and-others-in-bhatkal.html',\n",
       "  'http://www.thehindu.com/business/Economy/live-goods-and-services-tax-launch/article19185917.ece'],\n",
       " \"Luhansk, Luhans'ka Oblast', Ukraine\": ['http://beatricedailysun.com/news/world/photos-a-look-at-the-coal-industry-around-the-world/collection_741df39f-5990-5412-999e-136fcadb3d6e.html',\n",
       "  'BBC Monitoring/BBC Monitoring/(c) BBC',\n",
       "  'http://khpg.org/en/index.php?id=1498789532'],\n",
       " 'Macedonia': ['Blic website in Serbian/BBC Monitoring/(c) BBC',\n",
       "  'http://aa.com.tr/en/world/nato-chief-alliance-stepping-up-across-all-domains/851359',\n",
       "  'http://news.az/articles/politics/123073'],\n",
       " 'Madagascar': ['http://english.chinamil.com.cn/view/2017-06/30/content_7658980.htm',\n",
       "  'http://www.eturbonews.com/158480/turkish-cargo-launches-flights-istanbul-johannesburg-madagascar',\n",
       "  'https://www.afdb.org/en/news-and-events/indian-ocean-islands-east-african-countries-collaborate-to-enhance-responsible-fisheries-practices-17145/',\n",
       "  'http://www.aircargonews.net/news/airlines/freighter/single-view/news/turkish-cargo-launches-freighter-flights-to-johannesburg-and-madagascar.html'],\n",
       " 'Makkah, Makkah, Saudi Arabia': ['http://www.newageislam.com/islam-and-sectarianism/sultan-shahin/d/110142',\n",
       "  'http://www.egypttoday.com/Article/2/9333/Qatar-to-ask-Turkey-to-send-more-military-troops',\n",
       "  'http://www.newageislam.com/pakistan-press/new-age-islam-edit-bureau/terrorism-on-the-rampage,-by-shahid-m-amin--new-age-islam-s-selection,-30-june-2017/d/111717'],\n",
       " 'Maldives': ['https://sputniknews.com/middleeast/201706301055105929-qatar-concessions-syria-crisis/',\n",
       "  'http://www.frugaltravelguy.com/2017/06/whats-the-best-way-to-get-to-the-maldives-on-points-and-miles-reader-question.html',\n",
       "  'http://mideast-times.com/left_news.php?newsid=6517'],\n",
       " 'Malta': ['http://www.dnaindia.com/world/report-factbox-state-of-same-sex-marriage-around-the-world-2488717',\n",
       "  'https://euobserver.com/migration/138405',\n",
       "  'http://www.newsmax.com/TheWire/italy-closing-ports-migrants/2017/06/28/id/798814/',\n",
       "  'http://www.digitaljournal.com/news/world/gay-marriage-around-the-world/article/496489'],\n",
       " 'Manama, Al Manamah, Bahrain': ['http://www.middle-east-online.com/english/?id=83714',\n",
       "  'http://www.bna.bh/portal/en/news/791949'],\n",
       " 'Manbij, ?alab, Syria': ['http://www.thenational.ae/world/middle-east/isil-is-gone-from-aleppo-but-recaptures-part-of-raqqa',\n",
       "  'http://www.middle-east-online.com/english/?id=83719',\n",
       "  'https://www.dailysabah.com/syrian-crisis/2017/06/30/daesh-fully-withdraws-from-syrias-aleppo-province-monitor-says'],\n",
       " 'Mandsaur, Madhya Pradesh, India': ['http://www.thestatesman.com/india/bjp-govts-neglecting-farmers-says-surjewala-1498777137.html',\n",
       "  'http://www.freepressjournal.in/editorspick/kay-benedict-battle-between-lotus-eaters-lotus-supporters/1093647'],\n",
       " 'Manhattan, New York, United States': ['http://www.warwickadvertiser.com/apps/pbcs.dll/article?AID=/20170628/NEWS01/170629956/0/HOME02/St-Stephen',\n",
       "  'http://lacrossetribune.com/news/national/trump-succeeds-where-obama-failed-spawning-a-new-wave-of/article_73ad19bf-7350-5beb-b5c3-db5ef10c3a68.html',\n",
       "  'http://www.gothamgazette.com/state/7042-mayoral-control-extended-in-special-session-with-usual-albany-process',\n",
       "  'http://www.huffingtonpost.com/entry/muslim-ban-protest-new-york-city_us_5955a653e4b05c37bb7d3635?fvg&ncid=inblnkushpmg00000009',\n",
       "  'http://www.brooklyndaily.com/stories/2017/27/wod-alberta-gulotta-2017-bk_2017_27.html'],\n",
       " 'Maroochydore, Queensland, Australia': ['https://www.sunshinecoastdaily.com.au/news/sleepout-raises-over-125000-for-coasts-homeless/3195363/',\n",
       "  'https://www.sunshinecoastdaily.com.au/news/why-timothy-mcveigh-extremists-new-poster-boy/3195708/',\n",
       "  'https://www.whitsundaytimes.com.au/news/pell-goes-ground-forced-leave-toxic-vatican-confli/3195704/',\n",
       "  'https://www.sunshinecoastdaily.com.au/news/different-fates-for-drug-dealing-couple/3195193/'],\n",
       " 'Mauritius': ['http://www.maravipost.com/nadithis-malawi-independence-mini-series-part-2-malawis-first-freedom-fighter-john-chilembwe/',\n",
       "  'https://www.afdb.org/en/news-and-events/indian-ocean-islands-east-african-countries-collaborate-to-enhance-responsible-fisheries-practices-17145/',\n",
       "  'https://defenceaviationpost.com/next-narendra-modis-agenda-kuwait-israel/'],\n",
       " 'Milan, Lombardia, Italy': ['http://www.ibtimes.co.uk/ex-cia-agent-return-italy-face-sentence-rendition-radical-egyptian-imam-1628490',\n",
       "  'http://freerepublic.com/focus/f-news/3565524/posts',\n",
       "  'http://blogs.ft.com/brusselsblog/2017/06/30/burden-sharing-2/&_i_referer=&classification=conditional_standard&iab=barrier-app'],\n",
       " 'Miramar National Cemetery, California, United States': ['http://www.kusi.com/story/35791320/second-navy-sailor-killed-in-uss-fitzgerald-collision-returns-to-san-diego',\n",
       "  'http://fox5sandiego.com/2017/06/29/funeral-plans-for-2-sailors-killed-in-uss-fitzgerald-collision-announced/'],\n",
       " 'Mogadishu, Banaadir, Somalia': ['http://www.tanzaniatoday.co.tz/news/tanzania-two-killed-as-gunmen-go-on-shooting-spree-in-kibiti',\n",
       "  'http://www.hillaac.net/unhcr-repatriates-over-67000-somali-refugees-from-kenya/',\n",
       "  'http://www.news24.com/Africa/News/top-africa-stories-mugabe-mbeki-angola-20170630',\n",
       "  'http://www.thefinancialexpress-bd.com/2017/06/30/75503/Uganda-needs-diplomatic-pressure-to-stop-stoking-conflicts',\n",
       "  'http://somaliamediamonitoring.org/june-30-2017-morning-headlines/'],\n",
       " 'Moldova': ['BBC Monitoring/BBC Monitoring/(c) BBC',\n",
       "  'Multiple Sources/BBC Monitoring/(c) BBC'],\n",
       " 'Montenegro': ['Blic website in Serbian/BBC Monitoring/(c) BBC',\n",
       "  'http://www.washingtonexaminer.com/china-slams-trumps-arms-deal-with-taiwan/article/2176695',\n",
       "  'https://www.voanews.com/a/russia-lavrov-warns-us-eu-on-macedonia/3779923.html',\n",
       "  'http://www.ibtimes.co.uk/same-sex-marriage-still-illegal-these-countries-across-europe-1628447'],\n",
       " 'Morganton, North Carolina, United States': ['http://www.thestate.com/latest-news/article158930384.html',\n",
       "  'https://www.stripes.com/news/us/feds-confirm-isis-investigations-underway-in-nc-1.476095',\n",
       "  'http://freedomdaily.com/feds-just-raided-muslims-north-carolina-house-interrupt-last-step-independence-day-nightmare/'],\n",
       " 'Mullumbimby, New South Wales, Australia': ['https://www.echonews.com.au/news/qantas-flight-qf93-make-forced-landing-sydney/3195268/',\n",
       "  'https://www.echonews.com.au/news/iraqi-beheader-has-decapitated-50-isis-fighters/3195251/',\n",
       "  'https://www.echonews.com.au/news/bali-shaun-was-pretty-popular-ladies/3195258/'],\n",
       " 'Muzaffarnagar, Uttar Pradesh, India': ['http://www.firstpost.com/india/narendra-modi-warns-gau-rakshaks-protests-can-be-effective-only-when-not-confined-to-caste-religion-3762521.html',\n",
       "  'http://www.dqindia.com/vattikuti-technologies-provide-computer-assisted-robotic-surgery-for-cancer-cases/'],\n",
       " 'Myanmar': ['https://travel.startsat60.com/articles/horror-shakes-popular-tourist-hotspot',\n",
       "  'http://www.nzherald.co.nz/travel/news/article.cfm?c_id=7&objectid=11883650',\n",
       "  'http://www.alsumaria.tv/news/208186/us-return-burma-iraq-to-child-soldier-list/en',\n",
       "  'http://www.independent.co.uk/news/world/asia/elise-dallemange-latest-updates-thailand-police-case-reopen-belgium-backpacker-dead-murder-cover-up-a7816956.html'],\n",
       " 'Nablus, West Bank (general), West Bank': ['http://english.wafa.ps/page.aspx?id=L85BnUa91190310189aL85BnU',\n",
       "  'http://www.palestinemonitor.org/details.php?id=4e0jw1a15919yif5jnnfj1'],\n",
       " 'Nagoya, Aichi, Japan': ['http://news.az/articles/world/123094',\n",
       "  'https://japantoday.com/category/national/venomous-fire-ants-found-in-nagoya-port'],\n",
       " \"Namyang, P'yongyang-si, North Korea\": ['http://www.news.com.au/world/asia/north-korean-prison-camp-awaits-refugees-caught-in-china/news-story/5d600624dd9a7e79866979178c62cc57',\n",
       "  'http://www.refworld.org/docid/59563ddb4.html',\n",
       "  'http://www.couriermail.com.au/news/world/north-korean-prison-camp-awaits-refugees-caught-in-china/news-story/5d600624dd9a7e79866979178c62cc57?nk=14838503df489d9eda913d28656154b5-1498793525'],\n",
       " 'Nangarhar, Nangarhar, Afghanistan': ['National Afghanistan TV, Kabul/BBC Monitoring/(c) BBC',\n",
       "  'http://www.washdiplomat.com/index.php?option=com_content&view=article&id=15610:the-pros-and-cons-of-trump-giving-the-defense-department-more-power&catid=1559&Itemid=428',\n",
       "  'http://www.thecitizen.in/index.php/NewsDetail/index/5/11127/Its-Official-Nato-To-Deploy-More-Troops-To-Afghanistan',\n",
       "  'https://timesofislamabad.com/us-supplying-weapons-to-isis-in-afghanistan-hamid-karzai/2017/07/01/'],\n",
       " 'Nanjing, Jiangsu, China': ['http://www.nationalreview.com/article/449113/china-green-technology-america',\n",
       "  'http://www.scout.com/military/warrior/story/1788496-when-the-nazis-helped-china-fight-japan',\n",
       "  'http://www.cairnspost.com.au/news/cairns/ukrainian-cargo-plane-carting-mining-equipment-lands-at-cairns-airport/news-story/735100d0c1aac1080d1634898c99f44e?nk=c70fc8e50c3299b45ae6b61ec24812c3-1498792638'],\n",
       " 'Niger': ['http://reliefweb.int/report/mali/liptako-gourma-epicentre-sahel-crisis',\n",
       "  'http://www.premiumtimesng.com/foreign/west-africa-foreign/235447-new-french-president-macron-heads-west-africa.html',\n",
       "  'http://www.thetidenewsonline.com/2017/06/30/the-states-822/'],\n",
       " 'Niger Delta, Nigeria (general), Nigeria': ['http://www.4-traders.com/ROYAL-DUTCH-SHELL-6273/news/Nigeria-Shell-Complicit-in-the-Arbitrary-Executions-of-Ogoni-Nine-As-Writ-Served-in-Dutch-Court-24681805/',\n",
       "  'https://theeagleonline.com.ng/army-buries-two-soldiers-killed-in-battle-with-boko-haram/',\n",
       "  'http://allafrica.com/stories/201706300042.html'],\n",
       " 'Ninoy Aquino International Airport, Pasay, Philippines': ['http://www.sacbee.com/latest-news/article158986794.html',\n",
       "  'http://www.ivpressonline.com/news/world/militant-siege-drug-killings-mark-duterte-s-stormy-st-year/article_cf4eaffe-ad3f-52f9-9cda-0b739da6ff8b.html',\n",
       "  'http://www.eastoregonian.com/a-look-at-philippine-leaders-stormy-first-year-in-power-eo-ap-webfeeds-news-nation-worldbd202ef645bc4d3e8babe61f83ae586a'],\n",
       " 'North Point, Hong Kong (general), Hong Kong': ['https://www.nytimes.com/2017/06/30/insider/in-hong-kong-a-bureau-evolves-with-its-city.html',\n",
       "  'http://www.independent.co.uk/travel/asia/hong-kong-what-to-do-best-sights-restaurants-bars-dim-sum-tim-ho-wan-ozone-a7817771.html'],\n",
       " 'Nusra, Kafr ash Shaykh, Egypt': ['http://dailynht.com/story/31455',\n",
       "  'http://www.forbes.com/sites/dougbandow/2017/06/30/saudi-arabia-and-united-arab-emirates-should-put-own-houses-in-order-before-accusing-qatar/',\n",
       "  'http://news.az/articles/world/123102',\n",
       "  'http://www.vanguardngr.com/2017/06/qatar-goliaths-gulf/'],\n",
       " \"Odessa, Odes'ka Oblast, Ukraine\": ['Odessa Region media highlights in Russian/BBC Monitoring/(c) BBC',\n",
       "  'http://www.wsws.org/en/articles/2017/06/30/mcme-j30.html'],\n",
       " 'Odisha, Orissa, India': ['http://fumbleboard.com/2017/06/30/man-sought-after-pair-burned-in-london-acid-attack/',\n",
       "  'http://www.thehindu.com/business/Economy/live-goods-and-services-tax-launch/article19185917.ece'],\n",
       " 'Ogun State, Ogun, Nigeria': ['http://thenationonlineng.net/restructuring-yoruba-group-urges-use-conference-report-template/',\n",
       "  'http://punchng.com/restructuring-el-rufai-under-attack-for-criticising-agitators/',\n",
       "  'https://theeagleonline.com.ng/association-honours-ogun-governorship-candidate-in-us/'],\n",
       " 'Oklahoma City, Oklahoma, United States': ['http://michiganradio.org/post/kalkaska-village-president-defends-his-controversial-facebook-posts',\n",
       "  'http://napavalleyregister.com/news/national/recapping-pride-month-events-around-the-world-in-photos/collection_3944efe5-b0cd-5bda-b9e8-16b0042d50b8.html',\n",
       "  'http://superiorcatholicherald.org/news/local-news/a-sabbatical-to-remember/',\n",
       "  'https://www.sunshinecoastdaily.com.au/news/why-timothy-mcveigh-extremists-new-poster-boy/3195708/'],\n",
       " 'Oman': ['http://www.indianeagle.com/travelbeats/new-york-indian-ravinder-bansal-takes-solo-flight-from-buffalo-to-india/',\n",
       "  'http://yaleglobal.yale.edu/content/saudi-arabias-new-succession-plan-shakes-middle-east',\n",
       "  'https://lobelog.com/qatar-looks-to-iran-and-iraq/'],\n",
       " 'Orange County, California, United States': ['http://www.dailyastorian.com/the-latest-arizona-wildfire-more-than-40-percent-contained-da-ap-webfeeds-news-northwestd98f2aaa274e42298ce7aaa2f58282d9',\n",
       "  'http://www.krtv.com/story/35776177/communities-evacuated-as-winds-temperatures-fuel-wildfires-in-2-states',\n",
       "  'http://www.chieftain.com/news/national/the-latest-arizona-fire-closes-summer-camps-destroys-homes/article_2b7ad9fc-0a45-51df-9020-3bc9429c9983.html',\n",
       "  'http://www.latimes.com/socal/daily-pilot/opinion/tn-dpt-me-reader-report-20170629-story.html'],\n",
       " 'Orlando, Florida, United States': ['http://thefederalist.com/2017/06/30/the-pitfalls-of-debating-the-popes-liberal-politics/',\n",
       "  'https://www.algemeiner.com/2017/06/30/fox-in-the-hen-house-allowing-terrorists-to-re-enter-prisons/',\n",
       "  'https://www.memri.org/reports/jihad-and-terrorism-threat-monitor-jttm-weekend-summary-256'],\n",
       " 'Palawan, Dapitan, Philippines': ['http://m.philstar.com/782974/show/c7728977a0971a88b8ad3d6d9203704a?t=as712te4ic6qid1u0kavm8q140',\n",
       "  'http://www.bworldonline.com/content.php?section=Nation&title=us-think-tank-weapons-system-firmed-up-in-chinese-structures-in-spratlys&id=147573',\n",
       "  'http://m.philstar.com/headlines/show/84053525f68426d081d9bb01220c5d3e',\n",
       "  'http://newsinfo.inquirer.net/909879/dutertes-cabinet-a-year-later-who-remain-who-have-gone-out-of-mixed-bag'],\n",
       " 'Palm Beach, Florida, United States': ['http://www.dailyadvance.com/National-News/2017/06/29/Man-can-seek-money-for-wrongful-conviction-in-Mississippi.html',\n",
       "  'http://www.nzherald.co.nz/world/news/article.cfm?c_id=2&objectid=11884311',\n",
       "  'http://www.palmbeachpost.com/entertainment/dining/the-dish-chefs-the-move-and-the-rise/sxZgDJ6FLKPeROVoetI0PL/'],\n",
       " 'Panama Canal, Panama (general), Panama': ['http://www.indietraveller.co/backpacking-in-central-america/',\n",
       "  'http://www.rdrnews.com/2017/05/30/noriega-us-ally-turned-target-dies-decades-jail/'],\n",
       " 'Panama City, PanamáM, Panama': ['http://www.indietraveller.co/backpacking-in-central-america/',\n",
       "  'http://www.newsherald.com/news/20170629/stossel-school-inc---bureaucracy-at-its-worst',\n",
       "  'http://www.newsherald.com/news/20170629/our-view-ossoff-ied-democrats-dealt-another-blow'],\n",
       " 'Petrograd, Sankt-Peterburg, Russia': ['http://www.wsws.org/en/articles/2017/06/30/mcme-j30.html',\n",
       "  'http://weeklyworker.co.uk/worker/1161/corrections-from-up-close/'],\n",
       " 'Portland, Oregon, United States': ['https://www.thechronicleonline.com/news_paid/port-westward-storage-tank-purchase-would-be-for-ethanol-expansion/article_015362a3-ec0c-5028-91be-112f81e85b8c.html',\n",
       "  'http://www.lagrandeobserver.com/news/5415175-151/police-set-up-for-rainbow-gathering',\n",
       "  'http://www.statesmanjournal.com/story/life/2017/06/29/flooding-brings-president-truman-salem-late/103292134/'],\n",
       " 'Prague, Praha, Hlavníesto, Czech Republic': ['http://in.reuters.com/news/picture/wild-horses-return-to-mongolias-steppes-idINRTS18UP7',\n",
       "  'http://gulfnews.com/opinion/today-in-history/july-1-1992-algerian-leader-boudiaf-buried-after-assassination-1.2051200',\n",
       "  'http://www.albaniannews.com/index.php?idm=13983&mod=2',\n",
       "  'http://www.breitbart.com/big-government/2017/06/29/defiant-cnn-touts-discredited-dossier-one-hour-russia-conspiracy-special/'],\n",
       " 'Prince Of Wales, Nunavut, Canada': ['http://ckom.com/article/1664764/hundreds-line-streets-ontario-meet-prince-charles-camilla',\n",
       "  'http://www.tillsonburgnews.com/2017/06/30/the-world-is-a-stage'],\n",
       " 'Puerto Rico': ['http://www.scmp.com/magazines/post-magazine/long-reads/article/2100339/hong-kong-built-junk-was-once-ripleys-believe-it',\n",
       "  'http://www.upi.com/Top_News/World-News/2017/06/30/Australian-drug-gang-suspected-of-using-drone-to-monitor-police/2911498801791/',\n",
       "  'http://www.foodbev.com/news/ecuadorian-president-opens-new-100m-tonicorp-dairy-facility/'],\n",
       " 'Pulaski County, Arkansas, United States': ['http://www.arkansasonline.com/news/2017/jun/30/lr-woman-arrested-apartment-shot-up-two/',\n",
       "  'http://www.arkansasonline.com/news/2017/jun/30/suspect-in-ruin-of-monolith-has-1st-cou/'],\n",
       " 'Queens, New York, United States': ['http://www.baltimoresun.com/bs-md-ob-dorothy-donovan-20170630-story.html',\n",
       "  'http://www.bostonglobe.com/arts/2017/06/29/the-moth-global-storytelling-initiative-turns/mzDhAh4aYmzmDu84PrgB1K/story.html'],\n",
       " 'Quneitra, Al Qunaytirah, Syria': ['https://english.aawsat.com/saeed-abdelrazek-and-paula-astih/news-middle-east/ankara-tests-moscow-washington-tightening-noose-afrin',\n",
       "  'Arabic media/BBC Monitoring/(c) BBC',\n",
       "  'https://www.fairobserver.com/region/middle_east_north_africa/iran-and-assad-are-not-winning-20971/'],\n",
       " 'Rajkot, Gujarat, India': ['http://indianexpress.com/article/india/presidential-election-2017-una-has-a-query-for-next-president-why-do-dalits-always-suffer-4728570/',\n",
       "  'http://indianexpress.com/article/opinion/lynch-mobs-narendra-modi-sabarmati-ashram-the-pms-trail-is-this-my-country-the-country-of-bapu-4728749/',\n",
       "  'http://www.aninews.in/newsdetail-Mg/MzIyMjI4/bjp-for-039-sovereign-impact-039-on-people-as-pm-modi-condemns-cow-vigilantism.html'],\n",
       " 'Raleigh, North Carolina, United States': ['https://www.stripes.com/news/us/feds-confirm-isis-investigations-underway-in-nc-1.476095',\n",
       "  'https://www.ednc.org/2017/06/29/alternative-teacher-prep-comes-north-carolina/',\n",
       "  'http://www.wral.com/foodie-news-cortez-grand-opening-party-is-saturday/16794637/'],\n",
       " 'Ramallah, West Bank (general), West Bank': ['Quotes package from BBC Monitoring in Arabic/BBC Monitoring/(c) BBC',\n",
       "  'http://english.wafa.ps/page.aspx?id=L85BnUa91190310189aL85BnU',\n",
       "  'http://www.palestinemonitor.org/details.php?id=4e0jw1a15919yif5jnnfj1'],\n",
       " 'Rhode Island, United States': ['http://talkingpointsmemo.com/livewire/rhode-island-will-not-give-election-integrity-commission-data',\n",
       "  'https://www.thecollegefix.com/post/34113/',\n",
       "  'http://kuow.org/post/oregon-washington-threaten-sue-epa-over-methane-rules',\n",
       "  'http://www.washingtonexaminer.com/china-slams-trumps-arms-deal-with-taiwan/article/2176695',\n",
       "  'http://www.golocalprov.com/news/muksian-forced-to-resign-in-providence-for-self-dealing-tapped-by-fung-to-h'],\n",
       " 'Richmond, Virginia, United States': ['http://wjhl.com/ap/trump-commission-on-voting-fraud-asks-states-for-voter-data/',\n",
       "  'https://www.thenation.com/article/the-trump-administration-is-planning-an-unprecedented-attack-on-voting-rights/',\n",
       "  'http://www.dailyprogress.com/news/politics/wire/trump-commission-on-voting-fraud-asks-states-for-voter-data/article_8ccf5165-3e0f-580c-968a-55dea7a5e9f2.html',\n",
       "  'http://thefederalist.com/2017/06/30/reconsider-robert-e-lees-place-american-nostalgia/',\n",
       "  'http://www.greenbaypressgazette.com/story/news/2017/06/30/date-destiny-wisconsin-soldier-gettysburg/429264001/'],\n",
       " 'Roma, Lazio, Italy': ['https://www.washingtonpost.com/entertainment/books/17-thrillers-and-mysteries-worth-toting-to-the-beach-maybe-not-all-at-once/2017/06/29/eea48dea-5209-11e7-91eb-9611861a988f_story.html',\n",
       "  'https://nextbillion.net/beyond-the-grid-connecting-the-roma-in-bulgaria/'],\n",
       " 'Sabarmati, Gujarat, India': ['http://news.rediff.com/commentary/2017/jun/30/liveupdates.htm',\n",
       "  'http://indianexpress.com/article/opinion/lynch-mobs-narendra-modi-sabarmati-ashram-the-pms-trail-is-this-my-country-the-country-of-bapu-4728749/',\n",
       "  'http://www.firstpost.com/india/narendra-modi-warns-gau-rakshaks-protests-can-be-effective-only-when-not-confined-to-caste-religion-3762521.html'],\n",
       " 'Sacramento County, California, United States': ['http://abc6onyourside.com/news/nation-world/california-police-arrest-couple-after-child-found-dead',\n",
       "  'http://www.dailydemocrat.com/general-news/20170629/over-half-of-hate-crimes-in-us-go-unreported-report-says'],\n",
       " 'Safakadal, Jammu and Kashmir, India': ['http://www.aninews.in/newsdetail-Mg/MzIyMjQ2/pakistan-violates-ceasefire-in-poonch-india-retaliates.html',\n",
       "  'http://www.aninews.in/newsdetail-Mg/MzIyMjI2/cong-targets-pm-modi-over-cow-vigilantism-calls-him-039-biggest-hypocrite-in-india-039-.html',\n",
       "  'http://www.aninews.in/newsdetail-Mg/MzIyMjI4/bjp-for-039-sovereign-impact-039-on-people-as-pm-modi-condemns-cow-vigilantism.html'],\n",
       " 'San Antonio, Texas, United States': ['http://www.businessinsider.in/Turmoil-in-Mexicos-criminal-underworld-is-intensifying-the-violence-in-a-valuable-border-territory/articleshow/59378844.cms',\n",
       "  'http://trikkles.com/2017/06/30/united-states-vice-president-mike-pence-expresses-desire-to.html',\n",
       "  'https://www.stripes.com/news/us/judge-won-t-drop-rare-misbehavior-charge-against-bergdahl-1.476089',\n",
       "  'http://www.businessinsider.com/cartel-gang-violence-in-reynosa-nuevo-laredo-matamoros-mexico-border-2017-6'],\n",
       " 'San Bernardino, California, United States': ['http://www.redlandsdailyfacts.com/general-news/20170630/86-arrested-in-san-bernardino-county-street-gang-crackdown',\n",
       "  'http://michiganradio.org/post/kalkaska-village-president-defends-his-controversial-facebook-posts',\n",
       "  'https://news.vice.com/story/how-will-jeff-sessions-go-after-hate-crimes'],\n",
       " \"Sanaa, San\\x91a', Yemen\": ['Twitter/BBC Monitoring/(c) BBC',\n",
       "  'http://dailytimes.com.pk/world/30-Jun-17/yemen-troops-rebels-killed-in-battle-for-central-province',\n",
       "  'https://jamestown.org/program/yemens-houthi-missiles-keep-saudi-arabia-mired-conflict/'],\n",
       " 'Sanafir, Al Qalyubiyah, Egypt': ['https://www.algemeiner.com/2017/06/30/latest-developments-in-saudi-arabia-chart-a-course-for-israeli-ties-with-arab-world/',\n",
       "  'http://www.meforum.org/6792/saudi-gulf-of-aqaba',\n",
       "  'https://unitedwithisrael.org/opinion-developments-in-saudi-arabia-signal-potential-ties-with-israel/'],\n",
       " 'Saskatchewan, Manitoba, Canada': ['http://www.metronews.ca/news/toronto/2017/06/29/york-study-controversy-over-honey-bee-declines-pesticides.html',\n",
       "  'https://www.theglobeandmail.com/arts/books-and-media/will-the-world-get-fired-up-aboutcanlit/article35517981/'],\n",
       " 'Scarborough Shoal, Philippines (general), Philippines': ['http://tdn.com/news/world/a-look-at-philippine-leader-s-stormy-first-year-in/article_1db7a4b4-74ad-5e3f-9bf1-e6ea781c4b37.html',\n",
       "  'http://www.seattletimes.com/nation-world/a-look-at-philippine-leaders-stormy-first-year-in-power/',\n",
       "  'http://www.ctvnews.ca/world/rodrigo-duterte-takes-stock-after-a-stormy-year-as-philippine-president-1.3483315'],\n",
       " 'Sedat, Diyarbakir, Turkey': ['https://www.dailysabah.com/diplomacy/2017/07/01/turkey-russia-may-cooperate-in-afrin-after-ypg-driven-out',\n",
       "  'http://english.ahram.org.eg/NewsContent/2/8/271778/World/Region/Washingtons-antiIS-envoy-in-Ankara-after-Syria-vis.aspx',\n",
       "  'http://www.middleeasteye.net/news/us-anti-envoy-visits-turkey-bid-smooth-tensions-342231982'],\n",
       " 'Senegal': ['https://sputniknews.com/middleeast/201706301055105929-qatar-concessions-syria-crisis/',\n",
       "  'https://www.modernghana.com/news/785453/frances-macron-due-in-mali-to-back-sahel-anti-jihad-force.html',\n",
       "  'http://www.4-traders.com/news/UN-United-Nations-Accord-on-Iran-rsquo-s-Nuclear-Programme-Remains-on-Track-Political-Affairs-Chi--24678041/'],\n",
       " 'Serbia': ['Blic website in Serbian/BBC Monitoring/(c) BBC',\n",
       "  'http://www.washdiplomat.com/index.php?option=com_content&view=article&id=15669:beijings-belt-and-road-initiative-is-ambitious-maybe-too-ambitious&catid=1559&Itemid=428',\n",
       "  'http://www.albaniannews.com/index.php?idm=13983&mod=2',\n",
       "  'http://www.balkaninsight.com/en/article/romania-s-reagan-square-builds-on-balkan-tradition-06-29-2017'],\n",
       " 'Seychelles': ['http://english.chinamil.com.cn/view/2017-06/30/content_7658980.htm',\n",
       "  'http://allafrica.com/stories/201706300604.html'],\n",
       " 'Shenyang, Liaoning, China': ['http://www.kbzk.com/story/35785630/chinese-refuses-cancer-treatment-abroad-for-nobel-winner-liu-xiaobo',\n",
       "  'http://www.rfa.org/english/news/china/nobel-peace-laureate-liu-xiaobos-condition-worsens-in-chinese-hospital-06302017105400.html',\n",
       "  'http://news.trust.org/item/20170629185224-rr4sh'],\n",
       " 'Shenzhen, Guangdong, China': ['https://www.wtvq.com/2017/05/30/men-probing-ivanka-trump-brands-in-china-arrested-missing-3/',\n",
       "  'South China Morning Post website in English/BBC Monitoring/(c) BBC',\n",
       "  'http://usa.chinadaily.com.cn/world/2017-06/30/content_29953791.htm'],\n",
       " 'Sindhi, Punjab, Pakistan': ['http://www.aninews.in/newsdetail-NA/MzIyMzUy/israel-adopts-resolution-for-strengthening-ties-with-india.html',\n",
       "  'http://www.aninews.in/newsdetail-NA/MzIyMzM5/cpn-uml-leads-nepal-039-s-second-phase-polls-vote-count.html'],\n",
       " 'Slovak Republic': ['http://jewishcurrents.org/the-jewish-passage-to-india/',\n",
       "  'https://sputniknews.com/europe/201706301055119037-eastern-europe-refuse-migrants/',\n",
       "  'http://revolutionradio.org/?p=177956'],\n",
       " 'Sofia, Sofiya-Grad, Bulgaria': ['http://www.ibtimes.co.uk/same-sex-marriage-still-illegal-these-countries-across-europe-1628447',\n",
       "  'http://www.balkaninsight.com/en/article/romania-s-reagan-square-builds-on-balkan-tradition-06-29-2017',\n",
       "  'https://nextbillion.net/beyond-the-grid-connecting-the-roma-in-bulgaria/'],\n",
       " 'Somaliland, Somalia (general), Somalia': ['http://www.4thmedia.org/2017/06/divisions-among-gulf-arab-states-increases-instability-in-the-horn-of-africa/',\n",
       "  'http://somaliamediamonitoring.org/june-30-2017-morning-headlines/'],\n",
       " 'South Dakota, United States': ['http://www.nbcwashington.com/news/health/GOP-Obamacare-Repeal-Senate-Vote-Delay-431330953.html',\n",
       "  'http://bismarcktribune.com/ads/other/ad_vault/legals/pdfdisplayad_c7beb30d-ac29-5e16-bb5a-9835fdff5980.html',\n",
       "  'http://www.laramieboomerang.com/news/u-s-air-force-academy-band-starts-tour-in-laramie/article_268c183c-5d30-11e7-9f36-db54819325e3.html',\n",
       "  'http://rapidcityjournal.com/ads/other/ad_vault/class-legal-pg/pdfdisplayad_1cc1b852-8b5b-53f8-a62c-2872739544cb.html',\n",
       "  'http://wsbt.com/news/connect-to-congress/senate-health-care-like-hitting-a-moving-target'],\n",
       " 'South Sudan': ['https://www.africa-newsroom.com/press/source/royal-norwegian-ministry-of-foreign-affairs',\n",
       "  'http://seriouslypolitics.com/2017/06/30/14/37/52/trump-administration-wants-to-rally-world-to-stop-four-famines/',\n",
       "  'http://www.blackstarnews.com/global-politics/africa/ugandas-general-museveni-african-political-vampire.html',\n",
       "  'https://asokoinsight.com/news/uganda-to-stop-export-of-unprocessed-cereals-to-east-africa'],\n",
       " 'Spratly Islands': ['http://www.sharenet.co.za/news/China_builds_new_military_facilities_on_South_China_Sea_islands__think_tank/86fb301c876fd8f7df67980abaf64de6',\n",
       "  'https://www.theguardian.com/world/2017/jun/30/us-china-honeymoon-over-washington-arms-taiwan-sanctions-bank',\n",
       "  'http://m.philstar.com/headlines/show/84053525f68426d081d9bb01220c5d3e'],\n",
       " 'Springfield, Illinois, United States': ['http://www.politico.com/story/2017/06/30/playbook-beyond-the-beltway-june-30-240144',\n",
       "  'http://www.kwqc.com/content/news/Illinois-a-state-in-financial-crisis-431682053.html'],\n",
       " 'Stepanakert, Xank?ndi*, Azerbaijan': ['http://artsakhpress.am/eng/news/69050/alexander-lapshin-pleads-not-guilty-in-baku-trial.html',\n",
       "  'https://armenpress.am/eng/news/897168/%E2%80%98massacre-of-maragha-has-not-been-internationally-addressed-properly%E2%80%99-%E2%80%93-ambassador-tigran-mkrtchyan%E2%80%99s.html'],\n",
       " 'Suffolk County, New York, United States': ['http://kval.com/news/nation-world/questions-raised-about-trumps-claims-on-ms-13-deportations',\n",
       "  'http://newyork.cbslocal.com/2017/06/30/long-island-fugitive-caught/',\n",
       "  'http://www.timesunion.com/news/article/Arizona-man-convicted-of-1976-rape-extradited-to-11258221.php',\n",
       "  'http://abc7ny.com/news/convicted-rapist-who-fled-li-in-1976-extradited-from-arizona/2167890/'],\n",
       " 'Tallinn, Harjumaa, Estonia': ['https://euobserver.com/justice/138398',\n",
       "  'https://sputniknews.com/europe/201706301055111765-estonia-malta-eu-presidency/',\n",
       "  'http://blogs.ft.com/brusselsblog/2017/06/30/burden-sharing-2/&_i_referer=&classification=conditional_standard&iab=barrier-app'],\n",
       " 'Tampa Bay, Florida, United States': ['http://www.news-press.com/story/news/local/2017/06/29/no-more-miromar-outlets-fireworks-hit-businesses/408869001/',\n",
       "  'http://www.tbnweekly.com/crime_crashes_fires/content_articles/062917_ccf-02.txt'],\n",
       " 'Tawang, Shaanxi, China': ['http://www.business-standard.com/article/current-affairs/border-crisis-army-chief-in-sikkim-amid-standoff-between-indian-and-chinese-patrols-117062901179_1.html',\n",
       "  'http://www.business-standard.com/article/current-affairs/border-crisis-army-chief-rawat-in-sikkim-as-china-rakes-up-1962-war-117062901179_1.html'],\n",
       " 'Tbilisi, Georgia (general), Georgia': ['http://www.interfax.com/newsinf.asp?id=763539',\n",
       "  'Rustavi-2 TV, Tbilisi/BBC Monitoring/(c) BBC',\n",
       "  'https://www.ifex.org/europe_central_asia/2017/06/30/authoritarians-free-expression/'],\n",
       " 'The White House, District of Columbia, United States': ['http://www.vanityfair.com/news/2017/06/trump-kobach-voter-fraud',\n",
       "  'https://www.theguardian.com/world/2017/jun/30/trumps-142bn-taiwan-arms-sale-backfire-china'],\n",
       " 'Tibet, Xizang, China': ['http://indiatoday.intoday.in/story/nathu-la-pass-india-china-standoff-border-sikkim/1/989897.html',\n",
       "  'http://www.tribuneindia.com/news/nation/british-gave-chumbi-valley-to-tibet-for-rs-25-lakh-in-1908/430100.html',\n",
       "  'http://www.milligazette.com/news/15709-tension-erupts-as-chinese-troops-enter-indian-territory-destroying-bunkers'],\n",
       " 'Tigris River, Al Basrah, Iraq': ['http://www.omaha.com/news/world/hundreds-flee-mosul-as-iraqi-forces-squeeze-extremists/article_8de519fe-86d4-5df0-bcb5-f01e3a9a538a.html',\n",
       "  'http://www.dnaindia.com/world/report-islamic-state-under-pressure-in-iraqi-and-syrian-strongholds-2488847',\n",
       "  'http://zeenews.india.com/tags/Iraq.html',\n",
       "  'http://www.dailymail.co.uk/wires/reuters/article-4654218/Iraqi-forces-close-IS-redoubt-Mosul-declaring-end-caliphate.html'],\n",
       " 'Tiran, Ha?afon, Israel': ['https://www.algemeiner.com/2017/06/30/latest-developments-in-saudi-arabia-chart-a-course-for-israeli-ties-with-arab-world/',\n",
       "  'https://unitedwithisrael.org/opinion-developments-in-saudi-arabia-signal-potential-ties-with-israel/'],\n",
       " 'Tirana, Tirane, Albania': ['http://www.spiegel.de/international/europe/tensions-in-the-balkans-rising-as-promise-of-eu-future-fades-a-1154499.html',\n",
       "  'http://www.albaniannews.com/index.php?idm=13983&mod=2',\n",
       "  'http://www.balkaninsight.com/en/article/romania-s-reagan-square-builds-on-balkan-tradition-06-29-2017',\n",
       "  'http://www.albaniannews.com/index.php?idm=13992&mod=2'],\n",
       " 'Tokyo Bay, Japan (general), Japan': ['http://www.ocregister.com/2017/06/30/would-you-kill-if-ordered-wwii-navy-survivor-of-port-chicago-disaster-faced-that-question/',\n",
       "  'http://www.japantimes.co.jp/?post_type=news&p=1200747'],\n",
       " 'Toowoomba, Queensland, Australia': ['https://www.echonews.com.au/news/qantas-flight-qf93-make-forced-landing-sydney/3195268/',\n",
       "  'https://www.echonews.com.au/news/iraqi-beheader-has-decapitated-50-isis-fighters/3195251/',\n",
       "  'https://www.echonews.com.au/news/bali-shaun-was-pretty-popular-ladies/3195258/',\n",
       "  'https://www.byronnews.com.au/news/fishing-competition-back-again/3195073/'],\n",
       " 'Trinidad And Tobago': ['http://www.caribbeannewsnow.com/headline-CDB-rolls-out-training-programme-to-support-regional-institutional-reform-in-19-countries--34882.html',\n",
       "  'https://www.bajanreporter.com/2017/06/caricom-pride-turned-to-gloom-by-sir-ronald-sanders/'],\n",
       " 'Triumf, Permskiy Kray, Russia': ['http://www.aninews.in/newsdetail-NA/MzIyMjUx/beijing-039-s-political-nod-to-pla-039-s-new-aggression-on-india-bhutan-border.html',\n",
       "  'http://www.aninews.in/newsdetail-NA/MzIyMjQ4/german-chancellor-ready-for-tough-talks-with-trump-erdogan.html',\n",
       "  'http://www.aninews.in/newsdetail-NA/MzIyMjI0/first-lady-melania-trump-stands-by-president-039-s-tweets.html',\n",
       "  'http://www.aninews.in/newsdetail-NA/MzIyMjU2/uk-039-s-new-warship-is-convenient-sea-target-russian-mod-hits-back-at-britain.html'],\n",
       " 'Tumen, Henan, China': ['http://www.refworld.org/docid/59563ddb4.html',\n",
       "  'http://www.couriermail.com.au/news/world/north-korean-prison-camp-awaits-refugees-caught-in-china/news-story/5d600624dd9a7e79866979178c62cc57?nk=14838503df489d9eda913d28656154b5-1498793525'],\n",
       " 'Tunis, (TS26), Tunisia': ['https://masscentral.com/naomi-klein-the-worst-is-yet-to-come-with-trump-so-we-must-be-ready-for-shock-politics/',\n",
       "  'http://www.dailymail.co.uk/news/article-4655092/German-mother-daughter-stabbed-Tunisian-town.html',\n",
       "  'http://www.gainesville.com/opinion/20170630/ed-kellerman-path-to-democracy-paved-with-pitfalls'],\n",
       " 'Tunisia': ['http://www.dailymail.co.uk/wires/afp/article-4653940/In-Madrid-gay-activists-Muslim-world-urge-freedom.html',\n",
       "  'https://www.democracynow.org/2017/6/30/naomi_klein_the_worst_is_yet',\n",
       "  'https://lobelog.com/qatar-looks-to-iran-and-iraq/',\n",
       "  'http://www.thetower.org/5156-week-in-review-jews-not-welcome-at-lgbt-march-israels-cybersecurity-stock-rises/'],\n",
       " 'Turkmenistan': ['http://www.thewestonmercury.co.uk/news/daring-duo-to-drive-to-mongolia-in-1-3-litre-suzuki-1-5083935',\n",
       "  'http://www.wahpetondailynews.com/news/artist-earns-national-heritage-fellowship/article_31c7aeea-5de5-11e7-8431-fbcb3c72152e.html',\n",
       "  'http://www.refworld.org/docid/595632ac1.html'],\n",
       " 'University Of North Carolina, North Carolina, United States': ['http://www.wilmingtonbiz.com/real_estate_-_residential/2017/06/30/growth_boosts_area_welcome_services/16275',\n",
       "  'https://www.ednc.org/2017/06/29/alternative-teacher-prep-comes-north-carolina/'],\n",
       " 'Uruguay': ['http://news.airwise.com/story/argentina-airline-flybondi-gets-government-approval',\n",
       "  'http://www.4-traders.com/news/UN-United-Nations-Accord-on-Iran-rsquo-s-Nuclear-Programme-Remains-on-Track-Political-Affairs-Chi--24678041/',\n",
       "  'http://curacaochronicle.com/region/oas-adopts-resolution-on-protecting-journalists/'],\n",
       " 'Vancouver, British Columbia, Canada': ['https://www.theglobeandmail.com/news/politics/politics-briefing-newsletter-bc-ndp-take-power/article35509064/',\n",
       "  'http://www.huffingtonpost.ca/2017/06/28/italys-president-europe-learning-from-canada-on-how-to-deal-wi/',\n",
       "  'http://ottawacitizen.com/news/national/defence-watch/royal-canadian-navy-ramps-up-for-canada-day-ships-open-for-public-tours',\n",
       "  'http://www.cbc.ca/news/canada/toronto/travel-ban-lawyers-airport-1.4184742'],\n",
       " 'Vanuatu': ['http://english.chinamil.com.cn/view/2017-06/30/content_7658980.htm',\n",
       "  'http://www.theland.com.au/story/4754917/hodges-call-to-honour/?cs=4941'],\n",
       " 'Visayan, Mindoro Occidental, Philippines': ['http://freerepublic.com/focus/f-chat/3565441/posts',\n",
       "  'http://www.historynet.com/adventures-capn-crockett.htm'],\n",
       " 'Wellington, New Zealand (general), New Zealand': ['http://www.tallahassee.com/story/news/2017/06/29/spirit-76-alive-and-well-port-st-joe/436567001/',\n",
       "  'http://www.newshub.co.nz/home/new-zealand/2017/06/where-could-the-next-america-s-cup-be-held.html',\n",
       "  'https://www.usatoday.com/story/news/2017/06/29/spirit-76-alive-and-well-port-st-joe/436567001/'],\n",
       " 'Wenzhou, Zhejiang, China': ['http://www.thebostonpilot.com/article.asp?ID=179672',\n",
       "  'http://www.thebostonpilot.com/article.asp?ID=179677',\n",
       "  'http://www.thebostonpilot.com/article.asp?ID=179673'],\n",
       " 'West Bank': ['https://www.gaystarnews.com/article/gay-jews-asked-leave-chicago-dyke-march-due-pride-flag-featuring-star-david/',\n",
       "  'https://www.hrw.org/news/2017/06/29/submission-universal-periodic-review-israel'],\n",
       " 'Windhoek, Khomas, Namibia': ['http://allafrica.com/stories/201706300604.html',\n",
       "  'http://www.thevillager.com.na/articles/11401/Fisheries-ministry-owe-workers-N-7m-------the-oceans-are-open-to-plunder-by-poachers/',\n",
       "  'http://allafrica.com/stories/201706300141.html'],\n",
       " 'World Bank, District of Columbia, United States': ['https://www.wben.com/media/audio-channel/june-29th-white-house-briefing',\n",
       "  'https://www.csmonitor.com/World/Americas/2017/0630/As-US-pulls-back-from-world-Canada-steps-up-to-fill-the-gap',\n",
       "  'http://www.thewhig.com/2017/06/29/canada-150-canada-rising'],\n",
       " 'Yokosuka, Kanagawa, Japan': ['http://fox5sandiego.com/2017/06/29/funeral-plans-for-2-sailors-killed-in-uss-fitzgerald-collision-announced/',\n",
       "  'http://www.japantimes.co.jp/?post_type=news&p=1200747'],\n",
       " 'Zagreb, Zagreb, Grad, Croatia': ['http://www.index.hr/vijesti/clanak/dear-tourists-dont-drive-on-our-expensive-highways-and-dont-feed-our-crooks-these-roads-are-free/980148.aspx',\n",
       "  'http://www.asahi.com/ajw/articles/AJ201706300006.html'],\n",
       " 'Zhejiang, Zhejiang, China': ['http://europe.chinadaily.com.cn/epaper/2017-06/30/content_29943784.htm',\n",
       "  'http://www.chinadaily.com.cn/business/2017-06/30/content_29942131.htm',\n",
       "  'http://english.china.com/news/china/54/20170630/1007743.html'],\n",
       " 'Zurich, ZüSZ, Switzerland': ['http://www.swissinfo.ch/eng/brexit-effect-_british-requests-for-swiss-citizenship-rises/43300084',\n",
       "  'http://www.truth-out.org/news/item/41113-facebook-s-secret-censorship-rules-protect-white-men-from-hate-speech-but-not-black-children',\n",
       "  'http://weeklyworker.co.uk/worker/1161/corrections-from-up-close/']}"
      ]
     },
     "execution_count": 22,
     "metadata": {},
     "output_type": "execute_result"
    }
   ],
   "source": [
    "stories"
   ]
  },
  {
   "cell_type": "markdown",
   "metadata": {},
   "source": [
    "## build the graph\n",
    "we will use the linkcities for the nodes and we link two cities if they share a common story."
   ]
  },
  {
   "cell_type": "code",
   "execution_count": 23,
   "metadata": {
    "collapsed": false,
    "deletable": true,
    "editable": true
   },
   "outputs": [],
   "source": [
    "edges = []\n",
    "for i in range(0, len(linkcities)):\n",
    "    for j in range(0, len(linkcities)):\n",
    "        if i < j:\n",
    "            iset = set(stories[linkcities[i]])\n",
    "            jset = set(stories[linkcities[j]])\n",
    "            kset = iset.intersection(jset)\n",
    "            if len(kset)> 0:\n",
    "                edges.append((i,j))"
   ]
  },
  {
   "cell_type": "code",
   "execution_count": 24,
   "metadata": {
    "collapsed": false,
    "deletable": true,
    "editable": true
   },
   "outputs": [
    {
     "data": {
      "text/plain": [
       "210"
      ]
     },
     "execution_count": 24,
     "metadata": {},
     "output_type": "execute_result"
    }
   ],
   "source": [
    "len(edges)"
   ]
  },
  {
   "cell_type": "code",
   "execution_count": 25,
   "metadata": {
    "collapsed": false,
    "deletable": true,
    "editable": true
   },
   "outputs": [],
   "source": [
    "#!pip install python-igraph"
   ]
  },
  {
   "cell_type": "code",
   "execution_count": 26,
   "metadata": {
    "collapsed": false,
    "deletable": true,
    "editable": true
   },
   "outputs": [],
   "source": [
    "import igraph as ig"
   ]
  },
  {
   "cell_type": "code",
   "execution_count": 27,
   "metadata": {
    "collapsed": false,
    "deletable": true,
    "editable": true
   },
   "outputs": [],
   "source": [
    "G=ig.Graph(edges, directed=False)"
   ]
  },
  {
   "cell_type": "code",
   "execution_count": 28,
   "metadata": {
    "collapsed": false,
    "deletable": true,
    "editable": true
   },
   "outputs": [],
   "source": [
    "#this is a not-very-good attempt to extract the name of the story from the url\n",
    "def trimstory(s):\n",
    "    k = s.find(\"-\")\n",
    "    if k > 1:\n",
    "        v = s[:k].rfind('/')\n",
    "        x = s[v+1:]\n",
    "    else:\n",
    "        x = s\n",
    "    k = x.rfind(\"/\")\n",
    "    if k > 7:\n",
    "        x = x[:k]\n",
    "    k = x.rfind(\"?\")\n",
    "    if k > -1:\n",
    "        x = x[:k]\n",
    "    if len(x) < 6:\n",
    "        return s\n",
    "    return x"
   ]
  },
  {
   "cell_type": "code",
   "execution_count": 29,
   "metadata": {
    "collapsed": false,
    "deletable": true,
    "editable": true
   },
   "outputs": [],
   "source": [
    "labels=[]\n",
    "group=[]\n",
    "for city in linkcities:\n",
    "    st = ''\n",
    "    for s in stories[city]:\n",
    "        s = trimstory(s)\n",
    "        if len(s) > 10:\n",
    "            st = st + \"<br>\" + s\n",
    "    labels.append(city+ \"<br>\"+st)\n",
    "    group.append(len(stories[city]))"
   ]
  },
  {
   "cell_type": "code",
   "execution_count": 30,
   "metadata": {
    "collapsed": false,
    "deletable": true,
    "editable": true
   },
   "outputs": [],
   "source": [
    "layt=G.layout('kk', dim=3)"
   ]
  },
  {
   "cell_type": "code",
   "execution_count": 31,
   "metadata": {
    "collapsed": false,
    "deletable": true,
    "editable": true
   },
   "outputs": [
    {
     "data": {
      "text/plain": [
       "[0.28300559161232136, 5.815968779972684, 7.491703992923659]"
      ]
     },
     "execution_count": 31,
     "metadata": {},
     "output_type": "execute_result"
    }
   ],
   "source": [
    "layt[5]"
   ]
  },
  {
   "cell_type": "code",
   "execution_count": 32,
   "metadata": {
    "collapsed": false,
    "deletable": true,
    "editable": true
   },
   "outputs": [
    {
     "data": {
      "text/plain": [
       "245"
      ]
     },
     "execution_count": 32,
     "metadata": {},
     "output_type": "execute_result"
    }
   ],
   "source": [
    "N = len(linkcities)\n",
    "len(layt)"
   ]
  },
  {
   "cell_type": "code",
   "execution_count": 33,
   "metadata": {
    "collapsed": false,
    "deletable": true,
    "editable": true
   },
   "outputs": [
    {
     "data": {
      "text/plain": [
       "245"
      ]
     },
     "execution_count": 33,
     "metadata": {},
     "output_type": "execute_result"
    }
   ],
   "source": [
    "len(layt)"
   ]
  },
  {
   "cell_type": "code",
   "execution_count": 34,
   "metadata": {
    "collapsed": true,
    "deletable": true,
    "editable": true
   },
   "outputs": [],
   "source": [
    "N = len(layt)"
   ]
  },
  {
   "cell_type": "code",
   "execution_count": 35,
   "metadata": {
    "collapsed": false,
    "deletable": true,
    "editable": true
   },
   "outputs": [],
   "source": [
    "Xn=[layt[k][0] for k in range(N)]# x-coordinates of nodes\n",
    "Yn=[layt[k][1] for k in range(N)]# y-coordinates\n",
    "Zn=[layt[k][2] for k in range(N)]# z-coordinates\n",
    "Xe=[]\n",
    "Ye=[]\n",
    "Ze=[]\n",
    "for e in edges:\n",
    "    Xe+=[layt[e[0]][0],layt[e[1]][0], None]# x-coordinates of edge ends\n",
    "    Ye+=[layt[e[0]][1],layt[e[1]][1], None]\n",
    "    Ze+=[layt[e[0]][2],layt[e[1]][2], None]\n"
   ]
  },
  {
   "cell_type": "code",
   "execution_count": 36,
   "metadata": {
    "collapsed": false,
    "deletable": true,
    "editable": true
   },
   "outputs": [],
   "source": [
    "#!pip install plotly"
   ]
  },
  {
   "cell_type": "markdown",
   "metadata": {},
   "source": [
    "## use Plotly to make the plot\n",
    "the text below is almost a direct copy of the plotly graph example.   the nodes will be distributed near the surface of a sphere in 3D.   "
   ]
  },
  {
   "cell_type": "code",
   "execution_count": 37,
   "metadata": {
    "collapsed": false,
    "deletable": true,
    "editable": true
   },
   "outputs": [],
   "source": [
    "import plotly.plotly as py\n",
    "from plotly.graph_objs import *\n",
    "from plotly import __version__\n",
    "from plotly.offline import download_plotlyjs, init_notebook_mode, plot, iplot"
   ]
  },
  {
   "cell_type": "code",
   "execution_count": 38,
   "metadata": {
    "collapsed": false,
    "deletable": true,
    "editable": true
   },
   "outputs": [
    {
     "name": "stdout",
     "output_type": "stream",
     "text": [
      "2.0.12\n"
     ]
    }
   ],
   "source": [
    "print(__version__)"
   ]
  },
  {
   "cell_type": "code",
   "execution_count": 39,
   "metadata": {
    "collapsed": false,
    "deletable": true,
    "editable": true
   },
   "outputs": [
    {
     "data": {
      "text/html": [
       "<script>requirejs.config({paths: { 'plotly': ['https://cdn.plot.ly/plotly-latest.min']},});if(!window.Plotly) {{require(['plotly'],function(plotly) {window.Plotly=plotly;});}}</script>"
      ],
      "text/vnd.plotly.v1+html": [
       "<script>requirejs.config({paths: { 'plotly': ['https://cdn.plot.ly/plotly-latest.min']},});if(!window.Plotly) {{require(['plotly'],function(plotly) {window.Plotly=plotly;});}}</script>"
      ]
     },
     "metadata": {},
     "output_type": "display_data"
    }
   ],
   "source": [
    "init_notebook_mode(connected=True)"
   ]
  },
  {
   "cell_type": "code",
   "execution_count": 40,
   "metadata": {
    "collapsed": true,
    "deletable": true,
    "editable": true
   },
   "outputs": [],
   "source": [
    "trace1=Scatter3d(x=Xe,\n",
    "               y=Ye,\n",
    "               z=Ze,\n",
    "               mode='lines',\n",
    "               line=Line(color='rgb(125,125,125)', width=1),\n",
    "               hoverinfo='none'\n",
    "               )\n",
    "trace2=Scatter3d(x=Xn,\n",
    "               y=Yn,\n",
    "               z=Zn,\n",
    "               mode='markers',\n",
    "               name='actors',\n",
    "               marker=Marker(symbol='dot',\n",
    "                             size=6,\n",
    "                             color=group,\n",
    "                             colorscale='Viridis',\n",
    "                             line=Line(color='rgb(50,50,50)', width=0.5)\n",
    "                             ),\n",
    "               text=labels,\n",
    "               hoverinfo='text'\n",
    "               )"
   ]
  },
  {
   "cell_type": "code",
   "execution_count": 41,
   "metadata": {
    "collapsed": true,
    "deletable": true,
    "editable": true
   },
   "outputs": [],
   "source": [
    "axis=dict(showbackground=False,\n",
    "          showline=False,\n",
    "          zeroline=False,\n",
    "          showgrid=False,\n",
    "          showticklabels=False,\n",
    "          title=''\n",
    "          )\n"
   ]
  },
  {
   "cell_type": "code",
   "execution_count": 42,
   "metadata": {
    "collapsed": false,
    "deletable": true,
    "editable": true
   },
   "outputs": [],
   "source": [
    "layout = Layout(\n",
    "         title=\"Network of shared news items. Nodes are cities. <br> They are linked if they each publised the same top story  \",\n",
    "         width=1000,\n",
    "         height=1000,\n",
    "         showlegend=False,\n",
    "         scene=Scene(\n",
    "         xaxis=XAxis(axis),\n",
    "         yaxis=YAxis(axis),\n",
    "         zaxis=ZAxis(axis),\n",
    "         ),\n",
    "     margin=Margin(\n",
    "        t=100\n",
    "    ),\n",
    "    hovermode='closest',\n",
    "    annotations=Annotations([\n",
    "           Annotation(\n",
    "           showarrow=False,\n",
    "            text=\"\",\n",
    "            xref='paper',\n",
    "            yref='paper',\n",
    "            x=0,\n",
    "            y=0.1,\n",
    "            xanchor='left',\n",
    "            yanchor='bottom',\n",
    "            font=Font(\n",
    "            size=14\n",
    "            )\n",
    "            )\n",
    "        ]),    )"
   ]
  },
  {
   "cell_type": "code",
   "execution_count": 43,
   "metadata": {
    "collapsed": true,
    "deletable": true,
    "editable": true
   },
   "outputs": [],
   "source": [
    "py.plotly.tools.set_credentials_file(username='dbgannon', api_key='losja5d9ws')"
   ]
  },
  {
   "cell_type": "code",
   "execution_count": 44,
   "metadata": {
    "collapsed": false,
    "deletable": true,
    "editable": true,
    "scrolled": false
   },
   "outputs": [
    {
     "name": "stderr",
     "output_type": "stream",
     "text": [
      "INFO:Starting new HTTPS connection (1): plot.ly\n"
     ]
    },
    {
     "data": {
      "text/html": [
       "<iframe id=\"igraph\" scrolling=\"no\" style=\"border:none;\" seamless=\"seamless\" src=\"https://plot.ly/~dbgannon/31.embed\" height=\"1000px\" width=\"1000px\"></iframe>"
      ],
      "text/plain": [
       "<plotly.tools.PlotlyDisplay object>"
      ]
     },
     "execution_count": 44,
     "metadata": {},
     "output_type": "execute_result"
    }
   ],
   "source": [
    "data=Data([trace1, trace2])\n",
    "fig=Figure(data=data, layout=layout)\n",
    "\n",
    "py.iplot(fig,  filename='urls')"
   ]
  },
  {
   "cell_type": "code",
   "execution_count": null,
   "metadata": {
    "collapsed": true
   },
   "outputs": [],
   "source": []
  },
  {
   "cell_type": "code",
   "execution_count": null,
   "metadata": {
    "collapsed": true
   },
   "outputs": [],
   "source": []
  }
 ],
 "metadata": {
  "anaconda-cloud": {},
  "kernelspec": {
   "display_name": "Python 3",
   "language": "python",
   "name": "python3"
  },
  "language_info": {
   "codemirror_mode": {
    "name": "ipython",
    "version": 3
   },
   "file_extension": ".py",
   "mimetype": "text/x-python",
   "name": "python",
   "nbconvert_exporter": "python",
   "pygments_lexer": "ipython3",
   "version": "3.5.2"
  }
 },
 "nbformat": 4,
 "nbformat_minor": 0
}
