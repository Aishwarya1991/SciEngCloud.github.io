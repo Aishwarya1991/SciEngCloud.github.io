{
 "cells": [
  {
   "cell_type": "markdown",
   "metadata": {},
   "source": [
    "# This is the AWS EC2 Container Service Demo\n",
    "This notebook assumes you have created a container (here called cloudbook) by following the instructions in the book text.   here are the important points you must do first.\n",
    "\n",
    "## Cluster set  up.  \n",
    "Next you must create ec2 instances to populate the cluster.   \n",
    "Follow the instructions here \n",
    "\n",
    "If you need the instances to be visible to the world at certain ports, you will need a new security group.   Go to your resources in the ec2 management council.  Click on security group.  Look at your default security group.  Add inbound NFS port  2049 by selecting Edit inbound rules from the \"actions\" tab.   If you need extra inbound ports for your services you may then want to copy to new and add them there and give the new security group a name and description.  I created one with ports 8000-9000 open and give it the name ecs-security-group.\n",
    "\n",
    "\n",
    "http://docs.aws.amazon.com/AmazonECS/latest/developerguide/launch_container_instance.html\n",
    "\n",
    "Go to the console for launching instances and hit \"launch instance\" go to community aims and search for \"amazon-ecs-optimized\" and you should find  ami-1ccd1f7c if you are on us-west-2.    Select that one. Then the size you want.   T2.medium is fine.   Then go to configure launch instance details.  \n",
    "Set the number of instances (I choose 4), enable auto-assign public IP.   You next need an IAM role.  Set it.   \n",
    "\n",
    "Next go to Advanced Details at the bottom of the page.   Paste the following in the text box\n",
    "\n",
    "------------------\n",
    "#!/bin/bash\n",
    "\n",
    "echo ECS_CLUSTER=cloudbook >> /etc/ecs/ecs.config\n",
    "\n",
    "------------------\n",
    "Next go to \"add storage\".   The default is fine for now.  Tag it with name like 'cbook'.   Finally configure security group.   Choose select existing security group.  Your new group should be there.  If not, then look for default and copy-to-new and add the ports you need.\n",
    "\n",
    "Launch.   When you launch you will need to select your key pair in case you need to ssh into these new instances.\n",
    "\n",
    "## this notebook\n",
    "This notebook shows you how to interact with the container service once you have your clust.   "
   ]
  },
  {
   "cell_type": "code",
   "execution_count": 38,
   "metadata": {
    "collapsed": true
   },
   "outputs": [],
   "source": [
    "import boto3"
   ]
  },
  {
   "cell_type": "code",
   "execution_count": 2,
   "metadata": {
    "collapsed": true
   },
   "outputs": [],
   "source": [
    "client = boto3.client('ecs')"
   ]
  },
  {
   "cell_type": "markdown",
   "metadata": {},
   "source": [
    "the list operators return dictionaries and we usually want to see the Arns."
   ]
  },
  {
   "cell_type": "code",
   "execution_count": 3,
   "metadata": {
    "collapsed": false
   },
   "outputs": [
    {
     "data": {
      "text/plain": [
       "[u'arn:aws:ecs:us-west-2:066301190734:cluster/default',\n",
       " u'arn:aws:ecs:us-west-2:066301190734:cluster/cloudbook']"
      ]
     },
     "execution_count": 3,
     "metadata": {},
     "output_type": "execute_result"
    }
   ],
   "source": [
    "client.list_clusters()['clusterArns']"
   ]
  },
  {
   "cell_type": "code",
   "execution_count": 4,
   "metadata": {
    "collapsed": false
   },
   "outputs": [],
   "source": [
    "instance_list = client.list_container_instances(cluster='cloudbook')['containerInstanceArns']"
   ]
  },
  {
   "cell_type": "code",
   "execution_count": 5,
   "metadata": {
    "collapsed": false
   },
   "outputs": [
    {
     "data": {
      "text/plain": [
       "[u'arn:aws:ecs:us-west-2:066301190734:container-instance/12607795-a317-4732-8e6c-5e86f67b0630',\n",
       " u'arn:aws:ecs:us-west-2:066301190734:container-instance/39158178-408e-4ff3-abc4-ed4734d70ced',\n",
       " u'arn:aws:ecs:us-west-2:066301190734:container-instance/7c2516f0-8131-4f10-b3a5-1f8ca3a1e566',\n",
       " u'arn:aws:ecs:us-west-2:066301190734:container-instance/e578f40c-0d4f-46f8-937d-c36e77ba6aa6']"
      ]
     },
     "execution_count": 5,
     "metadata": {},
     "output_type": "execute_result"
    }
   ],
   "source": [
    "instance_list"
   ]
  },
  {
   "cell_type": "code",
   "execution_count": 6,
   "metadata": {
    "collapsed": false
   },
   "outputs": [],
   "source": [
    "ec2instances = [ client.describe_container_instances(\n",
    "        cluster='cloudbook',\n",
    "        containerInstances=[instance]\n",
    "    )[u'containerInstances'][0][u'ec2InstanceId'] for instance in instance_list]"
   ]
  },
  {
   "cell_type": "code",
   "execution_count": 7,
   "metadata": {
    "collapsed": false
   },
   "outputs": [],
   "source": [
    "ec2 = boto3.resource('ec2')"
   ]
  },
  {
   "cell_type": "code",
   "execution_count": 8,
   "metadata": {
    "collapsed": false
   },
   "outputs": [
    {
     "name": "stdout",
     "output_type": "stream",
     "text": [
      "('i-00dd7298fca2948df', 't2.medium', 'ami-1ccd1f7c', '54.201.144.148')\n",
      "('i-057e2913cc97af6d0', 't2.medium', 'ami-1ccd1f7c', '54.186.99.177')\n",
      "('i-0f46d62b305a8487c', 't2.medium', 'ami-1ccd1f7c', '54.214.228.63')\n",
      "('i-089a5074ce074fc49', 't2.medium', 'ami-1ccd1f7c', '54.218.107.231')\n"
     ]
    }
   ],
   "source": [
    "instances = ec2.instances.filter( Filters=[{'Name': 'instance-id', 'Values': ec2instances}])\n",
    "for instance in instances:\n",
    "   print(instance.id, instance.instance_type, instance.image_id, instance.public_ip_address)"
   ]
  },
  {
   "cell_type": "code",
   "execution_count": 18,
   "metadata": {
    "collapsed": false
   },
   "outputs": [
    {
     "data": {
      "text/plain": [
       "[u'awsque',\n",
       " u'container-try-2',\n",
       " u'defx',\n",
       " u'esciencebook-task-def',\n",
       " u'escinewer',\n",
       " u'finaltry',\n",
       " u'finaltryagain',\n",
       " u'jupyter',\n",
       " u'newsynth',\n",
       " u'predict']"
      ]
     },
     "execution_count": 18,
     "metadata": {},
     "output_type": "execute_result"
    }
   ],
   "source": [
    "client.list_task_definition_families()['families']"
   ]
  },
  {
   "cell_type": "code",
   "execution_count": 36,
   "metadata": {
    "collapsed": false
   },
   "outputs": [
    {
     "data": {
      "text/plain": [
       "[u'arn:aws:ecs:us-west-2:066301190734:task-definition/predict:1',\n",
       " u'arn:aws:ecs:us-west-2:066301190734:task-definition/predict:2',\n",
       " u'arn:aws:ecs:us-west-2:066301190734:task-definition/predict:3',\n",
       " u'arn:aws:ecs:us-west-2:066301190734:task-definition/predict:4',\n",
       " u'arn:aws:ecs:us-west-2:066301190734:task-definition/predict:5']"
      ]
     },
     "execution_count": 36,
     "metadata": {},
     "output_type": "execute_result"
    }
   ],
   "source": [
    "client.list_task_definitions(familyPrefix='predict')['taskDefinitionArns']"
   ]
  },
  {
   "cell_type": "code",
   "execution_count": 37,
   "metadata": {
    "collapsed": false
   },
   "outputs": [
    {
     "data": {
      "text/plain": [
       "{u'containerDefinitions': [{u'cpu': 20,\n",
       "   u'environment': [],\n",
       "   u'essential': True,\n",
       "   u'image': u'dbgannon/predict',\n",
       "   u'memoryReservation': 400,\n",
       "   u'mountPoints': [],\n",
       "   u'name': u'predict',\n",
       "   u'portMappings': [],\n",
       "   u'volumesFrom': []}],\n",
       " u'family': u'predict',\n",
       " u'networkMode': u'bridge',\n",
       " u'requiresAttributes': [{u'name': u'com.amazonaws.ecs.capability.docker-remote-api.1.21'}],\n",
       " u'revision': 5,\n",
       " u'status': u'ACTIVE',\n",
       " u'taskDefinitionArn': u'arn:aws:ecs:us-west-2:066301190734:task-definition/predict:5',\n",
       " u'volumes': []}"
      ]
     },
     "execution_count": 37,
     "metadata": {},
     "output_type": "execute_result"
    }
   ],
   "source": [
    "client.describe_task_definition(taskDefinition='predict:5')['taskDefinition']"
   ]
  },
  {
   "cell_type": "markdown",
   "metadata": {},
   "source": [
    " This will crecate a task revision of tasks predict that should be version 5, but i am really going to use version 5.  (the order of execution of these steps in the notebook is out of order. the previous two were executed after the next step.)"
   ]
  },
  {
   "cell_type": "code",
   "execution_count": 33,
   "metadata": {
    "collapsed": false
   },
   "outputs": [],
   "source": [
    "response = client.register_task_definition(\n",
    "    family='predict',\n",
    "    networkMode='bridge',\n",
    "    containerDefinitions=[\n",
    "        {\n",
    "            'name': 'predict',\n",
    "            'image': 'dbgannon/predict',\n",
    "            'cpu': 20,\n",
    "            'memoryReservation': 400,\n",
    "            'essential': True,\n",
    "        },\n",
    "    ],\n",
    " )\n"
   ]
  },
  {
   "cell_type": "code",
   "execution_count": 34,
   "metadata": {
    "collapsed": false
   },
   "outputs": [
    {
     "data": {
      "text/plain": [
       "{'ResponseMetadata': {'HTTPHeaders': {'connection': 'keep-alive',\n",
       "   'content-length': '465',\n",
       "   'content-type': 'application/x-amz-json-1.1',\n",
       "   'date': 'Thu, 06 Oct 2016 16:14:33 GMT',\n",
       "   'server': 'Server',\n",
       "   'x-amzn-requestid': 'f7f47685-8bdf-11e6-ae52-819b55ac5e0d'},\n",
       "  'HTTPStatusCode': 200,\n",
       "  'RequestId': 'f7f47685-8bdf-11e6-ae52-819b55ac5e0d',\n",
       "  'RetryAttempts': 0},\n",
       " u'taskDefinition': {u'containerDefinitions': [{u'cpu': 20,\n",
       "    u'environment': [],\n",
       "    u'essential': True,\n",
       "    u'image': u'dbgannon/predict',\n",
       "    u'memoryReservation': 400,\n",
       "    u'mountPoints': [],\n",
       "    u'name': u'predict',\n",
       "    u'portMappings': [],\n",
       "    u'volumesFrom': []}],\n",
       "  u'family': u'predict',\n",
       "  u'networkMode': u'bridge',\n",
       "  u'requiresAttributes': [{u'name': u'com.amazonaws.ecs.capability.docker-remote-api.1.21'}],\n",
       "  u'revision': 5,\n",
       "  u'status': u'ACTIVE',\n",
       "  u'taskDefinitionArn': u'arn:aws:ecs:us-west-2:066301190734:task-definition/predict:5',\n",
       "  u'volumes': []}}"
      ]
     },
     "execution_count": 34,
     "metadata": {},
     "output_type": "execute_result"
    }
   ],
   "source": [
    "response"
   ]
  },
  {
   "cell_type": "markdown",
   "metadata": {
    "collapsed": true
   },
   "source": [
    "now we are going to create 8 instances of this new service based on this task definition"
   ]
  },
  {
   "cell_type": "code",
   "execution_count": 35,
   "metadata": {
    "collapsed": false
   },
   "outputs": [],
   "source": [
    "response = client.create_service(\n",
    "    cluster='cloudbook',\n",
    "    serviceName='predictor5',\n",
    "    taskDefinition='predict:5',\n",
    "    desiredCount=8,\n",
    "    deploymentConfiguration={\n",
    "        'maximumPercent': 100,\n",
    "        'minimumHealthyPercent': 50\n",
    "    }\n",
    ")"
   ]
  },
  {
   "cell_type": "code",
   "execution_count": 32,
   "metadata": {
    "collapsed": false
   },
   "outputs": [
    {
     "data": {
      "text/plain": [
       "{'ResponseMetadata': {'HTTPHeaders': {'connection': 'keep-alive',\n",
       "   'content-length': '725',\n",
       "   'content-type': 'application/x-amz-json-1.1',\n",
       "   'date': 'Thu, 06 Oct 2016 16:01:38 GMT',\n",
       "   'server': 'Server',\n",
       "   'x-amzn-requestid': '29f150f4-8bde-11e6-b1d6-2527db8e0eab'},\n",
       "  'HTTPStatusCode': 200,\n",
       "  'RequestId': '29f150f4-8bde-11e6-b1d6-2527db8e0eab',\n",
       "  'RetryAttempts': 0},\n",
       " u'service': {u'clusterArn': u'arn:aws:ecs:us-west-2:066301190734:cluster/cloudbook',\n",
       "  u'createdAt': datetime.datetime(2016, 10, 6, 9, 1, 38, 425000, tzinfo=tzlocal()),\n",
       "  u'deploymentConfiguration': {u'maximumPercent': 100,\n",
       "   u'minimumHealthyPercent': 50},\n",
       "  u'deployments': [{u'createdAt': datetime.datetime(2016, 10, 6, 9, 1, 38, 425000, tzinfo=tzlocal()),\n",
       "    u'desiredCount': 10,\n",
       "    u'id': u'ecs-svc/9223370561085077382',\n",
       "    u'pendingCount': 0,\n",
       "    u'runningCount': 0,\n",
       "    u'status': u'PRIMARY',\n",
       "    u'taskDefinition': u'arn:aws:ecs:us-west-2:066301190734:task-definition/predict:4',\n",
       "    u'updatedAt': datetime.datetime(2016, 10, 6, 9, 1, 38, 425000, tzinfo=tzlocal())}],\n",
       "  u'desiredCount': 10,\n",
       "  u'events': [],\n",
       "  u'loadBalancers': [],\n",
       "  u'pendingCount': 0,\n",
       "  u'runningCount': 0,\n",
       "  u'serviceArn': u'arn:aws:ecs:us-west-2:066301190734:service/predictor4',\n",
       "  u'serviceName': u'predictor4',\n",
       "  u'status': u'ACTIVE',\n",
       "  u'taskDefinition': u'arn:aws:ecs:us-west-2:066301190734:task-definition/predict:4'}}"
      ]
     },
     "execution_count": 32,
     "metadata": {},
     "output_type": "execute_result"
    }
   ],
   "source": [
    "response"
   ]
  },
  {
   "cell_type": "code",
   "execution_count": 24,
   "metadata": {
    "collapsed": false
   },
   "outputs": [
    {
     "data": {
      "text/plain": [
       "[u'arn:aws:ecs:us-west-2:066301190734:service/predictor2',\n",
       " u'arn:aws:ecs:us-west-2:066301190734:service/awsque1',\n",
       " u'arn:aws:ecs:us-west-2:066301190734:service/synth9',\n",
       " u'arn:aws:ecs:us-west-2:066301190734:service/predictor']"
      ]
     },
     "execution_count": 24,
     "metadata": {},
     "output_type": "execute_result"
    }
   ],
   "source": [
    "client.list_services( cluster='cloudbook')['serviceArns']"
   ]
  },
  {
   "cell_type": "code",
   "execution_count": 25,
   "metadata": {
    "collapsed": false
   },
   "outputs": [
    {
     "data": {
      "text/plain": [
       "{'ResponseMetadata': {'HTTPHeaders': {'connection': 'keep-alive',\n",
       "   'content-length': '1261',\n",
       "   'content-type': 'application/x-amz-json-1.1',\n",
       "   'date': 'Thu, 06 Oct 2016 15:31:29 GMT',\n",
       "   'server': 'Server',\n",
       "   'x-amzn-requestid': 'f3ca150b-8bd9-11e6-b9ea-29f62330c869'},\n",
       "  'HTTPStatusCode': 200,\n",
       "  'RequestId': 'f3ca150b-8bd9-11e6-b9ea-29f62330c869',\n",
       "  'RetryAttempts': 0},\n",
       " u'failures': [],\n",
       " u'services': [{u'clusterArn': u'arn:aws:ecs:us-west-2:066301190734:cluster/cloudbook',\n",
       "   u'createdAt': datetime.datetime(2016, 10, 6, 8, 30, 51, 344000, tzinfo=tzlocal()),\n",
       "   u'deploymentConfiguration': {u'maximumPercent': 100,\n",
       "    u'minimumHealthyPercent': 50},\n",
       "   u'deployments': [{u'createdAt': datetime.datetime(2016, 10, 6, 8, 30, 51, 344000, tzinfo=tzlocal()),\n",
       "     u'desiredCount': 1,\n",
       "     u'id': u'ecs-svc/9223370561086924463',\n",
       "     u'pendingCount': 0,\n",
       "     u'runningCount': 0,\n",
       "     u'status': u'PRIMARY',\n",
       "     u'taskDefinition': u'arn:aws:ecs:us-west-2:066301190734:task-definition/predict:2',\n",
       "     u'updatedAt': datetime.datetime(2016, 10, 6, 8, 30, 51, 344000, tzinfo=tzlocal())}],\n",
       "   u'desiredCount': 1,\n",
       "   u'events': [{u'createdAt': datetime.datetime(2016, 10, 6, 8, 31, 22, 823000, tzinfo=tzlocal()),\n",
       "     u'id': u'296022c6-db8d-40f2-b387-e18ec68e2e10',\n",
       "     u'message': u'(service predictor2) has started 1 tasks: (task 92c56017-8446-4f58-a498-16412f363692).'},\n",
       "    {u'createdAt': datetime.datetime(2016, 10, 6, 8, 31, 11, 326000, tzinfo=tzlocal()),\n",
       "     u'id': u'e6b7c036-6cfd-4cd8-9538-3fd73c7c8254',\n",
       "     u'message': u'(service predictor2) has started 1 tasks: (task 2c27f775-249e-4f19-87a5-e45125929414).'},\n",
       "    {u'createdAt': datetime.datetime(2016, 10, 6, 8, 31, 0, 83000, tzinfo=tzlocal()),\n",
       "     u'id': u'88a44d7d-e29f-4ea7-9e24-6ede1198e982',\n",
       "     u'message': u'(service predictor2) has started 1 tasks: (task 7dcee60c-4001-43ab-8055-4a461db85118).'}],\n",
       "   u'loadBalancers': [],\n",
       "   u'pendingCount': 0,\n",
       "   u'runningCount': 0,\n",
       "   u'serviceArn': u'arn:aws:ecs:us-west-2:066301190734:service/predictor2',\n",
       "   u'serviceName': u'predictor2',\n",
       "   u'status': u'ACTIVE',\n",
       "   u'taskDefinition': u'arn:aws:ecs:us-west-2:066301190734:task-definition/predict:2'}]}"
      ]
     },
     "execution_count": 25,
     "metadata": {},
     "output_type": "execute_result"
    }
   ],
   "source": [
    "client.describe_services(cluster='cloudbook', \n",
    "                        services = [u'arn:aws:ecs:us-west-2:066301190734:service/predictor2'])"
   ]
  },
  {
   "cell_type": "markdown",
   "metadata": {
    "collapsed": false
   },
   "source": [
    "This is an example of a task definition that has max memory spec and port mappings."
   ]
  },
  {
   "cell_type": "code",
   "execution_count": 79,
   "metadata": {
    "collapsed": true
   },
   "outputs": [],
   "source": [
    "response = client.register_task_definition(\n",
    "    family='newsynth',\n",
    "    networkMode='bridge',\n",
    "    containerDefinitions=[\n",
    "        {\n",
    "            'name': 'synthcontainer3',\n",
    "            'image': '066301190734.dkr.ecr.us-west-2.amazonaws.com/escibook',\n",
    "            'cpu': 20,\n",
    "            'memory': 400,\n",
    "            'memoryReservation': 123,\n",
    "            'portMappings': [\n",
    "                {\n",
    "                    'containerPort': 8000,\n",
    "                    'hostPort': 8010,\n",
    "                    'protocol': 'tcp'\n",
    "                },\n",
    "            ],\n",
    "            'essential': True,\n",
    "        },\n",
    "    ],\n",
    " )\n"
   ]
  }
 ],
 "metadata": {
  "anaconda-cloud": {},
  "kernelspec": {
   "display_name": "Python 2",
   "language": "python",
   "name": "python2"
  },
  "language_info": {
   "codemirror_mode": {
    "name": "ipython",
    "version": 2
   },
   "file_extension": ".py",
   "mimetype": "text/x-python",
   "name": "python",
   "nbconvert_exporter": "python",
   "pygments_lexer": "ipython2",
   "version": "2.7.11"
  }
 },
 "nbformat": 4,
 "nbformat_minor": 0
}
