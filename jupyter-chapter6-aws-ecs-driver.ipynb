{
 "cells": [
  {
   "cell_type": "markdown",
   "metadata": {},
   "source": [
    "# This set of functions can be used to load the configuration files and the data files.\n",
    "the files are \n",
    "\n",
    "sciml_data_scimags.p  the set of rss items from the popular press\n",
    "\n",
    "sciml_data_arxiv.p    the set of original arxiv rss items.  a subset of these were use for training.\n",
    "\n",
    "sciml_data_arxiv_new_9_28_15.p  newly arrived arxiv items (not in the above)\n",
    "\n",
    "There are two versions of each of the functions.   One version reads from a path on the local machine.  The other version will read from the public site on my azure account.   that will continue to work at least through 3/2016.\n",
    "i will try to make sure it stays up  as long as possible (and there is interest)"
   ]
  },
  {
   "cell_type": "code",
   "execution_count": 1,
   "metadata": {
    "collapsed": true
   },
   "outputs": [],
   "source": [
    "import pickle\n",
    "import json\n",
    "import boto3"
   ]
  },
  {
   "cell_type": "code",
   "execution_count": 2,
   "metadata": {
    "collapsed": true
   },
   "outputs": [],
   "source": [
    "access_key = 'YOURACCESSKEY'\n",
    "secret_key = 'yoursecretkey'\n"
   ]
  },
  {
   "cell_type": "code",
   "execution_count": 3,
   "metadata": {
    "collapsed": true
   },
   "outputs": [],
   "source": [
    "def load_docs(path, name):\n",
    "    filename = path+name+\".p\"\n",
    "    fileobj = open(filename, \"rb\")\n",
    "    z = fileobj.read()\n",
    "    lst = pickle.loads(str(z))\n",
    "    titles = []\n",
    "    sitenames = []\n",
    "    abstracts = []\n",
    "    for i in range(0, len(lst)):\n",
    "        titles.extend([lst[i][0]])\n",
    "        sitenames.extend([lst[i][1]])\n",
    "        abstracts.extend([lst[i][2]])\n",
    "        \n",
    "    print \"done loading \"+filename\n",
    "    return abstracts, sitenames, titles"
   ]
  },
  {
   "cell_type": "code",
   "execution_count": 4,
   "metadata": {
    "collapsed": false
   },
   "outputs": [
    {
     "name": "stdout",
     "output_type": "stream",
     "text": [
      "done loading c:/users/dennis/Documents/sciml_data_arxiv.p\n"
     ]
    }
   ],
   "source": [
    "abstracts, sites, titles = load_docs(\"path to data file\", \"sciml_data_arxiv\")"
   ]
  },
  {
   "cell_type": "code",
   "execution_count": 5,
   "metadata": {
    "collapsed": false
   },
   "outputs": [
    {
     "name": "stdout",
     "output_type": "stream",
     "text": [
      "Cancer cells utilize large amounts of ATP to sustain growth, relying primarily on non-oxidative, fermentative pathways for its production. In many types of cancers this leads, even in the presence of oxygen, to the secretion of carbon equivalents (usually in the form of lactate) in the cell's surroundings, a feature known as the Warburg effect. While the molecular basis of this phenomenon are still to be elucidated, it is clear that the spilling of energy resources contributes to creating a peculiar microenvironment for tumors, possibly characterized by a degree of toxicity. This suggests that mechanisms for recycling the fermentation products (e.g. a lactate shuttle) may be active, effectively inducing a mutually beneficial metabolic coupling between aberrant and non-aberrant cells. Here we analyze this scenario through a large-scale in silico metabolic model of interacting human cells. By going beyond the cell-autonomous description, we show that elementary physico-chemical constraints indeed favor the establishment of such a coupling under very broad conditions. The characterization we obtained by tuning the aberrant cell's demand for ATP, amino-acids and fatty acids and/or the imbalance in nutrient partitioning provides quantitative support to the idea that synergistic multi-cell effects play a central role in cancer sustainment.\n",
      "q-bio.MN\n",
      "Quantitative constraint-based computational model of tumor-to-stroma   coupling via lactate shuttle [q-bio.MN]\n"
     ]
    }
   ],
   "source": [
    "print abstracts[1301]\n",
    "print sites[1301]\n",
    "print titles[1301]"
   ]
  },
  {
   "cell_type": "code",
   "execution_count": 6,
   "metadata": {
    "collapsed": true
   },
   "outputs": [],
   "source": [
    "sqs = boto3.resource('sqs',\n",
    "    region_name='us-west-2', \n",
    "    aws_access_key_id=access_key,\n",
    "    aws_secret_access_key=secret_key\n",
    " )\n"
   ]
  },
  {
   "cell_type": "code",
   "execution_count": 7,
   "metadata": {
    "collapsed": false
   },
   "outputs": [
    {
     "name": "stdout",
     "output_type": "stream",
     "text": [
      "https://us-west-2.queue.amazonaws.com/066301190734/bookque\n",
      "5\n"
     ]
    }
   ],
   "source": [
    "queuename = 'bookque'\n",
    "queue = sqs.get_queue_by_name(QueueName=queuename)\n",
    "print(queue.url)\n",
    "print(queue.attributes.get('DelaySeconds'))\n"
   ]
  },
  {
   "cell_type": "code",
   "execution_count": 13,
   "metadata": {
    "collapsed": false
   },
   "outputs": [
    {
     "name": "stdout",
     "output_type": "stream",
     "text": [
      "Free-energy calculations for semi-flexible macromolecules: Applications   to DNA knotting and looping [q-bio.BM]\n",
      "Onset of autocatalysis of information-coding polymers [cond-mat.soft]\n",
      "Modulated escape from a metastable state driven by colored noise [cond-mat.stat-mech]\n",
      "Effects of macroH2A and H2A.Z on nucleosome structure and dynamics as   elucidated by molecular dynamics simulations [physics.bio-ph]\n",
      "Images from the Mind: BCI image evolution based on Rapid Serial Visual   Presentation of polygon primitives [q-bio.NC]\n",
      "Exploitation of the genomic double-strand breaks to reduce the   reproductive power of microorganisms [q-bio.GN]\n",
      "Estimation of the parameter of a dynamically selected population for two   subclasses of the exponential family [math.ST]\n",
      "Optimal prediction and natural scene statistics in the retina [q-bio.NC]\n",
      "Sequence Heterogeneity Accelerates Protein Search for Targets on DNA [q-bio.SC]\n",
      "Automated Assignment of Backbone NMR Data using Artificial Intelligence [cs.AI]\n",
      "Inference based method for realignment of single trial neuronal   responses [q-bio.NC]\n",
      "Towards Better Understanding of Artifacts in Variant Calling from   High-Coverage Samples [q-bio.GN]\n",
      "SIS and SIR epidemic models under virtual dispersal [q-bio.PE]\n",
      "Six Susceptible-Infected-Susceptible Models on Scale-free Networks [physics.soc-ph]\n",
      "Mechanics of motility initiation and motility arrest in crawling cells [physics.bio-ph]\n",
      "Detection of Epigenomic Network Community Oncomarkers [q-bio.GN]\n",
      "Predicting single-neuron activity in locally connected networks [q-bio.NC]\n",
      "Stimulus-Dependent Frequency Modulation of Information Transmission in   Neural Systems [q-bio.NC]\n",
      "A global sensitivity analysis approach for morphogenesis models [q-bio.CB]\n",
      "Evolutionary interplay between structure, energy and epistasis in the   coat protein of the $\\phi \\chi 174$ phage family [q-bio.PE]\n",
      "Coping with Space Neophobia in Drosophila melanogaster: The Asymmetric   Dynamics of Crossing a Doorway to the Untrodden [q-bio.NC]\n",
      "New Scaling Relation for Information Transfer in Biological Networks [q-bio.MN]\n",
      "The Composition Of A Disrupted Extrasolar Planetesimal At SDSS   J0845+2257 (Ton 345) [astro-ph.EP]\n",
      "Tip cell overtaking occurs as a side effect of sprouting in   computational models of angiogenesis [q-bio.CB]\n",
      "Modeling the ballistic-to-diffusive transition in nematode motility   reveals low-dimensional behavioral variation across species [q-bio.NC]\n",
      "Superconducting dark energy [gr-qc]\n",
      "Equipartitions and a Distribution for Numbers: A Statistical Model for   Benford&#x27;s Law [physics.data-an]\n",
      "Uncertainty analysis and composite hypothesis under the likelihood   paradigm [q-bio.QM]\n",
      "The long-tail distribution function of mutations in bacteria [q-bio.PE]\n",
      "Simultaneous regulation of cell size and chromosome replication in   bacteria [q-bio.CB]\n",
      "A Jump Distance Distribution-based Bayesian model selection procedure   reliably extracts molecular motion features from single molecule tracking   data [q-bio.QM]\n",
      "A new measure of multisensory integration in a single neuron based on   dependent probability summation [q-bio.NC]\n",
      "Directional out-coupling of light from a plasmonic nanowire-nanoparticle   junction [physics.optics]\n",
      "Evaluating the importance of environmental factors on the spatial   distribution of livestock settlements in the Monte desert with a Monte Carlo   based model: Settlement Dynamics in Drylands (SeDD) [q-bio.PE]\n",
      "Molecular geometry of alkaloids present in seeds of mexican prickly   poppy [q-bio.OT]\n",
      "Computational principles of biological memory [q-bio.NC]\n",
      "Critical population and error threshold on the sharp peak landscape for   the Wright-Fisher model [math.PR]\n",
      "Computational neuroanatomy: mapping cell-type densities in the mouse   brain, simulations from the Allen Brain Atlas [q-bio.NC]\n",
      "A model of sensory neural responses in the presence of unknown   modulatory inputs [q-bio.NC]\n",
      "Possible Mechanisms for Neural Reconfigurability and their Implications [cs.NE]\n",
      "Asymptotic Green&#x27;s function for the stochastic reproduction of competing   variants via Fisher&#x27;s angular transformation [q-bio.PE]\n",
      "Design of Pressure Actuated Cellular Structures [q-bio.QM]\n",
      "A model of sensory neural responses in the presence of unknown   modulatory inputs [q-bio.NC]\n",
      "Sequential Monte Carlo with Adaptive Weights for Approximate Bayesian   Computation [stat.CO]\n",
      "The shifted Wald distribution represents a non-censored Wiener diffusion   model of choice response times: Evidence from simulations and a Go/No-go task [q-bio.NC]\n",
      "What is Learning? A primary discussion about information and   Representation [cs.AI]\n",
      "Tissue fibrosis: a principal evidence for the central role of Misrepairs   in aging [q-bio.TO]\n",
      "Species Trees from Gene Trees Despite a High Rate of Lateral Genetic   Transfer: A Tight Bound [math.PR]\n",
      "BioNetGen 2.2: Advances in Rule-Based Modeling [q-bio.QM]\n",
      "What can ecosystems learn? Expanding evolutionary ecology with learning   theory [q-bio.PE]\n",
      "Were there two forms of Stegosaurus? [q-bio.PE]\n",
      "Detecting somatic mutations in genomic sequences by means of   Kolmogorov-Arnold analysis [q-bio.GN]\n",
      "Efficient maximum likelihood parameterization of continuous-time Markov   processes [physics.data-an]\n",
      "The Automatic Neuroscientist: automated experimental design with   real-time fMRI [q-bio.NC]\n",
      "Elastic network models for RNA: a comparative assessment with molecular   dynamics and SHAPE experiments [q-bio.BM]\n",
      "A guide through a family of phylogenetic dissimilarity measures among   sites [q-bio.PE]\n",
      "Superchords: the atoms of thought [q-bio.NC]\n",
      "On the Sensitivity of Protein Data Bank Normal Mode Analysis: An   Application to GH10 Xylanases [q-bio.BM]\n",
      "pyBioSig: optimizing group discrimination using genetic algorithms for   biosignature discovery [q-bio.QM]\n",
      "The Zigzag Hochschild Complex [math.DG]\n",
      "A model of discrete Kolmogorov-type competitive interaction in a   two-species ecosystem [math.DS]\n",
      "Magnetic fields facilitate DNA-mediated charge transport [physics.bio-ph]\n",
      "Fronts and fluctuations at a critical surface [nlin.PS]\n",
      "Fluctuating fitness shapes the clone size distribution of immune   repertoires [q-bio.PE]\n",
      "Three-layer Regulation Leads to Monoallelic Olfactory Receptor   Expression [q-bio.MN]\n",
      "Tests of cosmic ray radiography for power industry applications [physics.ins-det]\n",
      "Alignment of protein-coding sequences with frameshift extension   penalties [cs.DS]\n",
      "Sustainability of Transient Kinetic Regimes and Origins of Death [q-bio.MN]\n",
      "An Introduction to Multilevel Monte Carlo for Option Valuation [math.NA]\n",
      "Determining physical properties of the cell cortex [physics.bio-ph]\n",
      "Bayesian co-estimation of selfing rate and locus-specific mutation rates   for a partially selfing population [q-bio.PE]\n",
      "Neural mechanism to simulate a scale-invariant future timeline [q-bio.NC]\n",
      "Effective diffusion rates and cross-correlation analysis of &quot;acid   growth&quot; data [q-bio.CB]\n",
      "Linear models of activation cascades: analytical solutions and   coarse-graining of delayed signal transduction [q-bio.MN]\n",
      "Error Threshold of Fully Random Eigen Model [q-bio.PE]\n",
      "Known Structure, Unknown Function: An Inquiry-based Undergraduate   Biochemistry Laboratory Course [physics.ed-ph]\n",
      "The free energy cost of accurate biochemical oscillations [physics.bio-ph]\n",
      "Predicting the extinction of Ebola spreading in Liberia due to   mitigation strategies [q-bio.PE]\n",
      "NGC4370: a case study for testing our ability to infer dust distribution   and mass in nearby galaxies [astro-ph.GA]\n",
      "Evaluation of the Number of Different Genomes on Medium and   Identification of Known Genomes Using Composition Spectra Approach [q-bio.GN]\n",
      "Demography-based adaptive network model reproduces the spatial   organization of human linguistic groups [q-bio.PE]\n",
      "Coupling all-atom molecular dynamics simulations of ions in water with   Brownian dynamics [physics.comp-ph]\n",
      "Exact simulation of the Wright-Fisher diffusion [stat.ME]\n",
      "Computational Performance and Statistical Accuracy of *BEAST and   Comparisons with Other Methods [q-bio.PE]\n",
      "DNA cyclization and looping in the wormlike limit: normal modes and the   validity of the harmonic approximation [q-bio.BM]\n",
      "Hybrid approaches for multiple-species stochastic reaction-diffusion   models [physics.comp-ph]\n",
      "The effect of disorder in the contact probability of elongated   conformations of biopolymers [q-bio.BM]\n",
      "Chaotic Neuronal Oscillations in Spontaneous Cortical-Subcortical   Networks [q-bio.NC]\n",
      "Head-related Impulse Response Cues for Spatial Auditory Brain-computer   Interface [q-bio.NC]\n",
      "Cell bystander effect induced by radiofrequency electromagnetic fields   and magnetic nanoparticles [q-bio.SC]\n",
      "Coupling-induced oscillations in two intrinsically quiescent populations [q-bio.PE]\n",
      "What makes a neural code convex? [q-bio.NC]\n",
      "Cluster Mergers and the Origin of the ARCADE-2 Excess [astro-ph.HE]\n",
      "An enhanced merger fraction within the galaxy population of the SSA22   protocluster at z ~ 3.1 [astro-ph.GA]\n",
      "A System Structure for Adaptive Mobile Applications [cs.SE]\n",
      "A rise in the ionizing photons in star-forming galaxies over the past 5   billion years [astro-ph.GA]\n",
      "Self-similar ultra-relativistic jetted blast wave [astro-ph.HE]\n",
      "Simulator of Galaxy Millimeter/Submillimeter Emission (SIGAME): The   [CII]-SFR Relationship of Massive z=2 Main Sequence Galaxies [astro-ph.GA]\n",
      "A New Model for Mixing By Double-Diffusive Convection (Semi-Convection).   III. Thermal and Compositional Transport Through Non-Layered ODDC [astro-ph.SR]\n",
      "On the [CII]-SFR relation in high redshift galaxies [astro-ph.GA]\n"
     ]
    }
   ],
   "source": [
    "\n",
    "for i in range(1330,1430):\n",
    "    abstract = abstracts[i]\n",
    "    answer = sites[i]\n",
    "    title = titles[i]\n",
    "    #print abstract\n",
    "    print title\n",
    "    queue.send_message(MessageBody='boto3', MessageAttributes ={\n",
    "            'Title':{ 'StringValue': title,\n",
    "                      'DataType': 'String'}, \n",
    "            'Answer':{ 'StringValue': answer,\n",
    "                      'DataType': 'String'}, \n",
    "            'Abstract':{ 'StringValue': abstract,\n",
    "                      'DataType': 'String'} \n",
    "        })"
   ]
  },
  {
   "cell_type": "code",
   "execution_count": 15,
   "metadata": {
    "collapsed": false
   },
   "outputs": [
    {
     "data": {
      "text/plain": [
       "5"
      ]
     },
     "execution_count": 15,
     "metadata": {},
     "output_type": "execute_result"
    }
   ],
   "source": [
    "(1475771330 - 1475771284)/8\n",
    "\n"
   ]
  },
  {
   "cell_type": "code",
   "execution_count": 6,
   "metadata": {
    "collapsed": true
   },
   "outputs": [],
   "source": [
    "def read_config(subj, basepath):\n",
    "    docpath =basepath+ \"/config/config_\"+subj+\".json\"\n",
    "    with open(docpath, 'rb') as f:\n",
    "        doc = f.read() \n",
    "    z =json.loads(doc)\n",
    "    subject = z['subject']\n",
    "    loadset = z['loadset']\n",
    "    subtopics = []\n",
    "    for w in z['supertopics']:\n",
    "        subtopics.extend([(w[0], w[1])])\n",
    "    return subject, loadset, subtopics\n"
   ]
  },
  {
   "cell_type": "code",
   "execution_count": 7,
   "metadata": {
    "collapsed": true
   },
   "outputs": [],
   "source": [
    "#the config files are assumed to be in a subdirectory of the base path called config"
   ]
  },
  {
   "cell_type": "code",
   "execution_count": 8,
   "metadata": {
    "collapsed": false
   },
   "outputs": [],
   "source": [
    "subject, loadset, subtopics = read_config(\"all4\", \"c:/users/dennis/OneDrive/sciml\")"
   ]
  },
  {
   "cell_type": "code",
   "execution_count": 9,
   "metadata": {
    "collapsed": false
   },
   "outputs": [
    {
     "name": "stdout",
     "output_type": "stream",
     "text": [
      "all\n",
      "[u'astro-ph.CO', u'astro-ph.EP', u'astro-ph.GA', u'astro-ph.HE', u'astro-ph.IM', u'astro-ph.SR', u'cond-mat.dis-nn', u'cond-mat.mes-hall', u'cond-mat.mtrl-sci', u'cond-mat.other', u'cond-mat.quant-gas', u'cond-mat.soft', u'cond-mat.stat-mech', u'cond-mat.str-el', u'cond-mat.supr-con', u'nucl-th', u'quant-ph', u'cs.AI', u'cs.AR', u'cs.CC', u'cs.CE', u'cs.CG', u'cs.CL', u'cs.CR', u'cs.CV', u'cs.CY', u'cs.DB', u'cs.DC', u'cs.DL', u'cs.DM', u'cs.DS', u'cs.ET', u'cs.FL', u'cs.GR', u'cs.GT', u'cs.HC', u'cs.IR', u'cs.IT', u'cs.LG', u'cs.LO', u'cs.MA', u'cs.MM', u'cs.MS', u'cs.NA', u'cs.NE', u'cs.NI', u'cs.OH', u'cs.OS', u'cs.PL', u'cs.RO', u'cs.SD', u'cs.SE', u'cs.SI', u'cs.SY', u'cs.RO', u'stat.ML', u'gr-qc', u'hep-ex', u'hep-ph', u'hep-th', u'math.AC', u'math.AG', u'math.AP', u'math.AT', u'math.CA', u'math.CO', u'math.CT', u'math.CV', u'math.DG', u'math.DS', u'math.FA', u'math.GM', u'math.GN', u'math.GR', u'math.GT', u'math.HO', u'math.KT', u'math.LO', u'math.MG', u'math.NA', u'math.NT', u'math.OA', u'math.OC', u'math.PR', u'math.QA', u'math.RA', u'math.RT', u'math.SG', u'math.SP', u'math.ST', u'math-ph', u'nlin.AO', u'nlin.CD', u'nlin.PS', u'nlin.SI', u'stat.AP', u'stat.CO', u'stat.ME', u'stat.OT', u'physics.acc-ph', u'physics.ao-ph', u'physics.atm-clus', u'physics.atom-ph', u'physics.bio-ph', u'physics.chem-ph', u'physics.class-ph', u'physics.comp-ph', u'physics.data-an', u'physics.ed-ph', u'physics.flu-dyn', u'physics.gen-ph', u'physics.geo-ph', u'physics.hist-ph', u'physics.ins-det', u'physics.med-ph', u'physics.optics', u'physics.plasm-ph', u'physics.pop-ph', u'physics.soc-ph', u'physics.space-ph', u'q-bio.BM', u'q-bio.CB', u'q-bio.GN', u'q-bio.MN', u'q-bio.NC', u'q-bio.OT', u'q-bio.PE', u'q-bio.QM', u'q-bio.SC', u'q-bio.TO', u'q-fin.CP', u'q-fin.EC', u'q-fin.GN', u'q-fin.MF', u'q-fin.PM', u'q-fin.PR', u'q-fin.RM', u'q-fin.ST', u'q-fin.TR']\n",
      "[(u'Physics', [u'astro-ph.CO', u'astro-ph.EP', u'astro-ph.GA', u'astro-ph.HE', u'astro-ph.IM', u'astro-ph.SR', u'cond-mat.dis-nn', u'cond-mat.mes-hall', u'cond-mat.mtrl-sci', u'cond-mat.other', u'cond-mat.quant-gas', u'cond-mat.soft', u'cond-mat.stat-mech', u'cond-mat.str-el', u'cond-mat.supr-con', u'nucl-th', u'quant-ph', u'gr-qc', u'hep-ex', u'hep-ph', u'hep-th', u'math-ph', u'physics.acc-ph', u'physics.ao-ph', u'physics.atm-clus', u'physics.atom-ph', u'physics.bio-ph', u'physics.chem-ph', u'physics.class-ph', u'physics.comp-ph', u'physics.data-an', u'physics.ed-ph', u'physics.flu-dyn', u'physics.gen-ph', u'physics.geo-ph', u'physics.hist-ph', u'physics.ins-det', u'physics.med-ph', u'physics.optics', u'physics.plasm-ph', u'physics.pop-ph', u'physics.soc-ph', u'physics.space-ph']), (u'math', [u'math.AC', u'math.AG', u'math.AP', u'math.AT', u'math.CA', u'math.CO', u'math.CT', u'math.CV', u'math.DG', u'math.DS', u'math.FA', u'math.GM', u'math.GN', u'math.GR', u'math.GT', u'math.HO', u'math.KT', u'math.LO', u'math.MG', u'math.NA', u'math.NT', u'math.OA', u'math.OC', u'math.PR', u'math.QA', u'math.RA', u'math.RT', u'math.SG', u'math.SP', u'math.ST', u'nlin.AO', u'nlin.CD', u'nlin.PS', u'nlin.SI', u'stat.AP', u'stat.CO', u'stat.ME', u'stat.OT']), (u'bio', [u'q-bio.BM', u'q-bio.CB', u'q-bio.GN', u'q-bio.MN', u'q-bio.NC', u'q-bio.OT', u'q-bio.PE', u'q-bio.QM', u'q-bio.SC', u'q-bio.TO']), (u'compsci', [u'cs.AI', u'cs.AR', u'cs.CC', u'cs.CE', u'cs.CG', u'cs.CL', u'cs.CR', u'cs.CV', u'cs.CY', u'cs.DB', u'cs.DC', u'cs.DL', u'cs.DM', u'cs.DS', u'cs.ET', u'cs.FL', u'cs.GR', u'cs.GT', u'cs.HC', u'cs.IR', u'cs.IT', u'cs.LG', u'cs.LO', u'cs.MA', u'cs.MM', u'cs.MS', u'cs.NA', u'cs.NE', u'cs.NI', u'cs.OH', u'cs.OS', u'cs.PL', u'cs.RO', u'cs.SD', u'cs.SE', u'cs.SI', u'cs.SY', u'cs.RO', u'stat.ML']), (u'finance', [u'q-fin.CP', u'q-fin.EC', u'q-fin.GN', u'q-fin.MF', u'q-fin.PM', u'q-fin.PR', u'q-fin.RM', u'q-fin.ST', u'q-fin.TR'])]\n"
     ]
    }
   ],
   "source": [
    "print subject\n",
    "print loadset\n",
    "#the loadset is the set of Arxiv subtopics of the subject we are looking for.\n",
    "# the subtopics are the specific subdiciplines in the submect and the corresponding element of the load set in \n",
    "# which they are classified.\n",
    "print subtopics"
   ]
  },
  {
   "cell_type": "code",
   "execution_count": null,
   "metadata": {
    "collapsed": true
   },
   "outputs": [],
   "source": []
  }
 ],
 "metadata": {
  "kernelspec": {
   "display_name": "Python 2",
   "language": "python",
   "name": "python2"
  },
  "language_info": {
   "codemirror_mode": {
    "name": "ipython",
    "version": 2
   },
   "file_extension": ".py",
   "mimetype": "text/x-python",
   "name": "python",
   "nbconvert_exporter": "python",
   "pygments_lexer": "ipython2",
   "version": "2.7.11"
  }
 },
 "nbformat": 4,
 "nbformat_minor": 0
}
