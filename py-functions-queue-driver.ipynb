{
 "cells": [
  {
   "cell_type": "markdown",
   "metadata": {
    "deletable": true,
    "editable": true
   },
   "source": [
    "# Azure Storage Service Demo\n",
    "This is intended to be run on the Python 2 kernel.   \n",
    "If you have not installed azure and azure-storage un-comment the pip below and run it."
   ]
  },
  {
   "cell_type": "code",
   "execution_count": null,
   "metadata": {
    "collapsed": false,
    "deletable": true,
    "editable": true
   },
   "outputs": [],
   "source": [
    "#!pip install --upgrade azure-storage==0.32.0"
   ]
  },
  {
   "cell_type": "code",
   "execution_count": 1,
   "metadata": {
    "collapsed": false,
    "deletable": true,
    "editable": true,
    "scrolled": true
   },
   "outputs": [
    {
     "name": "stdout",
     "output_type": "stream",
     "text": [
      "hello atTue Aug 29 20:28:28 2017\n"
     ]
    }
   ],
   "source": [
    "import csv\n",
    "import sys\n",
    "import azure.storage\n",
    "from azure.storage.table import TableService, Entity\n",
    "from azure.storage.blob import BlockBlobService\n",
    "from azure.storage.blob import PublicAccess\n",
    "from azure.storage.queue import QueueService\n",
    "import time\n",
    "print(\"hello at\" + time.asctime(time.localtime(time.time())))"
   ]
  },
  {
   "cell_type": "markdown",
   "metadata": {
    "deletable": true,
    "editable": true
   },
   "source": [
    "follow the instructions in the book to create a storage account.   the one used here is \"tutorial\", but you will want to pick something else and replace that name everywhere below"
   ]
  },
  {
   "cell_type": "code",
   "execution_count": 25,
   "metadata": {
    "collapsed": false,
    "deletable": true,
    "editable": true
   },
   "outputs": [],
   "source": [
    "account = 'yourstorageaccount'"
   ]
  },
  {
   "cell_type": "code",
   "execution_count": 3,
   "metadata": {
    "collapsed": true,
    "deletable": true,
    "editable": true
   },
   "outputs": [],
   "source": [
    "table_service = TableService(account_name=account, \n",
    "                             account_key='the key ending in==')"
   ]
  },
  {
   "cell_type": "code",
   "execution_count": 4,
   "metadata": {
    "collapsed": false,
    "deletable": true,
    "editable": true
   },
   "outputs": [
    {
     "name": "stdout",
     "output_type": "stream",
     "text": [
      "table already there\n"
     ]
    }
   ],
   "source": [
    "if table_service.create_table('Pyfunctable'):\n",
    "    print(\"table created\")\n",
    "else:\n",
    "    print(\"table already there\")"
   ]
  },
  {
   "cell_type": "markdown",
   "metadata": {},
   "source": [
    "a test to make sure you can insert into the table o.k."
   ]
  },
  {
   "cell_type": "code",
   "execution_count": 15,
   "metadata": {
    "collapsed": false
   },
   "outputs": [
    {
     "data": {
      "text/plain": [
       "'W/\"datetime\\'2017-08-29T20%3A36%3A58.2451046Z\\'\"'"
      ]
     },
     "execution_count": 15,
     "metadata": {},
     "output_type": "execute_result"
    }
   ],
   "source": [
    "metadata_item = {'PartitionKey': 'part1', 'RowKey': '73',  'content': 'dummyxxx '} \n",
    "table_service.insert_entity('Pyfunctable', metadata_item)"
   ]
  },
  {
   "cell_type": "markdown",
   "metadata": {},
   "source": [
    "now create the queue service and make sure we have b64encoded messages (that is what functions want)"
   ]
  },
  {
   "cell_type": "code",
   "execution_count": 16,
   "metadata": {
    "collapsed": true
   },
   "outputs": [],
   "source": [
    "queue_service = QueueService(account_name=account, \n",
    "                             account_key='your account key again==')"
   ]
  },
  {
   "cell_type": "code",
   "execution_count": 17,
   "metadata": {
    "collapsed": true
   },
   "outputs": [],
   "source": [
    "queue_service.encode_function = azure.storage.queue.models.b64encode"
   ]
  },
  {
   "cell_type": "markdown",
   "metadata": {},
   "source": [
    "now insert a single test message in the queue"
   ]
  },
  {
   "cell_type": "code",
   "execution_count": 23,
   "metadata": {
    "collapsed": false
   },
   "outputs": [],
   "source": [
    "metadata_item = \"{'PartitionKey': 'part2', 'RowKey': '73',  'content': 'dummyyyy '}\"\n",
    "queue_service.put_message('samples-python', metadata_item )"
   ]
  },
  {
   "cell_type": "markdown",
   "metadata": {},
   "source": [
    "Now bring up the storage explorer and look at your table service.   you shoud see the dummyxxx and dumyyyy messages."
   ]
  },
  {
   "cell_type": "markdown",
   "metadata": {},
   "source": [
    "## now send a bunch of messages"
   ]
  },
  {
   "cell_type": "code",
   "execution_count": 24,
   "metadata": {
    "collapsed": false
   },
   "outputs": [],
   "source": [
    "for i in range(20):\n",
    "    key = str(i)\n",
    "    item = 'item'+key\n",
    "    metadata_item = \"{'PartitionKey': 'part3', 'RowKey':\"+ \"'\"+ key+\"'\"+\",  'content':\"+\"'\"+item +\"'}\"\n",
    "    queue_service.put_message('samples-python', metadata_item )"
   ]
  },
  {
   "cell_type": "markdown",
   "metadata": {
    "collapsed": true
   },
   "source": [
    "done!  you return to your azure portal and stop the function."
   ]
  },
  {
   "cell_type": "code",
   "execution_count": null,
   "metadata": {
    "collapsed": true
   },
   "outputs": [],
   "source": []
  }
 ],
 "metadata": {
  "anaconda-cloud": {},
  "kernelspec": {
   "display_name": "Python 2",
   "language": "python",
   "name": "python2"
  },
  "language_info": {
   "codemirror_mode": {
    "name": "ipython",
    "version": 2
   },
   "file_extension": ".py",
   "mimetype": "text/x-python",
   "name": "python",
   "nbconvert_exporter": "python",
   "pygments_lexer": "ipython2",
   "version": "2.7.12"
  }
 },
 "nbformat": 4,
 "nbformat_minor": 0
}
