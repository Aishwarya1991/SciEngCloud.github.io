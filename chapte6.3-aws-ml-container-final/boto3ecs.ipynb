{
 "cells": [
  {
   "cell_type": "markdown",
   "metadata": {},
   "source": [
    "# This is the AWS EC2 Container Service Demo\n",
    "This notebook assumes you have created a container (here called cloudbook) by following the instructions in the book text.   here are the important points you must do first.\n",
    "\n",
    "## Cluster set  up.  \n",
    "Next you must create ec2 instances to populate the cluster.   \n",
    "Follow the instructions here \n",
    "\n",
    "If you need the instances to be visible to the world at certain ports, you will need a new security group.   Go to your resources in the ec2 management council.  Click on security group.  Look at your default security group.  Add inbound NFS port  2049 by selecting Edit inbound rules from the \"actions\" tab.   If you need extra inbound ports for your services you may then want to copy to new and add them there and give the new security group a name and description.  I created one with ports 8000-9000 open and give it the name ecs-security-group.\n",
    "\n",
    "\n",
    "http://docs.aws.amazon.com/AmazonECS/latest/developerguide/launch_container_instance.html\n",
    "\n",
    "Go to the console for launching instances and hit \"launch instance\" go to community aims and search for \"amazon-ecs-optimized\" and you should find  ami-1ccd1f7c if you are on us-west-2.    Select that one. Then the size you want.   T2.medium is fine.   Then go to configure launch instance details.  \n",
    "Set the number of instances (I choose 4), enable auto-assign public IP.   You next need an IAM role.  Set it.   \n",
    "\n",
    "Next go to Advanced Details at the bottom of the page.   Paste the following in the text box\n",
    "\n",
    "------------------\n",
    "#!/bin/bash\n",
    "\n",
    "echo ECS_CLUSTER=cloudbook >> /etc/ecs/ecs.config\n",
    "\n",
    "------------------\n",
    "Next go to \"add storage\".   The default is fine for now.  Tag it with name like 'cbook'.   Finally configure security group.   Choose select existing security group.  Your new group should be there.  If not, then look for default and copy-to-new and add the ports you need.\n",
    "\n",
    "Launch.   When you launch you will need to select your key pair in case you need to ssh into these new instances.\n",
    "\n",
    "## this notebook\n",
    "This notebook shows you how to interact with the container service once you have your clust.   "
   ]
  },
  {
   "cell_type": "code",
   "execution_count": 1,
   "metadata": {
    "collapsed": true
   },
   "outputs": [],
   "source": [
    "import boto3"
   ]
  },
  {
   "cell_type": "code",
   "execution_count": 2,
   "metadata": {
    "collapsed": true
   },
   "outputs": [],
   "source": [
    "client = boto3.client('ecs')"
   ]
  },
  {
   "cell_type": "markdown",
   "metadata": {},
   "source": [
    "the list operators return dictionaries and we usually want to see the Arns."
   ]
  },
  {
   "cell_type": "code",
   "execution_count": 3,
   "metadata": {
    "collapsed": false
   },
   "outputs": [
    {
     "data": {
      "text/plain": [
       "[u'arn:aws:ecs:us-west-2:066301190734:cluster/default',\n",
       " u'arn:aws:ecs:us-west-2:066301190734:cluster/cloudbook']"
      ]
     },
     "execution_count": 3,
     "metadata": {},
     "output_type": "execute_result"
    }
   ],
   "source": [
    "client.list_clusters()['clusterArns']"
   ]
  },
  {
   "cell_type": "code",
   "execution_count": 4,
   "metadata": {
    "collapsed": false
   },
   "outputs": [],
   "source": [
    "instance_list = client.list_container_instances(cluster='cloudbook')['containerInstanceArns']"
   ]
  },
  {
   "cell_type": "code",
   "execution_count": 5,
   "metadata": {
    "collapsed": false
   },
   "outputs": [
    {
     "data": {
      "text/plain": [
       "[u'arn:aws:ecs:us-west-2:066301190734:container-instance/12607795-a317-4732-8e6c-5e86f67b0630',\n",
       " u'arn:aws:ecs:us-west-2:066301190734:container-instance/39158178-408e-4ff3-abc4-ed4734d70ced',\n",
       " u'arn:aws:ecs:us-west-2:066301190734:container-instance/7c2516f0-8131-4f10-b3a5-1f8ca3a1e566',\n",
       " u'arn:aws:ecs:us-west-2:066301190734:container-instance/e578f40c-0d4f-46f8-937d-c36e77ba6aa6']"
      ]
     },
     "execution_count": 5,
     "metadata": {},
     "output_type": "execute_result"
    }
   ],
   "source": [
    "instance_list"
   ]
  },
  {
   "cell_type": "code",
   "execution_count": 6,
   "metadata": {
    "collapsed": false
   },
   "outputs": [],
   "source": [
    "ec2instances = [ client.describe_container_instances(\n",
    "        cluster='cloudbook',\n",
    "        containerInstances=[instance]\n",
    "    )[u'containerInstances'][0][u'ec2InstanceId'] for instance in instance_list]"
   ]
  },
  {
   "cell_type": "code",
   "execution_count": 7,
   "metadata": {
    "collapsed": false
   },
   "outputs": [],
   "source": [
    "ec2 = boto3.resource('ec2')"
   ]
  },
  {
   "cell_type": "code",
   "execution_count": 8,
   "metadata": {
    "collapsed": false
   },
   "outputs": [
    {
     "name": "stdout",
     "output_type": "stream",
     "text": [
      "('i-00dd7298fca2948df', 't2.medium', 'ami-1ccd1f7c', '54.201.144.148')\n",
      "('i-057e2913cc97af6d0', 't2.medium', 'ami-1ccd1f7c', '54.186.99.177')\n",
      "('i-0f46d62b305a8487c', 't2.medium', 'ami-1ccd1f7c', '54.214.228.63')\n",
      "('i-089a5074ce074fc49', 't2.medium', 'ami-1ccd1f7c', '54.218.107.231')\n"
     ]
    }
   ],
   "source": [
    "instances = ec2.instances.filter( Filters=[{'Name': 'instance-id', 'Values': ec2instances}])\n",
    "for instance in instances:\n",
    "   print(instance.id, instance.instance_type, instance.image_id, instance.public_ip_address)"
   ]
  },
  {
   "cell_type": "code",
   "execution_count": 9,
   "metadata": {
    "collapsed": false
   },
   "outputs": [
    {
     "data": {
      "text/plain": [
       "[u'awsque',\n",
       " u'container-try-2',\n",
       " u'defx',\n",
       " u'esciencebook-task-def',\n",
       " u'escinewer',\n",
       " u'finaltry',\n",
       " u'finaltryagain',\n",
       " u'jupyter',\n",
       " u'newsynth',\n",
       " u'predict',\n",
       " u'predictor-new',\n",
       " u'table-manager']"
      ]
     },
     "execution_count": 9,
     "metadata": {},
     "output_type": "execute_result"
    }
   ],
   "source": [
    "client.list_task_definition_families()['families']"
   ]
  },
  {
   "cell_type": "code",
   "execution_count": 41,
   "metadata": {
    "collapsed": false
   },
   "outputs": [
    {
     "data": {
      "text/plain": [
       "[u'arn:aws:ecs:us-west-2:066301190734:task-definition/predict:1',\n",
       " u'arn:aws:ecs:us-west-2:066301190734:task-definition/predict:2',\n",
       " u'arn:aws:ecs:us-west-2:066301190734:task-definition/predict:3',\n",
       " u'arn:aws:ecs:us-west-2:066301190734:task-definition/predict:4',\n",
       " u'arn:aws:ecs:us-west-2:066301190734:task-definition/predict:5',\n",
       " u'arn:aws:ecs:us-west-2:066301190734:task-definition/predict:6']"
      ]
     },
     "execution_count": 41,
     "metadata": {},
     "output_type": "execute_result"
    }
   ],
   "source": [
    "client.list_task_definitions(familyPrefix='predict')['taskDefinitionArns']"
   ]
  },
  {
   "cell_type": "code",
   "execution_count": 42,
   "metadata": {
    "collapsed": false
   },
   "outputs": [
    {
     "data": {
      "text/plain": [
       "{u'containerDefinitions': [{u'cpu': 20,\n",
       "   u'environment': [],\n",
       "   u'essential': True,\n",
       "   u'image': u'dbgannon/predict2',\n",
       "   u'memoryReservation': 400,\n",
       "   u'mountPoints': [],\n",
       "   u'name': u'predict',\n",
       "   u'portMappings': [],\n",
       "   u'volumesFrom': []}],\n",
       " u'family': u'predict',\n",
       " u'networkMode': u'bridge',\n",
       " u'requiresAttributes': [{u'name': u'com.amazonaws.ecs.capability.docker-remote-api.1.21'}],\n",
       " u'revision': 6,\n",
       " u'status': u'ACTIVE',\n",
       " u'taskDefinitionArn': u'arn:aws:ecs:us-west-2:066301190734:task-definition/predict:6',\n",
       " u'volumes': []}"
      ]
     },
     "execution_count": 42,
     "metadata": {},
     "output_type": "execute_result"
    }
   ],
   "source": [
    "client.describe_task_definition(taskDefinition='predict:6')['taskDefinition']"
   ]
  },
  {
   "cell_type": "markdown",
   "metadata": {},
   "source": [
    " The following will crecate a task revision of task definition predictor-new. that should be version 6, because there were 5 previous versions (not shown here). "
   ]
  },
  {
   "cell_type": "code",
   "execution_count": 33,
   "metadata": {
    "collapsed": true
   },
   "outputs": [],
   "source": [
    "response = client.register_task_definition(\n",
    "    family='predictor-new',\n",
    "    networkMode='bridge',\n",
    "    containerDefinitions=[\n",
    "        {\n",
    "            'name': 'predictor-new',\n",
    "            'image': 'dbgannon/predictor-new',\n",
    "            'cpu': 20,\n",
    "            'memoryReservation': 400,\n",
    "            'essential': True,\n",
    "        },\n",
    "    ],\n",
    " )\n"
   ]
  },
  {
   "cell_type": "code",
   "execution_count": 34,
   "metadata": {
    "collapsed": false
   },
   "outputs": [
    {
     "data": {
      "text/plain": [
       "{'ResponseMetadata': {'HTTPHeaders': {'connection': 'keep-alive',\n",
       "   'content-length': '489',\n",
       "   'content-type': 'application/x-amz-json-1.1',\n",
       "   'date': 'Tue, 11 Oct 2016 18:29:42 GMT',\n",
       "   'server': 'Server',\n",
       "   'x-amzn-requestid': 'ad977843-8fe0-11e6-b135-efdf65d29c30'},\n",
       "  'HTTPStatusCode': 200,\n",
       "  'RequestId': 'ad977843-8fe0-11e6-b135-efdf65d29c30',\n",
       "  'RetryAttempts': 0},\n",
       " u'taskDefinition': {u'containerDefinitions': [{u'cpu': 20,\n",
       "    u'environment': [],\n",
       "    u'essential': True,\n",
       "    u'image': u'dbgannon/predictor-new',\n",
       "    u'memoryReservation': 400,\n",
       "    u'mountPoints': [],\n",
       "    u'name': u'predictor-new',\n",
       "    u'portMappings': [],\n",
       "    u'volumesFrom': []}],\n",
       "  u'family': u'predictor-new',\n",
       "  u'networkMode': u'bridge',\n",
       "  u'requiresAttributes': [{u'name': u'com.amazonaws.ecs.capability.docker-remote-api.1.21'}],\n",
       "  u'revision': 6,\n",
       "  u'status': u'ACTIVE',\n",
       "  u'taskDefinitionArn': u'arn:aws:ecs:us-west-2:066301190734:task-definition/predictor-new:6',\n",
       "  u'volumes': []}}"
      ]
     },
     "execution_count": 34,
     "metadata": {},
     "output_type": "execute_result"
    }
   ],
   "source": [
    "response"
   ]
  },
  {
   "cell_type": "code",
   "execution_count": 35,
   "metadata": {
    "collapsed": false
   },
   "outputs": [],
   "source": [
    "response = client.register_task_definition(\n",
    "    family='table-manager',\n",
    "    networkMode='bridge',\n",
    "    containerDefinitions=[\n",
    "        {\n",
    "            'name': 'table-manager',\n",
    "            'image': 'dbgannon/table-service-bottle',\n",
    "            'cpu': 400,\n",
    "            'memoryReservation': 200,\n",
    "            'portMappings': [\n",
    "                {\n",
    "                    'containerPort': 8050,\n",
    "                    'hostPort': 8050,\n",
    "                    'protocol': 'tcp'\n",
    "                },\n",
    "            ],\n",
    "\n",
    "            'essential': True,\n",
    "        },\n",
    "    ],\n",
    " )\n"
   ]
  },
  {
   "cell_type": "code",
   "execution_count": 36,
   "metadata": {
    "collapsed": false
   },
   "outputs": [
    {
     "data": {
      "text/plain": [
       "{'ResponseMetadata': {'HTTPHeaders': {'connection': 'keep-alive',\n",
       "   'content-length': '554',\n",
       "   'content-type': 'application/x-amz-json-1.1',\n",
       "   'date': 'Tue, 11 Oct 2016 18:29:57 GMT',\n",
       "   'server': 'Server',\n",
       "   'x-amzn-requestid': 'b65fb353-8fe0-11e6-b135-efdf65d29c30'},\n",
       "  'HTTPStatusCode': 200,\n",
       "  'RequestId': 'b65fb353-8fe0-11e6-b135-efdf65d29c30',\n",
       "  'RetryAttempts': 0},\n",
       " u'taskDefinition': {u'containerDefinitions': [{u'cpu': 400,\n",
       "    u'environment': [],\n",
       "    u'essential': True,\n",
       "    u'image': u'dbgannon/table-service-bottle',\n",
       "    u'memoryReservation': 200,\n",
       "    u'mountPoints': [],\n",
       "    u'name': u'table-manager',\n",
       "    u'portMappings': [{u'containerPort': 8050,\n",
       "      u'hostPort': 8050,\n",
       "      u'protocol': u'tcp'}],\n",
       "    u'volumesFrom': []}],\n",
       "  u'family': u'table-manager',\n",
       "  u'networkMode': u'bridge',\n",
       "  u'requiresAttributes': [{u'name': u'com.amazonaws.ecs.capability.docker-remote-api.1.21'}],\n",
       "  u'revision': 12,\n",
       "  u'status': u'ACTIVE',\n",
       "  u'taskDefinitionArn': u'arn:aws:ecs:us-west-2:066301190734:task-definition/table-manager:12',\n",
       "  u'volumes': []}}"
      ]
     },
     "execution_count": 36,
     "metadata": {},
     "output_type": "execute_result"
    }
   ],
   "source": [
    "response"
   ]
  },
  {
   "cell_type": "markdown",
   "metadata": {
    "collapsed": true
   },
   "source": [
    "now we are going to create 8 instances of this new service based on this task definition"
   ]
  },
  {
   "cell_type": "code",
   "execution_count": 37,
   "metadata": {
    "collapsed": false
   },
   "outputs": [],
   "source": [
    "response = client.create_service(\n",
    "    cluster='cloudbook',\n",
    "    serviceName='table-manager',\n",
    "    taskDefinition='table-manager:12',\n",
    "    desiredCount=4,   \n",
    "    deploymentConfiguration={\n",
    "        'maximumPercent': 100,\n",
    "        'minimumHealthyPercent': 50\n",
    "    }\n",
    ")"
   ]
  },
  {
   "cell_type": "code",
   "execution_count": 38,
   "metadata": {
    "collapsed": false
   },
   "outputs": [
    {
     "data": {
      "text/plain": [
       "{'ResponseMetadata': {'HTTPHeaders': {'connection': 'keep-alive',\n",
       "   'content-length': '993',\n",
       "   'content-type': 'application/x-amz-json-1.1',\n",
       "   'date': 'Tue, 11 Oct 2016 18:30:12 GMT',\n",
       "   'server': 'Server',\n",
       "   'x-amzn-requestid': 'bf6d34a7-8fe0-11e6-b135-efdf65d29c30'},\n",
       "  'HTTPStatusCode': 200,\n",
       "  'RequestId': 'bf6d34a7-8fe0-11e6-b135-efdf65d29c30',\n",
       "  'RetryAttempts': 0},\n",
       " u'service': {u'clusterArn': u'arn:aws:ecs:us-west-2:066301190734:cluster/cloudbook',\n",
       "  u'createdAt': datetime.datetime(2016, 10, 11, 11, 30, 12, 868000, tzinfo=tzlocal()),\n",
       "  u'deploymentConfiguration': {u'maximumPercent': 100,\n",
       "   u'minimumHealthyPercent': 50},\n",
       "  u'deployments': [{u'createdAt': datetime.datetime(2016, 10, 11, 11, 30, 12, 868000, tzinfo=tzlocal()),\n",
       "    u'desiredCount': 4,\n",
       "    u'id': u'ecs-svc/9223370560644162930',\n",
       "    u'pendingCount': 0,\n",
       "    u'runningCount': 0,\n",
       "    u'status': u'PRIMARY',\n",
       "    u'taskDefinition': u'arn:aws:ecs:us-west-2:066301190734:task-definition/table-manager:12',\n",
       "    u'updatedAt': datetime.datetime(2016, 10, 11, 11, 30, 12, 868000, tzinfo=tzlocal())},\n",
       "   {u'createdAt': datetime.datetime(2016, 10, 11, 10, 58, 19, 790000, tzinfo=tzlocal()),\n",
       "    u'desiredCount': 0,\n",
       "    u'id': u'ecs-svc/9223370560646076010',\n",
       "    u'pendingCount': 0,\n",
       "    u'runningCount': 0,\n",
       "    u'status': u'ACTIVE',\n",
       "    u'taskDefinition': u'arn:aws:ecs:us-west-2:066301190734:task-definition/table-manager:11',\n",
       "    u'updatedAt': datetime.datetime(2016, 10, 11, 11, 24, 42, 249000, tzinfo=tzlocal())}],\n",
       "  u'desiredCount': 4,\n",
       "  u'events': [],\n",
       "  u'loadBalancers': [],\n",
       "  u'pendingCount': 0,\n",
       "  u'runningCount': 0,\n",
       "  u'serviceArn': u'arn:aws:ecs:us-west-2:066301190734:service/table-manager',\n",
       "  u'serviceName': u'table-manager',\n",
       "  u'status': u'ACTIVE',\n",
       "  u'taskDefinition': u'arn:aws:ecs:us-west-2:066301190734:task-definition/table-manager:12'}}"
      ]
     },
     "execution_count": 38,
     "metadata": {},
     "output_type": "execute_result"
    }
   ],
   "source": [
    "response"
   ]
  },
  {
   "cell_type": "code",
   "execution_count": 39,
   "metadata": {
    "collapsed": false
   },
   "outputs": [],
   "source": [
    "response = client.create_service(\n",
    "    cluster='cloudbook',\n",
    "    serviceName='predictor-new',\n",
    "    taskDefinition='predictor-new:6',\n",
    "    desiredCount=1,   \n",
    "    deploymentConfiguration={\n",
    "        'maximumPercent': 100,\n",
    "        'minimumHealthyPercent': 50\n",
    "    }\n",
    ")"
   ]
  },
  {
   "cell_type": "code",
   "execution_count": 20,
   "metadata": {
    "collapsed": false
   },
   "outputs": [
    {
     "data": {
      "text/plain": [
       "{'ResponseMetadata': {'HTTPHeaders': {'connection': 'keep-alive',\n",
       "   'content-length': '993',\n",
       "   'content-type': 'application/x-amz-json-1.1',\n",
       "   'date': 'Tue, 11 Oct 2016 17:28:54 GMT',\n",
       "   'server': 'Server',\n",
       "   'x-amzn-requestid': '2ed68fbf-8fd8-11e6-b135-efdf65d29c30'},\n",
       "  'HTTPStatusCode': 200,\n",
       "  'RequestId': '2ed68fbf-8fd8-11e6-b135-efdf65d29c30',\n",
       "  'RetryAttempts': 0},\n",
       " u'service': {u'clusterArn': u'arn:aws:ecs:us-west-2:066301190734:cluster/cloudbook',\n",
       "  u'createdAt': datetime.datetime(2016, 10, 11, 10, 28, 54, 339000, tzinfo=tzlocal()),\n",
       "  u'deploymentConfiguration': {u'maximumPercent': 100,\n",
       "   u'minimumHealthyPercent': 50},\n",
       "  u'deployments': [{u'createdAt': datetime.datetime(2016, 10, 11, 10, 28, 54, 339000, tzinfo=tzlocal()),\n",
       "    u'desiredCount': 8,\n",
       "    u'id': u'ecs-svc/9223370560647841459',\n",
       "    u'pendingCount': 0,\n",
       "    u'runningCount': 0,\n",
       "    u'status': u'PRIMARY',\n",
       "    u'taskDefinition': u'arn:aws:ecs:us-west-2:066301190734:task-definition/predictor-new:3',\n",
       "    u'updatedAt': datetime.datetime(2016, 10, 11, 10, 28, 54, 339000, tzinfo=tzlocal())},\n",
       "   {u'createdAt': datetime.datetime(2016, 10, 10, 17, 48, 14, 442000, tzinfo=tzlocal()),\n",
       "    u'desiredCount': 0,\n",
       "    u'id': u'ecs-svc/9223370560707881348',\n",
       "    u'pendingCount': 0,\n",
       "    u'runningCount': 0,\n",
       "    u'status': u'ACTIVE',\n",
       "    u'taskDefinition': u'arn:aws:ecs:us-west-2:066301190734:task-definition/predictor-new:3',\n",
       "    u'updatedAt': datetime.datetime(2016, 10, 10, 17, 52, 44, 831000, tzinfo=tzlocal())}],\n",
       "  u'desiredCount': 8,\n",
       "  u'events': [],\n",
       "  u'loadBalancers': [],\n",
       "  u'pendingCount': 0,\n",
       "  u'runningCount': 0,\n",
       "  u'serviceArn': u'arn:aws:ecs:us-west-2:066301190734:service/predictor-new2',\n",
       "  u'serviceName': u'predictor-new2',\n",
       "  u'status': u'ACTIVE',\n",
       "  u'taskDefinition': u'arn:aws:ecs:us-west-2:066301190734:task-definition/predictor-new:3'}}"
      ]
     },
     "execution_count": 20,
     "metadata": {},
     "output_type": "execute_result"
    }
   ],
   "source": [
    "response"
   ]
  },
  {
   "cell_type": "code",
   "execution_count": 14,
   "metadata": {
    "collapsed": false
   },
   "outputs": [
    {
     "data": {
      "text/plain": [
       "[u'arn:aws:ecs:us-west-2:066301190734:service/predictor5',\n",
       " u'arn:aws:ecs:us-west-2:066301190734:service/awsque1',\n",
       " u'arn:aws:ecs:us-west-2:066301190734:service/table-manager',\n",
       " u'arn:aws:ecs:us-west-2:066301190734:service/predictor6',\n",
       " u'arn:aws:ecs:us-west-2:066301190734:service/synth9']"
      ]
     },
     "execution_count": 14,
     "metadata": {},
     "output_type": "execute_result"
    }
   ],
   "source": [
    "client.list_services( cluster='cloudbook')['serviceArns']"
   ]
  },
  {
   "cell_type": "code",
   "execution_count": 79,
   "metadata": {
    "collapsed": true
   },
   "outputs": [],
   "source": [
    "response = client.register_task_definition(\n",
    "    family='newsynth',\n",
    "    networkMode='bridge',\n",
    "    containerDefinitions=[\n",
    "        {\n",
    "            'name': 'synthcontainer3',\n",
    "            'image': '066301190734.dkr.ecr.us-west-2.amazonaws.com/escibook',\n",
    "            'cpu': 20,\n",
    "            'memory': 400,\n",
    "            'memoryReservation': 123,\n",
    "            'portMappings': [\n",
    "                {\n",
    "                    'containerPort': 8000,\n",
    "                    'hostPort': 8010,\n",
    "                    'protocol': 'tcp'\n",
    "                },\n",
    "            ],\n",
    "            'essential': True,\n",
    "        },\n",
    "    ],\n",
    " )\n"
   ]
  }
 ],
 "metadata": {
  "anaconda-cloud": {},
  "kernelspec": {
   "display_name": "Python [Root]",
   "language": "python",
   "name": "Python [Root]"
  },
  "language_info": {
   "codemirror_mode": {
    "name": "ipython",
    "version": 2
   },
   "file_extension": ".py",
   "mimetype": "text/x-python",
   "name": "python",
   "nbconvert_exporter": "python",
   "pygments_lexer": "ipython2",
   "version": "2.7.12"
  }
 },
 "nbformat": 4,
 "nbformat_minor": 0
}
