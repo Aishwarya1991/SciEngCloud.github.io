{
 "cells": [
  {
   "cell_type": "markdown",
   "metadata": {},
   "source": [
    "# using cloudbridge to access openstack on Jetstream\n",
    "This notebook demostrates the use of the cloudbridge api to add files to buckes, list the available vm images, create networks and routers and how to create an instance.  (The last step is not working completely.  we will fix that one later.)"
   ]
  },
  {
   "cell_type": "markdown",
   "metadata": {},
   "source": [
    "If you do not have cloudbridge installed uncomment the next line and run it."
   ]
  },
  {
   "cell_type": "code",
   "execution_count": 54,
   "metadata": {
    "collapsed": false
   },
   "outputs": [],
   "source": [
    "#!pip install cloudbridge --upgrade"
   ]
  },
  {
   "cell_type": "code",
   "execution_count": 1,
   "metadata": {
    "collapsed": false
   },
   "outputs": [],
   "source": [
    "\n",
    "from cloudbridge.cloud.factory import CloudProviderFactory, ProviderList\n"
   ]
  },
  {
   "cell_type": "markdown",
   "metadata": {},
   "source": [
    "you will want to log into the open stack portal for jetspeed to get you project name.  "
   ]
  },
  {
   "cell_type": "code",
   "execution_count": 10,
   "metadata": {
    "collapsed": false
   },
   "outputs": [],
   "source": [
    "js_config = {\"os_username\": \"your user name\",\n",
    "             \"os_password\": \"and password\",\n",
    "             \"os_auth_url\": \"https://jblb.jetstream-cloud.org:35357/v3\",\n",
    "             \"os_user_domain_name\": \"tacc\",\n",
    "             \"os_project_domain_name\": \"tacc\",\n",
    "             \"os_project_name\": \"your project (see the portal)\"}\n",
    "js = CloudProviderFactory().create_provider(ProviderList.OPENSTACK, js_config)\n"
   ]
  },
  {
   "cell_type": "markdown",
   "metadata": {},
   "source": [
    "we now have a handle to jetspeed!  let's look at a list of the public vm images."
   ]
  },
  {
   "cell_type": "code",
   "execution_count": 11,
   "metadata": {
    "collapsed": false
   },
   "outputs": [
    {
     "data": {
      "text/plain": [
       "[<CB-OpenStackMachineImage: ChromoSnapShot_b370dc51-2c95-496d-b4aa-19b52860863c_2017-01-30_09:44:41 (3153ba66-d60c-4591-859a-4786b96ff614)>,\n",
       " <CB-OpenStackMachineImage: R with Intel compilers (CentOS 7) (c112d8aa-31a1-4535-9c86-cd0decc3b1ce)>,\n",
       " <CB-OpenStackMachineImage: Myers L533 1st Image (dc7ce197-8217-4ff2-8e88-843a8094e427)>,\n",
       " <CB-OpenStackMachineImage: Myers L533 1st Image (f7a04d77-b267-4bef-93ba-b5b89b7f9e22)>,\n",
       " <CB-OpenStackMachineImage: Myers L533 1st Image (988a7951-3db1-4362-a29c-d19bcd65e89a)>,\n",
       " <CB-OpenStackMachineImage: Myers L533 1st Image (6b9faa14-a3dc-4e44-90dd-30dae0c33d93)>,\n",
       " <CB-OpenStackMachineImage: Intel Development (CentOS 7) (b5bfb513-1d79-49ff-aed0-b55c8fe0114b)>,\n",
       " <CB-OpenStackMachineImage: Chemcompute Slave Slurm (e4b7aa4e-1f13-4426-9b1b-152651114351)>,\n",
       " <CB-OpenStackMachineImage: Python3_Jupyter_Tensorflow (78e3a5c6-3aef-4030-b9b7-9899393643fe)>,\n",
       " <CB-OpenStackMachineImage: Centos 7 (7.2) Development GUI (fd3eafe8-7f07-4028-a87e-1b47ff558653)>,\n",
       " <CB-OpenStackMachineImage: Centos 7 (7.2) Development GUI (bbb79bdd-fd87-420f-bfee-727b3e0dc7b2)>,\n",
       " <CB-OpenStackMachineImage: MAKER 2.31.8 with CCTools (6102b30a-eab5-4589-92a8-8ab5917e1875)>,\n",
       " <CB-OpenStackMachineImage: MAKER 2.31.8 with CCTools (060883e7-ae7e-4a52-a296-b1cf0d877ed2)>,\n",
       " <CB-OpenStackMachineImage: Centos 7 (7.2) Development GUI (e852a0f1-110f-44a1-850a-de2c835f723f)>,\n",
       " <CB-OpenStackMachineImage: Brandeis_statistics_workshop (65fc486c-c6c3-472f-8387-54452844ba4d)>,\n",
       " <CB-OpenStackMachineImage: Centos 7 (7.3) Development GUI (4c25454d-8716-4cd5-841d-d00981536170)>,\n",
       " <CB-OpenStackMachineImage: Centos 7 (7.3) Development GUI (a76e3441-b5d0-43f9-bb10-35783b356bbb)>,\n",
       " <CB-OpenStackMachineImage: BioLinux 8 (906e09cf-2827-49c5-82fd-ea74aa527e1d)>,\n",
       " <CB-OpenStackMachineImage: R with Intel compilers (CentOS 7) (66322719-5bfa-4646-93c6-0132e9a958e5)>,\n",
       " <CB-OpenStackMachineImage: R with Intel compilers (CentOS 7) (53abecce-6b21-4d35-861d-e11528eafb32)>,\n",
       " <CB-OpenStackMachineImage: Centos 7 (7.2) Development GUI (39f013fc-015c-4f36-b784-d3e2254586a3)>,\n",
       " <CB-OpenStackMachineImage: Intel Development (CentOS 7) (e18aba82-c8c4-4eb7-8f46-bec610ad6c30)>,\n",
       " <CB-OpenStackMachineImage: R with Intel compilers (CentOS 7) (b25db736-d5e9-484d-a6ad-4431853a5c4c)>,\n",
       " <CB-OpenStackMachineImage: Ubuntu 14.04.3 Development GUI (21ffc12a-5cd7-4d8b-b3fc-2677cae72b8f)>,\n",
       " <CB-OpenStackMachineImage: Ubuntu 14.04.3 Development GUI (ce66671d-7d9f-4d38-9aef-e193ab21bca3)>,\n",
       " <CB-OpenStackMachineImage: Intel Development (CentOS 7) (1da1a8cc-311a-48b8-8418-aaba63668580)>,\n",
       " <CB-OpenStackMachineImage: MAKER v3 with CCTools (c643dab7-7ba6-4031-909f-8bff9e02b6af)>,\n",
       " <CB-OpenStackMachineImage: QGIS 2.18.1 (bcbe6b38-2190-48e6-9c50-e6c811c5f219)>,\n",
       " <CB-OpenStackMachineImage: Ubuntu 14.04 with Hadoop 2.7.3 (9e04c7e2-8527-4355-870a-ce825dbdcf8d)>,\n",
       " <CB-OpenStackMachineImage: MATLAB (CentOS 6) (f9dd55f2-c25b-4dcb-b95e-40d194965c78)>,\n",
       " <CB-OpenStackMachineImage: trusty-docker (a8df8653-c77a-4518-a4e9-2c59939fd0be)>,\n",
       " <CB-OpenStackMachineImage: I435-I535-B669 Project B (5ad04c2a-1503-4b44-9f5a-ad0abde2a685)>,\n",
       " <CB-OpenStackMachineImage: R with Intel compilers (CentOS 7) (428eaaab-d72d-45cd-b634-3ca4cd2f4101)>,\n",
       " <CB-OpenStackMachineImage: MATLAB (CentOS 6) (d6fe8a85-b43a-4d95-89b5-2e394bd57495)>,\n",
       " <CB-OpenStackMachineImage: Centos 7 (7.2) Development (93905450-0714-4336-a9c1-5e0f50aa9209)>,\n",
       " <CB-OpenStackMachineImage: Ubuntu 14.04.3 Development GUI (61f00773-be3f-45ad-b959-3ef2d7288f4c)>,\n",
       " <CB-OpenStackMachineImage: CentOS 6 (6.8) Development GUI (798830e0-9053-4700-a3bd-4acda9935cc2)>,\n",
       " <CB-OpenStackMachineImage: CentOS 6 (6.8) Development (d9f2c452-86e9-4327-a626-7fda2a50da4f)>,\n",
       " <CB-OpenStackMachineImage: XNIT Demo (cd2ac938-bcd4-4300-b33c-694034af2e8e)>,\n",
       " <CB-OpenStackMachineImage: project a (e8d017e0-f7ce-46b2-b141-81acbd10a30d)>,\n",
       " <CB-OpenStackMachineImage: project a (6c015e14-d6a1-40b4-85ca-ff3d62d12102)>,\n",
       " <CB-OpenStackMachineImage: I535-I435-B669 Project A (a8b24625-b8a8-4eb9-8ce5-b2b51a2a2aaf)>,\n",
       " <CB-OpenStackMachineImage: Galaxy 16.07 Standalone - 161021b01 (2cf07e4a-62a8-41c2-9282-f3c53962f296)>,\n",
       " <CB-OpenStackMachineImage: Ubuntu 16.04 LTS (87e08a17-eae2-4ce4-9051-c561d9a54bde)>,\n",
       " <CB-OpenStackMachineImage: I535-I435-B669 Project A (fcc8542f-1b06-4d51-80c9-c8a505bc6eff)>,\n",
       " <CB-OpenStackMachineImage: Galaxy in worm world (f56f4750-abfe-41e4-b61c-be662a5814ea)>,\n",
       " <CB-OpenStackMachineImage: Centos 7 (7.2) Development GUI (4c2f0709-00e5-49bc-bcbf-e452862854a1)>,\n",
       " <CB-OpenStackMachineImage: ubuntu-16.04-xenial-cloudimage-20160830 (a92d174e-375c-420c-bfcf-55101c448aa9)>,\n",
       " <CB-OpenStackMachineImage: CentOS 7 R Intel compilers (33c126bf-832c-47a4-ad14-b663fb8f7f10)>,\n",
       " <CB-OpenStackMachineImage: Intel Development (CentOS 7) (b4073d7d-d250-47b8-9060-28c4a0e74423)>]"
      ]
     },
     "execution_count": 11,
     "metadata": {},
     "output_type": "execute_result"
    }
   ],
   "source": [
    "js.compute.images.list()"
   ]
  },
  {
   "cell_type": "markdown",
   "metadata": {},
   "source": [
    "the follow will list our current buckets and add a new one."
   ]
  },
  {
   "cell_type": "code",
   "execution_count": 12,
   "metadata": {
    "collapsed": false,
    "scrolled": true
   },
   "outputs": [
    {
     "name": "stdout",
     "output_type": "stream",
     "text": [
      "[<CB-OpenStackBucket: afourth_buck>, <CB-OpenStackBucket: escience>, <CB-OpenStackBucket: my_buck>, <CB-OpenStackBucket: my_buck2>, <CB-OpenStackBucket: my_bucket>, <CB-OpenStackBucket: my_new_buck>, <CB-OpenStackBucket: my_new_bucket>, <CB-OpenStackBucket: my_new_bucket2>, <CB-OpenStackBucket: my_new_bucket3>, <CB-OpenStackBucket: my_new_bucket4>]\n",
      "my_new_bucket\n"
     ]
    }
   ],
   "source": [
    "print js.object_store.list()\n",
    "newbuck = js.object_store.create('my_new_bucket')\n",
    "print(newbuck.name)"
   ]
  },
  {
   "cell_type": "markdown",
   "metadata": {},
   "source": [
    "let's get a handle to another new bucket"
   ]
  },
  {
   "cell_type": "code",
   "execution_count": 13,
   "metadata": {
    "collapsed": true
   },
   "outputs": [],
   "source": [
    "bucket = js.object_store.create('my_new_bucket2')"
   ]
  },
  {
   "cell_type": "code",
   "execution_count": 14,
   "metadata": {
    "collapsed": false
   },
   "outputs": [
    {
     "name": "stdout",
     "output_type": "stream",
     "text": [
      "<CB-OpenStackBucket: my_new_bucket2>\n"
     ]
    }
   ],
   "source": [
    "print bucket"
   ]
  },
  {
   "cell_type": "markdown",
   "metadata": {},
   "source": [
    "we can search for a bucket by name"
   ]
  },
  {
   "cell_type": "code",
   "execution_count": 15,
   "metadata": {
    "collapsed": false
   },
   "outputs": [],
   "source": [
    "buckes = js.object_store.find(name='my_new_bucket2')"
   ]
  },
  {
   "cell_type": "code",
   "execution_count": 16,
   "metadata": {
    "collapsed": false
   },
   "outputs": [
    {
     "data": {
      "text/plain": [
       "[<CB-OpenStackBucket: my_new_bucket2>]"
      ]
     },
     "execution_count": 16,
     "metadata": {},
     "output_type": "execute_result"
    }
   ],
   "source": [
    "buckes"
   ]
  },
  {
   "cell_type": "markdown",
   "metadata": {},
   "source": [
    "Now lets's add some stuff to a blob we will call 'stuff'"
   ]
  },
  {
   "cell_type": "code",
   "execution_count": 17,
   "metadata": {
    "collapsed": true
   },
   "outputs": [],
   "source": [
    "buckobj = buckes[0].create_object('stuff')"
   ]
  },
  {
   "cell_type": "markdown",
   "metadata": {},
   "source": [
    "now we upload a tiny file called 'stuf' it contains 2 lines\n",
    "<pre>\n",
    "here is a file\n",
    "of stuff\n",
    "</pre>"
   ]
  },
  {
   "cell_type": "code",
   "execution_count": 18,
   "metadata": {
    "collapsed": false
   },
   "outputs": [],
   "source": [
    "fo = open('c:\\users\\dennis\\documents\\stuff.txt','rb')"
   ]
  },
  {
   "cell_type": "code",
   "execution_count": 19,
   "metadata": {
    "collapsed": true
   },
   "outputs": [],
   "source": [
    "buckobj.upload(fo)"
   ]
  },
  {
   "cell_type": "code",
   "execution_count": 20,
   "metadata": {
    "collapsed": false
   },
   "outputs": [
    {
     "data": {
      "text/plain": [
       "[<CB-OpenStackBucket: afourth_buck>,\n",
       " <CB-OpenStackBucket: escience>,\n",
       " <CB-OpenStackBucket: my_buck>,\n",
       " <CB-OpenStackBucket: my_buck2>,\n",
       " <CB-OpenStackBucket: my_bucket>,\n",
       " <CB-OpenStackBucket: my_new_buck>,\n",
       " <CB-OpenStackBucket: my_new_bucket>,\n",
       " <CB-OpenStackBucket: my_new_bucket2>,\n",
       " <CB-OpenStackBucket: my_new_bucket3>,\n",
       " <CB-OpenStackBucket: my_new_bucket4>]"
      ]
     },
     "execution_count": 20,
     "metadata": {},
     "output_type": "execute_result"
    }
   ],
   "source": [
    "js.object_store.list()"
   ]
  },
  {
   "cell_type": "code",
   "execution_count": 21,
   "metadata": {
    "collapsed": false
   },
   "outputs": [
    {
     "data": {
      "text/plain": [
       "[<CB-OpenStackBucketObject: stuff>]"
      ]
     },
     "execution_count": 21,
     "metadata": {},
     "output_type": "execute_result"
    }
   ],
   "source": [
    "buckes[0].list()"
   ]
  },
  {
   "cell_type": "code",
   "execution_count": 22,
   "metadata": {
    "collapsed": true
   },
   "outputs": [],
   "source": [
    "stuff = buckes[0].get('stuff')"
   ]
  },
  {
   "cell_type": "code",
   "execution_count": 23,
   "metadata": {
    "collapsed": false
   },
   "outputs": [],
   "source": [
    "itr = stuff.iter_content()"
   ]
  },
  {
   "cell_type": "code",
   "execution_count": 24,
   "metadata": {
    "collapsed": false
   },
   "outputs": [
    {
     "name": "stdout",
     "output_type": "stream",
     "text": [
      "here is a file\r\n",
      "of stuff\r\n",
      "\n"
     ]
    }
   ],
   "source": [
    "for it in itr:\n",
    "    print it"
   ]
  },
  {
   "cell_type": "markdown",
   "metadata": {},
   "source": [
    "now let's see if we can start up an image.  This has a bug so it doesn't work, but this shows what is supposed to work.   We will update when the bug is fixed."
   ]
  },
  {
   "cell_type": "code",
   "execution_count": 25,
   "metadata": {
    "collapsed": true
   },
   "outputs": [],
   "source": [
    "img = js.compute.images.get('9e04c7e2-8527-4355-870a-ce825dbdcf8d')"
   ]
  },
  {
   "cell_type": "code",
   "execution_count": 26,
   "metadata": {
    "collapsed": false
   },
   "outputs": [
    {
     "data": {
      "text/plain": [
       "<CB-OpenStackMachineImage: Ubuntu 14.04 with Hadoop 2.7.3 (9e04c7e2-8527-4355-870a-ce825dbdcf8d)>"
      ]
     },
     "execution_count": 26,
     "metadata": {},
     "output_type": "execute_result"
    }
   ],
   "source": [
    "img"
   ]
  },
  {
   "cell_type": "code",
   "execution_count": 27,
   "metadata": {
    "collapsed": false
   },
   "outputs": [],
   "source": [
    "inst_type = sorted([t for t in js.compute.instance_types.list()\n",
    "                    if t.vcpus >= 4 and t.ram >= 8],\n",
    "                   key=lambda x: x.vcpus*x.ram)[0]"
   ]
  },
  {
   "cell_type": "code",
   "execution_count": 28,
   "metadata": {
    "collapsed": false
   },
   "outputs": [
    {
     "data": {
      "text/plain": [
       "<CB-OpenStackInstanceType: m1.medium (3)>"
      ]
     },
     "execution_count": 28,
     "metadata": {},
     "output_type": "execute_result"
    }
   ],
   "source": [
    "inst_type"
   ]
  },
  {
   "cell_type": "markdown",
   "metadata": {},
   "source": [
    "the following is how to create a key-pair.  if it already exists you can grab it with the find() function."
   ]
  },
  {
   "cell_type": "code",
   "execution_count": 64,
   "metadata": {
    "collapsed": false
   },
   "outputs": [],
   "source": [
    "#kp = js.security.key_pairs.create('cloudbridge_sec')\n",
    "#with open('cloudbridge_sec.pem', 'w') as f:\n",
    "#    f.write(kp.material)\n",
    "#import os\n",
    "#os.chmod('cloudbridge_sec.pem', 0400)\n",
    "kp = js.security.key_pairs.find(name='cloudbridge_sec')"
   ]
  },
  {
   "cell_type": "code",
   "execution_count": 32,
   "metadata": {
    "collapsed": false
   },
   "outputs": [
    {
     "data": {
      "text/plain": [
       "[<CBKeyPair: cloudbridge_sec>]"
      ]
     },
     "execution_count": 32,
     "metadata": {},
     "output_type": "execute_result"
    }
   ],
   "source": [
    "kp"
   ]
  },
  {
   "cell_type": "code",
   "execution_count": 33,
   "metadata": {
    "collapsed": true
   },
   "outputs": [],
   "source": [
    "sg = js.security.security_groups.list()[0]"
   ]
  },
  {
   "cell_type": "code",
   "execution_count": 34,
   "metadata": {
    "collapsed": false
   },
   "outputs": [
    {
     "data": {
      "text/plain": [
       "<CB-OpenStackSecurityGroup: 1eeae9e0-bf15-4089-9d23-9931625f8711>"
      ]
     },
     "execution_count": 34,
     "metadata": {},
     "output_type": "execute_result"
    }
   ],
   "source": [
    "sg"
   ]
  },
  {
   "cell_type": "code",
   "execution_count": 43,
   "metadata": {
    "collapsed": false
   },
   "outputs": [],
   "source": [
    "netlist = js.network.list()"
   ]
  },
  {
   "cell_type": "code",
   "execution_count": 44,
   "metadata": {
    "collapsed": false
   },
   "outputs": [
    {
     "data": {
      "text/plain": [
       "[<CB-OpenStackNetwork: 4367cd20-722f-4dc2-97e8-90d98c25f12e (public)>,\n",
       " <CB-OpenStackNetwork: 0e04d98d-f8c6-4882-9e1a-fd321b0414da (genapp-net)>,\n",
       " <CB-OpenStackNetwork: 4d7cc5c5-1be2-4af3-a208-63a4cd538903 (scicloud)>,\n",
       " <CB-OpenStackNetwork: 1ae6a914-9003-4176-a2f0-57e1bb31c52e (scicloud2)>]"
      ]
     },
     "execution_count": 44,
     "metadata": {},
     "output_type": "execute_result"
    }
   ],
   "source": [
    "netlist"
   ]
  },
  {
   "cell_type": "code",
   "execution_count": 37,
   "metadata": {
    "collapsed": true
   },
   "outputs": [],
   "source": [
    "net = js.network.get('4d7cc5c5-1be2-4af3-a208-63a4cd538903')"
   ]
  },
  {
   "cell_type": "code",
   "execution_count": 38,
   "metadata": {
    "collapsed": false
   },
   "outputs": [
    {
     "data": {
      "text/plain": [
       "<CB-OpenStackNetwork: 4d7cc5c5-1be2-4af3-a208-63a4cd538903 (scicloud)>"
      ]
     },
     "execution_count": 38,
     "metadata": {},
     "output_type": "execute_result"
    }
   ],
   "source": [
    "net"
   ]
  },
  {
   "cell_type": "code",
   "execution_count": 42,
   "metadata": {
    "collapsed": false
   },
   "outputs": [],
   "source": [
    "net = js.network.create('scicloud2')\n",
    "sn = net.create_subnet('10.0.0.0/28', 'scicloud2')\n",
    "router = js.network.create_router('scicloud2')\n"
   ]
  },
  {
   "cell_type": "code",
   "execution_count": 61,
   "metadata": {
    "collapsed": false
   },
   "outputs": [],
   "source": [
    "if not net.external:\n",
    "    for n in js.network.list():\n",
    "        if n.external:\n",
    "            external_net = n\n",
    "            break\n",
    "router.attach_network(external_net.id)\n",
    "router.add_route(sn.id)"
   ]
  },
  {
   "cell_type": "markdown",
   "metadata": {},
   "source": [
    "oops!  the following doesn't work.   "
   ]
  },
  {
   "cell_type": "code",
   "execution_count": 63,
   "metadata": {
    "collapsed": false
   },
   "outputs": [],
   "source": [
    "#inst = js.compute.instances.create( \n",
    "#    name='scicloud-VM', image=img, instance_type=inst_type,\n",
    "#    key_pair=kp, security_groups=[sg], network=net)"
   ]
  },
  {
   "cell_type": "code",
   "execution_count": null,
   "metadata": {
    "collapsed": true
   },
   "outputs": [],
   "source": []
  }
 ],
 "metadata": {
  "kernelspec": {
   "display_name": "Python 2",
   "language": "python",
   "name": "python2"
  },
  "language_info": {
   "codemirror_mode": {
    "name": "ipython",
    "version": 2
   },
   "file_extension": ".py",
   "mimetype": "text/x-python",
   "name": "python",
   "nbconvert_exporter": "python",
   "pygments_lexer": "ipython2",
   "version": "2.7.11"
  }
 },
 "nbformat": 4,
 "nbformat_minor": 0
}
