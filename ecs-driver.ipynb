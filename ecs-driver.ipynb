{
 "cells": [
  {
   "cell_type": "markdown",
   "metadata": {},
   "source": [
    "# This set of functions can be used to load the ARXIV data file and send it to the AWS queue\n",
    "\n",
    "sciml_data_arxiv.p  is  the set of original arxiv rss items.  a subset of these were use for training.  the url is https://1drv.ms/u/s!AkRG9Zk_IOUagrFxuO3yxvluvwQ1uA This is a OneDrive link so you will need to go there on your browser and go to the \"download\" tab at the top and download the file.   perhaps in \"/tmp\"\n",
    "\n",
    "sciml_data_arxiv_new_9_28_15.p  \"newly\" arrived arxiv items (not in the above) it is at https://1drv.ms/u/s!AkRG9Zk_IOUagrFvwrNNB8Jgc1ARcA   you can also use this one.  it does not contain anything  that was used for training.\n",
    "\n"
   ]
  },
  {
   "cell_type": "code",
   "execution_count": 1,
   "metadata": {
    "collapsed": true
   },
   "outputs": [],
   "source": [
    "import pickle\n",
    "import json\n",
    "import boto3"
   ]
  },
  {
   "cell_type": "markdown",
   "metadata": {},
   "source": [
    "The following function just loads the pickled data file  and extracts the titles, sitenames (arxiv designations) and abstracts"
   ]
  },
  {
   "cell_type": "code",
   "execution_count": 2,
   "metadata": {
    "collapsed": true
   },
   "outputs": [],
   "source": [
    "def load_docs(path, name):\n",
    "    filename = path+name+\".p\"\n",
    "    fileobj = open(filename, \"rb\")\n",
    "    z = fileobj.read()\n",
    "    lst = pickle.loads(str(z))\n",
    "    titles = []\n",
    "    sitenames = []\n",
    "    abstracts = []\n",
    "    for i in range(0, len(lst)):\n",
    "        titles.extend([lst[i][0]])\n",
    "        sitenames.extend([lst[i][1]])\n",
    "        abstracts.extend([lst[i][2]])\n",
    "        \n",
    "    print \"done loading \"+filename\n",
    "    return abstracts, sitenames, titles"
   ]
  },
  {
   "cell_type": "markdown",
   "metadata": {},
   "source": [
    "this call loads three arrays: abstracts: the paper abstract,  sites: the arxiv designation, and the title"
   ]
  },
  {
   "cell_type": "code",
   "execution_count": 3,
   "metadata": {
    "collapsed": false
   },
   "outputs": [
    {
     "name": "stdout",
     "output_type": "stream",
     "text": [
      "done loading /tmp/sciml_data_arxiv.p\n"
     ]
    }
   ],
   "source": [
    "abstracts, sites, titles = load_docs(\"/tmp/\", \"sciml_data_arxiv\")"
   ]
  },
  {
   "cell_type": "markdown",
   "metadata": {},
   "source": [
    "let's take a peek at one of them.  how about number 1301"
   ]
  },
  {
   "cell_type": "code",
   "execution_count": 4,
   "metadata": {
    "collapsed": false
   },
   "outputs": [
    {
     "name": "stdout",
     "output_type": "stream",
     "text": [
      "Cancer cells utilize large amounts of ATP to sustain growth, relying primarily on non-oxidative, fermentative pathways for its production. In many types of cancers this leads, even in the presence of oxygen, to the secretion of carbon equivalents (usually in the form of lactate) in the cell's surroundings, a feature known as the Warburg effect. While the molecular basis of this phenomenon are still to be elucidated, it is clear that the spilling of energy resources contributes to creating a peculiar microenvironment for tumors, possibly characterized by a degree of toxicity. This suggests that mechanisms for recycling the fermentation products (e.g. a lactate shuttle) may be active, effectively inducing a mutually beneficial metabolic coupling between aberrant and non-aberrant cells. Here we analyze this scenario through a large-scale in silico metabolic model of interacting human cells. By going beyond the cell-autonomous description, we show that elementary physico-chemical constraints indeed favor the establishment of such a coupling under very broad conditions. The characterization we obtained by tuning the aberrant cell's demand for ATP, amino-acids and fatty acids and/or the imbalance in nutrient partitioning provides quantitative support to the idea that synergistic multi-cell effects play a central role in cancer sustainment.\n",
      "q-bio.MN\n",
      "Quantitative constraint-based computational model of tumor-to-stroma   coupling via lactate shuttle [q-bio.MN]\n"
     ]
    }
   ],
   "source": [
    "print abstracts[1301]\n",
    "print sites[1301]\n",
    "print titles[1301]"
   ]
  },
  {
   "cell_type": "code",
   "execution_count": 5,
   "metadata": {
    "collapsed": true
   },
   "outputs": [],
   "source": [
    "sqs = boto3.resource('sqs',\n",
    "    region_name='us-west-2', \n",
    " )\n"
   ]
  },
  {
   "cell_type": "markdown",
   "metadata": {},
   "source": [
    "# now let's grab the queue\n",
    "The queue \"bookque\" was previously created from the aws portal"
   ]
  },
  {
   "cell_type": "code",
   "execution_count": 6,
   "metadata": {
    "collapsed": false
   },
   "outputs": [
    {
     "name": "stdout",
     "output_type": "stream",
     "text": [
      "https://us-west-2.queue.amazonaws.com/066301190734/bookque\n",
      "5\n"
     ]
    }
   ],
   "source": [
    "queuename = 'bookque'\n",
    "queue = sqs.get_queue_by_name(QueueName=queuename)\n",
    "print(queue.url)\n",
    "print(queue.attributes.get('DelaySeconds'))\n"
   ]
  },
  {
   "cell_type": "code",
   "execution_count": 7,
   "metadata": {
    "collapsed": true
   },
   "outputs": [],
   "source": [
    "import time"
   ]
  },
  {
   "cell_type": "markdown",
   "metadata": {},
   "source": [
    "# send data to the queue\n",
    "this loop grabs 100 papers (1350 through 1449) and pushes them to the queue.  These 100 were chosen as a random sample.  nothing special about them. "
   ]
  },
  {
   "cell_type": "code",
   "execution_count": 14,
   "metadata": {
    "collapsed": false
   },
   "outputs": [
    {
     "name": "stdout",
     "output_type": "stream",
     "text": [
      "Coping with Space Neophobia in Drosophila melanogaster: The Asymmetric   Dynamics of Crossing a Doorway to the Untrodden [q-bio.NC]\n",
      "New Scaling Relation for Information Transfer in Biological Networks [q-bio.MN]\n",
      "The Composition Of A Disrupted Extrasolar Planetesimal At SDSS   J0845+2257 (Ton 345) [astro-ph.EP]\n",
      "Tip cell overtaking occurs as a side effect of sprouting in   computational models of angiogenesis [q-bio.CB]\n",
      "Modeling the ballistic-to-diffusive transition in nematode motility   reveals low-dimensional behavioral variation across species [q-bio.NC]\n",
      "Superconducting dark energy [gr-qc]\n",
      "Equipartitions and a Distribution for Numbers: A Statistical Model for   Benford&#x27;s Law [physics.data-an]\n",
      "Uncertainty analysis and composite hypothesis under the likelihood   paradigm [q-bio.QM]\n",
      "The long-tail distribution function of mutations in bacteria [q-bio.PE]\n",
      "Simultaneous regulation of cell size and chromosome replication in   bacteria [q-bio.CB]\n",
      "A Jump Distance Distribution-based Bayesian model selection procedure   reliably extracts molecular motion features from single molecule tracking   data [q-bio.QM]\n",
      "A new measure of multisensory integration in a single neuron based on   dependent probability summation [q-bio.NC]\n",
      "Directional out-coupling of light from a plasmonic nanowire-nanoparticle   junction [physics.optics]\n",
      "Evaluating the importance of environmental factors on the spatial   distribution of livestock settlements in the Monte desert with a Monte Carlo   based model: Settlement Dynamics in Drylands (SeDD) [q-bio.PE]\n",
      "Molecular geometry of alkaloids present in seeds of mexican prickly   poppy [q-bio.OT]\n",
      "Computational principles of biological memory [q-bio.NC]\n",
      "Critical population and error threshold on the sharp peak landscape for   the Wright-Fisher model [math.PR]\n",
      "Computational neuroanatomy: mapping cell-type densities in the mouse   brain, simulations from the Allen Brain Atlas [q-bio.NC]\n",
      "A model of sensory neural responses in the presence of unknown   modulatory inputs [q-bio.NC]\n",
      "Possible Mechanisms for Neural Reconfigurability and their Implications [cs.NE]\n",
      "Asymptotic Green&#x27;s function for the stochastic reproduction of competing   variants via Fisher&#x27;s angular transformation [q-bio.PE]\n",
      "Design of Pressure Actuated Cellular Structures [q-bio.QM]\n",
      "A model of sensory neural responses in the presence of unknown   modulatory inputs [q-bio.NC]\n",
      "Sequential Monte Carlo with Adaptive Weights for Approximate Bayesian   Computation [stat.CO]\n",
      "The shifted Wald distribution represents a non-censored Wiener diffusion   model of choice response times: Evidence from simulations and a Go/No-go task [q-bio.NC]\n",
      "What is Learning? A primary discussion about information and   Representation [cs.AI]\n",
      "Tissue fibrosis: a principal evidence for the central role of Misrepairs   in aging [q-bio.TO]\n",
      "Species Trees from Gene Trees Despite a High Rate of Lateral Genetic   Transfer: A Tight Bound [math.PR]\n",
      "BioNetGen 2.2: Advances in Rule-Based Modeling [q-bio.QM]\n",
      "What can ecosystems learn? Expanding evolutionary ecology with learning   theory [q-bio.PE]\n",
      "Were there two forms of Stegosaurus? [q-bio.PE]\n",
      "Detecting somatic mutations in genomic sequences by means of   Kolmogorov-Arnold analysis [q-bio.GN]\n",
      "Efficient maximum likelihood parameterization of continuous-time Markov   processes [physics.data-an]\n",
      "The Automatic Neuroscientist: automated experimental design with   real-time fMRI [q-bio.NC]\n",
      "Elastic network models for RNA: a comparative assessment with molecular   dynamics and SHAPE experiments [q-bio.BM]\n",
      "A guide through a family of phylogenetic dissimilarity measures among   sites [q-bio.PE]\n",
      "Superchords: the atoms of thought [q-bio.NC]\n",
      "On the Sensitivity of Protein Data Bank Normal Mode Analysis: An   Application to GH10 Xylanases [q-bio.BM]\n",
      "pyBioSig: optimizing group discrimination using genetic algorithms for   biosignature discovery [q-bio.QM]\n",
      "The Zigzag Hochschild Complex [math.DG]\n",
      "A model of discrete Kolmogorov-type competitive interaction in a   two-species ecosystem [math.DS]\n",
      "Magnetic fields facilitate DNA-mediated charge transport [physics.bio-ph]\n",
      "Fronts and fluctuations at a critical surface [nlin.PS]\n",
      "Fluctuating fitness shapes the clone size distribution of immune   repertoires [q-bio.PE]\n",
      "Three-layer Regulation Leads to Monoallelic Olfactory Receptor   Expression [q-bio.MN]\n",
      "Tests of cosmic ray radiography for power industry applications [physics.ins-det]\n",
      "Alignment of protein-coding sequences with frameshift extension   penalties [cs.DS]\n",
      "Sustainability of Transient Kinetic Regimes and Origins of Death [q-bio.MN]\n",
      "An Introduction to Multilevel Monte Carlo for Option Valuation [math.NA]\n",
      "Determining physical properties of the cell cortex [physics.bio-ph]\n",
      "Bayesian co-estimation of selfing rate and locus-specific mutation rates   for a partially selfing population [q-bio.PE]\n",
      "Neural mechanism to simulate a scale-invariant future timeline [q-bio.NC]\n",
      "Effective diffusion rates and cross-correlation analysis of &quot;acid   growth&quot; data [q-bio.CB]\n",
      "Linear models of activation cascades: analytical solutions and   coarse-graining of delayed signal transduction [q-bio.MN]\n",
      "Error Threshold of Fully Random Eigen Model [q-bio.PE]\n",
      "Known Structure, Unknown Function: An Inquiry-based Undergraduate   Biochemistry Laboratory Course [physics.ed-ph]\n",
      "The free energy cost of accurate biochemical oscillations [physics.bio-ph]\n",
      "Predicting the extinction of Ebola spreading in Liberia due to   mitigation strategies [q-bio.PE]\n",
      "NGC4370: a case study for testing our ability to infer dust distribution   and mass in nearby galaxies [astro-ph.GA]\n",
      "Evaluation of the Number of Different Genomes on Medium and   Identification of Known Genomes Using Composition Spectra Approach [q-bio.GN]\n",
      "Demography-based adaptive network model reproduces the spatial   organization of human linguistic groups [q-bio.PE]\n",
      "Coupling all-atom molecular dynamics simulations of ions in water with   Brownian dynamics [physics.comp-ph]\n",
      "Exact simulation of the Wright-Fisher diffusion [stat.ME]\n",
      "Computational Performance and Statistical Accuracy of *BEAST and   Comparisons with Other Methods [q-bio.PE]\n",
      "DNA cyclization and looping in the wormlike limit: normal modes and the   validity of the harmonic approximation [q-bio.BM]\n",
      "Hybrid approaches for multiple-species stochastic reaction-diffusion   models [physics.comp-ph]\n",
      "The effect of disorder in the contact probability of elongated   conformations of biopolymers [q-bio.BM]\n",
      "Chaotic Neuronal Oscillations in Spontaneous Cortical-Subcortical   Networks [q-bio.NC]\n",
      "Head-related Impulse Response Cues for Spatial Auditory Brain-computer   Interface [q-bio.NC]\n",
      "Cell bystander effect induced by radiofrequency electromagnetic fields   and magnetic nanoparticles [q-bio.SC]\n",
      "Coupling-induced oscillations in two intrinsically quiescent populations [q-bio.PE]\n",
      "What makes a neural code convex? [q-bio.NC]\n",
      "Cluster Mergers and the Origin of the ARCADE-2 Excess [astro-ph.HE]\n",
      "An enhanced merger fraction within the galaxy population of the SSA22   protocluster at z ~ 3.1 [astro-ph.GA]\n",
      "A System Structure for Adaptive Mobile Applications [cs.SE]\n",
      "A rise in the ionizing photons in star-forming galaxies over the past 5   billion years [astro-ph.GA]\n",
      "Self-similar ultra-relativistic jetted blast wave [astro-ph.HE]\n",
      "Simulator of Galaxy Millimeter/Submillimeter Emission (SIGAME): The   [CII]-SFR Relationship of Massive z=2 Main Sequence Galaxies [astro-ph.GA]\n",
      "A New Model for Mixing By Double-Diffusive Convection (Semi-Convection).   III. Thermal and Compositional Transport Through Non-Layered ODDC [astro-ph.SR]\n",
      "On the [CII]-SFR relation in high redshift galaxies [astro-ph.GA]\n",
      "Weak lensing by galaxy troughs in DES Science Verification data [astro-ph.CO]\n",
      "Improved determination of sterile neutrino dark matter spectrum [hep-ph]\n",
      "The GHOSTS survey. II. The diversity of Halo Color and Metallicity   Profiles of Massive Disk Galaxies [astro-ph.GA]\n",
      "Gaia FGK benchmark stars: abundances of alpha and iron-peak elements [astro-ph.SR]\n",
      "Early Science with the Large Millimeter Telescope: Observations of dust   continuum and CO emission lines of cluster-lensed submillimetre galaxies at   z=2.0-4.7 [astro-ph.GA]\n",
      "Nonsingular Cosmology from an Unstable Higgs Field [hep-th]\n",
      "Near-Infrared Polarimetric Adaptive Optics Observations of NGC 1068: A   torus created by a hydromagnetic outflow wind [astro-ph.GA]\n",
      "Electron and Ion Acceleration in Relativistic Shocks with Applications   to GRB Afterglows [astro-ph.HE]\n",
      "A Deep XMM-Newton Study of the Hot Gaseous Halo Around NGC 1961 [astro-ph.GA]\n",
      "The Diversity of Transients from Magnetar Birth [astro-ph.HE]\n",
      "Wilson Loop Invariants from $W_N$ Conformal Blocks [hep-th]\n",
      "Disk-stability constraints on the number of arms in spiral galaxies [astro-ph.GA]\n",
      "Relativistic Shocks: Particle Acceleration and Magnetization [astro-ph.HE]\n",
      "Building a Better Understanding of the High Redshift BOSS Galaxies as   Tools for Cosmology [astro-ph.CO]\n",
      "Constraints on $\\mu$-distortion fluctuations and primordial   non-Gaussianity from Planck data [astro-ph.CO]\n",
      "An independent test of the photometric selection of white dwarf   candidates using LAMOST DR3 [astro-ph.SR]\n",
      "What is the optimal way to measure the galaxy power spectrum? [astro-ph.CO]\n",
      "Construction of the CHIPS-M prototype and simulations of a 10 kiloton   module [physics.ins-det]\n",
      "The stellar wind velocity field of HD 77581 [astro-ph.HE]\n",
      "Five groups of red giants with distinct chemical composition in the   globular cluster NGC 2808 [astro-ph.SR]\n"
     ]
    }
   ],
   "source": [
    "t0 = time.time()\n",
    "for i in range(1350,1450):\n",
    "    abstract = abstracts[i]\n",
    "    source = sites[i]\n",
    "    title = titles[i]\n",
    "    #print abstract\n",
    "    print title\n",
    "    queue.send_message(MessageBody='boto3', MessageAttributes ={\n",
    "            'Title':{ 'StringValue': title,\n",
    "                      'DataType': 'String'}, \n",
    "            'Source':{ 'StringValue': source,\n",
    "                      'DataType': 'String'}, \n",
    "            'Abstract':{ 'StringValue': abstract,\n",
    "                      'DataType': 'String'} \n",
    "        })\n",
    "t1 = time.time()"
   ]
  },
  {
   "cell_type": "code",
   "execution_count": 15,
   "metadata": {
    "collapsed": false
   },
   "outputs": [
    {
     "name": "stdout",
     "output_type": "stream",
     "text": [
      "elapsed time =3.36903595924\n"
     ]
    }
   ],
   "source": [
    "print 'elapsed time ='+str(t1-t0)"
   ]
  },
  {
   "cell_type": "markdown",
   "metadata": {
    "collapsed": true
   },
   "source": [
    "# what was in the dynamoDB table after the process ended?\n",
    "To see the output that appeared in the dynodb table look at BookTable-dynammodb-output.csv\n",
    "\n",
    "Note: it took 3 seconds to fill the queue and if we look at the csv file and sort by timestame we see it took 26 seconds to do all the processing using 8 predictors.  "
   ]
  },
  {
   "cell_type": "code",
   "execution_count": null,
   "metadata": {
    "collapsed": true
   },
   "outputs": [],
   "source": []
  }
 ],
 "metadata": {
  "anaconda-cloud": {},
  "kernelspec": {
   "display_name": "Python [Root]",
   "language": "python",
   "name": "Python [Root]"
  },
  "language_info": {
   "codemirror_mode": {
    "name": "ipython",
    "version": 2
   },
   "file_extension": ".py",
   "mimetype": "text/x-python",
   "name": "python",
   "nbconvert_exporter": "python",
   "pygments_lexer": "ipython2",
   "version": "2.7.12"
  }
 },
 "nbformat": 4,
 "nbformat_minor": 0
}
