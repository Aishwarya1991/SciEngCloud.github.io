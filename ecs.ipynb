{
 "cells": [
  {
   "cell_type": "markdown",
   "metadata": {},
   "source": [
    "# This is how to create service tasks in Amazon ECS"
   ]
  },
  {
   "cell_type": "code",
   "execution_count": 2,
   "metadata": {
    "collapsed": true
   },
   "outputs": [],
   "source": [
    "import boto3"
   ]
  },
  {
   "cell_type": "code",
   "execution_count": 3,
   "metadata": {
    "collapsed": false
   },
   "outputs": [],
   "source": [
    "client = boto3.client('ecs')"
   ]
  },
  {
   "cell_type": "markdown",
   "metadata": {},
   "source": [
    "# we created a cluster called cloudbook in the ecs portal\n",
    "if we didn't, then go to the portal and do so.  instructions are in the book.\n",
    "\n",
    "let's see if we can find it"
   ]
  },
  {
   "cell_type": "code",
   "execution_count": 4,
   "metadata": {
    "collapsed": false
   },
   "outputs": [
    {
     "data": {
      "text/plain": [
       "[u'arn:aws:ecs:us-west-2:066301190734:cluster/default',\n",
       " u'arn:aws:ecs:us-west-2:066301190734:cluster/cloudbook']"
      ]
     },
     "execution_count": 4,
     "metadata": {},
     "output_type": "execute_result"
    }
   ],
   "source": [
    "client.list_clusters()['clusterArns']"
   ]
  },
  {
   "cell_type": "markdown",
   "metadata": {},
   "source": [
    "Next let's see how many VMs (called containers in ecs) we have.  there shoud be two."
   ]
  },
  {
   "cell_type": "code",
   "execution_count": 5,
   "metadata": {
    "collapsed": true
   },
   "outputs": [],
   "source": [
    "instance_list = client.list_container_instances(cluster='cloudbook')['containerInstanceArns']"
   ]
  },
  {
   "cell_type": "code",
   "execution_count": 6,
   "metadata": {
    "collapsed": false
   },
   "outputs": [
    {
     "data": {
      "text/plain": [
       "[u'arn:aws:ecs:us-west-2:066301190734:container-instance/1976abce-a701-48d4-8d47-36203ec37030',\n",
       " u'arn:aws:ecs:us-west-2:066301190734:container-instance/6db24ef9-cd3d-484c-ae8d-68222ccdf553']"
      ]
     },
     "execution_count": 6,
     "metadata": {},
     "output_type": "execute_result"
    }
   ],
   "source": [
    "instance_list"
   ]
  },
  {
   "cell_type": "markdown",
   "metadata": {},
   "source": [
    "we can even get their IP addresses"
   ]
  },
  {
   "cell_type": "code",
   "execution_count": 25,
   "metadata": {
    "collapsed": true
   },
   "outputs": [],
   "source": [
    "ec2instances = [ client.describe_container_instances(\n",
    "        cluster='cloudbook',\n",
    "        containerInstances=[instance]\n",
    "    )[u'containerInstances'][0][u'ec2InstanceId'] for instance in instance_list]\n"
   ]
  },
  {
   "cell_type": "code",
   "execution_count": 28,
   "metadata": {
    "collapsed": false
   },
   "outputs": [
    {
     "name": "stdout",
     "output_type": "stream",
     "text": [
      "('i-091dd4eabc9c26ebf', 'm4.large', 'ami-022b9262', '54.218.242.169')\n",
      "('i-0b3baa39032a638ff', 'm4.large', 'ami-022b9262', '54.218.60.176')\n"
     ]
    }
   ],
   "source": [
    "ec2 = boto3.resource('ec2')\n",
    "instances = ec2.instances.filter( Filters=[{'Name': 'instance-id', 'Values': ec2instances}])\n",
    "for instance in instances:\n",
    "   print(instance.id, instance.instance_type, instance.image_id, instance.public_ip_address)"
   ]
  },
  {
   "cell_type": "markdown",
   "metadata": {},
   "source": [
    "# now we will create the first task definition\n",
    "we will have two services.\n",
    "<ul>\n",
    "<li> The predictor service.   This services reads prediction jobs from the amazon sqs queue service, invokes the predictor to classify it, then it sends the classification, title, the service hostname, the correct answer and a sequence number to the table service. \n",
    "<li> the table service.   this is a simple web service that waits for a message from a predictor service and then pushes the result to the aws dynamoDB in table \"BookTable\"\n",
    "</ul>\n",
    "We start with the task definition of the for the table service.  specify that task definition family name, default network and our  AIM role that authorizes the service to use the queue and the dynamoDB.   We are going to deploy this as a docker container which we have saved to the Docker hub. (see the build files for this in directory table-service).  We also need to specify a port binding.\n",
    "\n",
    "note: the iam arn has been modified and the image is now assumed to be in your account.  (this notebook was run with valid accounts and then edited later for public viewing"
   ]
  },
  {
   "cell_type": "code",
   "execution_count": null,
   "metadata": {
    "collapsed": true
   },
   "outputs": [],
   "source": [
    "response = client.register_task_definition(\n",
    "    family='tableservice',\n",
    "    networkMode='bridge',\n",
    "    taskRoleArn= 'arn:aws:iam::0123456789012:role/mymicroservices',\n",
    "            \n",
    "    containerDefinitions=[\n",
    "        {\n",
    "            'name': 'tableservice',\n",
    "            'image': 'yourdockerhubid/tableservice',\n",
    "            'cpu': 20,\n",
    "            'memory': 400,\n",
    "            'memoryReservation': 123,\n",
    "            'portMappings': [\n",
    "                {\n",
    "                    'containerPort': 8050,\n",
    "                    'hostPort': 8050,\n",
    "                    'protocol': 'tcp'\n",
    "                },\n",
    "            ],\n",
    "            'essential': True,\n",
    "        },\n",
    "    ],\n",
    " )\n"
   ]
  },
  {
   "cell_type": "code",
   "execution_count": 10,
   "metadata": {
    "collapsed": false
   },
   "outputs": [
    {
     "data": {
      "text/plain": [
       "[u'arn:aws:ecs:us-west-2:066301190734:task-definition/tableservice:1']"
      ]
     },
     "execution_count": 10,
     "metadata": {},
     "output_type": "execute_result"
    }
   ],
   "source": [
    "client.list_task_definitions(familyPrefix='tableservice')['taskDefinitionArns']"
   ]
  },
  {
   "cell_type": "markdown",
   "metadata": {},
   "source": [
    "# now we create the tableservice service\n",
    "note that when we create a task definition it gives it a sequnce number.   \n",
    "that is because we often revises the task definition during debugging.   We specify that we want at least 50% of our requested instances running at all time."
   ]
  },
  {
   "cell_type": "code",
   "execution_count": null,
   "metadata": {
    "collapsed": true
   },
   "outputs": [],
   "source": [
    "response = client.create_service( cluster='cloudbook', \n",
    "                                 serviceName='tableservice', \n",
    "                                 taskDefinition='tableservice:1', \n",
    "                                 desiredCount=2, deploymentConfiguration={\n",
    "                                    'maximumPercent': 100,\n",
    "                                    'minimumHealthyPercent': 50 }\n",
    ")"
   ]
  },
  {
   "cell_type": "markdown",
   "metadata": {},
   "source": [
    "# now the task definition for the predictor.\n",
    "note: the iam arn has been modified and the image is now assumed to be in your account"
   ]
  },
  {
   "cell_type": "code",
   "execution_count": 20,
   "metadata": {
    "collapsed": true
   },
   "outputs": [],
   "source": [
    "response = client.register_task_definition(\n",
    "    family='predictor',\n",
    "    networkMode='bridge',\n",
    "    taskRoleArn= 'arn:aws:iam::012345678901:role/mymicroservices',\n",
    "            \n",
    "    containerDefinitions=[\n",
    "        {\n",
    "            'name': 'predictor',\n",
    "            'image': 'yourdocerhubid/predictor',\n",
    "            'cpu': 20,\n",
    "            'memoryReservation': 400,\n",
    "            'essential': True,\n",
    "        },\n",
    "    ],\n",
    " )"
   ]
  },
  {
   "cell_type": "code",
   "execution_count": 21,
   "metadata": {
    "collapsed": false
   },
   "outputs": [
    {
     "data": {
      "text/plain": [
       "[u'arn:aws:ecs:us-west-2:066301190734:task-definition/predictor:1',\n",
       " u'arn:aws:ecs:us-west-2:066301190734:task-definition/predictor:2',\n",
       " u'arn:aws:ecs:us-west-2:066301190734:task-definition/predictor:3',\n",
       " u'arn:aws:ecs:us-west-2:066301190734:task-definition/predictor:4']"
      ]
     },
     "execution_count": 21,
     "metadata": {},
     "output_type": "execute_result"
    }
   ],
   "source": [
    "client.list_task_definitions(familyPrefix='predictor')['taskDefinitionArns']"
   ]
  },
  {
   "cell_type": "markdown",
   "metadata": {},
   "source": [
    "# create the predictor service\n",
    "As you can see from the above i am on the 4th iteration of the predictor (earlier versions had a few bugs).  Note that we are creating 8 copies of this service."
   ]
  },
  {
   "cell_type": "code",
   "execution_count": 22,
   "metadata": {
    "collapsed": false
   },
   "outputs": [],
   "source": [
    "response = client.create_service( cluster='cloudbook', \n",
    "                                 serviceName='predictor', \n",
    "                                 taskDefinition='predictor:4', \n",
    "                                 desiredCount=8, deploymentConfiguration={\n",
    "                                    'maximumPercent': 100,\n",
    "                                    'minimumHealthyPercent': 50 }\n",
    ")"
   ]
  },
  {
   "cell_type": "markdown",
   "metadata": {},
   "source": [
    "now check to see how many services i have and how many tasks.  There should be 10 tasks"
   ]
  },
  {
   "cell_type": "code",
   "execution_count": 30,
   "metadata": {
    "collapsed": false
   },
   "outputs": [
    {
     "data": {
      "text/plain": [
       "[u'arn:aws:ecs:us-west-2:066301190734:service/tableservice',\n",
       " u'arn:aws:ecs:us-west-2:066301190734:service/predictor']"
      ]
     },
     "execution_count": 30,
     "metadata": {},
     "output_type": "execute_result"
    }
   ],
   "source": [
    "client.list_services( cluster='cloudbook')['serviceArns']"
   ]
  },
  {
   "cell_type": "code",
   "execution_count": 31,
   "metadata": {
    "collapsed": false
   },
   "outputs": [
    {
     "data": {
      "text/plain": [
       "[u'arn:aws:ecs:us-west-2:066301190734:task/3d799728-2394-49a7-8dc3-85360b5290b0',\n",
       " u'arn:aws:ecs:us-west-2:066301190734:task/46761ea8-ed02-47c3-9eaa-06439427c94c',\n",
       " u'arn:aws:ecs:us-west-2:066301190734:task/5945b74f-697b-4e0c-b441-ca873e818f69',\n",
       " u'arn:aws:ecs:us-west-2:066301190734:task/8bd32b4f-6f86-4309-810a-bcf6141ef460',\n",
       " u'arn:aws:ecs:us-west-2:066301190734:task/988d5314-99d9-453c-bc8b-bda5fd33726e',\n",
       " u'arn:aws:ecs:us-west-2:066301190734:task/9d382215-60ab-4b71-8c18-0970cd278905',\n",
       " u'arn:aws:ecs:us-west-2:066301190734:task/9f657c58-f2fd-4bc1-8845-1129a64688e7',\n",
       " u'arn:aws:ecs:us-west-2:066301190734:task/c221c15c-9185-4d8e-92ae-b4b048f1158b',\n",
       " u'arn:aws:ecs:us-west-2:066301190734:task/e43e3441-3cf5-447d-b8a4-1804a69a09a6',\n",
       " u'arn:aws:ecs:us-west-2:066301190734:task/ef8ae905-488b-4a64-840c-7681835bde81']"
      ]
     },
     "execution_count": 31,
     "metadata": {},
     "output_type": "execute_result"
    }
   ],
   "source": [
    "client.list_tasks(cluster='cloudbook')['taskArns']"
   ]
  },
  {
   "cell_type": "markdown",
   "metadata": {},
   "source": [
    "Now we are done.   Go to the notebook \"load_sciml_data_sent_to_aws_queue\" to run the data."
   ]
  },
  {
   "cell_type": "code",
   "execution_count": null,
   "metadata": {
    "collapsed": true
   },
   "outputs": [],
   "source": []
  }
 ],
 "metadata": {
  "anaconda-cloud": {},
  "kernelspec": {
   "display_name": "Python [Root]",
   "language": "python",
   "name": "Python [Root]"
  },
  "language_info": {
   "codemirror_mode": {
    "name": "ipython",
    "version": 2
   },
   "file_extension": ".py",
   "mimetype": "text/x-python",
   "name": "python",
   "nbconvert_exporter": "python",
   "pygments_lexer": "ipython2",
   "version": "2.7.12"
  }
 },
 "nbformat": 4,
 "nbformat_minor": 0
}
